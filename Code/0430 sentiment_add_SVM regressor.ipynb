{
 "cells": [
  {
   "cell_type": "code",
   "execution_count": 19,
   "metadata": {
    "ExecuteTime": {
     "end_time": "2021-04-30T14:25:42.807714Z",
     "start_time": "2021-04-30T14:25:42.788758Z"
    }
   },
   "outputs": [],
   "source": [
    "from sklearn.svm import SVR\n",
    "import numpy as np\n",
    "import pandas as pd\n",
    "import matplotlib.pyplot as plt\n",
    "from sklearn.metrics import roc_auc_score, roc_curve, auc\n",
    "from sklearn.metrics import mean_squared_error\n",
    "from sklearn.preprocessing import StandardScaler"
   ]
  },
  {
   "cell_type": "markdown",
   "metadata": {},
   "source": [
    "# 감성사전 데이터 가져와서 점수만 뽑기"
   ]
  },
  {
   "cell_type": "code",
   "execution_count": 2,
   "metadata": {
    "ExecuteTime": {
     "end_time": "2021-04-30T14:24:00.750793Z",
     "start_time": "2021-04-30T14:23:58.072390Z"
    }
   },
   "outputs": [],
   "source": [
    "temp = pd.read_csv('news_with_sent_score.csv')\n",
    "temp.drop(['Unnamed: 0'], axis = 1, inplace = True)"
   ]
  },
  {
   "cell_type": "code",
   "execution_count": 3,
   "metadata": {
    "ExecuteTime": {
     "end_time": "2021-04-30T14:24:00.829491Z",
     "start_time": "2021-04-30T14:24:00.817462Z"
    }
   },
   "outputs": [],
   "source": [
    "sent_score = temp['sent_score']"
   ]
  },
  {
   "cell_type": "code",
   "execution_count": 4,
   "metadata": {
    "ExecuteTime": {
     "end_time": "2021-04-30T14:24:00.909265Z",
     "start_time": "2021-04-30T14:24:00.896290Z"
    }
   },
   "outputs": [
    {
     "data": {
      "text/plain": [
       "0     -6.268386e+07\n",
       "1     -6.255832e+07\n",
       "2     -6.957441e+07\n",
       "3     -7.305733e+07\n",
       "4     -9.356633e+07\n",
       "           ...     \n",
       "115   -5.824726e+07\n",
       "116   -6.441351e+07\n",
       "117   -3.751069e+07\n",
       "118   -3.147741e+07\n",
       "119   -3.986893e+07\n",
       "Name: sent_score, Length: 120, dtype: float64"
      ]
     },
     "execution_count": 4,
     "metadata": {},
     "output_type": "execute_result"
    }
   ],
   "source": [
    "sent_score"
   ]
  },
  {
   "cell_type": "code",
   "execution_count": 5,
   "metadata": {
    "ExecuteTime": {
     "end_time": "2021-04-30T14:24:01.035217Z",
     "start_time": "2021-04-30T14:24:01.006307Z"
    }
   },
   "outputs": [],
   "source": [
    "del temp"
   ]
  },
  {
   "cell_type": "markdown",
   "metadata": {},
   "source": [
    "# 기존의 데이터 가져와서 합치기"
   ]
  },
  {
   "cell_type": "code",
   "execution_count": 6,
   "metadata": {
    "ExecuteTime": {
     "end_time": "2021-04-30T14:24:01.620911Z",
     "start_time": "2021-04-30T14:24:01.605959Z"
    }
   },
   "outputs": [],
   "source": [
    "df = pd.read_csv('분석용데이터_utf.csv')"
   ]
  },
  {
   "cell_type": "code",
   "execution_count": 7,
   "metadata": {
    "ExecuteTime": {
     "end_time": "2021-04-30T14:24:02.107818Z",
     "start_time": "2021-04-30T14:24:02.100836Z"
    }
   },
   "outputs": [],
   "source": [
    "#Date를 index로 넣어줌\n",
    "df.index = df['Date']\n",
    "df.drop(['Date'], axis = 1, inplace = True)"
   ]
  },
  {
   "cell_type": "code",
   "execution_count": 8,
   "metadata": {
    "ExecuteTime": {
     "end_time": "2021-04-30T14:24:02.707263Z",
     "start_time": "2021-04-30T14:24:02.685294Z"
    }
   },
   "outputs": [
    {
     "data": {
      "text/html": [
       "<div>\n",
       "<style scoped>\n",
       "    .dataframe tbody tr th:only-of-type {\n",
       "        vertical-align: middle;\n",
       "    }\n",
       "\n",
       "    .dataframe tbody tr th {\n",
       "        vertical-align: top;\n",
       "    }\n",
       "\n",
       "    .dataframe thead th {\n",
       "        text-align: right;\n",
       "    }\n",
       "</style>\n",
       "<table border=\"1\" class=\"dataframe\">\n",
       "  <thead>\n",
       "    <tr style=\"text-align: right;\">\n",
       "      <th></th>\n",
       "      <th>M2</th>\n",
       "      <th>comp basemoney rate</th>\n",
       "      <th>base rate</th>\n",
       "      <th>consumer price index</th>\n",
       "      <th>kospi close</th>\n",
       "      <th>ex-rate close</th>\n",
       "      <th>spi</th>\n",
       "    </tr>\n",
       "    <tr>\n",
       "      <th>Date</th>\n",
       "      <th></th>\n",
       "      <th></th>\n",
       "      <th></th>\n",
       "      <th></th>\n",
       "      <th></th>\n",
       "      <th></th>\n",
       "      <th></th>\n",
       "    </tr>\n",
       "  </thead>\n",
       "  <tbody>\n",
       "    <tr>\n",
       "      <th>201101월</th>\n",
       "      <td>1676.4</td>\n",
       "      <td>4.52</td>\n",
       "      <td>2.75</td>\n",
       "      <td>3.4</td>\n",
       "      <td>2069.73</td>\n",
       "      <td>1119.25</td>\n",
       "      <td>81.2</td>\n",
       "    </tr>\n",
       "    <tr>\n",
       "      <th>201102월</th>\n",
       "      <td>1674.4</td>\n",
       "      <td>4.72</td>\n",
       "      <td>2.75</td>\n",
       "      <td>3.9</td>\n",
       "      <td>1939.30</td>\n",
       "      <td>1124.65</td>\n",
       "      <td>82.5</td>\n",
       "    </tr>\n",
       "    <tr>\n",
       "      <th>201103월</th>\n",
       "      <td>1677.5</td>\n",
       "      <td>4.54</td>\n",
       "      <td>3.00</td>\n",
       "      <td>4.1</td>\n",
       "      <td>2106.70</td>\n",
       "      <td>1095.50</td>\n",
       "      <td>83.4</td>\n",
       "    </tr>\n",
       "    <tr>\n",
       "      <th>201104월</th>\n",
       "      <td>1684.8</td>\n",
       "      <td>4.54</td>\n",
       "      <td>3.00</td>\n",
       "      <td>3.8</td>\n",
       "      <td>2192.36</td>\n",
       "      <td>1068.00</td>\n",
       "      <td>83.9</td>\n",
       "    </tr>\n",
       "    <tr>\n",
       "      <th>201105월</th>\n",
       "      <td>1690.5</td>\n",
       "      <td>4.44</td>\n",
       "      <td>3.00</td>\n",
       "      <td>3.9</td>\n",
       "      <td>2142.47</td>\n",
       "      <td>1078.00</td>\n",
       "      <td>84.1</td>\n",
       "    </tr>\n",
       "    <tr>\n",
       "      <th>...</th>\n",
       "      <td>...</td>\n",
       "      <td>...</td>\n",
       "      <td>...</td>\n",
       "      <td>...</td>\n",
       "      <td>...</td>\n",
       "      <td>...</td>\n",
       "      <td>...</td>\n",
       "    </tr>\n",
       "    <tr>\n",
       "      <th>202008월</th>\n",
       "      <td>3100.4</td>\n",
       "      <td>2.19</td>\n",
       "      <td>0.50</td>\n",
       "      <td>0.7</td>\n",
       "      <td>2326.17</td>\n",
       "      <td>1187.94</td>\n",
       "      <td>113.2</td>\n",
       "    </tr>\n",
       "    <tr>\n",
       "      <th>202009월</th>\n",
       "      <td>3115.2</td>\n",
       "      <td>2.24</td>\n",
       "      <td>0.50</td>\n",
       "      <td>1.0</td>\n",
       "      <td>2327.89</td>\n",
       "      <td>1164.65</td>\n",
       "      <td>114.2</td>\n",
       "    </tr>\n",
       "    <tr>\n",
       "      <th>202010월</th>\n",
       "      <td>3152.8</td>\n",
       "      <td>2.24</td>\n",
       "      <td>0.50</td>\n",
       "      <td>0.1</td>\n",
       "      <td>2267.15</td>\n",
       "      <td>1136.49</td>\n",
       "      <td>115.8</td>\n",
       "    </tr>\n",
       "    <tr>\n",
       "      <th>202011월</th>\n",
       "      <td>3183.5</td>\n",
       "      <td>2.25</td>\n",
       "      <td>0.50</td>\n",
       "      <td>0.6</td>\n",
       "      <td>2591.34</td>\n",
       "      <td>1109.32</td>\n",
       "      <td>118.6</td>\n",
       "    </tr>\n",
       "    <tr>\n",
       "      <th>202012월</th>\n",
       "      <td>3183.5</td>\n",
       "      <td>2.21</td>\n",
       "      <td>0.50</td>\n",
       "      <td>0.5</td>\n",
       "      <td>2873.47</td>\n",
       "      <td>1084.47</td>\n",
       "      <td>121.8</td>\n",
       "    </tr>\n",
       "  </tbody>\n",
       "</table>\n",
       "<p>120 rows × 7 columns</p>\n",
       "</div>"
      ],
      "text/plain": [
       "             M2  comp basemoney rate  base rate  consumer price index  \\\n",
       "Date                                                                    \n",
       "201101월  1676.4                 4.52       2.75                   3.4   \n",
       "201102월  1674.4                 4.72       2.75                   3.9   \n",
       "201103월  1677.5                 4.54       3.00                   4.1   \n",
       "201104월  1684.8                 4.54       3.00                   3.8   \n",
       "201105월  1690.5                 4.44       3.00                   3.9   \n",
       "...         ...                  ...        ...                   ...   \n",
       "202008월  3100.4                 2.19       0.50                   0.7   \n",
       "202009월  3115.2                 2.24       0.50                   1.0   \n",
       "202010월  3152.8                 2.24       0.50                   0.1   \n",
       "202011월  3183.5                 2.25       0.50                   0.6   \n",
       "202012월  3183.5                 2.21       0.50                   0.5   \n",
       "\n",
       "         kospi close  ex-rate close    spi  \n",
       "Date                                        \n",
       "201101월      2069.73        1119.25   81.2  \n",
       "201102월      1939.30        1124.65   82.5  \n",
       "201103월      2106.70        1095.50   83.4  \n",
       "201104월      2192.36        1068.00   83.9  \n",
       "201105월      2142.47        1078.00   84.1  \n",
       "...              ...            ...    ...  \n",
       "202008월      2326.17        1187.94  113.2  \n",
       "202009월      2327.89        1164.65  114.2  \n",
       "202010월      2267.15        1136.49  115.8  \n",
       "202011월      2591.34        1109.32  118.6  \n",
       "202012월      2873.47        1084.47  121.8  \n",
       "\n",
       "[120 rows x 7 columns]"
      ]
     },
     "execution_count": 8,
     "metadata": {},
     "output_type": "execute_result"
    }
   ],
   "source": [
    "df"
   ]
  },
  {
   "cell_type": "code",
   "execution_count": 9,
   "metadata": {
    "ExecuteTime": {
     "end_time": "2021-04-30T14:24:04.639410Z",
     "start_time": "2021-04-30T14:24:04.620461Z"
    }
   },
   "outputs": [
    {
     "data": {
      "text/plain": [
       "Date\n",
       "201101월    81.2\n",
       "201102월    82.5\n",
       "201103월    83.4\n",
       "201104월    83.9\n",
       "201105월    84.1\n",
       "201106월    84.3\n",
       "Name: spi, dtype: float64"
      ]
     },
     "execution_count": 9,
     "metadata": {},
     "output_type": "execute_result"
    }
   ],
   "source": [
    "df.spi.head(6)"
   ]
  },
  {
   "cell_type": "code",
   "execution_count": 10,
   "metadata": {
    "ExecuteTime": {
     "end_time": "2021-04-30T14:24:05.059371Z",
     "start_time": "2021-04-30T14:24:05.048467Z"
    }
   },
   "outputs": [
    {
     "data": {
      "text/plain": [
       "0     -6.268386e+07\n",
       "1     -6.255832e+07\n",
       "2     -6.957441e+07\n",
       "3     -7.305733e+07\n",
       "4     -9.356633e+07\n",
       "           ...     \n",
       "115   -5.824726e+07\n",
       "116   -6.441351e+07\n",
       "117   -3.751069e+07\n",
       "118   -3.147741e+07\n",
       "119   -3.986893e+07\n",
       "Name: sent_score, Length: 120, dtype: float64"
      ]
     },
     "execution_count": 10,
     "metadata": {},
     "output_type": "execute_result"
    }
   ],
   "source": [
    "sent_score"
   ]
  },
  {
   "cell_type": "code",
   "execution_count": 11,
   "metadata": {
    "ExecuteTime": {
     "end_time": "2021-04-30T14:24:05.578271Z",
     "start_time": "2021-04-30T14:24:05.565313Z"
    }
   },
   "outputs": [],
   "source": [
    "sent_score.index = df.index"
   ]
  },
  {
   "cell_type": "code",
   "execution_count": 12,
   "metadata": {
    "ExecuteTime": {
     "end_time": "2021-04-30T14:24:05.889675Z",
     "start_time": "2021-04-30T14:24:05.880699Z"
    }
   },
   "outputs": [],
   "source": [
    "df = pd.concat([sent_score, df], axis = 1)"
   ]
  },
  {
   "cell_type": "code",
   "execution_count": 13,
   "metadata": {
    "ExecuteTime": {
     "end_time": "2021-04-30T14:24:06.646581Z",
     "start_time": "2021-04-30T14:24:06.623643Z"
    }
   },
   "outputs": [
    {
     "data": {
      "text/html": [
       "<div>\n",
       "<style scoped>\n",
       "    .dataframe tbody tr th:only-of-type {\n",
       "        vertical-align: middle;\n",
       "    }\n",
       "\n",
       "    .dataframe tbody tr th {\n",
       "        vertical-align: top;\n",
       "    }\n",
       "\n",
       "    .dataframe thead th {\n",
       "        text-align: right;\n",
       "    }\n",
       "</style>\n",
       "<table border=\"1\" class=\"dataframe\">\n",
       "  <thead>\n",
       "    <tr style=\"text-align: right;\">\n",
       "      <th></th>\n",
       "      <th>sent_score</th>\n",
       "      <th>M2</th>\n",
       "      <th>comp basemoney rate</th>\n",
       "      <th>base rate</th>\n",
       "      <th>consumer price index</th>\n",
       "      <th>kospi close</th>\n",
       "      <th>ex-rate close</th>\n",
       "      <th>spi</th>\n",
       "    </tr>\n",
       "    <tr>\n",
       "      <th>Date</th>\n",
       "      <th></th>\n",
       "      <th></th>\n",
       "      <th></th>\n",
       "      <th></th>\n",
       "      <th></th>\n",
       "      <th></th>\n",
       "      <th></th>\n",
       "      <th></th>\n",
       "    </tr>\n",
       "  </thead>\n",
       "  <tbody>\n",
       "    <tr>\n",
       "      <th>201101월</th>\n",
       "      <td>-6.268386e+07</td>\n",
       "      <td>1676.4</td>\n",
       "      <td>4.52</td>\n",
       "      <td>2.75</td>\n",
       "      <td>3.4</td>\n",
       "      <td>2069.73</td>\n",
       "      <td>1119.25</td>\n",
       "      <td>81.2</td>\n",
       "    </tr>\n",
       "    <tr>\n",
       "      <th>201102월</th>\n",
       "      <td>-6.255832e+07</td>\n",
       "      <td>1674.4</td>\n",
       "      <td>4.72</td>\n",
       "      <td>2.75</td>\n",
       "      <td>3.9</td>\n",
       "      <td>1939.30</td>\n",
       "      <td>1124.65</td>\n",
       "      <td>82.5</td>\n",
       "    </tr>\n",
       "    <tr>\n",
       "      <th>201103월</th>\n",
       "      <td>-6.957441e+07</td>\n",
       "      <td>1677.5</td>\n",
       "      <td>4.54</td>\n",
       "      <td>3.00</td>\n",
       "      <td>4.1</td>\n",
       "      <td>2106.70</td>\n",
       "      <td>1095.50</td>\n",
       "      <td>83.4</td>\n",
       "    </tr>\n",
       "    <tr>\n",
       "      <th>201104월</th>\n",
       "      <td>-7.305733e+07</td>\n",
       "      <td>1684.8</td>\n",
       "      <td>4.54</td>\n",
       "      <td>3.00</td>\n",
       "      <td>3.8</td>\n",
       "      <td>2192.36</td>\n",
       "      <td>1068.00</td>\n",
       "      <td>83.9</td>\n",
       "    </tr>\n",
       "    <tr>\n",
       "      <th>201105월</th>\n",
       "      <td>-9.356633e+07</td>\n",
       "      <td>1690.5</td>\n",
       "      <td>4.44</td>\n",
       "      <td>3.00</td>\n",
       "      <td>3.9</td>\n",
       "      <td>2142.47</td>\n",
       "      <td>1078.00</td>\n",
       "      <td>84.1</td>\n",
       "    </tr>\n",
       "    <tr>\n",
       "      <th>...</th>\n",
       "      <td>...</td>\n",
       "      <td>...</td>\n",
       "      <td>...</td>\n",
       "      <td>...</td>\n",
       "      <td>...</td>\n",
       "      <td>...</td>\n",
       "      <td>...</td>\n",
       "      <td>...</td>\n",
       "    </tr>\n",
       "    <tr>\n",
       "      <th>202008월</th>\n",
       "      <td>-5.824726e+07</td>\n",
       "      <td>3100.4</td>\n",
       "      <td>2.19</td>\n",
       "      <td>0.50</td>\n",
       "      <td>0.7</td>\n",
       "      <td>2326.17</td>\n",
       "      <td>1187.94</td>\n",
       "      <td>113.2</td>\n",
       "    </tr>\n",
       "    <tr>\n",
       "      <th>202009월</th>\n",
       "      <td>-6.441351e+07</td>\n",
       "      <td>3115.2</td>\n",
       "      <td>2.24</td>\n",
       "      <td>0.50</td>\n",
       "      <td>1.0</td>\n",
       "      <td>2327.89</td>\n",
       "      <td>1164.65</td>\n",
       "      <td>114.2</td>\n",
       "    </tr>\n",
       "    <tr>\n",
       "      <th>202010월</th>\n",
       "      <td>-3.751069e+07</td>\n",
       "      <td>3152.8</td>\n",
       "      <td>2.24</td>\n",
       "      <td>0.50</td>\n",
       "      <td>0.1</td>\n",
       "      <td>2267.15</td>\n",
       "      <td>1136.49</td>\n",
       "      <td>115.8</td>\n",
       "    </tr>\n",
       "    <tr>\n",
       "      <th>202011월</th>\n",
       "      <td>-3.147741e+07</td>\n",
       "      <td>3183.5</td>\n",
       "      <td>2.25</td>\n",
       "      <td>0.50</td>\n",
       "      <td>0.6</td>\n",
       "      <td>2591.34</td>\n",
       "      <td>1109.32</td>\n",
       "      <td>118.6</td>\n",
       "    </tr>\n",
       "    <tr>\n",
       "      <th>202012월</th>\n",
       "      <td>-3.986893e+07</td>\n",
       "      <td>3183.5</td>\n",
       "      <td>2.21</td>\n",
       "      <td>0.50</td>\n",
       "      <td>0.5</td>\n",
       "      <td>2873.47</td>\n",
       "      <td>1084.47</td>\n",
       "      <td>121.8</td>\n",
       "    </tr>\n",
       "  </tbody>\n",
       "</table>\n",
       "<p>120 rows × 8 columns</p>\n",
       "</div>"
      ],
      "text/plain": [
       "           sent_score      M2  comp basemoney rate  base rate  \\\n",
       "Date                                                            \n",
       "201101월 -6.268386e+07  1676.4                 4.52       2.75   \n",
       "201102월 -6.255832e+07  1674.4                 4.72       2.75   \n",
       "201103월 -6.957441e+07  1677.5                 4.54       3.00   \n",
       "201104월 -7.305733e+07  1684.8                 4.54       3.00   \n",
       "201105월 -9.356633e+07  1690.5                 4.44       3.00   \n",
       "...               ...     ...                  ...        ...   \n",
       "202008월 -5.824726e+07  3100.4                 2.19       0.50   \n",
       "202009월 -6.441351e+07  3115.2                 2.24       0.50   \n",
       "202010월 -3.751069e+07  3152.8                 2.24       0.50   \n",
       "202011월 -3.147741e+07  3183.5                 2.25       0.50   \n",
       "202012월 -3.986893e+07  3183.5                 2.21       0.50   \n",
       "\n",
       "         consumer price index  kospi close  ex-rate close    spi  \n",
       "Date                                                              \n",
       "201101월                   3.4      2069.73        1119.25   81.2  \n",
       "201102월                   3.9      1939.30        1124.65   82.5  \n",
       "201103월                   4.1      2106.70        1095.50   83.4  \n",
       "201104월                   3.8      2192.36        1068.00   83.9  \n",
       "201105월                   3.9      2142.47        1078.00   84.1  \n",
       "...                       ...          ...            ...    ...  \n",
       "202008월                   0.7      2326.17        1187.94  113.2  \n",
       "202009월                   1.0      2327.89        1164.65  114.2  \n",
       "202010월                   0.1      2267.15        1136.49  115.8  \n",
       "202011월                   0.6      2591.34        1109.32  118.6  \n",
       "202012월                   0.5      2873.47        1084.47  121.8  \n",
       "\n",
       "[120 rows x 8 columns]"
      ]
     },
     "execution_count": 13,
     "metadata": {},
     "output_type": "execute_result"
    }
   ],
   "source": [
    "df"
   ]
  },
  {
   "cell_type": "markdown",
   "metadata": {},
   "source": [
    "# Preprocessing"
   ]
  },
  {
   "cell_type": "markdown",
   "metadata": {},
   "source": [
    "+ spi를 일단 하나씩 sliding 해야 됨. 타겟에 들어갈 것은 다음 달 spi니까.\n",
    "    - 예를 들어 2011년 1월 index에 들어가야 하는 next_spi 값은 2011년 2월의 spi가 들어가야 함.\n",
    "\n",
    "\n",
    "+ 전달의 spi와 차가 음수 -> 0, 차가 0 이상 -> 1 (차이없는 것은 상방으로 넣기로 했으므로)"
   ]
  },
  {
   "cell_type": "markdown",
   "metadata": {},
   "source": [
    "## spi sliding"
   ]
  },
  {
   "cell_type": "code",
   "execution_count": 14,
   "metadata": {
    "ExecuteTime": {
     "end_time": "2021-04-30T14:24:09.176220Z",
     "start_time": "2021-04-30T14:24:09.166216Z"
    }
   },
   "outputs": [],
   "source": [
    "df['next_spi'] = df['spi'].shift(-1)\n",
    "df['next_spi'][-1] = 125.4"
   ]
  },
  {
   "cell_type": "code",
   "execution_count": 15,
   "metadata": {
    "ExecuteTime": {
     "end_time": "2021-04-30T14:24:09.811269Z",
     "start_time": "2021-04-30T14:24:09.796341Z"
    },
    "scrolled": true
   },
   "outputs": [
    {
     "data": {
      "text/html": [
       "<div>\n",
       "<style scoped>\n",
       "    .dataframe tbody tr th:only-of-type {\n",
       "        vertical-align: middle;\n",
       "    }\n",
       "\n",
       "    .dataframe tbody tr th {\n",
       "        vertical-align: top;\n",
       "    }\n",
       "\n",
       "    .dataframe thead th {\n",
       "        text-align: right;\n",
       "    }\n",
       "</style>\n",
       "<table border=\"1\" class=\"dataframe\">\n",
       "  <thead>\n",
       "    <tr style=\"text-align: right;\">\n",
       "      <th></th>\n",
       "      <th>sent_score</th>\n",
       "      <th>M2</th>\n",
       "      <th>comp basemoney rate</th>\n",
       "      <th>base rate</th>\n",
       "      <th>consumer price index</th>\n",
       "      <th>kospi close</th>\n",
       "      <th>ex-rate close</th>\n",
       "      <th>spi</th>\n",
       "      <th>next_spi</th>\n",
       "    </tr>\n",
       "    <tr>\n",
       "      <th>Date</th>\n",
       "      <th></th>\n",
       "      <th></th>\n",
       "      <th></th>\n",
       "      <th></th>\n",
       "      <th></th>\n",
       "      <th></th>\n",
       "      <th></th>\n",
       "      <th></th>\n",
       "      <th></th>\n",
       "    </tr>\n",
       "  </thead>\n",
       "  <tbody>\n",
       "    <tr>\n",
       "      <th>201101월</th>\n",
       "      <td>-6.268386e+07</td>\n",
       "      <td>1676.4</td>\n",
       "      <td>4.52</td>\n",
       "      <td>2.75</td>\n",
       "      <td>3.4</td>\n",
       "      <td>2069.73</td>\n",
       "      <td>1119.25</td>\n",
       "      <td>81.2</td>\n",
       "      <td>82.5</td>\n",
       "    </tr>\n",
       "    <tr>\n",
       "      <th>201102월</th>\n",
       "      <td>-6.255832e+07</td>\n",
       "      <td>1674.4</td>\n",
       "      <td>4.72</td>\n",
       "      <td>2.75</td>\n",
       "      <td>3.9</td>\n",
       "      <td>1939.30</td>\n",
       "      <td>1124.65</td>\n",
       "      <td>82.5</td>\n",
       "      <td>83.4</td>\n",
       "    </tr>\n",
       "    <tr>\n",
       "      <th>201103월</th>\n",
       "      <td>-6.957441e+07</td>\n",
       "      <td>1677.5</td>\n",
       "      <td>4.54</td>\n",
       "      <td>3.00</td>\n",
       "      <td>4.1</td>\n",
       "      <td>2106.70</td>\n",
       "      <td>1095.50</td>\n",
       "      <td>83.4</td>\n",
       "      <td>83.9</td>\n",
       "    </tr>\n",
       "    <tr>\n",
       "      <th>201104월</th>\n",
       "      <td>-7.305733e+07</td>\n",
       "      <td>1684.8</td>\n",
       "      <td>4.54</td>\n",
       "      <td>3.00</td>\n",
       "      <td>3.8</td>\n",
       "      <td>2192.36</td>\n",
       "      <td>1068.00</td>\n",
       "      <td>83.9</td>\n",
       "      <td>84.1</td>\n",
       "    </tr>\n",
       "    <tr>\n",
       "      <th>201105월</th>\n",
       "      <td>-9.356633e+07</td>\n",
       "      <td>1690.5</td>\n",
       "      <td>4.44</td>\n",
       "      <td>3.00</td>\n",
       "      <td>3.9</td>\n",
       "      <td>2142.47</td>\n",
       "      <td>1078.00</td>\n",
       "      <td>84.1</td>\n",
       "      <td>84.3</td>\n",
       "    </tr>\n",
       "    <tr>\n",
       "      <th>...</th>\n",
       "      <td>...</td>\n",
       "      <td>...</td>\n",
       "      <td>...</td>\n",
       "      <td>...</td>\n",
       "      <td>...</td>\n",
       "      <td>...</td>\n",
       "      <td>...</td>\n",
       "      <td>...</td>\n",
       "      <td>...</td>\n",
       "    </tr>\n",
       "    <tr>\n",
       "      <th>202008월</th>\n",
       "      <td>-5.824726e+07</td>\n",
       "      <td>3100.4</td>\n",
       "      <td>2.19</td>\n",
       "      <td>0.50</td>\n",
       "      <td>0.7</td>\n",
       "      <td>2326.17</td>\n",
       "      <td>1187.94</td>\n",
       "      <td>113.2</td>\n",
       "      <td>114.2</td>\n",
       "    </tr>\n",
       "    <tr>\n",
       "      <th>202009월</th>\n",
       "      <td>-6.441351e+07</td>\n",
       "      <td>3115.2</td>\n",
       "      <td>2.24</td>\n",
       "      <td>0.50</td>\n",
       "      <td>1.0</td>\n",
       "      <td>2327.89</td>\n",
       "      <td>1164.65</td>\n",
       "      <td>114.2</td>\n",
       "      <td>115.8</td>\n",
       "    </tr>\n",
       "    <tr>\n",
       "      <th>202010월</th>\n",
       "      <td>-3.751069e+07</td>\n",
       "      <td>3152.8</td>\n",
       "      <td>2.24</td>\n",
       "      <td>0.50</td>\n",
       "      <td>0.1</td>\n",
       "      <td>2267.15</td>\n",
       "      <td>1136.49</td>\n",
       "      <td>115.8</td>\n",
       "      <td>118.6</td>\n",
       "    </tr>\n",
       "    <tr>\n",
       "      <th>202011월</th>\n",
       "      <td>-3.147741e+07</td>\n",
       "      <td>3183.5</td>\n",
       "      <td>2.25</td>\n",
       "      <td>0.50</td>\n",
       "      <td>0.6</td>\n",
       "      <td>2591.34</td>\n",
       "      <td>1109.32</td>\n",
       "      <td>118.6</td>\n",
       "      <td>121.8</td>\n",
       "    </tr>\n",
       "    <tr>\n",
       "      <th>202012월</th>\n",
       "      <td>-3.986893e+07</td>\n",
       "      <td>3183.5</td>\n",
       "      <td>2.21</td>\n",
       "      <td>0.50</td>\n",
       "      <td>0.5</td>\n",
       "      <td>2873.47</td>\n",
       "      <td>1084.47</td>\n",
       "      <td>121.8</td>\n",
       "      <td>125.4</td>\n",
       "    </tr>\n",
       "  </tbody>\n",
       "</table>\n",
       "<p>120 rows × 9 columns</p>\n",
       "</div>"
      ],
      "text/plain": [
       "           sent_score      M2  comp basemoney rate  base rate  \\\n",
       "Date                                                            \n",
       "201101월 -6.268386e+07  1676.4                 4.52       2.75   \n",
       "201102월 -6.255832e+07  1674.4                 4.72       2.75   \n",
       "201103월 -6.957441e+07  1677.5                 4.54       3.00   \n",
       "201104월 -7.305733e+07  1684.8                 4.54       3.00   \n",
       "201105월 -9.356633e+07  1690.5                 4.44       3.00   \n",
       "...               ...     ...                  ...        ...   \n",
       "202008월 -5.824726e+07  3100.4                 2.19       0.50   \n",
       "202009월 -6.441351e+07  3115.2                 2.24       0.50   \n",
       "202010월 -3.751069e+07  3152.8                 2.24       0.50   \n",
       "202011월 -3.147741e+07  3183.5                 2.25       0.50   \n",
       "202012월 -3.986893e+07  3183.5                 2.21       0.50   \n",
       "\n",
       "         consumer price index  kospi close  ex-rate close    spi  next_spi  \n",
       "Date                                                                        \n",
       "201101월                   3.4      2069.73        1119.25   81.2      82.5  \n",
       "201102월                   3.9      1939.30        1124.65   82.5      83.4  \n",
       "201103월                   4.1      2106.70        1095.50   83.4      83.9  \n",
       "201104월                   3.8      2192.36        1068.00   83.9      84.1  \n",
       "201105월                   3.9      2142.47        1078.00   84.1      84.3  \n",
       "...                       ...          ...            ...    ...       ...  \n",
       "202008월                   0.7      2326.17        1187.94  113.2     114.2  \n",
       "202009월                   1.0      2327.89        1164.65  114.2     115.8  \n",
       "202010월                   0.1      2267.15        1136.49  115.8     118.6  \n",
       "202011월                   0.6      2591.34        1109.32  118.6     121.8  \n",
       "202012월                   0.5      2873.47        1084.47  121.8     125.4  \n",
       "\n",
       "[120 rows x 9 columns]"
      ]
     },
     "execution_count": 15,
     "metadata": {},
     "output_type": "execute_result"
    }
   ],
   "source": [
    "df"
   ]
  },
  {
   "cell_type": "code",
   "execution_count": 16,
   "metadata": {
    "ExecuteTime": {
     "end_time": "2021-04-29T05:55:30.674240Z",
     "start_time": "2021-04-29T05:55:30.650305Z"
    }
   },
   "outputs": [],
   "source": [
    "df.drop(columns = 'spi', inplace = True)"
   ]
  },
  {
   "cell_type": "code",
   "execution_count": 17,
   "metadata": {
    "ExecuteTime": {
     "end_time": "2021-04-29T05:55:33.258331Z",
     "start_time": "2021-04-29T05:55:33.099966Z"
    }
   },
   "outputs": [
    {
     "data": {
      "text/html": [
       "<div>\n",
       "<style scoped>\n",
       "    .dataframe tbody tr th:only-of-type {\n",
       "        vertical-align: middle;\n",
       "    }\n",
       "\n",
       "    .dataframe tbody tr th {\n",
       "        vertical-align: top;\n",
       "    }\n",
       "\n",
       "    .dataframe thead th {\n",
       "        text-align: right;\n",
       "    }\n",
       "</style>\n",
       "<table border=\"1\" class=\"dataframe\">\n",
       "  <thead>\n",
       "    <tr style=\"text-align: right;\">\n",
       "      <th></th>\n",
       "      <th>sent_score</th>\n",
       "      <th>M2</th>\n",
       "      <th>comp basemoney rate</th>\n",
       "      <th>base rate</th>\n",
       "      <th>consumer price index</th>\n",
       "      <th>kospi close</th>\n",
       "      <th>ex-rate close</th>\n",
       "      <th>next_spi</th>\n",
       "    </tr>\n",
       "    <tr>\n",
       "      <th>Date</th>\n",
       "      <th></th>\n",
       "      <th></th>\n",
       "      <th></th>\n",
       "      <th></th>\n",
       "      <th></th>\n",
       "      <th></th>\n",
       "      <th></th>\n",
       "      <th></th>\n",
       "    </tr>\n",
       "  </thead>\n",
       "  <tbody>\n",
       "    <tr>\n",
       "      <th>201101월</th>\n",
       "      <td>-6.268386e+07</td>\n",
       "      <td>1676.4</td>\n",
       "      <td>4.52</td>\n",
       "      <td>2.75</td>\n",
       "      <td>3.4</td>\n",
       "      <td>2069.73</td>\n",
       "      <td>1119.25</td>\n",
       "      <td>82.5</td>\n",
       "    </tr>\n",
       "    <tr>\n",
       "      <th>201102월</th>\n",
       "      <td>-6.255832e+07</td>\n",
       "      <td>1674.4</td>\n",
       "      <td>4.72</td>\n",
       "      <td>2.75</td>\n",
       "      <td>3.9</td>\n",
       "      <td>1939.30</td>\n",
       "      <td>1124.65</td>\n",
       "      <td>83.4</td>\n",
       "    </tr>\n",
       "    <tr>\n",
       "      <th>201103월</th>\n",
       "      <td>-6.957441e+07</td>\n",
       "      <td>1677.5</td>\n",
       "      <td>4.54</td>\n",
       "      <td>3.00</td>\n",
       "      <td>4.1</td>\n",
       "      <td>2106.70</td>\n",
       "      <td>1095.50</td>\n",
       "      <td>83.9</td>\n",
       "    </tr>\n",
       "    <tr>\n",
       "      <th>201104월</th>\n",
       "      <td>-7.305733e+07</td>\n",
       "      <td>1684.8</td>\n",
       "      <td>4.54</td>\n",
       "      <td>3.00</td>\n",
       "      <td>3.8</td>\n",
       "      <td>2192.36</td>\n",
       "      <td>1068.00</td>\n",
       "      <td>84.1</td>\n",
       "    </tr>\n",
       "    <tr>\n",
       "      <th>201105월</th>\n",
       "      <td>-9.356633e+07</td>\n",
       "      <td>1690.5</td>\n",
       "      <td>4.44</td>\n",
       "      <td>3.00</td>\n",
       "      <td>3.9</td>\n",
       "      <td>2142.47</td>\n",
       "      <td>1078.00</td>\n",
       "      <td>84.3</td>\n",
       "    </tr>\n",
       "    <tr>\n",
       "      <th>...</th>\n",
       "      <td>...</td>\n",
       "      <td>...</td>\n",
       "      <td>...</td>\n",
       "      <td>...</td>\n",
       "      <td>...</td>\n",
       "      <td>...</td>\n",
       "      <td>...</td>\n",
       "      <td>...</td>\n",
       "    </tr>\n",
       "    <tr>\n",
       "      <th>202008월</th>\n",
       "      <td>-5.824726e+07</td>\n",
       "      <td>3100.4</td>\n",
       "      <td>2.19</td>\n",
       "      <td>0.50</td>\n",
       "      <td>0.7</td>\n",
       "      <td>2326.17</td>\n",
       "      <td>1187.94</td>\n",
       "      <td>114.2</td>\n",
       "    </tr>\n",
       "    <tr>\n",
       "      <th>202009월</th>\n",
       "      <td>-6.441351e+07</td>\n",
       "      <td>3115.2</td>\n",
       "      <td>2.24</td>\n",
       "      <td>0.50</td>\n",
       "      <td>1.0</td>\n",
       "      <td>2327.89</td>\n",
       "      <td>1164.65</td>\n",
       "      <td>115.8</td>\n",
       "    </tr>\n",
       "    <tr>\n",
       "      <th>202010월</th>\n",
       "      <td>-3.751069e+07</td>\n",
       "      <td>3152.8</td>\n",
       "      <td>2.24</td>\n",
       "      <td>0.50</td>\n",
       "      <td>0.1</td>\n",
       "      <td>2267.15</td>\n",
       "      <td>1136.49</td>\n",
       "      <td>118.6</td>\n",
       "    </tr>\n",
       "    <tr>\n",
       "      <th>202011월</th>\n",
       "      <td>-3.147741e+07</td>\n",
       "      <td>3183.5</td>\n",
       "      <td>2.25</td>\n",
       "      <td>0.50</td>\n",
       "      <td>0.6</td>\n",
       "      <td>2591.34</td>\n",
       "      <td>1109.32</td>\n",
       "      <td>121.8</td>\n",
       "    </tr>\n",
       "    <tr>\n",
       "      <th>202012월</th>\n",
       "      <td>-3.986893e+07</td>\n",
       "      <td>3183.5</td>\n",
       "      <td>2.21</td>\n",
       "      <td>0.50</td>\n",
       "      <td>0.5</td>\n",
       "      <td>2873.47</td>\n",
       "      <td>1084.47</td>\n",
       "      <td>125.4</td>\n",
       "    </tr>\n",
       "  </tbody>\n",
       "</table>\n",
       "<p>120 rows × 8 columns</p>\n",
       "</div>"
      ],
      "text/plain": [
       "           sent_score      M2  comp basemoney rate  base rate  \\\n",
       "Date                                                            \n",
       "201101월 -6.268386e+07  1676.4                 4.52       2.75   \n",
       "201102월 -6.255832e+07  1674.4                 4.72       2.75   \n",
       "201103월 -6.957441e+07  1677.5                 4.54       3.00   \n",
       "201104월 -7.305733e+07  1684.8                 4.54       3.00   \n",
       "201105월 -9.356633e+07  1690.5                 4.44       3.00   \n",
       "...               ...     ...                  ...        ...   \n",
       "202008월 -5.824726e+07  3100.4                 2.19       0.50   \n",
       "202009월 -6.441351e+07  3115.2                 2.24       0.50   \n",
       "202010월 -3.751069e+07  3152.8                 2.24       0.50   \n",
       "202011월 -3.147741e+07  3183.5                 2.25       0.50   \n",
       "202012월 -3.986893e+07  3183.5                 2.21       0.50   \n",
       "\n",
       "         consumer price index  kospi close  ex-rate close  next_spi  \n",
       "Date                                                                 \n",
       "201101월                   3.4      2069.73        1119.25      82.5  \n",
       "201102월                   3.9      1939.30        1124.65      83.4  \n",
       "201103월                   4.1      2106.70        1095.50      83.9  \n",
       "201104월                   3.8      2192.36        1068.00      84.1  \n",
       "201105월                   3.9      2142.47        1078.00      84.3  \n",
       "...                       ...          ...            ...       ...  \n",
       "202008월                   0.7      2326.17        1187.94     114.2  \n",
       "202009월                   1.0      2327.89        1164.65     115.8  \n",
       "202010월                   0.1      2267.15        1136.49     118.6  \n",
       "202011월                   0.6      2591.34        1109.32     121.8  \n",
       "202012월                   0.5      2873.47        1084.47     125.4  \n",
       "\n",
       "[120 rows x 8 columns]"
      ]
     },
     "execution_count": 17,
     "metadata": {},
     "output_type": "execute_result"
    }
   ],
   "source": [
    "df"
   ]
  },
  {
   "cell_type": "markdown",
   "metadata": {},
   "source": [
    "# SVM Regressor"
   ]
  },
  {
   "cell_type": "markdown",
   "metadata": {},
   "source": [
    "## 감성 지수 반영 X"
   ]
  },
  {
   "cell_type": "code",
   "execution_count": 16,
   "metadata": {
    "ExecuteTime": {
     "end_time": "2021-04-30T14:24:17.239812Z",
     "start_time": "2021-04-30T14:24:17.220863Z"
    }
   },
   "outputs": [],
   "source": [
    "X = df.iloc[:,1:]\n",
    "y = X.pop('next_spi')"
   ]
  },
  {
   "cell_type": "code",
   "execution_count": 38,
   "metadata": {
    "ExecuteTime": {
     "end_time": "2021-04-30T14:28:26.339666Z",
     "start_time": "2021-04-30T14:28:26.325673Z"
    }
   },
   "outputs": [],
   "source": [
    "#90개월이 아닌 다른 경우의 수에도 적용할 수 있도록...\n",
    "#X, y, 몇 개월을 검토할지 입력\n",
    "#X_train, y_train은 그전것 전부, X_test은 그 다음 한 개월치만...  y_test은 굳이 안함. 어차피 나중에 실제 y에서 인덱싱하면되자나\n",
    "\n",
    "def split_train_test(X, y , num_of_train):\n",
    "    \"\"\"\n",
    "    ex) split_train_test(X, y, 90) \n",
    "    \n",
    "    => X_train 은 90개의 앞의 월별 데이터, X_test는 다음 91개째 하나의 월별 데이터를 반환\n",
    "    \"\"\"\n",
    "    X_train = X.iloc[:num_of_train]\n",
    "    X_test = pd.DataFrame(X.iloc[num_of_train]).T\n",
    "    y_train = y.iloc[:num_of_train]\n",
    "    \n",
    "    return X_train, X_test, y_train\n",
    "\n",
    "def train_predict(X, y, num_of_train):\n",
    "    \"\"\"\n",
    "    y_pred = [90개월치 훈련 91개월차 예측값, 91개월치 훈련 92개월차 예측값, ...119개월 훈련 120개월차 예측값] 을 만들기 위해\n",
    "    먼저 y_pred = [] 초기화\n",
    "    \n",
    "    y_test는 결과(confusion matrix) 비교 위해 list형태로 바꿔줌.\n",
    "    num_of_train 입력해주면 그 시점부터 마지막 하나 전 월까지 훈련시키고 테스트하고를 반복해서 y_pred에 그때마다 넣어주고\n",
    "    한 train data 사용하면 메모리 정리를 위해 지워주고 다음 for 문에서 재할당해줌.\n",
    "    \n",
    "    예를 들어, i가 90이면\n",
    "    i = 90 ->train : 0~89 데이터 => 훈련해서 90개차 test data 한 줄 넣고 예측 결과 뽑아서 그걸 y_pred에 추가 -> data delete\n",
    "    i = 91 ->train : 0~90 데이터 => 훈련해서 91개차 test data 한 줄 넣고 예측 결과 뽑아서 그걸 y_pred에 추가 -> data delete\n",
    "    ... 반복...\n",
    "    \n",
    "    \"\"\"\n",
    "    y_pred = []\n",
    "    y_test = y[num_of_train:].tolist()\n",
    "    for i in range(num_of_train, X.shape[0]):\n",
    "        # 1 ~ i, i+1 의 데이터 생성\n",
    "        X_train, X_test, y_train = split_train_test(X, y, i)\n",
    "        \n",
    "        sc = StandardScaler()\n",
    "        X_train = sc.fit_transform(X_train)\n",
    "        X_test = sc.transform(X_test)\n",
    "        \n",
    "        # default parameter \n",
    "        svr = SVR(kernel = 'sigmoid')\n",
    "        svr.fit(X_train, y_train)\n",
    "        pred = svr.predict(X_test)\n",
    "        y_pred.append(pred[0])\n",
    "        del X_train, X_test, y_train #메모리 삭제\n",
    "\n",
    "    #print(confusion_matrix(y_test,y_pred))\n",
    "    #print(classification_report(y_test,y_pred))\n",
    "    print(mean_squared_error(y_test, y_pred, squared = False)) # squared = False면 RMSE, True면 MSE 출력\n",
    "    \n",
    "    # RMSE = Root Mean Squared Error : RMSE가 낮을수록 정확도가 높음을 의미\n",
    "    \n",
    "#    print(\"auc: \", roc_auc_score(y_test,y_pred))"
   ]
  },
  {
   "cell_type": "markdown",
   "metadata": {},
   "source": [
    "**kernel 별 RMSE 값** ( 소숫점 다섯째 자리부터 버림 )\n",
    "- linear : 1.6551\n",
    "- poly : 8.1534\n",
    "- rbf : 10.0820\n",
    "- sigmoid : 7.8774"
   ]
  },
  {
   "cell_type": "code",
   "execution_count": 39,
   "metadata": {
    "ExecuteTime": {
     "end_time": "2021-04-30T14:28:28.165162Z",
     "start_time": "2021-04-30T14:28:28.010188Z"
    }
   },
   "outputs": [
    {
     "name": "stdout",
     "output_type": "stream",
     "text": [
      "7.877466951423792\n"
     ]
    }
   ],
   "source": [
    "train_predict(X, y, 90)"
   ]
  },
  {
   "cell_type": "code",
   "execution_count": 40,
   "metadata": {
    "ExecuteTime": {
     "end_time": "2021-04-30T14:28:39.410709Z",
     "start_time": "2021-04-30T14:28:39.394782Z"
    }
   },
   "outputs": [],
   "source": [
    "del X,y"
   ]
  },
  {
   "cell_type": "markdown",
   "metadata": {},
   "source": [
    "## 감성 지수 반영"
   ]
  },
  {
   "cell_type": "code",
   "execution_count": 41,
   "metadata": {
    "ExecuteTime": {
     "end_time": "2021-04-30T14:29:11.768748Z",
     "start_time": "2021-04-30T14:29:11.752790Z"
    }
   },
   "outputs": [],
   "source": [
    "X = df.copy()\n",
    "y = X.pop('next_spi')"
   ]
  },
  {
   "cell_type": "code",
   "execution_count": 51,
   "metadata": {
    "ExecuteTime": {
     "end_time": "2021-04-30T14:30:19.844316Z",
     "start_time": "2021-04-30T14:30:19.837306Z"
    }
   },
   "outputs": [],
   "source": [
    "#90개월이 아닌 다른 경우의 수에도 적용할 수 있도록...\n",
    "#X, y, 몇 개월을 검토할지 입력\n",
    "#X_train, y_train은 그전것 전부, X_test은 그 다음 한 개월치만...  y_test은 굳이 안함. 어차피 나중에 실제 y에서 인덱싱하면되자나\n",
    "\n",
    "def split_train_test(X, y , num_of_train):\n",
    "    \"\"\"\n",
    "    ex) split_train_test(X, y, 90) \n",
    "    \n",
    "    => X_train 은 90개의 앞의 월별 데이터, X_test는 다음 91개째 하나의 월별 데이터를 반환\n",
    "    \"\"\"\n",
    "    X_train = X.iloc[:num_of_train]\n",
    "    X_test = pd.DataFrame(X.iloc[num_of_train]).T\n",
    "    y_train = y.iloc[:num_of_train]\n",
    "    \n",
    "    return X_train, X_test, y_train\n",
    "\n",
    "def train_predict(X, y, num_of_train):\n",
    "    \"\"\"\n",
    "    y_pred = [90개월치 훈련 91개월차 예측값, 91개월치 훈련 92개월차 예측값, ...119개월 훈련 120개월차 예측값] 을 만들기 위해\n",
    "    먼저 y_pred = [] 초기화\n",
    "    \n",
    "    y_test는 결과(confusion matrix) 비교 위해 list형태로 바꿔줌.\n",
    "    num_of_train 입력해주면 그 시점부터 마지막 하나 전 월까지 훈련시키고 테스트하고를 반복해서 y_pred에 그때마다 넣어주고\n",
    "    한 train data 사용하면 메모리 정리를 위해 지워주고 다음 for 문에서 재할당해줌.\n",
    "    \n",
    "    예를 들어, i가 90이면\n",
    "    i = 90 ->train : 0~89 데이터 => 훈련해서 90개차 test data 한 줄 넣고 예측 결과 뽑아서 그걸 y_pred에 추가 -> data delete\n",
    "    i = 91 ->train : 0~90 데이터 => 훈련해서 91개차 test data 한 줄 넣고 예측 결과 뽑아서 그걸 y_pred에 추가 -> data delete\n",
    "    ... 반복...\n",
    "    \n",
    "    \"\"\"\n",
    "    y_pred = []\n",
    "    y_test = y[num_of_train:].tolist()\n",
    "    for i in range(num_of_train, X.shape[0]):\n",
    "        # 1 ~ i, i+1 의 데이터 생성\n",
    "        X_train, X_test, y_train = split_train_test(X, y, i)\n",
    "        \n",
    "        sc = StandardScaler()\n",
    "        X_train = sc.fit_transform(X_train)\n",
    "        X_test = sc.transform(X_test)\n",
    "        \n",
    "        # default parameter \n",
    "        svr = SVR(kernel = 'sigmoid')\n",
    "        svr.fit(X_train, y_train)\n",
    "        pred = svr.predict(X_test)\n",
    "        y_pred.append(pred[0])\n",
    "        del X_train, X_test, y_train #메모리 삭제\n",
    "\n",
    "    #print(confusion_matrix(y_test,y_pred))\n",
    "    #print(classification_report(y_test,y_pred))\n",
    "    print(mean_squared_error(y_test, y_pred, squared = False)) # squared = False면 RMSE, True면 MSE 출력\n",
    "    \n",
    "    # RMSE = Root Mean Squared Error : RMSE가 낮을수록 정확도가 높음을 의미\n",
    "    \n",
    "#    print(\"auc: \", roc_auc_score(y_test,y_pred))"
   ]
  },
  {
   "cell_type": "code",
   "execution_count": 52,
   "metadata": {
    "ExecuteTime": {
     "end_time": "2021-04-30T14:30:20.946011Z",
     "start_time": "2021-04-30T14:30:20.780799Z"
    }
   },
   "outputs": [
    {
     "name": "stdout",
     "output_type": "stream",
     "text": [
      "7.060026441837677\n"
     ]
    }
   ],
   "source": [
    "train_predict(X, y, 90)"
   ]
  },
  {
   "cell_type": "markdown",
   "metadata": {},
   "source": [
    "**kernel 별 RMSE 값** ( 소숫점 다섯째 자리부터 버림 )\n",
    "- linear : 1.6551 => 1.7038\n",
    "- poly : 8.1534 => 6.9597\n",
    "- rbf : 10.0820 => 10.2330\n",
    "- sigmoid : 7.8774 => 7.0600"
   ]
  }
 ],
 "metadata": {
  "hide_input": false,
  "kernelspec": {
   "display_name": "Python 3",
   "language": "python",
   "name": "python3"
  },
  "language_info": {
   "codemirror_mode": {
    "name": "ipython",
    "version": 3
   },
   "file_extension": ".py",
   "mimetype": "text/x-python",
   "name": "python",
   "nbconvert_exporter": "python",
   "pygments_lexer": "ipython3",
   "version": "3.8.5"
  },
  "toc": {
   "base_numbering": 1,
   "nav_menu": {},
   "number_sections": true,
   "sideBar": true,
   "skip_h1_title": false,
   "title_cell": "Table of Contents",
   "title_sidebar": "Contents",
   "toc_cell": false,
   "toc_position": {},
   "toc_section_display": true,
   "toc_window_display": false
  },
  "varInspector": {
   "cols": {
    "lenName": 16,
    "lenType": 16,
    "lenVar": 40
   },
   "kernels_config": {
    "python": {
     "delete_cmd_postfix": "",
     "delete_cmd_prefix": "del ",
     "library": "var_list.py",
     "varRefreshCmd": "print(var_dic_list())"
    },
    "r": {
     "delete_cmd_postfix": ") ",
     "delete_cmd_prefix": "rm(",
     "library": "var_list.r",
     "varRefreshCmd": "cat(var_dic_list()) "
    }
   },
   "types_to_exclude": [
    "module",
    "function",
    "builtin_function_or_method",
    "instance",
    "_Feature"
   ],
   "window_display": false
  }
 },
 "nbformat": 4,
 "nbformat_minor": 5
}
