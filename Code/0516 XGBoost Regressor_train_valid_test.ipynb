{
 "cells": [
  {
   "cell_type": "code",
   "execution_count": 1,
   "metadata": {
    "ExecuteTime": {
     "end_time": "2021-06-04T10:55:44.804372Z",
     "start_time": "2021-06-04T10:55:40.764746Z"
    }
   },
   "outputs": [],
   "source": [
    "from xgboost import XGBRegressor\n",
    "import pandas as pd\n",
    "from sklearn.metrics import mean_squared_error\n",
    "from sklearn.model_selection import train_test_split"
   ]
  },
  {
   "cell_type": "markdown",
   "metadata": {},
   "source": [
    "# 데이터 불러오기"
   ]
  },
  {
   "cell_type": "code",
   "execution_count": 2,
   "metadata": {
    "ExecuteTime": {
     "end_time": "2021-06-04T10:55:45.874889Z",
     "start_time": "2021-06-04T10:55:45.849957Z"
    }
   },
   "outputs": [],
   "source": [
    "df = pd.read_csv('0507 df_for_holdout.csv')"
   ]
  },
  {
   "cell_type": "code",
   "execution_count": 3,
   "metadata": {
    "ExecuteTime": {
     "end_time": "2021-06-04T10:55:46.712124Z",
     "start_time": "2021-06-04T10:55:46.706139Z"
    }
   },
   "outputs": [],
   "source": [
    "df.set_index('Date',inplace = True)"
   ]
  },
  {
   "cell_type": "code",
   "execution_count": 4,
   "metadata": {
    "ExecuteTime": {
     "end_time": "2021-06-04T10:55:47.707986Z",
     "start_time": "2021-06-04T10:55:47.658119Z"
    }
   },
   "outputs": [
    {
     "data": {
      "text/html": [
       "<div>\n",
       "<style scoped>\n",
       "    .dataframe tbody tr th:only-of-type {\n",
       "        vertical-align: middle;\n",
       "    }\n",
       "\n",
       "    .dataframe tbody tr th {\n",
       "        vertical-align: top;\n",
       "    }\n",
       "\n",
       "    .dataframe thead th {\n",
       "        text-align: right;\n",
       "    }\n",
       "</style>\n",
       "<table border=\"1\" class=\"dataframe\">\n",
       "  <thead>\n",
       "    <tr style=\"text-align: right;\">\n",
       "      <th></th>\n",
       "      <th>시언감성점수</th>\n",
       "      <th>M2</th>\n",
       "      <th>comp basemoney rate</th>\n",
       "      <th>base rate</th>\n",
       "      <th>consumer price index</th>\n",
       "      <th>kospi close</th>\n",
       "      <th>ex-rate close</th>\n",
       "      <th>효준감성점수</th>\n",
       "      <th>시언서술포함감성점수</th>\n",
       "      <th>주택</th>\n",
       "      <th>아파트</th>\n",
       "      <th>분양</th>\n",
       "      <th>서울</th>\n",
       "      <th>가구</th>\n",
       "      <th>부동산</th>\n",
       "      <th>단지</th>\n",
       "      <th>시장</th>\n",
       "      <th>next_spi</th>\n",
       "    </tr>\n",
       "    <tr>\n",
       "      <th>Date</th>\n",
       "      <th></th>\n",
       "      <th></th>\n",
       "      <th></th>\n",
       "      <th></th>\n",
       "      <th></th>\n",
       "      <th></th>\n",
       "      <th></th>\n",
       "      <th></th>\n",
       "      <th></th>\n",
       "      <th></th>\n",
       "      <th></th>\n",
       "      <th></th>\n",
       "      <th></th>\n",
       "      <th></th>\n",
       "      <th></th>\n",
       "      <th></th>\n",
       "      <th></th>\n",
       "      <th></th>\n",
       "    </tr>\n",
       "  </thead>\n",
       "  <tbody>\n",
       "    <tr>\n",
       "      <th>201101월</th>\n",
       "      <td>-6.268386e+07</td>\n",
       "      <td>1676.4</td>\n",
       "      <td>4.52</td>\n",
       "      <td>2.75</td>\n",
       "      <td>3.4</td>\n",
       "      <td>2069.73</td>\n",
       "      <td>1119.25</td>\n",
       "      <td>1856.746125</td>\n",
       "      <td>-1.635618e+08</td>\n",
       "      <td>1160</td>\n",
       "      <td>1094</td>\n",
       "      <td>666</td>\n",
       "      <td>729</td>\n",
       "      <td>1180</td>\n",
       "      <td>685</td>\n",
       "      <td>461</td>\n",
       "      <td>459</td>\n",
       "      <td>82.5</td>\n",
       "    </tr>\n",
       "    <tr>\n",
       "      <th>201102월</th>\n",
       "      <td>-6.255832e+07</td>\n",
       "      <td>1674.4</td>\n",
       "      <td>4.72</td>\n",
       "      <td>2.75</td>\n",
       "      <td>3.9</td>\n",
       "      <td>1939.30</td>\n",
       "      <td>1124.65</td>\n",
       "      <td>2046.702906</td>\n",
       "      <td>-1.777621e+08</td>\n",
       "      <td>1160</td>\n",
       "      <td>1101</td>\n",
       "      <td>639</td>\n",
       "      <td>652</td>\n",
       "      <td>1265</td>\n",
       "      <td>669</td>\n",
       "      <td>383</td>\n",
       "      <td>496</td>\n",
       "      <td>83.4</td>\n",
       "    </tr>\n",
       "    <tr>\n",
       "      <th>201103월</th>\n",
       "      <td>-6.957441e+07</td>\n",
       "      <td>1677.5</td>\n",
       "      <td>4.54</td>\n",
       "      <td>3.00</td>\n",
       "      <td>4.1</td>\n",
       "      <td>2106.70</td>\n",
       "      <td>1095.50</td>\n",
       "      <td>1715.795289</td>\n",
       "      <td>-1.980306e+08</td>\n",
       "      <td>1341</td>\n",
       "      <td>1102</td>\n",
       "      <td>1014</td>\n",
       "      <td>607</td>\n",
       "      <td>961</td>\n",
       "      <td>659</td>\n",
       "      <td>576</td>\n",
       "      <td>578</td>\n",
       "      <td>83.9</td>\n",
       "    </tr>\n",
       "    <tr>\n",
       "      <th>201104월</th>\n",
       "      <td>-7.305733e+07</td>\n",
       "      <td>1684.8</td>\n",
       "      <td>4.54</td>\n",
       "      <td>3.00</td>\n",
       "      <td>3.8</td>\n",
       "      <td>2192.36</td>\n",
       "      <td>1068.00</td>\n",
       "      <td>1635.262791</td>\n",
       "      <td>-1.898849e+08</td>\n",
       "      <td>1405</td>\n",
       "      <td>1186</td>\n",
       "      <td>977</td>\n",
       "      <td>658</td>\n",
       "      <td>1031</td>\n",
       "      <td>720</td>\n",
       "      <td>534</td>\n",
       "      <td>577</td>\n",
       "      <td>84.1</td>\n",
       "    </tr>\n",
       "    <tr>\n",
       "      <th>201105월</th>\n",
       "      <td>-9.356633e+07</td>\n",
       "      <td>1690.5</td>\n",
       "      <td>4.44</td>\n",
       "      <td>3.00</td>\n",
       "      <td>3.9</td>\n",
       "      <td>2142.47</td>\n",
       "      <td>1078.00</td>\n",
       "      <td>1922.518709</td>\n",
       "      <td>-2.402702e+08</td>\n",
       "      <td>1537</td>\n",
       "      <td>1543</td>\n",
       "      <td>1267</td>\n",
       "      <td>854</td>\n",
       "      <td>1245</td>\n",
       "      <td>1013</td>\n",
       "      <td>770</td>\n",
       "      <td>756</td>\n",
       "      <td>84.4</td>\n",
       "    </tr>\n",
       "  </tbody>\n",
       "</table>\n",
       "</div>"
      ],
      "text/plain": [
       "               시언감성점수      M2  comp basemoney rate  base rate  \\\n",
       "Date                                                            \n",
       "201101월 -6.268386e+07  1676.4                 4.52       2.75   \n",
       "201102월 -6.255832e+07  1674.4                 4.72       2.75   \n",
       "201103월 -6.957441e+07  1677.5                 4.54       3.00   \n",
       "201104월 -7.305733e+07  1684.8                 4.54       3.00   \n",
       "201105월 -9.356633e+07  1690.5                 4.44       3.00   \n",
       "\n",
       "         consumer price index  kospi close  ex-rate close       효준감성점수  \\\n",
       "Date                                                                     \n",
       "201101월                   3.4      2069.73        1119.25  1856.746125   \n",
       "201102월                   3.9      1939.30        1124.65  2046.702906   \n",
       "201103월                   4.1      2106.70        1095.50  1715.795289   \n",
       "201104월                   3.8      2192.36        1068.00  1635.262791   \n",
       "201105월                   3.9      2142.47        1078.00  1922.518709   \n",
       "\n",
       "           시언서술포함감성점수    주택   아파트    분양   서울    가구   부동산   단지   시장  next_spi  \n",
       "Date                                                                          \n",
       "201101월 -1.635618e+08  1160  1094   666  729  1180   685  461  459      82.5  \n",
       "201102월 -1.777621e+08  1160  1101   639  652  1265   669  383  496      83.4  \n",
       "201103월 -1.980306e+08  1341  1102  1014  607   961   659  576  578      83.9  \n",
       "201104월 -1.898849e+08  1405  1186   977  658  1031   720  534  577      84.1  \n",
       "201105월 -2.402702e+08  1537  1543  1267  854  1245  1013  770  756      84.4  "
      ]
     },
     "execution_count": 4,
     "metadata": {},
     "output_type": "execute_result"
    }
   ],
   "source": [
    "df.head()"
   ]
  },
  {
   "cell_type": "code",
   "execution_count": 10,
   "metadata": {
    "ExecuteTime": {
     "end_time": "2021-06-04T10:56:43.804976Z",
     "start_time": "2021-06-04T10:56:43.788022Z"
    }
   },
   "outputs": [
    {
     "data": {
      "text/plain": [
       "99.5"
      ]
     },
     "execution_count": 10,
     "metadata": {},
     "output_type": "execute_result"
    }
   ],
   "source": [
    "min(df.next_spi[90:])"
   ]
  },
  {
   "cell_type": "markdown",
   "metadata": {},
   "source": [
    "# 전처리 및 Train/Test Set 분할"
   ]
  },
  {
   "cell_type": "code",
   "execution_count": null,
   "metadata": {
    "ExecuteTime": {
     "end_time": "2021-05-08T10:42:34.240077Z",
     "start_time": "2021-05-08T10:42:34.231033Z"
    }
   },
   "outputs": [],
   "source": [
    "X = df.iloc[:,:-1]\n",
    "y = df['next_spi'].to_list()"
   ]
  },
  {
   "cell_type": "code",
   "execution_count": null,
   "metadata": {
    "ExecuteTime": {
     "end_time": "2021-05-08T10:42:39.945793Z",
     "start_time": "2021-05-08T10:42:39.925711Z"
    }
   },
   "outputs": [],
   "source": [
    "X.head()"
   ]
  },
  {
   "cell_type": "code",
   "execution_count": null,
   "metadata": {
    "ExecuteTime": {
     "end_time": "2021-05-08T10:42:46.619676Z",
     "start_time": "2021-05-08T10:42:46.607564Z"
    }
   },
   "outputs": [],
   "source": [
    "# Holdout으로 Train/Test 분할\n",
    "X_train_temp = X.iloc[:90]\n",
    "y_train_temp = y[:90]\n",
    "X_test = X.iloc[90:]\n",
    "y_test = y[90:]"
   ]
  },
  {
   "cell_type": "code",
   "execution_count": null,
   "metadata": {},
   "outputs": [],
   "source": [
    "X_train, X_valid, y_train, y_valid = train_test_split(X_train_temp, y_train_temp, test_size = 0.25, random_state = 0)"
   ]
  },
  {
   "cell_type": "markdown",
   "metadata": {
    "ExecuteTime": {
     "end_time": "2021-05-07T14:33:41.851460Z",
     "start_time": "2021-05-07T14:33:41.839467Z"
    }
   },
   "source": [
    "tf_idf_words = ['주택', '아파트', '분양', '서울', '가구', '부동산', '단지', '시장']"
   ]
  },
  {
   "cell_type": "markdown",
   "metadata": {},
   "source": [
    "# 거시경제변수만 포함된 Case"
   ]
  },
  {
   "cell_type": "code",
   "execution_count": null,
   "metadata": {
    "ExecuteTime": {
     "end_time": "2021-05-08T07:41:20.669672Z",
     "start_time": "2021-05-08T07:41:20.648679Z"
    }
   },
   "outputs": [],
   "source": [
    "# 거시경제변수만 포함된 X 만들기\n",
    "X_train_basic = X_train.drop(['시언감성점수','효준감성점수','시언서술포함감성점수','주택', '아파트', '분양', '서울', '가구', '부동산', '단지', '시장'], axis = 1)\n",
    "X_valid_basic = X_valid.drop(['시언감성점수','효준감성점수','시언서술포함감성점수','주택', '아파트', '분양', '서울', '가구', '부동산', '단지', '시장'], axis = 1)\n",
    "X_test_basic = X_test.drop(['시언감성점수','효준감성점수','시언서술포함감성점수','주택', '아파트', '분양', '서울', '가구', '부동산', '단지', '시장'], axis = 1)"
   ]
  },
  {
   "cell_type": "code",
   "execution_count": null,
   "metadata": {
    "ExecuteTime": {
     "end_time": "2021-05-08T07:52:38.030930Z",
     "start_time": "2021-05-08T07:41:20.671611Z"
    }
   },
   "outputs": [],
   "source": [
    "from sklearn.model_selection import GridSearchCV\n",
    "\n",
    "# defining parameter range\n",
    "param_grid = {\n",
    "        'n_estimators' : [50, 100, 150, 200],\n",
    "        'gamma': [0.3, 0.6, 0.9, 1.2, 1.5],\n",
    "        'subsample' : [i/10.0 for i in range(6,11)],\n",
    "        'colsample_bytree': [0.6, 0.8, 1.0],\n",
    "        'max_depth': [3, 5, 7, 9]\n",
    "        }\n",
    "  \n",
    "grid_XGBR = GridSearchCV(XGBRegressor(), param_grid, refit = 'mse', verbose = 0, cv = 5)\n",
    "\n",
    "# fitting the model for grid search\n",
    "grid_XGBR.fit(X_train_basic, y_train)"
   ]
  },
  {
   "cell_type": "code",
   "execution_count": null,
   "metadata": {},
   "outputs": [],
   "source": [
    "# valid에 대한 성능\n",
    "y_pred = grid_XGBR.predict(X_valid_basic)\n",
    "RMSE = mean_squared_error(y_valid, y_pred)**0.5\n",
    "\n",
    "# RMSE 출력\n",
    "print(RMSE)\n",
    "\n",
    "# print best parameter after tuning\n",
    "print(grid_XGBR.best_params_)\n",
    "  \n",
    "# print how our model looks after hyper-parameter tuning\n",
    "print(grid_XGBR.best_estimator_)"
   ]
  },
  {
   "cell_type": "code",
   "execution_count": null,
   "metadata": {},
   "outputs": [],
   "source": [
    "del param_grid, grid_XGBR, RMSE, y_pred"
   ]
  },
  {
   "cell_type": "code",
   "execution_count": null,
   "metadata": {
    "ExecuteTime": {
     "end_time": "2021-05-08T07:52:38.037810Z",
     "start_time": "2021-05-08T07:41:20.650Z"
    }
   },
   "outputs": [],
   "source": [
    "# Test에 대한 성능\n",
    "y_pred = grid_XGBR.predict(X_test_basic)\n",
    "RMSE = mean_squared_error(y_test, y_pred)**0.5\n",
    "\n",
    "# RMSE 출력\n",
    "print(RMSE)\n",
    "\n",
    "# print best parameter after tuning\n",
    "print(grid_XGBR.best_params_)\n",
    "  \n",
    "# print how our model looks after hyper-parameter tuning\n",
    "print(grid_XGBR.best_estimator_)"
   ]
  },
  {
   "cell_type": "code",
   "execution_count": null,
   "metadata": {
    "ExecuteTime": {
     "end_time": "2021-05-08T07:52:38.038808Z",
     "start_time": "2021-05-08T07:41:20.652Z"
    }
   },
   "outputs": [],
   "source": [
    "del param_grid, grid_XGBR, RMSE, y_pred"
   ]
  },
  {
   "cell_type": "markdown",
   "metadata": {},
   "source": [
    "# 시언 감성 점수 Case"
   ]
  },
  {
   "cell_type": "markdown",
   "metadata": {},
   "source": [
    "## 시언 감성 점수 데이터 전처리"
   ]
  },
  {
   "cell_type": "code",
   "execution_count": null,
   "metadata": {
    "ExecuteTime": {
     "end_time": "2021-05-08T07:52:38.040803Z",
     "start_time": "2021-05-08T07:41:20.654Z"
    }
   },
   "outputs": [],
   "source": [
    "# 시언 감성 점수 (명사만 이용) 포함 X 만들기\n",
    "X_train_si = X_train.drop(['효준감성점수','시언서술포함감성점수','주택', '아파트', '분양', '서울', '가구', '부동산', '단지', '시장'],axis = 1)\n",
    "X_valid_si = X_valid.drop(['효준감성점수','시언서술포함감성점수','주택', '아파트', '분양', '서울', '가구', '부동산', '단지', '시장'],axis = 1)\n",
    "X_test_si = X_test.drop(['효준감성점수','시언서술포함감성점수','주택', '아파트', '분양', '서울', '가구', '부동산', '단지', '시장'],axis = 1)"
   ]
  },
  {
   "cell_type": "code",
   "execution_count": null,
   "metadata": {
    "ExecuteTime": {
     "end_time": "2021-05-08T07:52:38.041800Z",
     "start_time": "2021-05-08T07:41:20.656Z"
    }
   },
   "outputs": [],
   "source": [
    "X_train_si_verb = X_train.drop(['시언감성점수','효준감성점수','주택', '아파트', '분양', '서울', '가구', '부동산', '단지', '시장'],axis = 1)\n",
    "X_valid_si_verb = X_valid.drop(['시언감성점수','효준감성점수','주택', '아파트', '분양', '서울', '가구', '부동산', '단지', '시장'],axis = 1)\n",
    "X_test_si_verb = X_test.drop(['시언감성점수','효준감성점수','주택', '아파트', '분양', '서울', '가구', '부동산', '단지', '시장'],axis = 1)"
   ]
  },
  {
   "cell_type": "markdown",
   "metadata": {},
   "source": [
    "## (시언 감성 점수 (명사)) 이용 SVR 수립 및 평가"
   ]
  },
  {
   "cell_type": "code",
   "execution_count": null,
   "metadata": {
    "ExecuteTime": {
     "end_time": "2021-05-08T07:52:38.042797Z",
     "start_time": "2021-05-08T07:41:20.658Z"
    }
   },
   "outputs": [],
   "source": [
    "# defining parameter range\n",
    "param_grid = {\n",
    "        'n_estimators' : [50, 100, 150, 200],\n",
    "        'gamma': [0.3, 0.6, 0.9, 1.2, 1.5],\n",
    "        'subsample' : [i/10.0 for i in range(6,11)],\n",
    "        'colsample_bytree': [0.6, 0.8, 1.0],\n",
    "        'max_depth': [3, 5, 7, 9]\n",
    "        }\n",
    "  \n",
    "grid_XGBR = GridSearchCV(XGBRegressor(), param_grid, refit = 'mse', verbose = 0, cv = 5)\n",
    "\n",
    "# fitting the model for grid search\n",
    "grid_XGBR.fit(X_train_si, y_train)"
   ]
  },
  {
   "cell_type": "code",
   "execution_count": null,
   "metadata": {},
   "outputs": [],
   "source": [
    "# valid에 대한 성능\n",
    "y_pred = grid_XGBR.predict(X_valid_si)\n",
    "RMSE = mean_squared_error(y_valid, y_pred)**0.5\n",
    "\n",
    "# RMSE 출력\n",
    "print(RMSE)\n",
    "\n",
    "# print best parameter after tuning\n",
    "print(grid_XGBR.best_params_)\n",
    "  \n",
    "# print how our model looks after hyper-parameter tuning\n",
    "print(grid_XGBR.best_estimator_)"
   ]
  },
  {
   "cell_type": "code",
   "execution_count": null,
   "metadata": {},
   "outputs": [],
   "source": [
    "del param_grid, grid_XGBR, RMSE, y_pred"
   ]
  },
  {
   "cell_type": "code",
   "execution_count": null,
   "metadata": {
    "ExecuteTime": {
     "end_time": "2021-05-08T07:52:38.044795Z",
     "start_time": "2021-05-08T07:41:20.659Z"
    }
   },
   "outputs": [],
   "source": [
    "# test에 대한 성능\n",
    "y_pred = grid_XGBR.predict(X_test_si)\n",
    "RMSE = mean_squared_error(y_test, y_pred)**0.5\n",
    "\n",
    "# RMSE 출력\n",
    "print(RMSE)\n",
    "\n",
    "# print best parameter after tuning\n",
    "print(grid_XGBR.best_params_)\n",
    "  \n",
    "# print how our model looks after hyper-parameter tuning\n",
    "print(grid_XGBR.best_estimator_)"
   ]
  },
  {
   "cell_type": "code",
   "execution_count": null,
   "metadata": {
    "ExecuteTime": {
     "end_time": "2021-05-08T07:52:38.045791Z",
     "start_time": "2021-05-08T07:41:20.661Z"
    }
   },
   "outputs": [],
   "source": [
    "del param_grid, grid_XGBR, RMSE, y_pred"
   ]
  },
  {
   "cell_type": "markdown",
   "metadata": {},
   "source": [
    "## (시언 감성 점수 (서술어 포함)) 이용 SVR 수립 및 평가"
   ]
  },
  {
   "cell_type": "code",
   "execution_count": null,
   "metadata": {
    "ExecuteTime": {
     "end_time": "2021-05-08T07:52:38.047784Z",
     "start_time": "2021-05-08T07:41:20.663Z"
    }
   },
   "outputs": [],
   "source": [
    "# defining parameter range\n",
    "param_grid = {\n",
    "        'n_estimators' : [50, 100, 150, 200],\n",
    "        'gamma': [0.3, 0.6, 0.9, 1.2, 1.5],\n",
    "        'subsample' : [i/10.0 for i in range(6,11)],\n",
    "        'colsample_bytree': [0.6, 0.8, 1.0],\n",
    "        'max_depth': [3, 5, 7, 9]\n",
    "        }\n",
    "  \n",
    "grid_XGBR = GridSearchCV(XGBRegressor(), param_grid, refit = 'mse', verbose = 0, cv = 5)\n",
    "\n",
    "# fitting the model for grid search\n",
    "grid_XGBR.fit(X_train_si_verb, y_train)"
   ]
  },
  {
   "cell_type": "code",
   "execution_count": null,
   "metadata": {},
   "outputs": [],
   "source": [
    "# valid에 대한 성능 \n",
    "y_pred = grid_XGBR.predict(X_valid_si_verb)\n",
    "RMSE = mean_squared_error(y_valid, y_pred)**0.5\n",
    "\n",
    "# RMSE 출력\n",
    "print(RMSE)\n",
    "\n",
    "# print best parameter after tuning\n",
    "print(grid_XGBR.best_params_)\n",
    "  \n",
    "# print how our model looks after hyper-parameter tuning\n",
    "print(grid_XGBR.best_estimator_)"
   ]
  },
  {
   "cell_type": "code",
   "execution_count": null,
   "metadata": {},
   "outputs": [],
   "source": [
    "del param_grid, grid_XGBR, RMSE, y_pred"
   ]
  },
  {
   "cell_type": "code",
   "execution_count": null,
   "metadata": {
    "ExecuteTime": {
     "end_time": "2021-05-08T07:52:38.048781Z",
     "start_time": "2021-05-08T07:41:20.664Z"
    }
   },
   "outputs": [],
   "source": [
    "# test에 대한 성능 \n",
    "y_pred = grid_XGBR.predict(X_test_si_verb)\n",
    "RMSE = mean_squared_error(y_test, y_pred)**0.5\n",
    "\n",
    "# RMSE 출력\n",
    "print(RMSE)\n",
    "\n",
    "# print best parameter after tuning\n",
    "print(grid_XGBR.best_params_)\n",
    "  \n",
    "# print how our model looks after hyper-parameter tuning\n",
    "print(grid_XGBR.best_estimator_)"
   ]
  },
  {
   "cell_type": "code",
   "execution_count": null,
   "metadata": {
    "ExecuteTime": {
     "end_time": "2021-05-08T07:52:38.050776Z",
     "start_time": "2021-05-08T07:41:20.665Z"
    }
   },
   "outputs": [],
   "source": [
    "del param_grid, grid_XGBR, RMSE, y_pred"
   ]
  },
  {
   "cell_type": "markdown",
   "metadata": {},
   "source": [
    "# 효준 감성 점수(명사) Case"
   ]
  },
  {
   "cell_type": "markdown",
   "metadata": {},
   "source": [
    "## 효준 감성 점수 포함 성능"
   ]
  },
  {
   "cell_type": "code",
   "execution_count": null,
   "metadata": {
    "ExecuteTime": {
     "end_time": "2021-05-08T07:52:38.051773Z",
     "start_time": "2021-05-08T07:41:20.666Z"
    }
   },
   "outputs": [],
   "source": [
    "X_train_hj = X_train.drop(['시언감성점수','시언서술포함감성점수','주택', '아파트', '분양', '서울', '가구', '부동산', '단지', '시장'],axis = 1)\n",
    "X_valid_hj = X_valid.drop(['시언감성점수','시언서술포함감성점수','주택', '아파트', '분양', '서울', '가구', '부동산', '단지', '시장'],axis = 1)\n",
    "X_test_hj = X_test.drop(['시언감성점수','시언서술포함감성점수','주택', '아파트', '분양', '서울', '가구', '부동산', '단지', '시장'],axis = 1)"
   ]
  },
  {
   "cell_type": "code",
   "execution_count": null,
   "metadata": {
    "ExecuteTime": {
     "end_time": "2021-05-08T07:52:38.052770Z",
     "start_time": "2021-05-08T07:41:20.667Z"
    }
   },
   "outputs": [],
   "source": [
    "# defining parameter range\n",
    "param_grid = {\n",
    "        'n_estimators' : [50, 100, 150, 200],\n",
    "        'gamma': [0.3, 0.6, 0.9, 1.2, 1.5],\n",
    "        'subsample' : [i/10.0 for i in range(6,11)],\n",
    "        'colsample_bytree': [0.6, 0.8, 1.0],\n",
    "        'max_depth': [3, 5, 7, 9]\n",
    "        }\n",
    "  \n",
    "grid_XGBR = GridSearchCV(XGBRegressor(), param_grid, refit = 'mse', verbose = 0, cv = 5)\n",
    "\n",
    "# fitting the model for grid search\n",
    "grid_XGBR.fit(X_train_hj, y_train)"
   ]
  },
  {
   "cell_type": "code",
   "execution_count": null,
   "metadata": {},
   "outputs": [],
   "source": [
    "# valid에 대한 성능 \n",
    "y_pred = grid_XGBR.predict(X_valid_hj)\n",
    "RMSE = mean_squared_error(y_valid, y_pred)**0.5\n",
    "\n",
    "# RMSE 출력\n",
    "print(RMSE)\n",
    "\n",
    "# print best parameter after tuning\n",
    "print(grid_XGBR.best_params_)\n",
    "  \n",
    "# print how our model looks after hyper-parameter tuning\n",
    "print(grid_XGBR.best_estimator_)"
   ]
  },
  {
   "cell_type": "code",
   "execution_count": null,
   "metadata": {},
   "outputs": [],
   "source": [
    "del param_grid, grid_XGBR, RMSE, y_pred"
   ]
  },
  {
   "cell_type": "code",
   "execution_count": null,
   "metadata": {
    "ExecuteTime": {
     "end_time": "2021-05-08T07:52:38.053767Z",
     "start_time": "2021-05-08T07:41:20.668Z"
    }
   },
   "outputs": [],
   "source": [
    "# test에 대한 성능 \n",
    "y_pred = grid_XGBR.predict(X_test_hj)\n",
    "RMSE = mean_squared_error(y_test, y_pred)**0.5\n",
    "\n",
    "# RMSE 출력\n",
    "print(RMSE)\n",
    "\n",
    "# print best parameter after tuning\n",
    "print(grid_XGBR.best_params_)\n",
    "  \n",
    "# print how our model looks after hyper-parameter tuning\n",
    "print(grid_XGBR.best_estimator_)"
   ]
  },
  {
   "cell_type": "code",
   "execution_count": null,
   "metadata": {
    "ExecuteTime": {
     "end_time": "2021-05-08T07:52:38.054765Z",
     "start_time": "2021-05-08T07:41:20.670Z"
    }
   },
   "outputs": [],
   "source": [
    "del param_grid, grid_XGBR, RMSE, y_pred"
   ]
  },
  {
   "cell_type": "markdown",
   "metadata": {},
   "source": [
    "# TF-IDF 상위 8개 단어 빈도수 추가 Case"
   ]
  },
  {
   "cell_type": "code",
   "execution_count": null,
   "metadata": {
    "ExecuteTime": {
     "end_time": "2021-05-08T07:52:38.055762Z",
     "start_time": "2021-05-08T07:41:20.672Z"
    }
   },
   "outputs": [],
   "source": [
    "X_train_tf_idf = X_train.drop(columns = [], axis = 1)\n",
    "X_valid_tf_idf = X_valid.drop(columns = [], axis = 1)\n",
    "X_test_tf_idf = X_test.drop(columns = [], axis = 1)"
   ]
  },
  {
   "cell_type": "code",
   "execution_count": null,
   "metadata": {
    "ExecuteTime": {
     "end_time": "2021-05-08T07:52:38.057758Z",
     "start_time": "2021-05-08T07:41:20.674Z"
    }
   },
   "outputs": [],
   "source": [
    "# defining parameter range\n",
    "param_grid = {\n",
    "        'n_estimators' : [50, 100, 150, 200],\n",
    "        'gamma': [0.3, 0.6, 0.9, 1.2, 1.5],\n",
    "        'subsample' : [i/10.0 for i in range(6,11)],\n",
    "        'colsample_bytree': [0.6, 0.8, 1.0],\n",
    "        'max_depth': [3, 5, 7, 9]\n",
    "        }\n",
    "  \n",
    "grid_XGBR = GridSearchCV(XGBRegressor(), param_grid, refit = 'mse', verbose = 0, cv = 5)\n",
    "\n",
    "# fitting the model for grid search\n",
    "grid_XGBR.fit(X_train_tf_idf, y_train)"
   ]
  },
  {
   "cell_type": "code",
   "execution_count": null,
   "metadata": {},
   "outputs": [],
   "source": [
    "# valid에 대한 성능\n",
    "y_pred = grid_XGBR.predict(X_valid_tf_idf)\n",
    "RMSE = mean_squared_error(y_valid, y_pred)**0.5\n",
    "\n",
    "# RMSE 출력\n",
    "print(RMSE)\n",
    "\n",
    "# print best parameter after tuning\n",
    "print(grid_XGBR.best_params_)\n",
    "  \n",
    "# print how our model looks after hyper-parameter tuning\n",
    "print(grid_XGBR.best_estimator_)"
   ]
  },
  {
   "cell_type": "code",
   "execution_count": null,
   "metadata": {},
   "outputs": [],
   "source": [
    "del param_grid, grid_XGBR, RMSE, y_pred"
   ]
  },
  {
   "cell_type": "code",
   "execution_count": null,
   "metadata": {
    "ExecuteTime": {
     "end_time": "2021-05-08T07:52:38.058754Z",
     "start_time": "2021-05-08T07:41:20.675Z"
    }
   },
   "outputs": [],
   "source": [
    "# test에 대한 성능\n",
    "y_pred = grid_XGBR.predict(X_test_tf_idf)\n",
    "RMSE = mean_squared_error(y_test, y_pred)**0.5\n",
    "\n",
    "# RMSE 출력\n",
    "print(RMSE)\n",
    "\n",
    "# print best parameter after tuning\n",
    "print(grid_XGBR.best_params_)\n",
    "  \n",
    "# print how our model looks after hyper-parameter tuning\n",
    "print(grid_XGBR.best_estimator_)"
   ]
  },
  {
   "cell_type": "code",
   "execution_count": null,
   "metadata": {
    "ExecuteTime": {
     "end_time": "2021-05-08T07:52:38.059752Z",
     "start_time": "2021-05-08T07:41:20.676Z"
    }
   },
   "outputs": [],
   "source": [
    "del param_grid, grid_XGBR, RMSE, y_pred"
   ]
  }
 ],
 "metadata": {
  "hide_input": false,
  "kernelspec": {
   "display_name": "Python 3",
   "language": "python",
   "name": "python3"
  },
  "language_info": {
   "codemirror_mode": {
    "name": "ipython",
    "version": 3
   },
   "file_extension": ".py",
   "mimetype": "text/x-python",
   "name": "python",
   "nbconvert_exporter": "python",
   "pygments_lexer": "ipython3",
   "version": "3.8.5"
  },
  "toc": {
   "base_numbering": 1,
   "nav_menu": {},
   "number_sections": true,
   "sideBar": true,
   "skip_h1_title": false,
   "title_cell": "Table of Contents",
   "title_sidebar": "Contents",
   "toc_cell": false,
   "toc_position": {
    "height": "calc(100% - 180px)",
    "left": "10px",
    "top": "150px",
    "width": "473.273px"
   },
   "toc_section_display": true,
   "toc_window_display": false
  },
  "varInspector": {
   "cols": {
    "lenName": 16,
    "lenType": 16,
    "lenVar": 40
   },
   "kernels_config": {
    "python": {
     "delete_cmd_postfix": "",
     "delete_cmd_prefix": "del ",
     "library": "var_list.py",
     "varRefreshCmd": "print(var_dic_list())"
    },
    "r": {
     "delete_cmd_postfix": ") ",
     "delete_cmd_prefix": "rm(",
     "library": "var_list.r",
     "varRefreshCmd": "cat(var_dic_list()) "
    }
   },
   "types_to_exclude": [
    "module",
    "function",
    "builtin_function_or_method",
    "instance",
    "_Feature"
   ],
   "window_display": false
  }
 },
 "nbformat": 4,
 "nbformat_minor": 5
}
