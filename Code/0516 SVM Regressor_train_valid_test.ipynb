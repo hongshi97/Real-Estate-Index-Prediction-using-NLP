{
 "cells": [
  {
   "cell_type": "code",
   "execution_count": 29,
   "metadata": {
    "ExecuteTime": {
     "end_time": "2021-05-16T03:30:15.441080Z",
     "start_time": "2021-05-16T03:30:15.428115Z"
    }
   },
   "outputs": [],
   "source": [
    "from sklearn.svm import SVR\n",
    "from sklearn.ensemble import RandomForestRegressor\n",
    "from sklearn.preprocessing import StandardScaler\n",
    "import pandas as pd\n",
    "import numpy as np\n",
    "from sklearn.metrics import mean_squared_error\n",
    "from sklearn.model_selection import train_test_split\n",
    "from sklearn.model_selection import PredefinedSplit"
   ]
  },
  {
   "cell_type": "markdown",
   "metadata": {},
   "source": [
    "# 데이터 불러오기"
   ]
  },
  {
   "cell_type": "code",
   "execution_count": 2,
   "metadata": {
    "ExecuteTime": {
     "end_time": "2021-05-16T03:16:58.270514Z",
     "start_time": "2021-05-16T03:16:58.261505Z"
    },
    "code_folding": []
   },
   "outputs": [],
   "source": [
    "df = pd.read_csv('0507 df_for_holdout.csv')"
   ]
  },
  {
   "cell_type": "code",
   "execution_count": 3,
   "metadata": {
    "ExecuteTime": {
     "end_time": "2021-05-16T03:16:58.550444Z",
     "start_time": "2021-05-16T03:16:58.537449Z"
    }
   },
   "outputs": [],
   "source": [
    "df.set_index('Date',inplace = True)"
   ]
  },
  {
   "cell_type": "code",
   "execution_count": 4,
   "metadata": {
    "ExecuteTime": {
     "end_time": "2021-05-16T03:16:58.814803Z",
     "start_time": "2021-05-16T03:16:58.776904Z"
    }
   },
   "outputs": [
    {
     "data": {
      "text/html": [
       "<div>\n",
       "<style scoped>\n",
       "    .dataframe tbody tr th:only-of-type {\n",
       "        vertical-align: middle;\n",
       "    }\n",
       "\n",
       "    .dataframe tbody tr th {\n",
       "        vertical-align: top;\n",
       "    }\n",
       "\n",
       "    .dataframe thead th {\n",
       "        text-align: right;\n",
       "    }\n",
       "</style>\n",
       "<table border=\"1\" class=\"dataframe\">\n",
       "  <thead>\n",
       "    <tr style=\"text-align: right;\">\n",
       "      <th></th>\n",
       "      <th>시언감성점수</th>\n",
       "      <th>M2</th>\n",
       "      <th>comp basemoney rate</th>\n",
       "      <th>base rate</th>\n",
       "      <th>consumer price index</th>\n",
       "      <th>kospi close</th>\n",
       "      <th>ex-rate close</th>\n",
       "      <th>효준감성점수</th>\n",
       "      <th>시언서술포함감성점수</th>\n",
       "      <th>주택</th>\n",
       "      <th>아파트</th>\n",
       "      <th>분양</th>\n",
       "      <th>서울</th>\n",
       "      <th>가구</th>\n",
       "      <th>부동산</th>\n",
       "      <th>단지</th>\n",
       "      <th>시장</th>\n",
       "      <th>next_spi</th>\n",
       "    </tr>\n",
       "    <tr>\n",
       "      <th>Date</th>\n",
       "      <th></th>\n",
       "      <th></th>\n",
       "      <th></th>\n",
       "      <th></th>\n",
       "      <th></th>\n",
       "      <th></th>\n",
       "      <th></th>\n",
       "      <th></th>\n",
       "      <th></th>\n",
       "      <th></th>\n",
       "      <th></th>\n",
       "      <th></th>\n",
       "      <th></th>\n",
       "      <th></th>\n",
       "      <th></th>\n",
       "      <th></th>\n",
       "      <th></th>\n",
       "      <th></th>\n",
       "    </tr>\n",
       "  </thead>\n",
       "  <tbody>\n",
       "    <tr>\n",
       "      <th>201101월</th>\n",
       "      <td>-6.268386e+07</td>\n",
       "      <td>1676.4</td>\n",
       "      <td>4.52</td>\n",
       "      <td>2.75</td>\n",
       "      <td>3.4</td>\n",
       "      <td>2069.73</td>\n",
       "      <td>1119.25</td>\n",
       "      <td>1856.746125</td>\n",
       "      <td>-1.635618e+08</td>\n",
       "      <td>1160</td>\n",
       "      <td>1094</td>\n",
       "      <td>666</td>\n",
       "      <td>729</td>\n",
       "      <td>1180</td>\n",
       "      <td>685</td>\n",
       "      <td>461</td>\n",
       "      <td>459</td>\n",
       "      <td>82.5</td>\n",
       "    </tr>\n",
       "    <tr>\n",
       "      <th>201102월</th>\n",
       "      <td>-6.255832e+07</td>\n",
       "      <td>1674.4</td>\n",
       "      <td>4.72</td>\n",
       "      <td>2.75</td>\n",
       "      <td>3.9</td>\n",
       "      <td>1939.30</td>\n",
       "      <td>1124.65</td>\n",
       "      <td>2046.702906</td>\n",
       "      <td>-1.777621e+08</td>\n",
       "      <td>1160</td>\n",
       "      <td>1101</td>\n",
       "      <td>639</td>\n",
       "      <td>652</td>\n",
       "      <td>1265</td>\n",
       "      <td>669</td>\n",
       "      <td>383</td>\n",
       "      <td>496</td>\n",
       "      <td>83.4</td>\n",
       "    </tr>\n",
       "    <tr>\n",
       "      <th>201103월</th>\n",
       "      <td>-6.957441e+07</td>\n",
       "      <td>1677.5</td>\n",
       "      <td>4.54</td>\n",
       "      <td>3.00</td>\n",
       "      <td>4.1</td>\n",
       "      <td>2106.70</td>\n",
       "      <td>1095.50</td>\n",
       "      <td>1715.795289</td>\n",
       "      <td>-1.980306e+08</td>\n",
       "      <td>1341</td>\n",
       "      <td>1102</td>\n",
       "      <td>1014</td>\n",
       "      <td>607</td>\n",
       "      <td>961</td>\n",
       "      <td>659</td>\n",
       "      <td>576</td>\n",
       "      <td>578</td>\n",
       "      <td>83.9</td>\n",
       "    </tr>\n",
       "    <tr>\n",
       "      <th>201104월</th>\n",
       "      <td>-7.305733e+07</td>\n",
       "      <td>1684.8</td>\n",
       "      <td>4.54</td>\n",
       "      <td>3.00</td>\n",
       "      <td>3.8</td>\n",
       "      <td>2192.36</td>\n",
       "      <td>1068.00</td>\n",
       "      <td>1635.262791</td>\n",
       "      <td>-1.898849e+08</td>\n",
       "      <td>1405</td>\n",
       "      <td>1186</td>\n",
       "      <td>977</td>\n",
       "      <td>658</td>\n",
       "      <td>1031</td>\n",
       "      <td>720</td>\n",
       "      <td>534</td>\n",
       "      <td>577</td>\n",
       "      <td>84.1</td>\n",
       "    </tr>\n",
       "    <tr>\n",
       "      <th>201105월</th>\n",
       "      <td>-9.356633e+07</td>\n",
       "      <td>1690.5</td>\n",
       "      <td>4.44</td>\n",
       "      <td>3.00</td>\n",
       "      <td>3.9</td>\n",
       "      <td>2142.47</td>\n",
       "      <td>1078.00</td>\n",
       "      <td>1922.518709</td>\n",
       "      <td>-2.402702e+08</td>\n",
       "      <td>1537</td>\n",
       "      <td>1543</td>\n",
       "      <td>1267</td>\n",
       "      <td>854</td>\n",
       "      <td>1245</td>\n",
       "      <td>1013</td>\n",
       "      <td>770</td>\n",
       "      <td>756</td>\n",
       "      <td>84.4</td>\n",
       "    </tr>\n",
       "  </tbody>\n",
       "</table>\n",
       "</div>"
      ],
      "text/plain": [
       "               시언감성점수      M2  comp basemoney rate  base rate  \\\n",
       "Date                                                            \n",
       "201101월 -6.268386e+07  1676.4                 4.52       2.75   \n",
       "201102월 -6.255832e+07  1674.4                 4.72       2.75   \n",
       "201103월 -6.957441e+07  1677.5                 4.54       3.00   \n",
       "201104월 -7.305733e+07  1684.8                 4.54       3.00   \n",
       "201105월 -9.356633e+07  1690.5                 4.44       3.00   \n",
       "\n",
       "         consumer price index  kospi close  ex-rate close       효준감성점수  \\\n",
       "Date                                                                     \n",
       "201101월                   3.4      2069.73        1119.25  1856.746125   \n",
       "201102월                   3.9      1939.30        1124.65  2046.702906   \n",
       "201103월                   4.1      2106.70        1095.50  1715.795289   \n",
       "201104월                   3.8      2192.36        1068.00  1635.262791   \n",
       "201105월                   3.9      2142.47        1078.00  1922.518709   \n",
       "\n",
       "           시언서술포함감성점수    주택   아파트    분양   서울    가구   부동산   단지   시장  next_spi  \n",
       "Date                                                                          \n",
       "201101월 -1.635618e+08  1160  1094   666  729  1180   685  461  459      82.5  \n",
       "201102월 -1.777621e+08  1160  1101   639  652  1265   669  383  496      83.4  \n",
       "201103월 -1.980306e+08  1341  1102  1014  607   961   659  576  578      83.9  \n",
       "201104월 -1.898849e+08  1405  1186   977  658  1031   720  534  577      84.1  \n",
       "201105월 -2.402702e+08  1537  1543  1267  854  1245  1013  770  756      84.4  "
      ]
     },
     "execution_count": 4,
     "metadata": {},
     "output_type": "execute_result"
    }
   ],
   "source": [
    "df.head()"
   ]
  },
  {
   "cell_type": "markdown",
   "metadata": {},
   "source": [
    "# Train/Test Set 분할"
   ]
  },
  {
   "cell_type": "code",
   "execution_count": 5,
   "metadata": {
    "ExecuteTime": {
     "end_time": "2021-05-16T03:17:00.165823Z",
     "start_time": "2021-05-16T03:17:00.148866Z"
    }
   },
   "outputs": [],
   "source": [
    "X = df.iloc[:,:-1]\n",
    "y = df['next_spi'].to_list()"
   ]
  },
  {
   "cell_type": "code",
   "execution_count": 6,
   "metadata": {
    "ExecuteTime": {
     "end_time": "2021-05-16T03:17:00.493389Z",
     "start_time": "2021-05-16T03:17:00.466447Z"
    }
   },
   "outputs": [
    {
     "data": {
      "text/html": [
       "<div>\n",
       "<style scoped>\n",
       "    .dataframe tbody tr th:only-of-type {\n",
       "        vertical-align: middle;\n",
       "    }\n",
       "\n",
       "    .dataframe tbody tr th {\n",
       "        vertical-align: top;\n",
       "    }\n",
       "\n",
       "    .dataframe thead th {\n",
       "        text-align: right;\n",
       "    }\n",
       "</style>\n",
       "<table border=\"1\" class=\"dataframe\">\n",
       "  <thead>\n",
       "    <tr style=\"text-align: right;\">\n",
       "      <th></th>\n",
       "      <th>시언감성점수</th>\n",
       "      <th>M2</th>\n",
       "      <th>comp basemoney rate</th>\n",
       "      <th>base rate</th>\n",
       "      <th>consumer price index</th>\n",
       "      <th>kospi close</th>\n",
       "      <th>ex-rate close</th>\n",
       "      <th>효준감성점수</th>\n",
       "      <th>시언서술포함감성점수</th>\n",
       "      <th>주택</th>\n",
       "      <th>아파트</th>\n",
       "      <th>분양</th>\n",
       "      <th>서울</th>\n",
       "      <th>가구</th>\n",
       "      <th>부동산</th>\n",
       "      <th>단지</th>\n",
       "      <th>시장</th>\n",
       "    </tr>\n",
       "    <tr>\n",
       "      <th>Date</th>\n",
       "      <th></th>\n",
       "      <th></th>\n",
       "      <th></th>\n",
       "      <th></th>\n",
       "      <th></th>\n",
       "      <th></th>\n",
       "      <th></th>\n",
       "      <th></th>\n",
       "      <th></th>\n",
       "      <th></th>\n",
       "      <th></th>\n",
       "      <th></th>\n",
       "      <th></th>\n",
       "      <th></th>\n",
       "      <th></th>\n",
       "      <th></th>\n",
       "      <th></th>\n",
       "    </tr>\n",
       "  </thead>\n",
       "  <tbody>\n",
       "    <tr>\n",
       "      <th>201101월</th>\n",
       "      <td>-6.268386e+07</td>\n",
       "      <td>1676.4</td>\n",
       "      <td>4.52</td>\n",
       "      <td>2.75</td>\n",
       "      <td>3.4</td>\n",
       "      <td>2069.73</td>\n",
       "      <td>1119.25</td>\n",
       "      <td>1856.746125</td>\n",
       "      <td>-1.635618e+08</td>\n",
       "      <td>1160</td>\n",
       "      <td>1094</td>\n",
       "      <td>666</td>\n",
       "      <td>729</td>\n",
       "      <td>1180</td>\n",
       "      <td>685</td>\n",
       "      <td>461</td>\n",
       "      <td>459</td>\n",
       "    </tr>\n",
       "    <tr>\n",
       "      <th>201102월</th>\n",
       "      <td>-6.255832e+07</td>\n",
       "      <td>1674.4</td>\n",
       "      <td>4.72</td>\n",
       "      <td>2.75</td>\n",
       "      <td>3.9</td>\n",
       "      <td>1939.30</td>\n",
       "      <td>1124.65</td>\n",
       "      <td>2046.702906</td>\n",
       "      <td>-1.777621e+08</td>\n",
       "      <td>1160</td>\n",
       "      <td>1101</td>\n",
       "      <td>639</td>\n",
       "      <td>652</td>\n",
       "      <td>1265</td>\n",
       "      <td>669</td>\n",
       "      <td>383</td>\n",
       "      <td>496</td>\n",
       "    </tr>\n",
       "    <tr>\n",
       "      <th>201103월</th>\n",
       "      <td>-6.957441e+07</td>\n",
       "      <td>1677.5</td>\n",
       "      <td>4.54</td>\n",
       "      <td>3.00</td>\n",
       "      <td>4.1</td>\n",
       "      <td>2106.70</td>\n",
       "      <td>1095.50</td>\n",
       "      <td>1715.795289</td>\n",
       "      <td>-1.980306e+08</td>\n",
       "      <td>1341</td>\n",
       "      <td>1102</td>\n",
       "      <td>1014</td>\n",
       "      <td>607</td>\n",
       "      <td>961</td>\n",
       "      <td>659</td>\n",
       "      <td>576</td>\n",
       "      <td>578</td>\n",
       "    </tr>\n",
       "    <tr>\n",
       "      <th>201104월</th>\n",
       "      <td>-7.305733e+07</td>\n",
       "      <td>1684.8</td>\n",
       "      <td>4.54</td>\n",
       "      <td>3.00</td>\n",
       "      <td>3.8</td>\n",
       "      <td>2192.36</td>\n",
       "      <td>1068.00</td>\n",
       "      <td>1635.262791</td>\n",
       "      <td>-1.898849e+08</td>\n",
       "      <td>1405</td>\n",
       "      <td>1186</td>\n",
       "      <td>977</td>\n",
       "      <td>658</td>\n",
       "      <td>1031</td>\n",
       "      <td>720</td>\n",
       "      <td>534</td>\n",
       "      <td>577</td>\n",
       "    </tr>\n",
       "    <tr>\n",
       "      <th>201105월</th>\n",
       "      <td>-9.356633e+07</td>\n",
       "      <td>1690.5</td>\n",
       "      <td>4.44</td>\n",
       "      <td>3.00</td>\n",
       "      <td>3.9</td>\n",
       "      <td>2142.47</td>\n",
       "      <td>1078.00</td>\n",
       "      <td>1922.518709</td>\n",
       "      <td>-2.402702e+08</td>\n",
       "      <td>1537</td>\n",
       "      <td>1543</td>\n",
       "      <td>1267</td>\n",
       "      <td>854</td>\n",
       "      <td>1245</td>\n",
       "      <td>1013</td>\n",
       "      <td>770</td>\n",
       "      <td>756</td>\n",
       "    </tr>\n",
       "  </tbody>\n",
       "</table>\n",
       "</div>"
      ],
      "text/plain": [
       "               시언감성점수      M2  comp basemoney rate  base rate  \\\n",
       "Date                                                            \n",
       "201101월 -6.268386e+07  1676.4                 4.52       2.75   \n",
       "201102월 -6.255832e+07  1674.4                 4.72       2.75   \n",
       "201103월 -6.957441e+07  1677.5                 4.54       3.00   \n",
       "201104월 -7.305733e+07  1684.8                 4.54       3.00   \n",
       "201105월 -9.356633e+07  1690.5                 4.44       3.00   \n",
       "\n",
       "         consumer price index  kospi close  ex-rate close       효준감성점수  \\\n",
       "Date                                                                     \n",
       "201101월                   3.4      2069.73        1119.25  1856.746125   \n",
       "201102월                   3.9      1939.30        1124.65  2046.702906   \n",
       "201103월                   4.1      2106.70        1095.50  1715.795289   \n",
       "201104월                   3.8      2192.36        1068.00  1635.262791   \n",
       "201105월                   3.9      2142.47        1078.00  1922.518709   \n",
       "\n",
       "           시언서술포함감성점수    주택   아파트    분양   서울    가구   부동산   단지   시장  \n",
       "Date                                                                \n",
       "201101월 -1.635618e+08  1160  1094   666  729  1180   685  461  459  \n",
       "201102월 -1.777621e+08  1160  1101   639  652  1265   669  383  496  \n",
       "201103월 -1.980306e+08  1341  1102  1014  607   961   659  576  578  \n",
       "201104월 -1.898849e+08  1405  1186   977  658  1031   720  534  577  \n",
       "201105월 -2.402702e+08  1537  1543  1267  854  1245  1013  770  756  "
      ]
     },
     "execution_count": 6,
     "metadata": {},
     "output_type": "execute_result"
    }
   ],
   "source": [
    "X.head()"
   ]
  },
  {
   "cell_type": "code",
   "execution_count": 7,
   "metadata": {
    "ExecuteTime": {
     "end_time": "2021-05-16T03:17:03.269530Z",
     "start_time": "2021-05-16T03:17:03.255538Z"
    }
   },
   "outputs": [],
   "source": [
    "# Holdout으로 Train/Test 분할\n",
    "X_train_temp = X.iloc[:90]\n",
    "y_train_temp = y[:90]\n",
    "X_test = X.iloc[90:]\n",
    "y_test = y[90:]"
   ]
  },
  {
   "cell_type": "code",
   "execution_count": 8,
   "metadata": {
    "ExecuteTime": {
     "end_time": "2021-05-16T03:17:03.959419Z",
     "start_time": "2021-05-16T03:17:03.950413Z"
    }
   },
   "outputs": [],
   "source": [
    "X_train, X_valid, y_train, y_valid = train_test_split(X_train_temp, y_train_temp, test_size = 0.25, random_state = 0)"
   ]
  },
  {
   "cell_type": "code",
   "execution_count": 9,
   "metadata": {
    "ExecuteTime": {
     "end_time": "2021-05-16T03:17:04.732207Z",
     "start_time": "2021-05-16T03:17:04.716262Z"
    }
   },
   "outputs": [
    {
     "data": {
      "text/plain": [
       "Index(['시언감성점수', 'M2', 'comp basemoney rate', 'base rate',\n",
       "       'consumer price index', 'kospi close', 'ex-rate close', '효준감성점수',\n",
       "       '시언서술포함감성점수', '주택', '아파트', '분양', '서울', '가구', '부동산', '단지', '시장'],\n",
       "      dtype='object')"
      ]
     },
     "execution_count": 9,
     "metadata": {},
     "output_type": "execute_result"
    }
   ],
   "source": [
    "X_train.columns"
   ]
  },
  {
   "cell_type": "code",
   "execution_count": 10,
   "metadata": {
    "ExecuteTime": {
     "end_time": "2021-05-16T03:17:16.315350Z",
     "start_time": "2021-05-16T03:17:16.305379Z"
    }
   },
   "outputs": [
    {
     "data": {
      "text/plain": [
       "((67, 17), (23, 17), (30, 17))"
      ]
     },
     "execution_count": 10,
     "metadata": {},
     "output_type": "execute_result"
    }
   ],
   "source": [
    "X_train.shape, X_valid.shape, X_test.shape"
   ]
  },
  {
   "cell_type": "markdown",
   "metadata": {
    "ExecuteTime": {
     "end_time": "2021-05-07T14:33:41.851460Z",
     "start_time": "2021-05-07T14:33:41.839467Z"
    }
   },
   "source": [
    "tf_idf_words = ['주택', '아파트', '분양', '서울', '가구', '부동산', '단지', '시장']"
   ]
  },
  {
   "cell_type": "markdown",
   "metadata": {},
   "source": [
    "# 거시경제변수만 포함된 Case"
   ]
  },
  {
   "cell_type": "code",
   "execution_count": 11,
   "metadata": {
    "ExecuteTime": {
     "end_time": "2021-05-16T03:17:29.472670Z",
     "start_time": "2021-05-16T03:17:29.466685Z"
    }
   },
   "outputs": [],
   "source": [
    "# 거시경제변수만 포함된 X 만들기\n",
    "X_train_basic = X_train.drop(['시언감성점수','효준감성점수','시언서술포함감성점수','주택', '아파트', '분양', '서울', '가구', '부동산', '단지', '시장'], axis = 1)\n",
    "X_valid_basic = X_valid.drop(['시언감성점수','효준감성점수','시언서술포함감성점수','주택', '아파트', '분양', '서울', '가구', '부동산', '단지', '시장'], axis = 1)\n",
    "X_test_basic = X_test.drop(['시언감성점수','효준감성점수','시언서술포함감성점수','주택', '아파트', '분양', '서울', '가구', '부동산', '단지', '시장'], axis = 1)"
   ]
  },
  {
   "cell_type": "code",
   "execution_count": 12,
   "metadata": {
    "ExecuteTime": {
     "end_time": "2021-05-16T03:17:29.882629Z",
     "start_time": "2021-05-16T03:17:29.872630Z"
    }
   },
   "outputs": [],
   "source": [
    "# SVM 인풋 데이터 스케일링\n",
    "sc = StandardScaler()\n",
    "X_train_basic_svm = sc.fit_transform(X_train_basic)\n",
    "X_valid_basic_svm = sc.fit_transform(X_valid_basic)\n",
    "X_test_basic_svm = sc.transform(X_test_basic)"
   ]
  },
  {
   "cell_type": "code",
   "execution_count": 30,
   "metadata": {
    "ExecuteTime": {
     "end_time": "2021-05-16T03:30:20.210516Z",
     "start_time": "2021-05-16T03:30:20.197550Z"
    }
   },
   "outputs": [],
   "source": [
    "ind = []\n",
    "for i in range(len(X_train)):\n",
    "    ind.append(-1)\n",
    "for i in range(len(X_valid)):\n",
    "    ind.append(0)\n",
    "    \n",
    "ps = PredefinedSplit(test_fold = np.array(ind))"
   ]
  },
  {
   "cell_type": "code",
   "execution_count": 31,
   "metadata": {
    "ExecuteTime": {
     "end_time": "2021-05-16T03:30:21.437460Z",
     "start_time": "2021-05-16T03:30:21.367616Z"
    }
   },
   "outputs": [
    {
     "ename": "IndexError",
     "evalue": "index 67 is out of bounds for axis 0 with size 67",
     "output_type": "error",
     "traceback": [
      "\u001b[1;31m---------------------------------------------------------------------------\u001b[0m",
      "\u001b[1;31mIndexError\u001b[0m                                Traceback (most recent call last)",
      "\u001b[1;32m<ipython-input-31-64c8ed158cc6>\u001b[0m in \u001b[0;36m<module>\u001b[1;34m\u001b[0m\n\u001b[0;32m      9\u001b[0m \u001b[1;33m\u001b[0m\u001b[0m\n\u001b[0;32m     10\u001b[0m \u001b[1;31m# fitting the model for grid search\u001b[0m\u001b[1;33m\u001b[0m\u001b[1;33m\u001b[0m\u001b[1;33m\u001b[0m\u001b[0m\n\u001b[1;32m---> 11\u001b[1;33m \u001b[0mgrid_svm\u001b[0m\u001b[1;33m.\u001b[0m\u001b[0mfit\u001b[0m\u001b[1;33m(\u001b[0m\u001b[0mX_train_basic_svm\u001b[0m\u001b[1;33m,\u001b[0m \u001b[0my_train\u001b[0m\u001b[1;33m)\u001b[0m\u001b[1;33m\u001b[0m\u001b[1;33m\u001b[0m\u001b[0m\n\u001b[0m",
      "\u001b[1;32m~\\Anaconda3\\lib\\site-packages\\sklearn\\utils\\validation.py\u001b[0m in \u001b[0;36minner_f\u001b[1;34m(*args, **kwargs)\u001b[0m\n\u001b[0;32m     70\u001b[0m                           FutureWarning)\n\u001b[0;32m     71\u001b[0m         \u001b[0mkwargs\u001b[0m\u001b[1;33m.\u001b[0m\u001b[0mupdate\u001b[0m\u001b[1;33m(\u001b[0m\u001b[1;33m{\u001b[0m\u001b[0mk\u001b[0m\u001b[1;33m:\u001b[0m \u001b[0marg\u001b[0m \u001b[1;32mfor\u001b[0m \u001b[0mk\u001b[0m\u001b[1;33m,\u001b[0m \u001b[0marg\u001b[0m \u001b[1;32min\u001b[0m \u001b[0mzip\u001b[0m\u001b[1;33m(\u001b[0m\u001b[0msig\u001b[0m\u001b[1;33m.\u001b[0m\u001b[0mparameters\u001b[0m\u001b[1;33m,\u001b[0m \u001b[0margs\u001b[0m\u001b[1;33m)\u001b[0m\u001b[1;33m}\u001b[0m\u001b[1;33m)\u001b[0m\u001b[1;33m\u001b[0m\u001b[1;33m\u001b[0m\u001b[0m\n\u001b[1;32m---> 72\u001b[1;33m         \u001b[1;32mreturn\u001b[0m \u001b[0mf\u001b[0m\u001b[1;33m(\u001b[0m\u001b[1;33m**\u001b[0m\u001b[0mkwargs\u001b[0m\u001b[1;33m)\u001b[0m\u001b[1;33m\u001b[0m\u001b[1;33m\u001b[0m\u001b[0m\n\u001b[0m\u001b[0;32m     73\u001b[0m     \u001b[1;32mreturn\u001b[0m \u001b[0minner_f\u001b[0m\u001b[1;33m\u001b[0m\u001b[1;33m\u001b[0m\u001b[0m\n\u001b[0;32m     74\u001b[0m \u001b[1;33m\u001b[0m\u001b[0m\n",
      "\u001b[1;32m~\\Anaconda3\\lib\\site-packages\\sklearn\\model_selection\\_search.py\u001b[0m in \u001b[0;36mfit\u001b[1;34m(self, X, y, groups, **fit_params)\u001b[0m\n\u001b[0;32m    734\u001b[0m                 \u001b[1;32mreturn\u001b[0m \u001b[0mresults\u001b[0m\u001b[1;33m\u001b[0m\u001b[1;33m\u001b[0m\u001b[0m\n\u001b[0;32m    735\u001b[0m \u001b[1;33m\u001b[0m\u001b[0m\n\u001b[1;32m--> 736\u001b[1;33m             \u001b[0mself\u001b[0m\u001b[1;33m.\u001b[0m\u001b[0m_run_search\u001b[0m\u001b[1;33m(\u001b[0m\u001b[0mevaluate_candidates\u001b[0m\u001b[1;33m)\u001b[0m\u001b[1;33m\u001b[0m\u001b[1;33m\u001b[0m\u001b[0m\n\u001b[0m\u001b[0;32m    737\u001b[0m \u001b[1;33m\u001b[0m\u001b[0m\n\u001b[0;32m    738\u001b[0m         \u001b[1;31m# For multi-metric evaluation, store the best_index_, best_params_ and\u001b[0m\u001b[1;33m\u001b[0m\u001b[1;33m\u001b[0m\u001b[1;33m\u001b[0m\u001b[0m\n",
      "\u001b[1;32m~\\Anaconda3\\lib\\site-packages\\sklearn\\model_selection\\_search.py\u001b[0m in \u001b[0;36m_run_search\u001b[1;34m(self, evaluate_candidates)\u001b[0m\n\u001b[0;32m   1186\u001b[0m     \u001b[1;32mdef\u001b[0m \u001b[0m_run_search\u001b[0m\u001b[1;33m(\u001b[0m\u001b[0mself\u001b[0m\u001b[1;33m,\u001b[0m \u001b[0mevaluate_candidates\u001b[0m\u001b[1;33m)\u001b[0m\u001b[1;33m:\u001b[0m\u001b[1;33m\u001b[0m\u001b[1;33m\u001b[0m\u001b[0m\n\u001b[0;32m   1187\u001b[0m         \u001b[1;34m\"\"\"Search all candidates in param_grid\"\"\"\u001b[0m\u001b[1;33m\u001b[0m\u001b[1;33m\u001b[0m\u001b[0m\n\u001b[1;32m-> 1188\u001b[1;33m         \u001b[0mevaluate_candidates\u001b[0m\u001b[1;33m(\u001b[0m\u001b[0mParameterGrid\u001b[0m\u001b[1;33m(\u001b[0m\u001b[0mself\u001b[0m\u001b[1;33m.\u001b[0m\u001b[0mparam_grid\u001b[0m\u001b[1;33m)\u001b[0m\u001b[1;33m)\u001b[0m\u001b[1;33m\u001b[0m\u001b[1;33m\u001b[0m\u001b[0m\n\u001b[0m\u001b[0;32m   1189\u001b[0m \u001b[1;33m\u001b[0m\u001b[0m\n\u001b[0;32m   1190\u001b[0m \u001b[1;33m\u001b[0m\u001b[0m\n",
      "\u001b[1;32m~\\Anaconda3\\lib\\site-packages\\sklearn\\model_selection\\_search.py\u001b[0m in \u001b[0;36mevaluate_candidates\u001b[1;34m(candidate_params)\u001b[0m\n\u001b[0;32m    706\u001b[0m                               n_splits, n_candidates, n_candidates * n_splits))\n\u001b[0;32m    707\u001b[0m \u001b[1;33m\u001b[0m\u001b[0m\n\u001b[1;32m--> 708\u001b[1;33m                 out = parallel(delayed(_fit_and_score)(clone(base_estimator),\n\u001b[0m\u001b[0;32m    709\u001b[0m                                                        \u001b[0mX\u001b[0m\u001b[1;33m,\u001b[0m \u001b[0my\u001b[0m\u001b[1;33m,\u001b[0m\u001b[1;33m\u001b[0m\u001b[1;33m\u001b[0m\u001b[0m\n\u001b[0;32m    710\u001b[0m                                                        \u001b[0mtrain\u001b[0m\u001b[1;33m=\u001b[0m\u001b[0mtrain\u001b[0m\u001b[1;33m,\u001b[0m \u001b[0mtest\u001b[0m\u001b[1;33m=\u001b[0m\u001b[0mtest\u001b[0m\u001b[1;33m,\u001b[0m\u001b[1;33m\u001b[0m\u001b[1;33m\u001b[0m\u001b[0m\n",
      "\u001b[1;32m~\\Anaconda3\\lib\\site-packages\\joblib\\parallel.py\u001b[0m in \u001b[0;36m__call__\u001b[1;34m(self, iterable)\u001b[0m\n\u001b[0;32m   1046\u001b[0m             \u001b[1;31m# remaining jobs.\u001b[0m\u001b[1;33m\u001b[0m\u001b[1;33m\u001b[0m\u001b[1;33m\u001b[0m\u001b[0m\n\u001b[0;32m   1047\u001b[0m             \u001b[0mself\u001b[0m\u001b[1;33m.\u001b[0m\u001b[0m_iterating\u001b[0m \u001b[1;33m=\u001b[0m \u001b[1;32mFalse\u001b[0m\u001b[1;33m\u001b[0m\u001b[1;33m\u001b[0m\u001b[0m\n\u001b[1;32m-> 1048\u001b[1;33m             \u001b[1;32mif\u001b[0m \u001b[0mself\u001b[0m\u001b[1;33m.\u001b[0m\u001b[0mdispatch_one_batch\u001b[0m\u001b[1;33m(\u001b[0m\u001b[0miterator\u001b[0m\u001b[1;33m)\u001b[0m\u001b[1;33m:\u001b[0m\u001b[1;33m\u001b[0m\u001b[1;33m\u001b[0m\u001b[0m\n\u001b[0m\u001b[0;32m   1049\u001b[0m                 \u001b[0mself\u001b[0m\u001b[1;33m.\u001b[0m\u001b[0m_iterating\u001b[0m \u001b[1;33m=\u001b[0m \u001b[0mself\u001b[0m\u001b[1;33m.\u001b[0m\u001b[0m_original_iterator\u001b[0m \u001b[1;32mis\u001b[0m \u001b[1;32mnot\u001b[0m \u001b[1;32mNone\u001b[0m\u001b[1;33m\u001b[0m\u001b[1;33m\u001b[0m\u001b[0m\n\u001b[0;32m   1050\u001b[0m \u001b[1;33m\u001b[0m\u001b[0m\n",
      "\u001b[1;32m~\\Anaconda3\\lib\\site-packages\\joblib\\parallel.py\u001b[0m in \u001b[0;36mdispatch_one_batch\u001b[1;34m(self, iterator)\u001b[0m\n\u001b[0;32m    864\u001b[0m                 \u001b[1;32mreturn\u001b[0m \u001b[1;32mFalse\u001b[0m\u001b[1;33m\u001b[0m\u001b[1;33m\u001b[0m\u001b[0m\n\u001b[0;32m    865\u001b[0m             \u001b[1;32melse\u001b[0m\u001b[1;33m:\u001b[0m\u001b[1;33m\u001b[0m\u001b[1;33m\u001b[0m\u001b[0m\n\u001b[1;32m--> 866\u001b[1;33m                 \u001b[0mself\u001b[0m\u001b[1;33m.\u001b[0m\u001b[0m_dispatch\u001b[0m\u001b[1;33m(\u001b[0m\u001b[0mtasks\u001b[0m\u001b[1;33m)\u001b[0m\u001b[1;33m\u001b[0m\u001b[1;33m\u001b[0m\u001b[0m\n\u001b[0m\u001b[0;32m    867\u001b[0m                 \u001b[1;32mreturn\u001b[0m \u001b[1;32mTrue\u001b[0m\u001b[1;33m\u001b[0m\u001b[1;33m\u001b[0m\u001b[0m\n\u001b[0;32m    868\u001b[0m \u001b[1;33m\u001b[0m\u001b[0m\n",
      "\u001b[1;32m~\\Anaconda3\\lib\\site-packages\\joblib\\parallel.py\u001b[0m in \u001b[0;36m_dispatch\u001b[1;34m(self, batch)\u001b[0m\n\u001b[0;32m    782\u001b[0m         \u001b[1;32mwith\u001b[0m \u001b[0mself\u001b[0m\u001b[1;33m.\u001b[0m\u001b[0m_lock\u001b[0m\u001b[1;33m:\u001b[0m\u001b[1;33m\u001b[0m\u001b[1;33m\u001b[0m\u001b[0m\n\u001b[0;32m    783\u001b[0m             \u001b[0mjob_idx\u001b[0m \u001b[1;33m=\u001b[0m \u001b[0mlen\u001b[0m\u001b[1;33m(\u001b[0m\u001b[0mself\u001b[0m\u001b[1;33m.\u001b[0m\u001b[0m_jobs\u001b[0m\u001b[1;33m)\u001b[0m\u001b[1;33m\u001b[0m\u001b[1;33m\u001b[0m\u001b[0m\n\u001b[1;32m--> 784\u001b[1;33m             \u001b[0mjob\u001b[0m \u001b[1;33m=\u001b[0m \u001b[0mself\u001b[0m\u001b[1;33m.\u001b[0m\u001b[0m_backend\u001b[0m\u001b[1;33m.\u001b[0m\u001b[0mapply_async\u001b[0m\u001b[1;33m(\u001b[0m\u001b[0mbatch\u001b[0m\u001b[1;33m,\u001b[0m \u001b[0mcallback\u001b[0m\u001b[1;33m=\u001b[0m\u001b[0mcb\u001b[0m\u001b[1;33m)\u001b[0m\u001b[1;33m\u001b[0m\u001b[1;33m\u001b[0m\u001b[0m\n\u001b[0m\u001b[0;32m    785\u001b[0m             \u001b[1;31m# A job can complete so quickly than its callback is\u001b[0m\u001b[1;33m\u001b[0m\u001b[1;33m\u001b[0m\u001b[1;33m\u001b[0m\u001b[0m\n\u001b[0;32m    786\u001b[0m             \u001b[1;31m# called before we get here, causing self._jobs to\u001b[0m\u001b[1;33m\u001b[0m\u001b[1;33m\u001b[0m\u001b[1;33m\u001b[0m\u001b[0m\n",
      "\u001b[1;32m~\\Anaconda3\\lib\\site-packages\\joblib\\_parallel_backends.py\u001b[0m in \u001b[0;36mapply_async\u001b[1;34m(self, func, callback)\u001b[0m\n\u001b[0;32m    206\u001b[0m     \u001b[1;32mdef\u001b[0m \u001b[0mapply_async\u001b[0m\u001b[1;33m(\u001b[0m\u001b[0mself\u001b[0m\u001b[1;33m,\u001b[0m \u001b[0mfunc\u001b[0m\u001b[1;33m,\u001b[0m \u001b[0mcallback\u001b[0m\u001b[1;33m=\u001b[0m\u001b[1;32mNone\u001b[0m\u001b[1;33m)\u001b[0m\u001b[1;33m:\u001b[0m\u001b[1;33m\u001b[0m\u001b[1;33m\u001b[0m\u001b[0m\n\u001b[0;32m    207\u001b[0m         \u001b[1;34m\"\"\"Schedule a func to be run\"\"\"\u001b[0m\u001b[1;33m\u001b[0m\u001b[1;33m\u001b[0m\u001b[0m\n\u001b[1;32m--> 208\u001b[1;33m         \u001b[0mresult\u001b[0m \u001b[1;33m=\u001b[0m \u001b[0mImmediateResult\u001b[0m\u001b[1;33m(\u001b[0m\u001b[0mfunc\u001b[0m\u001b[1;33m)\u001b[0m\u001b[1;33m\u001b[0m\u001b[1;33m\u001b[0m\u001b[0m\n\u001b[0m\u001b[0;32m    209\u001b[0m         \u001b[1;32mif\u001b[0m \u001b[0mcallback\u001b[0m\u001b[1;33m:\u001b[0m\u001b[1;33m\u001b[0m\u001b[1;33m\u001b[0m\u001b[0m\n\u001b[0;32m    210\u001b[0m             \u001b[0mcallback\u001b[0m\u001b[1;33m(\u001b[0m\u001b[0mresult\u001b[0m\u001b[1;33m)\u001b[0m\u001b[1;33m\u001b[0m\u001b[1;33m\u001b[0m\u001b[0m\n",
      "\u001b[1;32m~\\Anaconda3\\lib\\site-packages\\joblib\\_parallel_backends.py\u001b[0m in \u001b[0;36m__init__\u001b[1;34m(self, batch)\u001b[0m\n\u001b[0;32m    570\u001b[0m         \u001b[1;31m# Don't delay the application, to avoid keeping the input\u001b[0m\u001b[1;33m\u001b[0m\u001b[1;33m\u001b[0m\u001b[1;33m\u001b[0m\u001b[0m\n\u001b[0;32m    571\u001b[0m         \u001b[1;31m# arguments in memory\u001b[0m\u001b[1;33m\u001b[0m\u001b[1;33m\u001b[0m\u001b[1;33m\u001b[0m\u001b[0m\n\u001b[1;32m--> 572\u001b[1;33m         \u001b[0mself\u001b[0m\u001b[1;33m.\u001b[0m\u001b[0mresults\u001b[0m \u001b[1;33m=\u001b[0m \u001b[0mbatch\u001b[0m\u001b[1;33m(\u001b[0m\u001b[1;33m)\u001b[0m\u001b[1;33m\u001b[0m\u001b[1;33m\u001b[0m\u001b[0m\n\u001b[0m\u001b[0;32m    573\u001b[0m \u001b[1;33m\u001b[0m\u001b[0m\n\u001b[0;32m    574\u001b[0m     \u001b[1;32mdef\u001b[0m \u001b[0mget\u001b[0m\u001b[1;33m(\u001b[0m\u001b[0mself\u001b[0m\u001b[1;33m)\u001b[0m\u001b[1;33m:\u001b[0m\u001b[1;33m\u001b[0m\u001b[1;33m\u001b[0m\u001b[0m\n",
      "\u001b[1;32m~\\Anaconda3\\lib\\site-packages\\joblib\\parallel.py\u001b[0m in \u001b[0;36m__call__\u001b[1;34m(self)\u001b[0m\n\u001b[0;32m    260\u001b[0m         \u001b[1;31m# change the default number of processes to -1\u001b[0m\u001b[1;33m\u001b[0m\u001b[1;33m\u001b[0m\u001b[1;33m\u001b[0m\u001b[0m\n\u001b[0;32m    261\u001b[0m         \u001b[1;32mwith\u001b[0m \u001b[0mparallel_backend\u001b[0m\u001b[1;33m(\u001b[0m\u001b[0mself\u001b[0m\u001b[1;33m.\u001b[0m\u001b[0m_backend\u001b[0m\u001b[1;33m,\u001b[0m \u001b[0mn_jobs\u001b[0m\u001b[1;33m=\u001b[0m\u001b[0mself\u001b[0m\u001b[1;33m.\u001b[0m\u001b[0m_n_jobs\u001b[0m\u001b[1;33m)\u001b[0m\u001b[1;33m:\u001b[0m\u001b[1;33m\u001b[0m\u001b[1;33m\u001b[0m\u001b[0m\n\u001b[1;32m--> 262\u001b[1;33m             return [func(*args, **kwargs)\n\u001b[0m\u001b[0;32m    263\u001b[0m                     for func, args, kwargs in self.items]\n\u001b[0;32m    264\u001b[0m \u001b[1;33m\u001b[0m\u001b[0m\n",
      "\u001b[1;32m~\\Anaconda3\\lib\\site-packages\\joblib\\parallel.py\u001b[0m in \u001b[0;36m<listcomp>\u001b[1;34m(.0)\u001b[0m\n\u001b[0;32m    260\u001b[0m         \u001b[1;31m# change the default number of processes to -1\u001b[0m\u001b[1;33m\u001b[0m\u001b[1;33m\u001b[0m\u001b[1;33m\u001b[0m\u001b[0m\n\u001b[0;32m    261\u001b[0m         \u001b[1;32mwith\u001b[0m \u001b[0mparallel_backend\u001b[0m\u001b[1;33m(\u001b[0m\u001b[0mself\u001b[0m\u001b[1;33m.\u001b[0m\u001b[0m_backend\u001b[0m\u001b[1;33m,\u001b[0m \u001b[0mn_jobs\u001b[0m\u001b[1;33m=\u001b[0m\u001b[0mself\u001b[0m\u001b[1;33m.\u001b[0m\u001b[0m_n_jobs\u001b[0m\u001b[1;33m)\u001b[0m\u001b[1;33m:\u001b[0m\u001b[1;33m\u001b[0m\u001b[1;33m\u001b[0m\u001b[0m\n\u001b[1;32m--> 262\u001b[1;33m             return [func(*args, **kwargs)\n\u001b[0m\u001b[0;32m    263\u001b[0m                     for func, args, kwargs in self.items]\n\u001b[0;32m    264\u001b[0m \u001b[1;33m\u001b[0m\u001b[0m\n",
      "\u001b[1;32m~\\Anaconda3\\lib\\site-packages\\sklearn\\model_selection\\_validation.py\u001b[0m in \u001b[0;36m_fit_and_score\u001b[1;34m(estimator, X, y, scorer, train, test, verbose, parameters, fit_params, return_train_score, return_parameters, return_n_test_samples, return_times, return_estimator, error_score)\u001b[0m\n\u001b[0;32m    523\u001b[0m \u001b[1;33m\u001b[0m\u001b[0m\n\u001b[0;32m    524\u001b[0m     \u001b[0mX_train\u001b[0m\u001b[1;33m,\u001b[0m \u001b[0my_train\u001b[0m \u001b[1;33m=\u001b[0m \u001b[0m_safe_split\u001b[0m\u001b[1;33m(\u001b[0m\u001b[0mestimator\u001b[0m\u001b[1;33m,\u001b[0m \u001b[0mX\u001b[0m\u001b[1;33m,\u001b[0m \u001b[0my\u001b[0m\u001b[1;33m,\u001b[0m \u001b[0mtrain\u001b[0m\u001b[1;33m)\u001b[0m\u001b[1;33m\u001b[0m\u001b[1;33m\u001b[0m\u001b[0m\n\u001b[1;32m--> 525\u001b[1;33m     \u001b[0mX_test\u001b[0m\u001b[1;33m,\u001b[0m \u001b[0my_test\u001b[0m \u001b[1;33m=\u001b[0m \u001b[0m_safe_split\u001b[0m\u001b[1;33m(\u001b[0m\u001b[0mestimator\u001b[0m\u001b[1;33m,\u001b[0m \u001b[0mX\u001b[0m\u001b[1;33m,\u001b[0m \u001b[0my\u001b[0m\u001b[1;33m,\u001b[0m \u001b[0mtest\u001b[0m\u001b[1;33m,\u001b[0m \u001b[0mtrain\u001b[0m\u001b[1;33m)\u001b[0m\u001b[1;33m\u001b[0m\u001b[1;33m\u001b[0m\u001b[0m\n\u001b[0m\u001b[0;32m    526\u001b[0m \u001b[1;33m\u001b[0m\u001b[0m\n\u001b[0;32m    527\u001b[0m     \u001b[1;32mtry\u001b[0m\u001b[1;33m:\u001b[0m\u001b[1;33m\u001b[0m\u001b[1;33m\u001b[0m\u001b[0m\n",
      "\u001b[1;32m~\\Anaconda3\\lib\\site-packages\\sklearn\\utils\\metaestimators.py\u001b[0m in \u001b[0;36m_safe_split\u001b[1;34m(estimator, X, y, indices, train_indices)\u001b[0m\n\u001b[0;32m    202\u001b[0m             \u001b[0mX_subset\u001b[0m \u001b[1;33m=\u001b[0m \u001b[0mX\u001b[0m\u001b[1;33m[\u001b[0m\u001b[0mnp\u001b[0m\u001b[1;33m.\u001b[0m\u001b[0mix_\u001b[0m\u001b[1;33m(\u001b[0m\u001b[0mindices\u001b[0m\u001b[1;33m,\u001b[0m \u001b[0mtrain_indices\u001b[0m\u001b[1;33m)\u001b[0m\u001b[1;33m]\u001b[0m\u001b[1;33m\u001b[0m\u001b[1;33m\u001b[0m\u001b[0m\n\u001b[0;32m    203\u001b[0m     \u001b[1;32melse\u001b[0m\u001b[1;33m:\u001b[0m\u001b[1;33m\u001b[0m\u001b[1;33m\u001b[0m\u001b[0m\n\u001b[1;32m--> 204\u001b[1;33m         \u001b[0mX_subset\u001b[0m \u001b[1;33m=\u001b[0m \u001b[0m_safe_indexing\u001b[0m\u001b[1;33m(\u001b[0m\u001b[0mX\u001b[0m\u001b[1;33m,\u001b[0m \u001b[0mindices\u001b[0m\u001b[1;33m)\u001b[0m\u001b[1;33m\u001b[0m\u001b[1;33m\u001b[0m\u001b[0m\n\u001b[0m\u001b[0;32m    205\u001b[0m \u001b[1;33m\u001b[0m\u001b[0m\n\u001b[0;32m    206\u001b[0m     \u001b[1;32mif\u001b[0m \u001b[0my\u001b[0m \u001b[1;32mis\u001b[0m \u001b[1;32mnot\u001b[0m \u001b[1;32mNone\u001b[0m\u001b[1;33m:\u001b[0m\u001b[1;33m\u001b[0m\u001b[1;33m\u001b[0m\u001b[0m\n",
      "\u001b[1;32m~\\Anaconda3\\lib\\site-packages\\sklearn\\utils\\__init__.py\u001b[0m in \u001b[0;36m_safe_indexing\u001b[1;34m(X, indices, axis)\u001b[0m\n\u001b[0;32m    393\u001b[0m         \u001b[1;32mreturn\u001b[0m \u001b[0m_pandas_indexing\u001b[0m\u001b[1;33m(\u001b[0m\u001b[0mX\u001b[0m\u001b[1;33m,\u001b[0m \u001b[0mindices\u001b[0m\u001b[1;33m,\u001b[0m \u001b[0mindices_dtype\u001b[0m\u001b[1;33m,\u001b[0m \u001b[0maxis\u001b[0m\u001b[1;33m=\u001b[0m\u001b[0maxis\u001b[0m\u001b[1;33m)\u001b[0m\u001b[1;33m\u001b[0m\u001b[1;33m\u001b[0m\u001b[0m\n\u001b[0;32m    394\u001b[0m     \u001b[1;32melif\u001b[0m \u001b[0mhasattr\u001b[0m\u001b[1;33m(\u001b[0m\u001b[0mX\u001b[0m\u001b[1;33m,\u001b[0m \u001b[1;34m\"shape\"\u001b[0m\u001b[1;33m)\u001b[0m\u001b[1;33m:\u001b[0m\u001b[1;33m\u001b[0m\u001b[1;33m\u001b[0m\u001b[0m\n\u001b[1;32m--> 395\u001b[1;33m         \u001b[1;32mreturn\u001b[0m \u001b[0m_array_indexing\u001b[0m\u001b[1;33m(\u001b[0m\u001b[0mX\u001b[0m\u001b[1;33m,\u001b[0m \u001b[0mindices\u001b[0m\u001b[1;33m,\u001b[0m \u001b[0mindices_dtype\u001b[0m\u001b[1;33m,\u001b[0m \u001b[0maxis\u001b[0m\u001b[1;33m=\u001b[0m\u001b[0maxis\u001b[0m\u001b[1;33m)\u001b[0m\u001b[1;33m\u001b[0m\u001b[1;33m\u001b[0m\u001b[0m\n\u001b[0m\u001b[0;32m    396\u001b[0m     \u001b[1;32melse\u001b[0m\u001b[1;33m:\u001b[0m\u001b[1;33m\u001b[0m\u001b[1;33m\u001b[0m\u001b[0m\n\u001b[0;32m    397\u001b[0m         \u001b[1;32mreturn\u001b[0m \u001b[0m_list_indexing\u001b[0m\u001b[1;33m(\u001b[0m\u001b[0mX\u001b[0m\u001b[1;33m,\u001b[0m \u001b[0mindices\u001b[0m\u001b[1;33m,\u001b[0m \u001b[0mindices_dtype\u001b[0m\u001b[1;33m)\u001b[0m\u001b[1;33m\u001b[0m\u001b[1;33m\u001b[0m\u001b[0m\n",
      "\u001b[1;32m~\\Anaconda3\\lib\\site-packages\\sklearn\\utils\\__init__.py\u001b[0m in \u001b[0;36m_array_indexing\u001b[1;34m(array, key, key_dtype, axis)\u001b[0m\n\u001b[0;32m    179\u001b[0m     \u001b[1;32mif\u001b[0m \u001b[0misinstance\u001b[0m\u001b[1;33m(\u001b[0m\u001b[0mkey\u001b[0m\u001b[1;33m,\u001b[0m \u001b[0mtuple\u001b[0m\u001b[1;33m)\u001b[0m\u001b[1;33m:\u001b[0m\u001b[1;33m\u001b[0m\u001b[1;33m\u001b[0m\u001b[0m\n\u001b[0;32m    180\u001b[0m         \u001b[0mkey\u001b[0m \u001b[1;33m=\u001b[0m \u001b[0mlist\u001b[0m\u001b[1;33m(\u001b[0m\u001b[0mkey\u001b[0m\u001b[1;33m)\u001b[0m\u001b[1;33m\u001b[0m\u001b[1;33m\u001b[0m\u001b[0m\n\u001b[1;32m--> 181\u001b[1;33m     \u001b[1;32mreturn\u001b[0m \u001b[0marray\u001b[0m\u001b[1;33m[\u001b[0m\u001b[0mkey\u001b[0m\u001b[1;33m]\u001b[0m \u001b[1;32mif\u001b[0m \u001b[0maxis\u001b[0m \u001b[1;33m==\u001b[0m \u001b[1;36m0\u001b[0m \u001b[1;32melse\u001b[0m \u001b[0marray\u001b[0m\u001b[1;33m[\u001b[0m\u001b[1;33m:\u001b[0m\u001b[1;33m,\u001b[0m \u001b[0mkey\u001b[0m\u001b[1;33m]\u001b[0m\u001b[1;33m\u001b[0m\u001b[1;33m\u001b[0m\u001b[0m\n\u001b[0m\u001b[0;32m    182\u001b[0m \u001b[1;33m\u001b[0m\u001b[0m\n\u001b[0;32m    183\u001b[0m \u001b[1;33m\u001b[0m\u001b[0m\n",
      "\u001b[1;31mIndexError\u001b[0m: index 67 is out of bounds for axis 0 with size 67"
     ]
    }
   ],
   "source": [
    "from sklearn.model_selection import GridSearchCV\n",
    "\n",
    "# defining parameter range\n",
    "param_grid_svm = {'C': [0.1, 1, 10, 100, 1000], \n",
    "              'gamma': [1, 0.1, 0.01, 0.001, 0.0001],\n",
    "              'kernel': ['linear','poly','rbf','sigmoid']} \n",
    "  \n",
    "grid_svm = GridSearchCV(SVR(), param_grid_svm, refit = 'mse', verbose = 0, cv = ps)\n",
    "\n",
    "# fitting the model for grid search\n",
    "grid_svm.fit(X_train_basic_svm, y_train)"
   ]
  },
  {
   "cell_type": "code",
   "execution_count": null,
   "metadata": {
    "ExecuteTime": {
     "end_time": "2021-05-16T02:44:03.699065Z",
     "start_time": "2021-05-16T02:44:03.685569Z"
    }
   },
   "outputs": [],
   "source": [
    "# Valid에 대한 성능\n",
    "y_pred = grid_svm.predict(X_test_basic_svm)\n",
    "RMSE = mean_squared_error(y_test, y_pred)**0.5\n",
    "\n",
    "# RMSE 출력\n",
    "print(RMSE)\n",
    "\n",
    "# print best parameter after tuning\n",
    "print(grid_svm.best_params_)\n",
    "  \n",
    "# print how our model looks after hyper-parameter tuning\n",
    "print(grid_svm.best_estimator_)"
   ]
  },
  {
   "cell_type": "code",
   "execution_count": null,
   "metadata": {
    "ExecuteTime": {
     "end_time": "2021-05-16T02:44:04.090859Z",
     "start_time": "2021-05-16T02:44:04.077635Z"
    }
   },
   "outputs": [],
   "source": [
    "del param_grid_svm, grid_svm, RMSE, y_pred"
   ]
  },
  {
   "cell_type": "code",
   "execution_count": null,
   "metadata": {
    "ExecuteTime": {
     "end_time": "2021-05-16T02:44:05.133518Z",
     "start_time": "2021-05-16T02:44:04.407237Z"
    }
   },
   "outputs": [],
   "source": [
    "# Test에 대한 성능\n",
    "y_pred = grid_svm.predict(X_test_basic_svm)\n",
    "RMSE = mean_squared_error(y_test, y_pred)**0.5\n",
    "\n",
    "# RMSE 출력\n",
    "print(RMSE)\n",
    "\n",
    "# print best parameter after tuning\n",
    "print(grid_svm.best_params_)\n",
    "  \n",
    "# print how our model looks after hyper-parameter tuning\n",
    "print(grid_svm.best_estimator_)"
   ]
  },
  {
   "cell_type": "code",
   "execution_count": null,
   "metadata": {
    "ExecuteTime": {
     "end_time": "2021-05-16T02:44:05.139453Z",
     "start_time": "2021-05-16T02:41:26.674Z"
    }
   },
   "outputs": [],
   "source": [
    "del param_grid_svm, grid_svm, RMSE, y_pred"
   ]
  },
  {
   "cell_type": "markdown",
   "metadata": {},
   "source": [
    "# 시언 감성 점수 Case"
   ]
  },
  {
   "cell_type": "markdown",
   "metadata": {},
   "source": [
    "## 시언 감성 점수 데이터 전처리"
   ]
  },
  {
   "cell_type": "code",
   "execution_count": null,
   "metadata": {
    "ExecuteTime": {
     "end_time": "2021-05-07T14:50:24.470652Z",
     "start_time": "2021-05-07T14:50:24.456698Z"
    }
   },
   "outputs": [],
   "source": [
    "# 시언 감성 점수 (명사만 이용) 포함 X 만들기\n",
    "X_train_si = X_train.drop(['효준감성점수','시언서술포함감성점수','주택', '아파트', '분양', '서울', '가구', '부동산', '단지', '시장'],axis = 1)\n",
    "X_valid_si = X_valid.drop(['효준감성점수','시언서술포함감성점수','주택', '아파트', '분양', '서울', '가구', '부동산', '단지', '시장'],axis = 1)\n",
    "X_test_si = X_test.drop(['효준감성점수','시언서술포함감성점수','주택', '아파트', '분양', '서울', '가구', '부동산', '단지', '시장'],axis = 1)"
   ]
  },
  {
   "cell_type": "code",
   "execution_count": null,
   "metadata": {
    "ExecuteTime": {
     "end_time": "2021-05-07T14:50:24.486609Z",
     "start_time": "2021-05-07T14:50:24.473651Z"
    }
   },
   "outputs": [],
   "source": [
    "X_train_si_verb = X_train.drop(['시언감성점수','효준감성점수','주택', '아파트', '분양', '서울', '가구', '부동산', '단지', '시장'],axis = 1)\n",
    "X_valid_si_verb = X_valid.drop(['시언감성점수','효준감성점수','주택', '아파트', '분양', '서울', '가구', '부동산', '단지', '시장'],axis = 1)\n",
    "X_test_si_verb = X_test.drop(['시언감성점수','효준감성점수','주택', '아파트', '분양', '서울', '가구', '부동산', '단지', '시장'],axis = 1)"
   ]
  },
  {
   "cell_type": "code",
   "execution_count": null,
   "metadata": {
    "ExecuteTime": {
     "end_time": "2021-05-07T14:50:24.517664Z",
     "start_time": "2021-05-07T14:50:24.491601Z"
    }
   },
   "outputs": [],
   "source": [
    "# SVM용 인풋 데이터 스케일링\n",
    "sc = StandardScaler()\n",
    "\n",
    "# 시언 감성 점수 (명사만 이용) => 표준화 \n",
    "X_train_si_svm = sc.fit_transform(X_train_si)\n",
    "X_valid_si_svm = sc.transform(X_valid_si)\n",
    "X_test_si_svm = sc.transform(X_test_si)\n",
    "\n",
    "# 시언 감성 점수 (서술어 포함) => 표준화\n",
    "X_train_si_verb_svm = sc.fit_transform(X_train_si_verb)\n",
    "X_valid_si_svm = sc.transform(X_valid_si)\n",
    "X_test_si_verb_svm = sc.transform(X_test_si_verb)"
   ]
  },
  {
   "cell_type": "markdown",
   "metadata": {},
   "source": [
    "## (시언 감성 점수 (명사)) 이용 SVR 수립 및 평가"
   ]
  },
  {
   "cell_type": "code",
   "execution_count": null,
   "metadata": {
    "ExecuteTime": {
     "end_time": "2021-05-07T14:51:29.206670Z",
     "start_time": "2021-05-07T14:50:24.519754Z"
    }
   },
   "outputs": [],
   "source": [
    "# defining parameter range\n",
    "param_grid_svm = {'C': [0.1, 1, 10, 100, 1000], \n",
    "              'gamma': [1, 0.1, 0.01, 0.001, 0.0001],\n",
    "              'kernel': ['linear','poly','rbf','sigmoid']} \n",
    "  \n",
    "grid_svm = GridSearchCV(SVR(), param_grid_svm, refit = 'mse', verbose = 0, cv = 5)\n",
    "\n",
    "# fitting the model for grid search\n",
    "grid_svm.fit(X_train_si_svm, y_train)"
   ]
  },
  {
   "cell_type": "code",
   "execution_count": null,
   "metadata": {},
   "outputs": [],
   "source": [
    "# Valid에 대한 성능\n",
    "y_pred = grid_svm.predict(X_valid_si_svm)\n",
    "RMSE = mean_squared_error(y_valid, y_pred)**0.5\n",
    "\n",
    "# RMSE 출력\n",
    "print(RMSE)\n",
    "\n",
    "# print best parameter after tuning\n",
    "print(grid_svm.best_params_)\n",
    "  \n",
    "# print how our model looks after hyper-parameter tuning\n",
    "print(grid_svm.best_estimator_)"
   ]
  },
  {
   "cell_type": "code",
   "execution_count": null,
   "metadata": {},
   "outputs": [],
   "source": [
    "del param_grid_svm, grid_svm, RMSE, y_pred"
   ]
  },
  {
   "cell_type": "code",
   "execution_count": null,
   "metadata": {
    "ExecuteTime": {
     "end_time": "2021-05-07T14:51:29.221596Z",
     "start_time": "2021-05-07T14:51:29.209626Z"
    }
   },
   "outputs": [],
   "source": [
    "# Test에 대한 성능\n",
    "y_pred = grid_svm.predict(X_test_si_svm)\n",
    "RMSE = mean_squared_error(y_test, y_pred)**0.5\n",
    "\n",
    "# RMSE 출력\n",
    "print(RMSE)\n",
    "\n",
    "# print best parameter after tuning\n",
    "print(grid_svm.best_params_)\n",
    "  \n",
    "# print how our model looks after hyper-parameter tuning\n",
    "print(grid_svm.best_estimator_)"
   ]
  },
  {
   "cell_type": "code",
   "execution_count": null,
   "metadata": {
    "ExecuteTime": {
     "end_time": "2021-05-07T14:51:29.237589Z",
     "start_time": "2021-05-07T14:51:29.224595Z"
    }
   },
   "outputs": [],
   "source": [
    "del param_grid_svm, grid_svm, RMSE, y_pred"
   ]
  },
  {
   "cell_type": "markdown",
   "metadata": {},
   "source": [
    "## (시언 감성 점수 (서술어 포함)) 이용 SVR 수립 및 평가"
   ]
  },
  {
   "cell_type": "code",
   "execution_count": null,
   "metadata": {
    "ExecuteTime": {
     "end_time": "2021-05-07T14:52:24.739306Z",
     "start_time": "2021-05-07T14:51:29.239546Z"
    }
   },
   "outputs": [],
   "source": [
    "# defining parameter range\n",
    "param_grid_svm = {'C': [0.1, 1, 10, 100, 1000], \n",
    "              'gamma': [1, 0.1, 0.01, 0.001, 0.0001],\n",
    "              'kernel': ['linear','poly','rbf','sigmoid']} \n",
    "  \n",
    "grid_svm = GridSearchCV(SVR(), param_grid_svm, refit = 'mse', verbose = 0, cv = 5)\n",
    "\n",
    "# fitting the model for grid search\n",
    "grid_svm.fit(X_train_si_verb_svm, y_train)"
   ]
  },
  {
   "cell_type": "code",
   "execution_count": null,
   "metadata": {},
   "outputs": [],
   "source": [
    "# Valid에 대한 성능\n",
    "y_pred = grid_svm.predict(X_valid_si_svm)\n",
    "RMSE = mean_squared_error(y_valid, y_pred)**0.5\n",
    "\n",
    "# RMSE 출력\n",
    "print(RMSE)\n",
    "\n",
    "# print best parameter after tuning\n",
    "print(grid_svm.best_params_)\n",
    "  \n",
    "# print how our model looks after hyper-parameter tuning\n",
    "print(grid_svm.best_estimator_)"
   ]
  },
  {
   "cell_type": "code",
   "execution_count": null,
   "metadata": {},
   "outputs": [],
   "source": [
    "del param_grid_svm, grid_svm, RMSE, y_pred"
   ]
  },
  {
   "cell_type": "code",
   "execution_count": null,
   "metadata": {
    "ExecuteTime": {
     "end_time": "2021-05-07T14:52:24.755221Z",
     "start_time": "2021-05-07T14:52:24.741254Z"
    }
   },
   "outputs": [],
   "source": [
    "# Test에 대한 성능\n",
    "y_pred = grid_svm.predict(X_test_si_svm)\n",
    "RMSE = mean_squared_error(y_test, y_pred)**0.5\n",
    "\n",
    "# RMSE 출력\n",
    "print(RMSE)\n",
    "\n",
    "# print best parameter after tuning\n",
    "print(grid_svm.best_params_)\n",
    "  \n",
    "# print how our model looks after hyper-parameter tuning\n",
    "print(grid_svm.best_estimator_)"
   ]
  },
  {
   "cell_type": "code",
   "execution_count": null,
   "metadata": {
    "ExecuteTime": {
     "end_time": "2021-05-07T14:52:24.770181Z",
     "start_time": "2021-05-07T14:52:24.758221Z"
    }
   },
   "outputs": [],
   "source": [
    "del param_grid_svm, grid_svm, RMSE, y_pred"
   ]
  },
  {
   "cell_type": "markdown",
   "metadata": {},
   "source": [
    "# 효준 감성 점수(명사) Case"
   ]
  },
  {
   "cell_type": "markdown",
   "metadata": {},
   "source": [
    "## 효준 감성 점수 포함 성능"
   ]
  },
  {
   "cell_type": "code",
   "execution_count": null,
   "metadata": {
    "ExecuteTime": {
     "end_time": "2021-05-07T14:52:24.786169Z",
     "start_time": "2021-05-07T14:52:24.772173Z"
    }
   },
   "outputs": [],
   "source": [
    "X_train_hj = X_train.drop(['시언감성점수','시언서술포함감성점수','주택', '아파트', '분양', '서울', '가구', '부동산', '단지', '시장'],axis = 1)\n",
    "X_valid_hj = X_valid.drop(['시언감성점수','시언서술포함감성점수','주택', '아파트', '분양', '서울', '가구', '부동산', '단지', '시장'],axis = 1)\n",
    "X_test_hj = X_test.drop(['시언감성점수','시언서술포함감성점수','주택', '아파트', '분양', '서울', '가구', '부동산', '단지', '시장'],axis = 1)"
   ]
  },
  {
   "cell_type": "code",
   "execution_count": null,
   "metadata": {
    "ExecuteTime": {
     "end_time": "2021-05-07T14:52:24.802093Z",
     "start_time": "2021-05-07T14:52:24.789128Z"
    }
   },
   "outputs": [],
   "source": [
    "sc = StandardScaler()\n",
    "X_train_hj = sc.fit_transform(X_train_hj)\n",
    "X_valid_hj = sc.fit_transform(X_valid_hj)\n",
    "X_test_hj = sc.transform(X_test_hj)"
   ]
  },
  {
   "cell_type": "code",
   "execution_count": null,
   "metadata": {
    "ExecuteTime": {
     "end_time": "2021-05-07T14:53:12.518057Z",
     "start_time": "2021-05-07T14:52:24.805084Z"
    }
   },
   "outputs": [],
   "source": [
    "# defining parameter range\n",
    "param_grid_svm = {'C': [0.1, 1, 10, 100, 1000], \n",
    "              'gamma': [1, 0.1, 0.01, 0.001, 0.0001],\n",
    "              'kernel': ['linear','poly','rbf','sigmoid']} \n",
    "  \n",
    "grid_svm = GridSearchCV(SVR(), param_grid_svm, refit = 'mse', verbose = 0, cv = 5)\n",
    "\n",
    "# fitting the model for grid search\n",
    "grid_svm.fit(X_train_hj, y_train)"
   ]
  },
  {
   "cell_type": "code",
   "execution_count": null,
   "metadata": {},
   "outputs": [],
   "source": [
    "# Valid에 대한 성능\n",
    "y_pred = grid_svm.predict(X_valid_hj)\n",
    "RMSE = mean_squared_error(y_valid, y_pred)**0.5\n",
    "\n",
    "# RMSE 출력\n",
    "print(RMSE)\n",
    "\n",
    "# print best parameter after tuning\n",
    "print(grid_svm.best_params_)\n",
    "  \n",
    "# print how our model looks after hyper-parameter tuning\n",
    "print(grid_svm.best_estimator_)"
   ]
  },
  {
   "cell_type": "code",
   "execution_count": null,
   "metadata": {},
   "outputs": [],
   "source": [
    "del param_grid_svm, grid_svm, RMSE, y_pred"
   ]
  },
  {
   "cell_type": "code",
   "execution_count": null,
   "metadata": {
    "ExecuteTime": {
     "end_time": "2021-05-07T14:53:12.533986Z",
     "start_time": "2021-05-07T14:53:12.520024Z"
    }
   },
   "outputs": [],
   "source": [
    "# Test에 대한 성능\n",
    "y_pred = grid_svm.predict(X_test_hj)\n",
    "RMSE = mean_squared_error(y_test, y_pred)**0.5\n",
    "\n",
    "# RMSE 출력\n",
    "print(RMSE)\n",
    "\n",
    "# print best parameter after tuning\n",
    "print(grid_svm.best_params_)\n",
    "  \n",
    "# print how our model looks after hyper-parameter tuning\n",
    "print(grid_svm.best_estimator_)"
   ]
  },
  {
   "cell_type": "code",
   "execution_count": null,
   "metadata": {
    "ExecuteTime": {
     "end_time": "2021-05-07T14:53:12.549946Z",
     "start_time": "2021-05-07T14:53:12.537977Z"
    }
   },
   "outputs": [],
   "source": [
    "del param_grid_svm, grid_svm, RMSE, y_pred"
   ]
  },
  {
   "cell_type": "markdown",
   "metadata": {},
   "source": [
    "# TF-IDF 상위 8개 단어 빈도수 추가 Case"
   ]
  },
  {
   "cell_type": "code",
   "execution_count": null,
   "metadata": {
    "ExecuteTime": {
     "end_time": "2021-05-07T14:53:12.565207Z",
     "start_time": "2021-05-07T14:53:12.551937Z"
    }
   },
   "outputs": [],
   "source": [
    "X_train_tf_idf = X_train.drop(columns = [], axis = 1)\n",
    "X_valid_tf_idf = X_valid.drop(columns = [], axis = 1)\n",
    "X_test_tf_idf = X_test.drop(columns = [], axis = 1)"
   ]
  },
  {
   "cell_type": "code",
   "execution_count": null,
   "metadata": {
    "ExecuteTime": {
     "end_time": "2021-05-07T14:53:12.581240Z",
     "start_time": "2021-05-07T14:53:12.567277Z"
    }
   },
   "outputs": [],
   "source": [
    "sc = StandardScaler()\n",
    "X_train_tf_idf = sc.fit_transform(X_train_tf_idf)\n",
    "X_valid_tf_idf = sc.fit_transform(X_valid_tf_idf)\n",
    "X_test_tf_idf = sc.transform(X_test_tf_idf)"
   ]
  },
  {
   "cell_type": "code",
   "execution_count": null,
   "metadata": {
    "ExecuteTime": {
     "end_time": "2021-05-07T14:54:01.016286Z",
     "start_time": "2021-05-07T14:53:12.583234Z"
    }
   },
   "outputs": [],
   "source": [
    "# defining parameter range\n",
    "param_grid_svm = {'C': [0.1, 1, 10, 100, 1000], \n",
    "              'gamma': [1, 0.1, 0.01, 0.001, 0.0001],\n",
    "              'kernel': ['linear','poly','rbf','sigmoid']} \n",
    "  \n",
    "grid_svm = GridSearchCV(SVR(), param_grid_svm, refit = 'mse', verbose = 0, cv = 5)\n",
    "\n",
    "# fitting the model for grid search\n",
    "grid_svm.fit(X_train_tf_idf, y_train)"
   ]
  },
  {
   "cell_type": "code",
   "execution_count": null,
   "metadata": {},
   "outputs": [],
   "source": [
    "# Valid에 대한 성능\n",
    "y_pred = grid_svm.predict(X_valid_tf_idf)\n",
    "RMSE = mean_squared_error(y_valid, y_pred)**0.5\n",
    "\n",
    "# RMSE 출력\n",
    "print(RMSE)\n",
    "\n",
    "# print best parameter after tuning\n",
    "print(grid_svm.best_params_)\n",
    "  \n",
    "# print how our model looks after hyper-parameter tuning\n",
    "print(grid_svm.best_estimator_)"
   ]
  },
  {
   "cell_type": "code",
   "execution_count": null,
   "metadata": {},
   "outputs": [],
   "source": [
    "del param_grid_svm, grid_svm, RMSE, y_pred"
   ]
  },
  {
   "cell_type": "code",
   "execution_count": null,
   "metadata": {
    "ExecuteTime": {
     "end_time": "2021-05-07T14:54:01.032235Z",
     "start_time": "2021-05-07T14:54:01.020298Z"
    }
   },
   "outputs": [],
   "source": [
    "# Test에 대한 성능\n",
    "y_pred = grid_svm.predict(X_test_tf_idf)\n",
    "RMSE = mean_squared_error(y_test, y_pred)**0.5\n",
    "\n",
    "# RMSE 출력\n",
    "print(RMSE)\n",
    "\n",
    "# print best parameter after tuning\n",
    "print(grid_svm.best_params_)\n",
    "  \n",
    "# print how our model looks after hyper-parameter tuning\n",
    "print(grid_svm.best_estimator_)"
   ]
  },
  {
   "cell_type": "code",
   "execution_count": null,
   "metadata": {
    "ExecuteTime": {
     "end_time": "2021-05-07T14:54:01.048194Z",
     "start_time": "2021-05-07T14:54:01.036225Z"
    }
   },
   "outputs": [],
   "source": [
    "del param_grid_svm, grid_svm, RMSE, y_pred"
   ]
  }
 ],
 "metadata": {
  "hide_input": false,
  "kernelspec": {
   "display_name": "Python 3",
   "language": "python",
   "name": "python3"
  },
  "language_info": {
   "codemirror_mode": {
    "name": "ipython",
    "version": 3
   },
   "file_extension": ".py",
   "mimetype": "text/x-python",
   "name": "python",
   "nbconvert_exporter": "python",
   "pygments_lexer": "ipython3",
   "version": "3.8.5"
  },
  "toc": {
   "base_numbering": 1,
   "nav_menu": {},
   "number_sections": true,
   "sideBar": true,
   "skip_h1_title": false,
   "title_cell": "Table of Contents",
   "title_sidebar": "Contents",
   "toc_cell": false,
   "toc_position": {
    "height": "calc(100% - 180px)",
    "left": "10px",
    "top": "150px",
    "width": "473.273px"
   },
   "toc_section_display": true,
   "toc_window_display": false
  },
  "varInspector": {
   "cols": {
    "lenName": 16,
    "lenType": 16,
    "lenVar": 40
   },
   "kernels_config": {
    "python": {
     "delete_cmd_postfix": "",
     "delete_cmd_prefix": "del ",
     "library": "var_list.py",
     "varRefreshCmd": "print(var_dic_list())"
    },
    "r": {
     "delete_cmd_postfix": ") ",
     "delete_cmd_prefix": "rm(",
     "library": "var_list.r",
     "varRefreshCmd": "cat(var_dic_list()) "
    }
   },
   "types_to_exclude": [
    "module",
    "function",
    "builtin_function_or_method",
    "instance",
    "_Feature"
   ],
   "window_display": false
  }
 },
 "nbformat": 4,
 "nbformat_minor": 5
}
