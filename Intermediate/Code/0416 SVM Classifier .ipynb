{
 "cells": [
  {
   "cell_type": "code",
   "execution_count": 1,
   "metadata": {
    "ExecuteTime": {
     "end_time": "2021-04-26T02:22:42.000739Z",
     "start_time": "2021-04-26T02:22:41.667663Z"
    }
   },
   "outputs": [],
   "source": [
    "import pandas as pd"
   ]
  },
  {
   "cell_type": "markdown",
   "metadata": {},
   "source": [
    "# 데이터 불러오기"
   ]
  },
  {
   "cell_type": "code",
   "execution_count": 2,
   "metadata": {
    "ExecuteTime": {
     "end_time": "2021-04-26T02:22:42.871207Z",
     "start_time": "2021-04-26T02:22:42.856249Z"
    }
   },
   "outputs": [],
   "source": [
    "df_og = pd.read_csv('분석용데이터_utf.csv')"
   ]
  },
  {
   "cell_type": "markdown",
   "metadata": {},
   "source": [
    "[ 데이터 변수 설명 ]\n",
    "- SPI = 전국 SPI => Target Attribute\n",
    "- M2 = M2 평잔\n",
    "- comp basemoneny rate = 회사채 3년(평균) 금리\n",
    "- base rate = 기준 금리\n",
    "- consumer price index = 소비자 물가 지수\n",
    "- kospi close = 코스피 종가\n",
    "- ex-rate close = 환율 종가"
   ]
  },
  {
   "cell_type": "code",
   "execution_count": 12,
   "metadata": {
    "ExecuteTime": {
     "end_time": "2021-04-26T02:26:30.876606Z",
     "start_time": "2021-04-26T02:26:30.852631Z"
    }
   },
   "outputs": [
    {
     "data": {
      "text/html": [
       "<div>\n",
       "<style scoped>\n",
       "    .dataframe tbody tr th:only-of-type {\n",
       "        vertical-align: middle;\n",
       "    }\n",
       "\n",
       "    .dataframe tbody tr th {\n",
       "        vertical-align: top;\n",
       "    }\n",
       "\n",
       "    .dataframe thead th {\n",
       "        text-align: right;\n",
       "    }\n",
       "</style>\n",
       "<table border=\"1\" class=\"dataframe\">\n",
       "  <thead>\n",
       "    <tr style=\"text-align: right;\">\n",
       "      <th></th>\n",
       "      <th>Date</th>\n",
       "      <th>M2</th>\n",
       "      <th>comp basemoney rate</th>\n",
       "      <th>base rate</th>\n",
       "      <th>consumer price index</th>\n",
       "      <th>kospi close</th>\n",
       "      <th>ex-rate close</th>\n",
       "      <th>spi</th>\n",
       "    </tr>\n",
       "  </thead>\n",
       "  <tbody>\n",
       "    <tr>\n",
       "      <th>0</th>\n",
       "      <td>201101월</td>\n",
       "      <td>1676.4</td>\n",
       "      <td>4.52</td>\n",
       "      <td>2.75</td>\n",
       "      <td>3.4</td>\n",
       "      <td>2069.73</td>\n",
       "      <td>1119.25</td>\n",
       "      <td>81.2</td>\n",
       "    </tr>\n",
       "    <tr>\n",
       "      <th>1</th>\n",
       "      <td>201102월</td>\n",
       "      <td>1674.4</td>\n",
       "      <td>4.72</td>\n",
       "      <td>2.75</td>\n",
       "      <td>3.9</td>\n",
       "      <td>1939.30</td>\n",
       "      <td>1124.65</td>\n",
       "      <td>82.5</td>\n",
       "    </tr>\n",
       "    <tr>\n",
       "      <th>2</th>\n",
       "      <td>201103월</td>\n",
       "      <td>1677.5</td>\n",
       "      <td>4.54</td>\n",
       "      <td>3.00</td>\n",
       "      <td>4.1</td>\n",
       "      <td>2106.70</td>\n",
       "      <td>1095.50</td>\n",
       "      <td>83.4</td>\n",
       "    </tr>\n",
       "    <tr>\n",
       "      <th>3</th>\n",
       "      <td>201104월</td>\n",
       "      <td>1684.8</td>\n",
       "      <td>4.54</td>\n",
       "      <td>3.00</td>\n",
       "      <td>3.8</td>\n",
       "      <td>2192.36</td>\n",
       "      <td>1068.00</td>\n",
       "      <td>83.9</td>\n",
       "    </tr>\n",
       "    <tr>\n",
       "      <th>4</th>\n",
       "      <td>201105월</td>\n",
       "      <td>1690.5</td>\n",
       "      <td>4.44</td>\n",
       "      <td>3.00</td>\n",
       "      <td>3.9</td>\n",
       "      <td>2142.47</td>\n",
       "      <td>1078.00</td>\n",
       "      <td>84.1</td>\n",
       "    </tr>\n",
       "    <tr>\n",
       "      <th>...</th>\n",
       "      <td>...</td>\n",
       "      <td>...</td>\n",
       "      <td>...</td>\n",
       "      <td>...</td>\n",
       "      <td>...</td>\n",
       "      <td>...</td>\n",
       "      <td>...</td>\n",
       "      <td>...</td>\n",
       "    </tr>\n",
       "    <tr>\n",
       "      <th>115</th>\n",
       "      <td>202008월</td>\n",
       "      <td>3100.4</td>\n",
       "      <td>2.19</td>\n",
       "      <td>0.50</td>\n",
       "      <td>0.7</td>\n",
       "      <td>2326.17</td>\n",
       "      <td>1187.94</td>\n",
       "      <td>113.2</td>\n",
       "    </tr>\n",
       "    <tr>\n",
       "      <th>116</th>\n",
       "      <td>202009월</td>\n",
       "      <td>3115.2</td>\n",
       "      <td>2.24</td>\n",
       "      <td>0.50</td>\n",
       "      <td>1.0</td>\n",
       "      <td>2327.89</td>\n",
       "      <td>1164.65</td>\n",
       "      <td>114.2</td>\n",
       "    </tr>\n",
       "    <tr>\n",
       "      <th>117</th>\n",
       "      <td>202010월</td>\n",
       "      <td>3152.8</td>\n",
       "      <td>2.24</td>\n",
       "      <td>0.50</td>\n",
       "      <td>0.1</td>\n",
       "      <td>2267.15</td>\n",
       "      <td>1136.49</td>\n",
       "      <td>115.8</td>\n",
       "    </tr>\n",
       "    <tr>\n",
       "      <th>118</th>\n",
       "      <td>202011월</td>\n",
       "      <td>3183.5</td>\n",
       "      <td>2.25</td>\n",
       "      <td>0.50</td>\n",
       "      <td>0.6</td>\n",
       "      <td>2591.34</td>\n",
       "      <td>1109.32</td>\n",
       "      <td>118.6</td>\n",
       "    </tr>\n",
       "    <tr>\n",
       "      <th>119</th>\n",
       "      <td>202012월</td>\n",
       "      <td>3183.5</td>\n",
       "      <td>2.21</td>\n",
       "      <td>0.50</td>\n",
       "      <td>0.5</td>\n",
       "      <td>2873.47</td>\n",
       "      <td>1084.47</td>\n",
       "      <td>121.8</td>\n",
       "    </tr>\n",
       "  </tbody>\n",
       "</table>\n",
       "<p>120 rows × 8 columns</p>\n",
       "</div>"
      ],
      "text/plain": [
       "        Date      M2  comp basemoney rate  base rate  consumer price index  \\\n",
       "0    201101월  1676.4                 4.52       2.75                   3.4   \n",
       "1    201102월  1674.4                 4.72       2.75                   3.9   \n",
       "2    201103월  1677.5                 4.54       3.00                   4.1   \n",
       "3    201104월  1684.8                 4.54       3.00                   3.8   \n",
       "4    201105월  1690.5                 4.44       3.00                   3.9   \n",
       "..       ...     ...                  ...        ...                   ...   \n",
       "115  202008월  3100.4                 2.19       0.50                   0.7   \n",
       "116  202009월  3115.2                 2.24       0.50                   1.0   \n",
       "117  202010월  3152.8                 2.24       0.50                   0.1   \n",
       "118  202011월  3183.5                 2.25       0.50                   0.6   \n",
       "119  202012월  3183.5                 2.21       0.50                   0.5   \n",
       "\n",
       "     kospi close  ex-rate close    spi  \n",
       "0        2069.73        1119.25   81.2  \n",
       "1        1939.30        1124.65   82.5  \n",
       "2        2106.70        1095.50   83.4  \n",
       "3        2192.36        1068.00   83.9  \n",
       "4        2142.47        1078.00   84.1  \n",
       "..           ...            ...    ...  \n",
       "115      2326.17        1187.94  113.2  \n",
       "116      2327.89        1164.65  114.2  \n",
       "117      2267.15        1136.49  115.8  \n",
       "118      2591.34        1109.32  118.6  \n",
       "119      2873.47        1084.47  121.8  \n",
       "\n",
       "[120 rows x 8 columns]"
      ]
     },
     "execution_count": 12,
     "metadata": {},
     "output_type": "execute_result"
    }
   ],
   "source": [
    "df = df_og.copy()\n",
    "df"
   ]
  },
  {
   "cell_type": "code",
   "execution_count": 13,
   "metadata": {
    "ExecuteTime": {
     "end_time": "2021-04-26T02:26:31.283268Z",
     "start_time": "2021-04-26T02:26:31.279250Z"
    }
   },
   "outputs": [],
   "source": [
    "df.set_index('Date', inplace = True)"
   ]
  },
  {
   "cell_type": "code",
   "execution_count": 14,
   "metadata": {
    "ExecuteTime": {
     "end_time": "2021-04-26T02:26:31.565969Z",
     "start_time": "2021-04-26T02:26:31.551010Z"
    }
   },
   "outputs": [
    {
     "data": {
      "text/html": [
       "<div>\n",
       "<style scoped>\n",
       "    .dataframe tbody tr th:only-of-type {\n",
       "        vertical-align: middle;\n",
       "    }\n",
       "\n",
       "    .dataframe tbody tr th {\n",
       "        vertical-align: top;\n",
       "    }\n",
       "\n",
       "    .dataframe thead th {\n",
       "        text-align: right;\n",
       "    }\n",
       "</style>\n",
       "<table border=\"1\" class=\"dataframe\">\n",
       "  <thead>\n",
       "    <tr style=\"text-align: right;\">\n",
       "      <th></th>\n",
       "      <th>M2</th>\n",
       "      <th>comp basemoney rate</th>\n",
       "      <th>base rate</th>\n",
       "      <th>consumer price index</th>\n",
       "      <th>kospi close</th>\n",
       "      <th>ex-rate close</th>\n",
       "      <th>spi</th>\n",
       "    </tr>\n",
       "    <tr>\n",
       "      <th>Date</th>\n",
       "      <th></th>\n",
       "      <th></th>\n",
       "      <th></th>\n",
       "      <th></th>\n",
       "      <th></th>\n",
       "      <th></th>\n",
       "      <th></th>\n",
       "    </tr>\n",
       "  </thead>\n",
       "  <tbody>\n",
       "    <tr>\n",
       "      <th>201101월</th>\n",
       "      <td>1676.4</td>\n",
       "      <td>4.52</td>\n",
       "      <td>2.75</td>\n",
       "      <td>3.4</td>\n",
       "      <td>2069.73</td>\n",
       "      <td>1119.25</td>\n",
       "      <td>81.2</td>\n",
       "    </tr>\n",
       "    <tr>\n",
       "      <th>201102월</th>\n",
       "      <td>1674.4</td>\n",
       "      <td>4.72</td>\n",
       "      <td>2.75</td>\n",
       "      <td>3.9</td>\n",
       "      <td>1939.30</td>\n",
       "      <td>1124.65</td>\n",
       "      <td>82.5</td>\n",
       "    </tr>\n",
       "    <tr>\n",
       "      <th>201103월</th>\n",
       "      <td>1677.5</td>\n",
       "      <td>4.54</td>\n",
       "      <td>3.00</td>\n",
       "      <td>4.1</td>\n",
       "      <td>2106.70</td>\n",
       "      <td>1095.50</td>\n",
       "      <td>83.4</td>\n",
       "    </tr>\n",
       "    <tr>\n",
       "      <th>201104월</th>\n",
       "      <td>1684.8</td>\n",
       "      <td>4.54</td>\n",
       "      <td>3.00</td>\n",
       "      <td>3.8</td>\n",
       "      <td>2192.36</td>\n",
       "      <td>1068.00</td>\n",
       "      <td>83.9</td>\n",
       "    </tr>\n",
       "    <tr>\n",
       "      <th>201105월</th>\n",
       "      <td>1690.5</td>\n",
       "      <td>4.44</td>\n",
       "      <td>3.00</td>\n",
       "      <td>3.9</td>\n",
       "      <td>2142.47</td>\n",
       "      <td>1078.00</td>\n",
       "      <td>84.1</td>\n",
       "    </tr>\n",
       "    <tr>\n",
       "      <th>...</th>\n",
       "      <td>...</td>\n",
       "      <td>...</td>\n",
       "      <td>...</td>\n",
       "      <td>...</td>\n",
       "      <td>...</td>\n",
       "      <td>...</td>\n",
       "      <td>...</td>\n",
       "    </tr>\n",
       "    <tr>\n",
       "      <th>202008월</th>\n",
       "      <td>3100.4</td>\n",
       "      <td>2.19</td>\n",
       "      <td>0.50</td>\n",
       "      <td>0.7</td>\n",
       "      <td>2326.17</td>\n",
       "      <td>1187.94</td>\n",
       "      <td>113.2</td>\n",
       "    </tr>\n",
       "    <tr>\n",
       "      <th>202009월</th>\n",
       "      <td>3115.2</td>\n",
       "      <td>2.24</td>\n",
       "      <td>0.50</td>\n",
       "      <td>1.0</td>\n",
       "      <td>2327.89</td>\n",
       "      <td>1164.65</td>\n",
       "      <td>114.2</td>\n",
       "    </tr>\n",
       "    <tr>\n",
       "      <th>202010월</th>\n",
       "      <td>3152.8</td>\n",
       "      <td>2.24</td>\n",
       "      <td>0.50</td>\n",
       "      <td>0.1</td>\n",
       "      <td>2267.15</td>\n",
       "      <td>1136.49</td>\n",
       "      <td>115.8</td>\n",
       "    </tr>\n",
       "    <tr>\n",
       "      <th>202011월</th>\n",
       "      <td>3183.5</td>\n",
       "      <td>2.25</td>\n",
       "      <td>0.50</td>\n",
       "      <td>0.6</td>\n",
       "      <td>2591.34</td>\n",
       "      <td>1109.32</td>\n",
       "      <td>118.6</td>\n",
       "    </tr>\n",
       "    <tr>\n",
       "      <th>202012월</th>\n",
       "      <td>3183.5</td>\n",
       "      <td>2.21</td>\n",
       "      <td>0.50</td>\n",
       "      <td>0.5</td>\n",
       "      <td>2873.47</td>\n",
       "      <td>1084.47</td>\n",
       "      <td>121.8</td>\n",
       "    </tr>\n",
       "  </tbody>\n",
       "</table>\n",
       "<p>120 rows × 7 columns</p>\n",
       "</div>"
      ],
      "text/plain": [
       "             M2  comp basemoney rate  base rate  consumer price index  \\\n",
       "Date                                                                    \n",
       "201101월  1676.4                 4.52       2.75                   3.4   \n",
       "201102월  1674.4                 4.72       2.75                   3.9   \n",
       "201103월  1677.5                 4.54       3.00                   4.1   \n",
       "201104월  1684.8                 4.54       3.00                   3.8   \n",
       "201105월  1690.5                 4.44       3.00                   3.9   \n",
       "...         ...                  ...        ...                   ...   \n",
       "202008월  3100.4                 2.19       0.50                   0.7   \n",
       "202009월  3115.2                 2.24       0.50                   1.0   \n",
       "202010월  3152.8                 2.24       0.50                   0.1   \n",
       "202011월  3183.5                 2.25       0.50                   0.6   \n",
       "202012월  3183.5                 2.21       0.50                   0.5   \n",
       "\n",
       "         kospi close  ex-rate close    spi  \n",
       "Date                                        \n",
       "201101월      2069.73        1119.25   81.2  \n",
       "201102월      1939.30        1124.65   82.5  \n",
       "201103월      2106.70        1095.50   83.4  \n",
       "201104월      2192.36        1068.00   83.9  \n",
       "201105월      2142.47        1078.00   84.1  \n",
       "...              ...            ...    ...  \n",
       "202008월      2326.17        1187.94  113.2  \n",
       "202009월      2327.89        1164.65  114.2  \n",
       "202010월      2267.15        1136.49  115.8  \n",
       "202011월      2591.34        1109.32  118.6  \n",
       "202012월      2873.47        1084.47  121.8  \n",
       "\n",
       "[120 rows x 7 columns]"
      ]
     },
     "execution_count": 14,
     "metadata": {},
     "output_type": "execute_result"
    }
   ],
   "source": [
    "df"
   ]
  },
  {
   "cell_type": "markdown",
   "metadata": {
    "heading_collapsed": true
   },
   "source": [
    "# EDA"
   ]
  },
  {
   "cell_type": "code",
   "execution_count": 8,
   "metadata": {
    "ExecuteTime": {
     "end_time": "2021-04-19T13:50:42.069611Z",
     "start_time": "2021-04-19T13:50:39.615629Z"
    },
    "hidden": true
   },
   "outputs": [],
   "source": [
    "import matplotlib.pyplot as plt\n",
    "import seaborn as sns"
   ]
  },
  {
   "cell_type": "code",
   "execution_count": null,
   "metadata": {
    "ExecuteTime": {
     "end_time": "2021-04-16T05:28:09.120931Z",
     "start_time": "2021-04-16T05:28:09.105896Z"
    },
    "hidden": true
   },
   "outputs": [],
   "source": [
    "df.columns"
   ]
  },
  {
   "cell_type": "code",
   "execution_count": null,
   "metadata": {
    "ExecuteTime": {
     "end_time": "2021-04-16T05:28:09.136814Z",
     "start_time": "2021-04-16T05:28:09.123848Z"
    },
    "hidden": true
   },
   "outputs": [],
   "source": [
    "df.index"
   ]
  },
  {
   "cell_type": "code",
   "execution_count": null,
   "metadata": {
    "ExecuteTime": {
     "end_time": "2021-04-16T05:28:12.634847Z",
     "start_time": "2021-04-16T05:28:09.139809Z"
    },
    "hidden": true,
    "scrolled": true
   },
   "outputs": [],
   "source": [
    "# SPI 변화 추이\n",
    "sns.lineplot(x = df.index, y = df.spi)"
   ]
  },
  {
   "cell_type": "code",
   "execution_count": null,
   "metadata": {
    "ExecuteTime": {
     "end_time": "2021-04-16T05:28:16.028726Z",
     "start_time": "2021-04-16T05:28:12.635805Z"
    },
    "hidden": true
   },
   "outputs": [],
   "source": [
    "# M2 변화 추이\n",
    "sns.lineplot(x = df.index, y = df.M2)"
   ]
  },
  {
   "cell_type": "code",
   "execution_count": null,
   "metadata": {
    "ExecuteTime": {
     "end_time": "2021-04-16T05:28:19.403256Z",
     "start_time": "2021-04-16T05:28:16.030540Z"
    },
    "hidden": true
   },
   "outputs": [],
   "source": [
    "# 회사채 3년(평균) 금리 변화 추이\n",
    "sns.lineplot(x = df.index, y = df['comp basemoney rate'])"
   ]
  },
  {
   "cell_type": "code",
   "execution_count": null,
   "metadata": {
    "ExecuteTime": {
     "end_time": "2021-04-16T05:28:22.766584Z",
     "start_time": "2021-04-16T05:28:19.405339Z"
    },
    "hidden": true
   },
   "outputs": [],
   "source": [
    "# 기준 금리 변화 추이\n",
    "sns.lineplot(x = df.index, y = df['base rate'])"
   ]
  },
  {
   "cell_type": "code",
   "execution_count": null,
   "metadata": {
    "ExecuteTime": {
     "end_time": "2021-04-16T05:28:26.219010Z",
     "start_time": "2021-04-16T05:28:22.768537Z"
    },
    "hidden": true
   },
   "outputs": [],
   "source": [
    "# 소비자 물가 지수 변화 추이\n",
    "sns.lineplot(x = df.index, y = df['consumer price index'])"
   ]
  },
  {
   "cell_type": "code",
   "execution_count": null,
   "metadata": {
    "ExecuteTime": {
     "end_time": "2021-04-16T05:28:29.942289Z",
     "start_time": "2021-04-16T05:28:26.221811Z"
    },
    "hidden": true
   },
   "outputs": [],
   "source": [
    "# 코스피 종가 변화 추이\n",
    "sns.lineplot(x = df.index, y = df['kospi close'])"
   ]
  },
  {
   "cell_type": "code",
   "execution_count": null,
   "metadata": {
    "ExecuteTime": {
     "end_time": "2021-04-16T05:28:33.281169Z",
     "start_time": "2021-04-16T05:28:29.945066Z"
    },
    "hidden": true
   },
   "outputs": [],
   "source": [
    "# 환율 종가 변화 추이\n",
    "sns.lineplot(x = df.index, y = df['ex-rate close'])"
   ]
  },
  {
   "cell_type": "markdown",
   "metadata": {},
   "source": [
    "# Data Preprocessing"
   ]
  },
  {
   "cell_type": "markdown",
   "metadata": {},
   "source": [
    "- SVM 모델 ==> Normalization or Standardization 필요 O\n",
    "- LSTM 모델 ==>Normalization or Standardization 필요한지 확인해보기 "
   ]
  },
  {
   "cell_type": "code",
   "execution_count": 15,
   "metadata": {
    "ExecuteTime": {
     "end_time": "2021-04-26T02:26:33.852401Z",
     "start_time": "2021-04-26T02:26:33.844424Z"
    }
   },
   "outputs": [],
   "source": [
    "df['next_spi'] = df['spi'].shift(-1)\n",
    "df['next_spi'][-1] = 125.3"
   ]
  },
  {
   "cell_type": "code",
   "execution_count": 16,
   "metadata": {
    "ExecuteTime": {
     "end_time": "2021-04-26T02:26:34.972476Z",
     "start_time": "2021-04-26T02:26:34.948539Z"
    }
   },
   "outputs": [
    {
     "data": {
      "text/html": [
       "<div>\n",
       "<style scoped>\n",
       "    .dataframe tbody tr th:only-of-type {\n",
       "        vertical-align: middle;\n",
       "    }\n",
       "\n",
       "    .dataframe tbody tr th {\n",
       "        vertical-align: top;\n",
       "    }\n",
       "\n",
       "    .dataframe thead th {\n",
       "        text-align: right;\n",
       "    }\n",
       "</style>\n",
       "<table border=\"1\" class=\"dataframe\">\n",
       "  <thead>\n",
       "    <tr style=\"text-align: right;\">\n",
       "      <th></th>\n",
       "      <th>M2</th>\n",
       "      <th>comp basemoney rate</th>\n",
       "      <th>base rate</th>\n",
       "      <th>consumer price index</th>\n",
       "      <th>kospi close</th>\n",
       "      <th>ex-rate close</th>\n",
       "      <th>spi</th>\n",
       "      <th>next_spi</th>\n",
       "    </tr>\n",
       "    <tr>\n",
       "      <th>Date</th>\n",
       "      <th></th>\n",
       "      <th></th>\n",
       "      <th></th>\n",
       "      <th></th>\n",
       "      <th></th>\n",
       "      <th></th>\n",
       "      <th></th>\n",
       "      <th></th>\n",
       "    </tr>\n",
       "  </thead>\n",
       "  <tbody>\n",
       "    <tr>\n",
       "      <th>201101월</th>\n",
       "      <td>1676.4</td>\n",
       "      <td>4.52</td>\n",
       "      <td>2.75</td>\n",
       "      <td>3.4</td>\n",
       "      <td>2069.73</td>\n",
       "      <td>1119.25</td>\n",
       "      <td>81.2</td>\n",
       "      <td>82.5</td>\n",
       "    </tr>\n",
       "    <tr>\n",
       "      <th>201102월</th>\n",
       "      <td>1674.4</td>\n",
       "      <td>4.72</td>\n",
       "      <td>2.75</td>\n",
       "      <td>3.9</td>\n",
       "      <td>1939.30</td>\n",
       "      <td>1124.65</td>\n",
       "      <td>82.5</td>\n",
       "      <td>83.4</td>\n",
       "    </tr>\n",
       "    <tr>\n",
       "      <th>201103월</th>\n",
       "      <td>1677.5</td>\n",
       "      <td>4.54</td>\n",
       "      <td>3.00</td>\n",
       "      <td>4.1</td>\n",
       "      <td>2106.70</td>\n",
       "      <td>1095.50</td>\n",
       "      <td>83.4</td>\n",
       "      <td>83.9</td>\n",
       "    </tr>\n",
       "    <tr>\n",
       "      <th>201104월</th>\n",
       "      <td>1684.8</td>\n",
       "      <td>4.54</td>\n",
       "      <td>3.00</td>\n",
       "      <td>3.8</td>\n",
       "      <td>2192.36</td>\n",
       "      <td>1068.00</td>\n",
       "      <td>83.9</td>\n",
       "      <td>84.1</td>\n",
       "    </tr>\n",
       "    <tr>\n",
       "      <th>201105월</th>\n",
       "      <td>1690.5</td>\n",
       "      <td>4.44</td>\n",
       "      <td>3.00</td>\n",
       "      <td>3.9</td>\n",
       "      <td>2142.47</td>\n",
       "      <td>1078.00</td>\n",
       "      <td>84.1</td>\n",
       "      <td>84.3</td>\n",
       "    </tr>\n",
       "    <tr>\n",
       "      <th>...</th>\n",
       "      <td>...</td>\n",
       "      <td>...</td>\n",
       "      <td>...</td>\n",
       "      <td>...</td>\n",
       "      <td>...</td>\n",
       "      <td>...</td>\n",
       "      <td>...</td>\n",
       "      <td>...</td>\n",
       "    </tr>\n",
       "    <tr>\n",
       "      <th>202008월</th>\n",
       "      <td>3100.4</td>\n",
       "      <td>2.19</td>\n",
       "      <td>0.50</td>\n",
       "      <td>0.7</td>\n",
       "      <td>2326.17</td>\n",
       "      <td>1187.94</td>\n",
       "      <td>113.2</td>\n",
       "      <td>114.2</td>\n",
       "    </tr>\n",
       "    <tr>\n",
       "      <th>202009월</th>\n",
       "      <td>3115.2</td>\n",
       "      <td>2.24</td>\n",
       "      <td>0.50</td>\n",
       "      <td>1.0</td>\n",
       "      <td>2327.89</td>\n",
       "      <td>1164.65</td>\n",
       "      <td>114.2</td>\n",
       "      <td>115.8</td>\n",
       "    </tr>\n",
       "    <tr>\n",
       "      <th>202010월</th>\n",
       "      <td>3152.8</td>\n",
       "      <td>2.24</td>\n",
       "      <td>0.50</td>\n",
       "      <td>0.1</td>\n",
       "      <td>2267.15</td>\n",
       "      <td>1136.49</td>\n",
       "      <td>115.8</td>\n",
       "      <td>118.6</td>\n",
       "    </tr>\n",
       "    <tr>\n",
       "      <th>202011월</th>\n",
       "      <td>3183.5</td>\n",
       "      <td>2.25</td>\n",
       "      <td>0.50</td>\n",
       "      <td>0.6</td>\n",
       "      <td>2591.34</td>\n",
       "      <td>1109.32</td>\n",
       "      <td>118.6</td>\n",
       "      <td>121.8</td>\n",
       "    </tr>\n",
       "    <tr>\n",
       "      <th>202012월</th>\n",
       "      <td>3183.5</td>\n",
       "      <td>2.21</td>\n",
       "      <td>0.50</td>\n",
       "      <td>0.5</td>\n",
       "      <td>2873.47</td>\n",
       "      <td>1084.47</td>\n",
       "      <td>121.8</td>\n",
       "      <td>125.3</td>\n",
       "    </tr>\n",
       "  </tbody>\n",
       "</table>\n",
       "<p>120 rows × 8 columns</p>\n",
       "</div>"
      ],
      "text/plain": [
       "             M2  comp basemoney rate  base rate  consumer price index  \\\n",
       "Date                                                                    \n",
       "201101월  1676.4                 4.52       2.75                   3.4   \n",
       "201102월  1674.4                 4.72       2.75                   3.9   \n",
       "201103월  1677.5                 4.54       3.00                   4.1   \n",
       "201104월  1684.8                 4.54       3.00                   3.8   \n",
       "201105월  1690.5                 4.44       3.00                   3.9   \n",
       "...         ...                  ...        ...                   ...   \n",
       "202008월  3100.4                 2.19       0.50                   0.7   \n",
       "202009월  3115.2                 2.24       0.50                   1.0   \n",
       "202010월  3152.8                 2.24       0.50                   0.1   \n",
       "202011월  3183.5                 2.25       0.50                   0.6   \n",
       "202012월  3183.5                 2.21       0.50                   0.5   \n",
       "\n",
       "         kospi close  ex-rate close    spi  next_spi  \n",
       "Date                                                  \n",
       "201101월      2069.73        1119.25   81.2      82.5  \n",
       "201102월      1939.30        1124.65   82.5      83.4  \n",
       "201103월      2106.70        1095.50   83.4      83.9  \n",
       "201104월      2192.36        1068.00   83.9      84.1  \n",
       "201105월      2142.47        1078.00   84.1      84.3  \n",
       "...              ...            ...    ...       ...  \n",
       "202008월      2326.17        1187.94  113.2     114.2  \n",
       "202009월      2327.89        1164.65  114.2     115.8  \n",
       "202010월      2267.15        1136.49  115.8     118.6  \n",
       "202011월      2591.34        1109.32  118.6     121.8  \n",
       "202012월      2873.47        1084.47  121.8     125.3  \n",
       "\n",
       "[120 rows x 8 columns]"
      ]
     },
     "execution_count": 16,
     "metadata": {},
     "output_type": "execute_result"
    }
   ],
   "source": [
    "df"
   ]
  },
  {
   "cell_type": "code",
   "execution_count": 17,
   "metadata": {
    "ExecuteTime": {
     "end_time": "2021-04-26T02:26:46.284242Z",
     "start_time": "2021-04-26T02:26:46.265292Z"
    }
   },
   "outputs": [],
   "source": [
    "#전달의 spi와 차가 음수 -> 0\n",
    "#전달의 spi와 차가 0 이상 -> 1\n",
    "df['subtract_spi'] = df['next_spi'] - df['next_spi'].shift()   # df['next_spi'].shift()는 df의 next_spi값을 한 칸씩 아래로 내린 거\n",
    "df['subtract_spi'][0] = 0.3 #그 전달이 0.5 라서 차이 뺸 것\n",
    "df['spi_target'] = df['subtract_spi'].apply(lambda x : 0 if x < 0 else 1)"
   ]
  },
  {
   "cell_type": "code",
   "execution_count": 18,
   "metadata": {
    "ExecuteTime": {
     "end_time": "2021-04-26T02:26:46.596078Z",
     "start_time": "2021-04-26T02:26:46.579123Z"
    }
   },
   "outputs": [],
   "source": [
    "df.drop(['spi', 'subtract_spi', 'next_spi'], axis = 1, inplace = True)"
   ]
  },
  {
   "cell_type": "code",
   "execution_count": 19,
   "metadata": {
    "ExecuteTime": {
     "end_time": "2021-04-26T02:26:46.892864Z",
     "start_time": "2021-04-26T02:26:46.872879Z"
    }
   },
   "outputs": [
    {
     "data": {
      "text/html": [
       "<div>\n",
       "<style scoped>\n",
       "    .dataframe tbody tr th:only-of-type {\n",
       "        vertical-align: middle;\n",
       "    }\n",
       "\n",
       "    .dataframe tbody tr th {\n",
       "        vertical-align: top;\n",
       "    }\n",
       "\n",
       "    .dataframe thead th {\n",
       "        text-align: right;\n",
       "    }\n",
       "</style>\n",
       "<table border=\"1\" class=\"dataframe\">\n",
       "  <thead>\n",
       "    <tr style=\"text-align: right;\">\n",
       "      <th></th>\n",
       "      <th>M2</th>\n",
       "      <th>comp basemoney rate</th>\n",
       "      <th>base rate</th>\n",
       "      <th>consumer price index</th>\n",
       "      <th>kospi close</th>\n",
       "      <th>ex-rate close</th>\n",
       "      <th>spi_target</th>\n",
       "    </tr>\n",
       "    <tr>\n",
       "      <th>Date</th>\n",
       "      <th></th>\n",
       "      <th></th>\n",
       "      <th></th>\n",
       "      <th></th>\n",
       "      <th></th>\n",
       "      <th></th>\n",
       "      <th></th>\n",
       "    </tr>\n",
       "  </thead>\n",
       "  <tbody>\n",
       "    <tr>\n",
       "      <th>201101월</th>\n",
       "      <td>1676.4</td>\n",
       "      <td>4.52</td>\n",
       "      <td>2.75</td>\n",
       "      <td>3.4</td>\n",
       "      <td>2069.73</td>\n",
       "      <td>1119.25</td>\n",
       "      <td>1</td>\n",
       "    </tr>\n",
       "    <tr>\n",
       "      <th>201102월</th>\n",
       "      <td>1674.4</td>\n",
       "      <td>4.72</td>\n",
       "      <td>2.75</td>\n",
       "      <td>3.9</td>\n",
       "      <td>1939.30</td>\n",
       "      <td>1124.65</td>\n",
       "      <td>1</td>\n",
       "    </tr>\n",
       "    <tr>\n",
       "      <th>201103월</th>\n",
       "      <td>1677.5</td>\n",
       "      <td>4.54</td>\n",
       "      <td>3.00</td>\n",
       "      <td>4.1</td>\n",
       "      <td>2106.70</td>\n",
       "      <td>1095.50</td>\n",
       "      <td>1</td>\n",
       "    </tr>\n",
       "    <tr>\n",
       "      <th>201104월</th>\n",
       "      <td>1684.8</td>\n",
       "      <td>4.54</td>\n",
       "      <td>3.00</td>\n",
       "      <td>3.8</td>\n",
       "      <td>2192.36</td>\n",
       "      <td>1068.00</td>\n",
       "      <td>1</td>\n",
       "    </tr>\n",
       "    <tr>\n",
       "      <th>201105월</th>\n",
       "      <td>1690.5</td>\n",
       "      <td>4.44</td>\n",
       "      <td>3.00</td>\n",
       "      <td>3.9</td>\n",
       "      <td>2142.47</td>\n",
       "      <td>1078.00</td>\n",
       "      <td>1</td>\n",
       "    </tr>\n",
       "    <tr>\n",
       "      <th>...</th>\n",
       "      <td>...</td>\n",
       "      <td>...</td>\n",
       "      <td>...</td>\n",
       "      <td>...</td>\n",
       "      <td>...</td>\n",
       "      <td>...</td>\n",
       "      <td>...</td>\n",
       "    </tr>\n",
       "    <tr>\n",
       "      <th>202008월</th>\n",
       "      <td>3100.4</td>\n",
       "      <td>2.19</td>\n",
       "      <td>0.50</td>\n",
       "      <td>0.7</td>\n",
       "      <td>2326.17</td>\n",
       "      <td>1187.94</td>\n",
       "      <td>1</td>\n",
       "    </tr>\n",
       "    <tr>\n",
       "      <th>202009월</th>\n",
       "      <td>3115.2</td>\n",
       "      <td>2.24</td>\n",
       "      <td>0.50</td>\n",
       "      <td>1.0</td>\n",
       "      <td>2327.89</td>\n",
       "      <td>1164.65</td>\n",
       "      <td>1</td>\n",
       "    </tr>\n",
       "    <tr>\n",
       "      <th>202010월</th>\n",
       "      <td>3152.8</td>\n",
       "      <td>2.24</td>\n",
       "      <td>0.50</td>\n",
       "      <td>0.1</td>\n",
       "      <td>2267.15</td>\n",
       "      <td>1136.49</td>\n",
       "      <td>1</td>\n",
       "    </tr>\n",
       "    <tr>\n",
       "      <th>202011월</th>\n",
       "      <td>3183.5</td>\n",
       "      <td>2.25</td>\n",
       "      <td>0.50</td>\n",
       "      <td>0.6</td>\n",
       "      <td>2591.34</td>\n",
       "      <td>1109.32</td>\n",
       "      <td>1</td>\n",
       "    </tr>\n",
       "    <tr>\n",
       "      <th>202012월</th>\n",
       "      <td>3183.5</td>\n",
       "      <td>2.21</td>\n",
       "      <td>0.50</td>\n",
       "      <td>0.5</td>\n",
       "      <td>2873.47</td>\n",
       "      <td>1084.47</td>\n",
       "      <td>1</td>\n",
       "    </tr>\n",
       "  </tbody>\n",
       "</table>\n",
       "<p>120 rows × 7 columns</p>\n",
       "</div>"
      ],
      "text/plain": [
       "             M2  comp basemoney rate  base rate  consumer price index  \\\n",
       "Date                                                                    \n",
       "201101월  1676.4                 4.52       2.75                   3.4   \n",
       "201102월  1674.4                 4.72       2.75                   3.9   \n",
       "201103월  1677.5                 4.54       3.00                   4.1   \n",
       "201104월  1684.8                 4.54       3.00                   3.8   \n",
       "201105월  1690.5                 4.44       3.00                   3.9   \n",
       "...         ...                  ...        ...                   ...   \n",
       "202008월  3100.4                 2.19       0.50                   0.7   \n",
       "202009월  3115.2                 2.24       0.50                   1.0   \n",
       "202010월  3152.8                 2.24       0.50                   0.1   \n",
       "202011월  3183.5                 2.25       0.50                   0.6   \n",
       "202012월  3183.5                 2.21       0.50                   0.5   \n",
       "\n",
       "         kospi close  ex-rate close  spi_target  \n",
       "Date                                             \n",
       "201101월      2069.73        1119.25           1  \n",
       "201102월      1939.30        1124.65           1  \n",
       "201103월      2106.70        1095.50           1  \n",
       "201104월      2192.36        1068.00           1  \n",
       "201105월      2142.47        1078.00           1  \n",
       "...              ...            ...         ...  \n",
       "202008월      2326.17        1187.94           1  \n",
       "202009월      2327.89        1164.65           1  \n",
       "202010월      2267.15        1136.49           1  \n",
       "202011월      2591.34        1109.32           1  \n",
       "202012월      2873.47        1084.47           1  \n",
       "\n",
       "[120 rows x 7 columns]"
      ]
     },
     "execution_count": 19,
     "metadata": {},
     "output_type": "execute_result"
    }
   ],
   "source": [
    "df"
   ]
  },
  {
   "cell_type": "code",
   "execution_count": 20,
   "metadata": {
    "ExecuteTime": {
     "end_time": "2021-04-26T02:26:49.724514Z",
     "start_time": "2021-04-26T02:26:49.706593Z"
    }
   },
   "outputs": [],
   "source": [
    "X = df.iloc[:,:-1]\n",
    "y = df.spi_target"
   ]
  },
  {
   "cell_type": "code",
   "execution_count": 15,
   "metadata": {
    "ExecuteTime": {
     "end_time": "2021-04-19T13:50:48.683300Z",
     "start_time": "2021-04-19T13:50:48.670312Z"
    }
   },
   "outputs": [
    {
     "data": {
      "text/html": [
       "<div>\n",
       "<style scoped>\n",
       "    .dataframe tbody tr th:only-of-type {\n",
       "        vertical-align: middle;\n",
       "    }\n",
       "\n",
       "    .dataframe tbody tr th {\n",
       "        vertical-align: top;\n",
       "    }\n",
       "\n",
       "    .dataframe thead th {\n",
       "        text-align: right;\n",
       "    }\n",
       "</style>\n",
       "<table border=\"1\" class=\"dataframe\">\n",
       "  <thead>\n",
       "    <tr style=\"text-align: right;\">\n",
       "      <th></th>\n",
       "      <th>M2</th>\n",
       "      <th>comp basemoney rate</th>\n",
       "      <th>base rate</th>\n",
       "      <th>consumer price index</th>\n",
       "      <th>kospi close</th>\n",
       "      <th>ex-rate close</th>\n",
       "    </tr>\n",
       "    <tr>\n",
       "      <th>Date</th>\n",
       "      <th></th>\n",
       "      <th></th>\n",
       "      <th></th>\n",
       "      <th></th>\n",
       "      <th></th>\n",
       "      <th></th>\n",
       "    </tr>\n",
       "  </thead>\n",
       "  <tbody>\n",
       "    <tr>\n",
       "      <th>201101월</th>\n",
       "      <td>1676.4</td>\n",
       "      <td>4.52</td>\n",
       "      <td>2.75</td>\n",
       "      <td>3.4</td>\n",
       "      <td>2069.73</td>\n",
       "      <td>1119.25</td>\n",
       "    </tr>\n",
       "    <tr>\n",
       "      <th>201102월</th>\n",
       "      <td>1674.4</td>\n",
       "      <td>4.72</td>\n",
       "      <td>2.75</td>\n",
       "      <td>3.9</td>\n",
       "      <td>1939.30</td>\n",
       "      <td>1124.65</td>\n",
       "    </tr>\n",
       "    <tr>\n",
       "      <th>201103월</th>\n",
       "      <td>1677.5</td>\n",
       "      <td>4.54</td>\n",
       "      <td>3.00</td>\n",
       "      <td>4.1</td>\n",
       "      <td>2106.70</td>\n",
       "      <td>1095.50</td>\n",
       "    </tr>\n",
       "    <tr>\n",
       "      <th>201104월</th>\n",
       "      <td>1684.8</td>\n",
       "      <td>4.54</td>\n",
       "      <td>3.00</td>\n",
       "      <td>3.8</td>\n",
       "      <td>2192.36</td>\n",
       "      <td>1068.00</td>\n",
       "    </tr>\n",
       "    <tr>\n",
       "      <th>201105월</th>\n",
       "      <td>1690.5</td>\n",
       "      <td>4.44</td>\n",
       "      <td>3.00</td>\n",
       "      <td>3.9</td>\n",
       "      <td>2142.47</td>\n",
       "      <td>1078.00</td>\n",
       "    </tr>\n",
       "  </tbody>\n",
       "</table>\n",
       "</div>"
      ],
      "text/plain": [
       "             M2  comp basemoney rate  base rate  consumer price index  \\\n",
       "Date                                                                    \n",
       "201101월  1676.4                 4.52       2.75                   3.4   \n",
       "201102월  1674.4                 4.72       2.75                   3.9   \n",
       "201103월  1677.5                 4.54       3.00                   4.1   \n",
       "201104월  1684.8                 4.54       3.00                   3.8   \n",
       "201105월  1690.5                 4.44       3.00                   3.9   \n",
       "\n",
       "         kospi close  ex-rate close  \n",
       "Date                                 \n",
       "201101월      2069.73        1119.25  \n",
       "201102월      1939.30        1124.65  \n",
       "201103월      2106.70        1095.50  \n",
       "201104월      2192.36        1068.00  \n",
       "201105월      2142.47        1078.00  "
      ]
     },
     "execution_count": 15,
     "metadata": {},
     "output_type": "execute_result"
    }
   ],
   "source": [
    "X.head()"
   ]
  },
  {
   "cell_type": "code",
   "execution_count": 16,
   "metadata": {
    "ExecuteTime": {
     "end_time": "2021-04-19T13:50:49.184002Z",
     "start_time": "2021-04-19T13:50:49.173005Z"
    }
   },
   "outputs": [
    {
     "data": {
      "text/plain": [
       "Date\n",
       "201101월    1\n",
       "201102월    1\n",
       "201103월    1\n",
       "201104월    1\n",
       "201105월    1\n",
       "          ..\n",
       "202008월    1\n",
       "202009월    1\n",
       "202010월    1\n",
       "202011월    1\n",
       "202012월    0\n",
       "Name: spi_target, Length: 120, dtype: int64"
      ]
     },
     "execution_count": 16,
     "metadata": {},
     "output_type": "execute_result"
    }
   ],
   "source": [
    "y"
   ]
  },
  {
   "cell_type": "markdown",
   "metadata": {},
   "source": [
    "# SVM Classifier"
   ]
  },
  {
   "cell_type": "code",
   "execution_count": 21,
   "metadata": {
    "ExecuteTime": {
     "end_time": "2021-04-26T02:26:51.130738Z",
     "start_time": "2021-04-26T02:26:51.124753Z"
    }
   },
   "outputs": [],
   "source": [
    "def split_train_test(X,y,num_of_train):\n",
    "    X_train = X.iloc[:num_of_train]\n",
    "    X_test = pd.DataFrame(X.iloc[num_of_train]).T\n",
    "    y_train = y.iloc[:num_of_train]\n",
    "    \n",
    "    return X_train, X_test, y_train\n",
    "\n",
    "def model_evaluation(label, predict):\n",
    "    cf_matrix = confusion_matrix(label, predict)\n",
    "    Accuracy = (cf_matrix[0][0] + cf_matrix[1][1]) / sum(sum(cf_matrix))\n",
    "    Precision = cf_matrix[1][1] / (cf_matrix[1][1] + cf_matrix[0][1])\n",
    "    Recall = cf_matrix[1][1] / (cf_matrix[1][1] + cf_matrix[1][0])\n",
    "    Specificity = cf_matrix[0][0] / (cf_matrix[0][0] + cf_matrix[0][1])\n",
    "    F1_Score = (2 * Recall * Precision) / (Recall + Precision)\n",
    "    print(\"Accuracy: \", Accuracy) \n",
    "    print(\"Precision: \", Precision)\n",
    "    print(\"Recall: \", Recall)\n",
    "    print(\"Specificity: \", Specificity)\n",
    "    print(\"F1_Score: \", F1_Score)\n"
   ]
  },
  {
   "cell_type": "code",
   "execution_count": 22,
   "metadata": {
    "ExecuteTime": {
     "end_time": "2021-04-26T02:26:53.455860Z",
     "start_time": "2021-04-26T02:26:52.249186Z"
    }
   },
   "outputs": [],
   "source": [
    "from sklearn.svm import SVC         # SVM Classifier 사용\n",
    "from sklearn.metrics import roc_curve, roc_auc_score\n",
    "from sklearn.metrics import confusion_matrix\n",
    "from sklearn.preprocessing import StandardScaler"
   ]
  },
  {
   "cell_type": "markdown",
   "metadata": {},
   "source": [
    "* SVC 파라미터 *\n",
    "- kernel : {‘linear’, ‘poly’, ‘rbf’, ‘sigmoid’, ‘precomputed’}, default=’rbf’\n"
   ]
  },
  {
   "attachments": {
    "image.png": {
     "image/png": "[encoded data removed]"
    }
   },
   "cell_type": "markdown",
   "metadata": {},
   "source": [
    "![image.png](attachment:image.png)"
   ]
  },
  {
   "cell_type": "code",
   "execution_count": 23,
   "metadata": {
    "ExecuteTime": {
     "end_time": "2021-04-26T02:26:54.335470Z",
     "start_time": "2021-04-26T02:26:54.320503Z"
    }
   },
   "outputs": [],
   "source": [
    "def train_predict(X, y, num_of_train):\n",
    "    y_pred = []\n",
    "    y_test = y[num_of_train:].tolist()\n",
    "    \n",
    "    for i in range(num_of_train, X.shape[0]):\n",
    "        X_train, X_test, y_train = split_train_test(X, y, i)\n",
    "        \n",
    "        # StandardScaler 이용 스케일링 => 각 변수의 평균을 0, 표준편차가 1이 되도록 스케일링\n",
    "        sc = StandardScaler()\n",
    "        X_train = sc.fit_transform(X_train)\n",
    "        X_test = sc.transform(X_test)\n",
    "        \n",
    "        svm_clf = SVC(kernel = 'rbf') # poly (다항식) 커널, linear (선형) 커널 , etc,,, /    default = 'rbf' (가우시안 커널)\n",
    "        svm_clf.fit(X_train, y_train)\n",
    "        pred = svm_clf.predict(X_test)\n",
    "        y_pred.append(pred[0])\n",
    "        del X_train, X_test, y_train\n",
    "\n",
    "    print(confusion_matrix(y_test,y_pred))\n",
    "    print(model_evaluation(y_test,y_pred))\n",
    "    print(\"auc: \", roc_auc_score(y_test,y_pred))"
   ]
  },
  {
   "cell_type": "code",
   "execution_count": 24,
   "metadata": {
    "ExecuteTime": {
     "end_time": "2021-04-26T02:26:58.525552Z",
     "start_time": "2021-04-26T02:26:58.371623Z"
    },
    "scrolled": true
   },
   "outputs": [
    {
     "name": "stdout",
     "output_type": "stream",
     "text": [
      "[[ 2  5]\n",
      " [ 2 21]]\n",
      "Accuracy:  0.7666666666666667\n",
      "Precision:  0.8076923076923077\n",
      "Recall:  0.9130434782608695\n",
      "Specificity:  0.2857142857142857\n",
      "F1_Score:  0.8571428571428572\n",
      "None\n",
      "auc:  0.5993788819875776\n"
     ]
    }
   ],
   "source": [
    "train_predict(X,y,90)"
   ]
  },
  {
   "cell_type": "code",
   "execution_count": 24,
   "metadata": {
    "ExecuteTime": {
     "end_time": "2021-04-19T13:51:52.922489Z",
     "start_time": "2021-04-19T13:51:52.908527Z"
    }
   },
   "outputs": [
    {
     "data": {
      "text/plain": [
       "1    22\n",
       "0     8\n",
       "Name: spi_target, dtype: int64"
      ]
     },
     "execution_count": 24,
     "metadata": {},
     "output_type": "execute_result"
    }
   ],
   "source": [
    "y[90:].value_counts()"
   ]
  }
 ],
 "metadata": {
  "hide_input": false,
  "kernelspec": {
   "display_name": "Python 3",
   "language": "python",
   "name": "python3"
  },
  "language_info": {
   "codemirror_mode": {
    "name": "ipython",
    "version": 3
   },
   "file_extension": ".py",
   "mimetype": "text/x-python",
   "name": "python",
   "nbconvert_exporter": "python",
   "pygments_lexer": "ipython3",
   "version": "3.8.5"
  },
  "toc": {
   "base_numbering": 1,
   "nav_menu": {},
   "number_sections": true,
   "sideBar": true,
   "skip_h1_title": false,
   "title_cell": "Table of Contents",
   "title_sidebar": "Contents",
   "toc_cell": false,
   "toc_position": {},
   "toc_section_display": true,
   "toc_window_display": false
  },
  "varInspector": {
   "cols": {
    "lenName": 16,
    "lenType": 16,
    "lenVar": 40
   },
   "kernels_config": {
    "python": {
     "delete_cmd_postfix": "",
     "delete_cmd_prefix": "del ",
     "library": "var_list.py",
     "varRefreshCmd": "print(var_dic_list())"
    },
    "r": {
     "delete_cmd_postfix": ") ",
     "delete_cmd_prefix": "rm(",
     "library": "var_list.r",
     "varRefreshCmd": "cat(var_dic_list()) "
    }
   },
   "types_to_exclude": [
    "module",
    "function",
    "builtin_function_or_method",
    "instance",
    "_Feature"
   ],
   "window_display": false
  }
 },
 "nbformat": 4,
 "nbformat_minor": 4
}
