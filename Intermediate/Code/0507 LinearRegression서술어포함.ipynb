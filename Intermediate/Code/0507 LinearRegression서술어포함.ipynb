{
 "cells": [
  {
   "cell_type": "code",
   "execution_count": 1,
   "id": "3249aaf5",
   "metadata": {
    "ExecuteTime": {
     "end_time": "2021-05-04T02:29:37.738007Z",
     "start_time": "2021-05-04T02:29:37.126627Z"
    }
   },
   "outputs": [],
   "source": [
    "from sklearn.ensemble import RandomForestClassifier\n",
    "import numpy as np\n",
    "import pandas as pd\n",
    "import matplotlib.pyplot as plt\n",
    "from sklearn.metrics import plot_roc_curve\n",
    "from sklearn.metrics import roc_auc_score, roc_curve, auc\n",
    "from sklearn.preprocessing import OneHotEncoder\n",
    "from sklearn.metrics import classification_report, confusion_matrix, accuracy_score\n",
    "from sklearn.model_selection import KFold, GridSearchCV\n",
    "from sklearn.model_selection import train_test_split"
   ]
  },
  {
   "cell_type": "markdown",
   "id": "c10fe884",
   "metadata": {},
   "source": [
    "# 데이터 불러오기"
   ]
  },
  {
   "cell_type": "code",
   "execution_count": 2,
   "id": "6fcdf38f",
   "metadata": {
    "ExecuteTime": {
     "end_time": "2021-05-04T02:29:48.038096Z",
     "start_time": "2021-05-04T02:29:48.029543Z"
    }
   },
   "outputs": [],
   "source": [
    "df = pd.read_csv('서술어포함_시언감성점수.csv')"
   ]
  },
  {
   "cell_type": "code",
   "execution_count": 3,
   "id": "638de4a8",
   "metadata": {
    "ExecuteTime": {
     "end_time": "2021-05-04T02:29:54.174343Z",
     "start_time": "2021-05-04T02:29:54.148690Z"
    }
   },
   "outputs": [
    {
     "data": {
      "text/html": [
       "<div>\n",
       "<style scoped>\n",
       "    .dataframe tbody tr th:only-of-type {\n",
       "        vertical-align: middle;\n",
       "    }\n",
       "\n",
       "    .dataframe tbody tr th {\n",
       "        vertical-align: top;\n",
       "    }\n",
       "\n",
       "    .dataframe thead th {\n",
       "        text-align: right;\n",
       "    }\n",
       "</style>\n",
       "<table border=\"1\" class=\"dataframe\">\n",
       "  <thead>\n",
       "    <tr style=\"text-align: right;\">\n",
       "      <th></th>\n",
       "      <th>M2</th>\n",
       "      <th>comp basemoney rate</th>\n",
       "      <th>base rate</th>\n",
       "      <th>consumer price index</th>\n",
       "      <th>kospi close</th>\n",
       "      <th>ex-rate close</th>\n",
       "      <th>효준감성점수</th>\n",
       "      <th>next_spi</th>\n",
       "    </tr>\n",
       "  </thead>\n",
       "  <tbody>\n",
       "    <tr>\n",
       "      <th>0</th>\n",
       "      <td>1676.4</td>\n",
       "      <td>4.52</td>\n",
       "      <td>2.75</td>\n",
       "      <td>3.4</td>\n",
       "      <td>2069.73</td>\n",
       "      <td>1119.25</td>\n",
       "      <td>-1.635618e+08</td>\n",
       "      <td>82.5</td>\n",
       "    </tr>\n",
       "    <tr>\n",
       "      <th>1</th>\n",
       "      <td>1674.4</td>\n",
       "      <td>4.72</td>\n",
       "      <td>2.75</td>\n",
       "      <td>3.9</td>\n",
       "      <td>1939.30</td>\n",
       "      <td>1124.65</td>\n",
       "      <td>-1.777621e+08</td>\n",
       "      <td>83.4</td>\n",
       "    </tr>\n",
       "    <tr>\n",
       "      <th>2</th>\n",
       "      <td>1677.5</td>\n",
       "      <td>4.54</td>\n",
       "      <td>3.00</td>\n",
       "      <td>4.1</td>\n",
       "      <td>2106.70</td>\n",
       "      <td>1095.50</td>\n",
       "      <td>-1.980306e+08</td>\n",
       "      <td>83.9</td>\n",
       "    </tr>\n",
       "    <tr>\n",
       "      <th>3</th>\n",
       "      <td>1684.8</td>\n",
       "      <td>4.54</td>\n",
       "      <td>3.00</td>\n",
       "      <td>3.8</td>\n",
       "      <td>2192.36</td>\n",
       "      <td>1068.00</td>\n",
       "      <td>-1.898849e+08</td>\n",
       "      <td>84.1</td>\n",
       "    </tr>\n",
       "    <tr>\n",
       "      <th>4</th>\n",
       "      <td>1690.5</td>\n",
       "      <td>4.44</td>\n",
       "      <td>3.00</td>\n",
       "      <td>3.9</td>\n",
       "      <td>2142.47</td>\n",
       "      <td>1078.00</td>\n",
       "      <td>-2.402702e+08</td>\n",
       "      <td>84.4</td>\n",
       "    </tr>\n",
       "    <tr>\n",
       "      <th>...</th>\n",
       "      <td>...</td>\n",
       "      <td>...</td>\n",
       "      <td>...</td>\n",
       "      <td>...</td>\n",
       "      <td>...</td>\n",
       "      <td>...</td>\n",
       "      <td>...</td>\n",
       "      <td>...</td>\n",
       "    </tr>\n",
       "    <tr>\n",
       "      <th>115</th>\n",
       "      <td>3100.4</td>\n",
       "      <td>2.19</td>\n",
       "      <td>0.50</td>\n",
       "      <td>0.7</td>\n",
       "      <td>2326.17</td>\n",
       "      <td>1187.94</td>\n",
       "      <td>3.239718e+07</td>\n",
       "      <td>114.0</td>\n",
       "    </tr>\n",
       "    <tr>\n",
       "      <th>116</th>\n",
       "      <td>3115.2</td>\n",
       "      <td>2.24</td>\n",
       "      <td>0.50</td>\n",
       "      <td>1.0</td>\n",
       "      <td>2327.89</td>\n",
       "      <td>1164.65</td>\n",
       "      <td>4.511543e+07</td>\n",
       "      <td>115.6</td>\n",
       "    </tr>\n",
       "    <tr>\n",
       "      <th>117</th>\n",
       "      <td>3152.8</td>\n",
       "      <td>2.24</td>\n",
       "      <td>0.50</td>\n",
       "      <td>0.1</td>\n",
       "      <td>2267.15</td>\n",
       "      <td>1136.49</td>\n",
       "      <td>4.169356e+07</td>\n",
       "      <td>118.3</td>\n",
       "    </tr>\n",
       "    <tr>\n",
       "      <th>118</th>\n",
       "      <td>3183.5</td>\n",
       "      <td>2.25</td>\n",
       "      <td>0.50</td>\n",
       "      <td>0.6</td>\n",
       "      <td>2591.34</td>\n",
       "      <td>1109.32</td>\n",
       "      <td>4.231788e+07</td>\n",
       "      <td>121.4</td>\n",
       "    </tr>\n",
       "    <tr>\n",
       "      <th>119</th>\n",
       "      <td>3183.5</td>\n",
       "      <td>2.21</td>\n",
       "      <td>0.50</td>\n",
       "      <td>0.5</td>\n",
       "      <td>2873.47</td>\n",
       "      <td>1084.47</td>\n",
       "      <td>5.645645e+07</td>\n",
       "      <td>124.9</td>\n",
       "    </tr>\n",
       "  </tbody>\n",
       "</table>\n",
       "<p>120 rows × 8 columns</p>\n",
       "</div>"
      ],
      "text/plain": [
       "         M2  comp basemoney rate  base rate  consumer price index  \\\n",
       "0    1676.4                 4.52       2.75                   3.4   \n",
       "1    1674.4                 4.72       2.75                   3.9   \n",
       "2    1677.5                 4.54       3.00                   4.1   \n",
       "3    1684.8                 4.54       3.00                   3.8   \n",
       "4    1690.5                 4.44       3.00                   3.9   \n",
       "..      ...                  ...        ...                   ...   \n",
       "115  3100.4                 2.19       0.50                   0.7   \n",
       "116  3115.2                 2.24       0.50                   1.0   \n",
       "117  3152.8                 2.24       0.50                   0.1   \n",
       "118  3183.5                 2.25       0.50                   0.6   \n",
       "119  3183.5                 2.21       0.50                   0.5   \n",
       "\n",
       "     kospi close  ex-rate close        효준감성점수  next_spi  \n",
       "0        2069.73        1119.25 -1.635618e+08      82.5  \n",
       "1        1939.30        1124.65 -1.777621e+08      83.4  \n",
       "2        2106.70        1095.50 -1.980306e+08      83.9  \n",
       "3        2192.36        1068.00 -1.898849e+08      84.1  \n",
       "4        2142.47        1078.00 -2.402702e+08      84.4  \n",
       "..           ...            ...           ...       ...  \n",
       "115      2326.17        1187.94  3.239718e+07     114.0  \n",
       "116      2327.89        1164.65  4.511543e+07     115.6  \n",
       "117      2267.15        1136.49  4.169356e+07     118.3  \n",
       "118      2591.34        1109.32  4.231788e+07     121.4  \n",
       "119      2873.47        1084.47  5.645645e+07     124.9  \n",
       "\n",
       "[120 rows x 8 columns]"
      ]
     },
     "execution_count": 3,
     "metadata": {},
     "output_type": "execute_result"
    }
   ],
   "source": [
    "df"
   ]
  },
  {
   "cell_type": "markdown",
   "id": "96b44bad",
   "metadata": {},
   "source": [
    "# 전처리"
   ]
  },
  {
   "cell_type": "code",
   "execution_count": 4,
   "id": "ff6fd0b0",
   "metadata": {
    "ExecuteTime": {
     "end_time": "2021-05-04T02:29:58.308157Z",
     "start_time": "2021-05-04T02:29:58.304711Z"
    }
   },
   "outputs": [],
   "source": [
    "X = df.copy()\n",
    "y = X.pop('next_spi')"
   ]
  },
  {
   "cell_type": "code",
   "execution_count": 5,
   "id": "1e65514a",
   "metadata": {
    "ExecuteTime": {
     "end_time": "2021-05-04T02:29:59.688601Z",
     "start_time": "2021-05-04T02:29:59.686148Z"
    }
   },
   "outputs": [],
   "source": [
    "from sklearn.model_selection import train_test_split"
   ]
  },
  {
   "cell_type": "code",
   "execution_count": 6,
   "id": "93b50311",
   "metadata": {
    "ExecuteTime": {
     "end_time": "2021-05-04T02:30:00.405160Z",
     "start_time": "2021-05-04T02:30:00.400481Z"
    }
   },
   "outputs": [],
   "source": [
    "X_train, X_test, y_train, y_test = train_test_split(X, y, test_size = 0.25, random_state = 0)"
   ]
  },
  {
   "cell_type": "code",
   "execution_count": 8,
   "id": "027227f4",
   "metadata": {
    "ExecuteTime": {
     "end_time": "2021-05-04T02:30:10.462742Z",
     "start_time": "2021-05-04T02:30:10.458209Z"
    }
   },
   "outputs": [],
   "source": [
    "X_train_new = X_train.drop(['효준감성점수'], axis = 1)\n",
    "X_test_new = X_test.drop(['효준감성점수'], axis = 1)"
   ]
  },
  {
   "cell_type": "code",
   "execution_count": 9,
   "id": "e1cc10e6",
   "metadata": {
    "ExecuteTime": {
     "end_time": "2021-05-04T02:30:11.868904Z",
     "start_time": "2021-05-04T02:30:11.849663Z"
    }
   },
   "outputs": [],
   "source": [
    "from sklearn.preprocessing import StandardScaler\n",
    "scaler = StandardScaler()\n",
    "X_train = scaler.fit_transform(X_train)\n",
    "X_test= scaler.transform(X_test)\n",
    "\n",
    "X_train_new = scaler.fit_transform(X_train_new)\n",
    "X_test_new= scaler.transform(X_test_new)"
   ]
  },
  {
   "cell_type": "code",
   "execution_count": 10,
   "id": "e92ce277",
   "metadata": {
    "ExecuteTime": {
     "end_time": "2021-05-04T02:30:13.474091Z",
     "start_time": "2021-05-04T02:30:13.471520Z"
    }
   },
   "outputs": [],
   "source": [
    "y_train = list(y_train)\n",
    "y_test = list(y_test)"
   ]
  },
  {
   "cell_type": "markdown",
   "id": "e022ba26",
   "metadata": {},
   "source": [
    "# 시언이 제외 기본 성능"
   ]
  },
  {
   "cell_type": "code",
   "execution_count": 11,
   "id": "bc432f99",
   "metadata": {
    "ExecuteTime": {
     "end_time": "2021-05-04T02:30:15.058333Z",
     "start_time": "2021-05-04T02:30:15.054004Z"
    }
   },
   "outputs": [],
   "source": [
    "from sklearn.linear_model import LinearRegression"
   ]
  },
  {
   "cell_type": "code",
   "execution_count": 12,
   "id": "55e8e09e",
   "metadata": {
    "ExecuteTime": {
     "end_time": "2021-05-04T02:30:15.704232Z",
     "start_time": "2021-05-04T02:30:15.701737Z"
    }
   },
   "outputs": [],
   "source": [
    "regressor = LinearRegression()"
   ]
  },
  {
   "cell_type": "code",
   "execution_count": 13,
   "id": "1a074b44",
   "metadata": {
    "ExecuteTime": {
     "end_time": "2021-05-04T02:30:16.231412Z",
     "start_time": "2021-05-04T02:30:16.225404Z"
    }
   },
   "outputs": [
    {
     "data": {
      "text/plain": [
       "LinearRegression()"
      ]
     },
     "execution_count": 13,
     "metadata": {},
     "output_type": "execute_result"
    }
   ],
   "source": [
    "regressor.fit(X_train_new, y_train)  "
   ]
  },
  {
   "cell_type": "code",
   "execution_count": 14,
   "id": "89561d63",
   "metadata": {
    "ExecuteTime": {
     "end_time": "2021-05-04T02:30:16.813925Z",
     "start_time": "2021-05-04T02:30:16.811001Z"
    }
   },
   "outputs": [],
   "source": [
    "y_pred = regressor.predict(X_test_new)  # test the output by changing values"
   ]
  },
  {
   "cell_type": "code",
   "execution_count": 15,
   "id": "9e7ebd0b",
   "metadata": {
    "ExecuteTime": {
     "end_time": "2021-05-04T02:30:17.353665Z",
     "start_time": "2021-05-04T02:30:17.351145Z"
    }
   },
   "outputs": [],
   "source": [
    "from sklearn.metrics import mean_squared_error\n"
   ]
  },
  {
   "cell_type": "code",
   "execution_count": 16,
   "id": "1e67391a",
   "metadata": {
    "ExecuteTime": {
     "end_time": "2021-05-04T02:30:17.939800Z",
     "start_time": "2021-05-04T02:30:17.936276Z"
    }
   },
   "outputs": [],
   "source": [
    "RMSE = mean_squared_error(y_test, y_pred)**0.5"
   ]
  },
  {
   "cell_type": "code",
   "execution_count": 17,
   "id": "462a1ee5",
   "metadata": {
    "ExecuteTime": {
     "end_time": "2021-05-04T02:30:18.464944Z",
     "start_time": "2021-05-04T02:30:18.461280Z"
    },
    "scrolled": true
   },
   "outputs": [
    {
     "data": {
      "text/plain": [
       "2.4350878470685533"
      ]
     },
     "execution_count": 17,
     "metadata": {},
     "output_type": "execute_result"
    }
   ],
   "source": [
    "RMSE"
   ]
  },
  {
   "cell_type": "markdown",
   "id": "70e30941",
   "metadata": {},
   "source": [
    "# 시언이 포함 성능"
   ]
  },
  {
   "cell_type": "code",
   "execution_count": 18,
   "id": "2a40a77c",
   "metadata": {
    "ExecuteTime": {
     "end_time": "2021-05-04T02:30:20.301497Z",
     "start_time": "2021-05-04T02:30:20.297563Z"
    }
   },
   "outputs": [],
   "source": [
    "regressor = LinearRegression()"
   ]
  },
  {
   "cell_type": "code",
   "execution_count": 19,
   "id": "922882e2",
   "metadata": {
    "ExecuteTime": {
     "end_time": "2021-05-04T02:30:20.883000Z",
     "start_time": "2021-05-04T02:30:20.877834Z"
    }
   },
   "outputs": [
    {
     "data": {
      "text/plain": [
       "LinearRegression()"
      ]
     },
     "execution_count": 19,
     "metadata": {},
     "output_type": "execute_result"
    }
   ],
   "source": [
    "regressor.fit(X_train, y_train)  "
   ]
  },
  {
   "cell_type": "code",
   "execution_count": 20,
   "id": "cb2c40eb",
   "metadata": {
    "ExecuteTime": {
     "end_time": "2021-05-04T02:30:21.525062Z",
     "start_time": "2021-05-04T02:30:21.521664Z"
    }
   },
   "outputs": [],
   "source": [
    "y_pred_new = regressor.predict(X_test)  # test the output by changing values"
   ]
  },
  {
   "cell_type": "code",
   "execution_count": 21,
   "id": "fd25c713",
   "metadata": {
    "ExecuteTime": {
     "end_time": "2021-05-04T02:30:22.092705Z",
     "start_time": "2021-05-04T02:30:22.089708Z"
    }
   },
   "outputs": [],
   "source": [
    "RMSE_new = mean_squared_error(y_test, y_pred_new)**0.5"
   ]
  },
  {
   "cell_type": "code",
   "execution_count": 22,
   "id": "554e98c9",
   "metadata": {
    "ExecuteTime": {
     "end_time": "2021-05-04T02:30:22.663984Z",
     "start_time": "2021-05-04T02:30:22.660362Z"
    }
   },
   "outputs": [
    {
     "data": {
      "text/plain": [
       "2.404390641575917"
      ]
     },
     "execution_count": 22,
     "metadata": {},
     "output_type": "execute_result"
    }
   ],
   "source": [
    "RMSE_new"
   ]
  }
 ],
 "metadata": {
  "hide_input": false,
  "kernelspec": {
   "display_name": "Python 3",
   "language": "python",
   "name": "python3"
  },
  "language_info": {
   "codemirror_mode": {
    "name": "ipython",
    "version": 3
   },
   "file_extension": ".py",
   "mimetype": "text/x-python",
   "name": "python",
   "nbconvert_exporter": "python",
   "pygments_lexer": "ipython3",
   "version": "3.8.6"
  },
  "toc": {
   "base_numbering": 1,
   "nav_menu": {},
   "number_sections": true,
   "sideBar": true,
   "skip_h1_title": false,
   "title_cell": "Table of Contents",
   "title_sidebar": "Contents",
   "toc_cell": false,
   "toc_position": {},
   "toc_section_display": true,
   "toc_window_display": false
  },
  "varInspector": {
   "cols": {
    "lenName": 16,
    "lenType": 16,
    "lenVar": 40
   },
   "kernels_config": {
    "python": {
     "delete_cmd_postfix": "",
     "delete_cmd_prefix": "del ",
     "library": "var_list.py",
     "varRefreshCmd": "print(var_dic_list())"
    },
    "r": {
     "delete_cmd_postfix": ") ",
     "delete_cmd_prefix": "rm(",
     "library": "var_list.r",
     "varRefreshCmd": "cat(var_dic_list()) "
    }
   },
   "types_to_exclude": [
    "module",
    "function",
    "builtin_function_or_method",
    "instance",
    "_Feature"
   ],
   "window_display": false
  }
 },
 "nbformat": 4,
 "nbformat_minor": 5
}
