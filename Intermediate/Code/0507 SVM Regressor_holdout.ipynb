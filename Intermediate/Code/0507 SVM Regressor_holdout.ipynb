{
 "cells": [
  {
   "cell_type": "code",
   "execution_count": 1,
   "metadata": {
    "ExecuteTime": {
     "end_time": "2021-05-07T14:44:07.214991Z",
     "start_time": "2021-05-07T14:44:05.345859Z"
    }
   },
   "outputs": [],
   "source": [
    "from sklearn.svm import SVR\n",
    "from sklearn.ensemble import RandomForestRegressor\n",
    "from sklearn.preprocessing import StandardScaler\n",
    "import pandas as pd\n",
    "from sklearn.metrics import mean_squared_error\n",
    "from sklearn.model_selection import train_test_split"
   ]
  },
  {
   "cell_type": "markdown",
   "metadata": {},
   "source": [
    "# 데이터 불러오기"
   ]
  },
  {
   "cell_type": "code",
   "execution_count": 2,
   "metadata": {
    "ExecuteTime": {
     "end_time": "2021-05-07T14:44:08.020283Z",
     "start_time": "2021-05-07T14:44:08.000307Z"
    },
    "code_folding": []
   },
   "outputs": [],
   "source": [
    "df = pd.read_csv('0507 df_for_holdout.csv')"
   ]
  },
  {
   "cell_type": "code",
   "execution_count": 4,
   "metadata": {
    "ExecuteTime": {
     "end_time": "2021-05-07T14:44:25.760485Z",
     "start_time": "2021-05-07T14:44:25.755513Z"
    }
   },
   "outputs": [],
   "source": [
    "df.set_index('Date',inplace = True)"
   ]
  },
  {
   "cell_type": "code",
   "execution_count": 6,
   "metadata": {
    "ExecuteTime": {
     "end_time": "2021-05-07T14:44:53.640746Z",
     "start_time": "2021-05-07T14:44:53.612822Z"
    }
   },
   "outputs": [
    {
     "data": {
      "text/html": [
       "<div>\n",
       "<style scoped>\n",
       "    .dataframe tbody tr th:only-of-type {\n",
       "        vertical-align: middle;\n",
       "    }\n",
       "\n",
       "    .dataframe tbody tr th {\n",
       "        vertical-align: top;\n",
       "    }\n",
       "\n",
       "    .dataframe thead th {\n",
       "        text-align: right;\n",
       "    }\n",
       "</style>\n",
       "<table border=\"1\" class=\"dataframe\">\n",
       "  <thead>\n",
       "    <tr style=\"text-align: right;\">\n",
       "      <th></th>\n",
       "      <th>시언감성점수</th>\n",
       "      <th>M2</th>\n",
       "      <th>comp basemoney rate</th>\n",
       "      <th>base rate</th>\n",
       "      <th>consumer price index</th>\n",
       "      <th>kospi close</th>\n",
       "      <th>ex-rate close</th>\n",
       "      <th>효준감성점수</th>\n",
       "      <th>시언서술포함감성점수</th>\n",
       "      <th>주택</th>\n",
       "      <th>아파트</th>\n",
       "      <th>분양</th>\n",
       "      <th>서울</th>\n",
       "      <th>가구</th>\n",
       "      <th>부동산</th>\n",
       "      <th>단지</th>\n",
       "      <th>시장</th>\n",
       "      <th>next_spi</th>\n",
       "    </tr>\n",
       "    <tr>\n",
       "      <th>Date</th>\n",
       "      <th></th>\n",
       "      <th></th>\n",
       "      <th></th>\n",
       "      <th></th>\n",
       "      <th></th>\n",
       "      <th></th>\n",
       "      <th></th>\n",
       "      <th></th>\n",
       "      <th></th>\n",
       "      <th></th>\n",
       "      <th></th>\n",
       "      <th></th>\n",
       "      <th></th>\n",
       "      <th></th>\n",
       "      <th></th>\n",
       "      <th></th>\n",
       "      <th></th>\n",
       "      <th></th>\n",
       "    </tr>\n",
       "  </thead>\n",
       "  <tbody>\n",
       "    <tr>\n",
       "      <th>201101월</th>\n",
       "      <td>-6.268386e+07</td>\n",
       "      <td>1676.4</td>\n",
       "      <td>4.52</td>\n",
       "      <td>2.75</td>\n",
       "      <td>3.4</td>\n",
       "      <td>2069.73</td>\n",
       "      <td>1119.25</td>\n",
       "      <td>1856.746125</td>\n",
       "      <td>-1.635618e+08</td>\n",
       "      <td>1160</td>\n",
       "      <td>1094</td>\n",
       "      <td>666</td>\n",
       "      <td>729</td>\n",
       "      <td>1180</td>\n",
       "      <td>685</td>\n",
       "      <td>461</td>\n",
       "      <td>459</td>\n",
       "      <td>82.5</td>\n",
       "    </tr>\n",
       "    <tr>\n",
       "      <th>201102월</th>\n",
       "      <td>-6.255832e+07</td>\n",
       "      <td>1674.4</td>\n",
       "      <td>4.72</td>\n",
       "      <td>2.75</td>\n",
       "      <td>3.9</td>\n",
       "      <td>1939.30</td>\n",
       "      <td>1124.65</td>\n",
       "      <td>2046.702906</td>\n",
       "      <td>-1.777621e+08</td>\n",
       "      <td>1160</td>\n",
       "      <td>1101</td>\n",
       "      <td>639</td>\n",
       "      <td>652</td>\n",
       "      <td>1265</td>\n",
       "      <td>669</td>\n",
       "      <td>383</td>\n",
       "      <td>496</td>\n",
       "      <td>83.4</td>\n",
       "    </tr>\n",
       "    <tr>\n",
       "      <th>201103월</th>\n",
       "      <td>-6.957441e+07</td>\n",
       "      <td>1677.5</td>\n",
       "      <td>4.54</td>\n",
       "      <td>3.00</td>\n",
       "      <td>4.1</td>\n",
       "      <td>2106.70</td>\n",
       "      <td>1095.50</td>\n",
       "      <td>1715.795289</td>\n",
       "      <td>-1.980306e+08</td>\n",
       "      <td>1341</td>\n",
       "      <td>1102</td>\n",
       "      <td>1014</td>\n",
       "      <td>607</td>\n",
       "      <td>961</td>\n",
       "      <td>659</td>\n",
       "      <td>576</td>\n",
       "      <td>578</td>\n",
       "      <td>83.9</td>\n",
       "    </tr>\n",
       "    <tr>\n",
       "      <th>201104월</th>\n",
       "      <td>-7.305733e+07</td>\n",
       "      <td>1684.8</td>\n",
       "      <td>4.54</td>\n",
       "      <td>3.00</td>\n",
       "      <td>3.8</td>\n",
       "      <td>2192.36</td>\n",
       "      <td>1068.00</td>\n",
       "      <td>1635.262791</td>\n",
       "      <td>-1.898849e+08</td>\n",
       "      <td>1405</td>\n",
       "      <td>1186</td>\n",
       "      <td>977</td>\n",
       "      <td>658</td>\n",
       "      <td>1031</td>\n",
       "      <td>720</td>\n",
       "      <td>534</td>\n",
       "      <td>577</td>\n",
       "      <td>84.1</td>\n",
       "    </tr>\n",
       "    <tr>\n",
       "      <th>201105월</th>\n",
       "      <td>-9.356633e+07</td>\n",
       "      <td>1690.5</td>\n",
       "      <td>4.44</td>\n",
       "      <td>3.00</td>\n",
       "      <td>3.9</td>\n",
       "      <td>2142.47</td>\n",
       "      <td>1078.00</td>\n",
       "      <td>1922.518709</td>\n",
       "      <td>-2.402702e+08</td>\n",
       "      <td>1537</td>\n",
       "      <td>1543</td>\n",
       "      <td>1267</td>\n",
       "      <td>854</td>\n",
       "      <td>1245</td>\n",
       "      <td>1013</td>\n",
       "      <td>770</td>\n",
       "      <td>756</td>\n",
       "      <td>84.4</td>\n",
       "    </tr>\n",
       "  </tbody>\n",
       "</table>\n",
       "</div>"
      ],
      "text/plain": [
       "               시언감성점수      M2  comp basemoney rate  base rate  \\\n",
       "Date                                                            \n",
       "201101월 -6.268386e+07  1676.4                 4.52       2.75   \n",
       "201102월 -6.255832e+07  1674.4                 4.72       2.75   \n",
       "201103월 -6.957441e+07  1677.5                 4.54       3.00   \n",
       "201104월 -7.305733e+07  1684.8                 4.54       3.00   \n",
       "201105월 -9.356633e+07  1690.5                 4.44       3.00   \n",
       "\n",
       "         consumer price index  kospi close  ex-rate close       효준감성점수  \\\n",
       "Date                                                                     \n",
       "201101월                   3.4      2069.73        1119.25  1856.746125   \n",
       "201102월                   3.9      1939.30        1124.65  2046.702906   \n",
       "201103월                   4.1      2106.70        1095.50  1715.795289   \n",
       "201104월                   3.8      2192.36        1068.00  1635.262791   \n",
       "201105월                   3.9      2142.47        1078.00  1922.518709   \n",
       "\n",
       "           시언서술포함감성점수    주택   아파트    분양   서울    가구   부동산   단지   시장  next_spi  \n",
       "Date                                                                          \n",
       "201101월 -1.635618e+08  1160  1094   666  729  1180   685  461  459      82.5  \n",
       "201102월 -1.777621e+08  1160  1101   639  652  1265   669  383  496      83.4  \n",
       "201103월 -1.980306e+08  1341  1102  1014  607   961   659  576  578      83.9  \n",
       "201104월 -1.898849e+08  1405  1186   977  658  1031   720  534  577      84.1  \n",
       "201105월 -2.402702e+08  1537  1543  1267  854  1245  1013  770  756      84.4  "
      ]
     },
     "execution_count": 6,
     "metadata": {},
     "output_type": "execute_result"
    }
   ],
   "source": [
    "df.head()"
   ]
  },
  {
   "cell_type": "markdown",
   "metadata": {},
   "source": [
    "# Train/Test Set 분할"
   ]
  },
  {
   "cell_type": "code",
   "execution_count": 7,
   "metadata": {
    "ExecuteTime": {
     "end_time": "2021-05-07T14:45:43.837377Z",
     "start_time": "2021-05-07T14:45:43.829400Z"
    }
   },
   "outputs": [],
   "source": [
    "X = df.iloc[:,:-1]\n",
    "y = df['next_spi'].to_list()"
   ]
  },
  {
   "cell_type": "code",
   "execution_count": 8,
   "metadata": {
    "ExecuteTime": {
     "end_time": "2021-05-07T14:45:47.817662Z",
     "start_time": "2021-05-07T14:45:47.792723Z"
    }
   },
   "outputs": [
    {
     "data": {
      "text/html": [
       "<div>\n",
       "<style scoped>\n",
       "    .dataframe tbody tr th:only-of-type {\n",
       "        vertical-align: middle;\n",
       "    }\n",
       "\n",
       "    .dataframe tbody tr th {\n",
       "        vertical-align: top;\n",
       "    }\n",
       "\n",
       "    .dataframe thead th {\n",
       "        text-align: right;\n",
       "    }\n",
       "</style>\n",
       "<table border=\"1\" class=\"dataframe\">\n",
       "  <thead>\n",
       "    <tr style=\"text-align: right;\">\n",
       "      <th></th>\n",
       "      <th>시언감성점수</th>\n",
       "      <th>M2</th>\n",
       "      <th>comp basemoney rate</th>\n",
       "      <th>base rate</th>\n",
       "      <th>consumer price index</th>\n",
       "      <th>kospi close</th>\n",
       "      <th>ex-rate close</th>\n",
       "      <th>효준감성점수</th>\n",
       "      <th>시언서술포함감성점수</th>\n",
       "      <th>주택</th>\n",
       "      <th>아파트</th>\n",
       "      <th>분양</th>\n",
       "      <th>서울</th>\n",
       "      <th>가구</th>\n",
       "      <th>부동산</th>\n",
       "      <th>단지</th>\n",
       "      <th>시장</th>\n",
       "    </tr>\n",
       "    <tr>\n",
       "      <th>Date</th>\n",
       "      <th></th>\n",
       "      <th></th>\n",
       "      <th></th>\n",
       "      <th></th>\n",
       "      <th></th>\n",
       "      <th></th>\n",
       "      <th></th>\n",
       "      <th></th>\n",
       "      <th></th>\n",
       "      <th></th>\n",
       "      <th></th>\n",
       "      <th></th>\n",
       "      <th></th>\n",
       "      <th></th>\n",
       "      <th></th>\n",
       "      <th></th>\n",
       "      <th></th>\n",
       "    </tr>\n",
       "  </thead>\n",
       "  <tbody>\n",
       "    <tr>\n",
       "      <th>201101월</th>\n",
       "      <td>-6.268386e+07</td>\n",
       "      <td>1676.4</td>\n",
       "      <td>4.52</td>\n",
       "      <td>2.75</td>\n",
       "      <td>3.4</td>\n",
       "      <td>2069.73</td>\n",
       "      <td>1119.25</td>\n",
       "      <td>1856.746125</td>\n",
       "      <td>-1.635618e+08</td>\n",
       "      <td>1160</td>\n",
       "      <td>1094</td>\n",
       "      <td>666</td>\n",
       "      <td>729</td>\n",
       "      <td>1180</td>\n",
       "      <td>685</td>\n",
       "      <td>461</td>\n",
       "      <td>459</td>\n",
       "    </tr>\n",
       "    <tr>\n",
       "      <th>201102월</th>\n",
       "      <td>-6.255832e+07</td>\n",
       "      <td>1674.4</td>\n",
       "      <td>4.72</td>\n",
       "      <td>2.75</td>\n",
       "      <td>3.9</td>\n",
       "      <td>1939.30</td>\n",
       "      <td>1124.65</td>\n",
       "      <td>2046.702906</td>\n",
       "      <td>-1.777621e+08</td>\n",
       "      <td>1160</td>\n",
       "      <td>1101</td>\n",
       "      <td>639</td>\n",
       "      <td>652</td>\n",
       "      <td>1265</td>\n",
       "      <td>669</td>\n",
       "      <td>383</td>\n",
       "      <td>496</td>\n",
       "    </tr>\n",
       "    <tr>\n",
       "      <th>201103월</th>\n",
       "      <td>-6.957441e+07</td>\n",
       "      <td>1677.5</td>\n",
       "      <td>4.54</td>\n",
       "      <td>3.00</td>\n",
       "      <td>4.1</td>\n",
       "      <td>2106.70</td>\n",
       "      <td>1095.50</td>\n",
       "      <td>1715.795289</td>\n",
       "      <td>-1.980306e+08</td>\n",
       "      <td>1341</td>\n",
       "      <td>1102</td>\n",
       "      <td>1014</td>\n",
       "      <td>607</td>\n",
       "      <td>961</td>\n",
       "      <td>659</td>\n",
       "      <td>576</td>\n",
       "      <td>578</td>\n",
       "    </tr>\n",
       "    <tr>\n",
       "      <th>201104월</th>\n",
       "      <td>-7.305733e+07</td>\n",
       "      <td>1684.8</td>\n",
       "      <td>4.54</td>\n",
       "      <td>3.00</td>\n",
       "      <td>3.8</td>\n",
       "      <td>2192.36</td>\n",
       "      <td>1068.00</td>\n",
       "      <td>1635.262791</td>\n",
       "      <td>-1.898849e+08</td>\n",
       "      <td>1405</td>\n",
       "      <td>1186</td>\n",
       "      <td>977</td>\n",
       "      <td>658</td>\n",
       "      <td>1031</td>\n",
       "      <td>720</td>\n",
       "      <td>534</td>\n",
       "      <td>577</td>\n",
       "    </tr>\n",
       "    <tr>\n",
       "      <th>201105월</th>\n",
       "      <td>-9.356633e+07</td>\n",
       "      <td>1690.5</td>\n",
       "      <td>4.44</td>\n",
       "      <td>3.00</td>\n",
       "      <td>3.9</td>\n",
       "      <td>2142.47</td>\n",
       "      <td>1078.00</td>\n",
       "      <td>1922.518709</td>\n",
       "      <td>-2.402702e+08</td>\n",
       "      <td>1537</td>\n",
       "      <td>1543</td>\n",
       "      <td>1267</td>\n",
       "      <td>854</td>\n",
       "      <td>1245</td>\n",
       "      <td>1013</td>\n",
       "      <td>770</td>\n",
       "      <td>756</td>\n",
       "    </tr>\n",
       "  </tbody>\n",
       "</table>\n",
       "</div>"
      ],
      "text/plain": [
       "               시언감성점수      M2  comp basemoney rate  base rate  \\\n",
       "Date                                                            \n",
       "201101월 -6.268386e+07  1676.4                 4.52       2.75   \n",
       "201102월 -6.255832e+07  1674.4                 4.72       2.75   \n",
       "201103월 -6.957441e+07  1677.5                 4.54       3.00   \n",
       "201104월 -7.305733e+07  1684.8                 4.54       3.00   \n",
       "201105월 -9.356633e+07  1690.5                 4.44       3.00   \n",
       "\n",
       "         consumer price index  kospi close  ex-rate close       효준감성점수  \\\n",
       "Date                                                                     \n",
       "201101월                   3.4      2069.73        1119.25  1856.746125   \n",
       "201102월                   3.9      1939.30        1124.65  2046.702906   \n",
       "201103월                   4.1      2106.70        1095.50  1715.795289   \n",
       "201104월                   3.8      2192.36        1068.00  1635.262791   \n",
       "201105월                   3.9      2142.47        1078.00  1922.518709   \n",
       "\n",
       "           시언서술포함감성점수    주택   아파트    분양   서울    가구   부동산   단지   시장  \n",
       "Date                                                                \n",
       "201101월 -1.635618e+08  1160  1094   666  729  1180   685  461  459  \n",
       "201102월 -1.777621e+08  1160  1101   639  652  1265   669  383  496  \n",
       "201103월 -1.980306e+08  1341  1102  1014  607   961   659  576  578  \n",
       "201104월 -1.898849e+08  1405  1186   977  658  1031   720  534  577  \n",
       "201105월 -2.402702e+08  1537  1543  1267  854  1245  1013  770  756  "
      ]
     },
     "execution_count": 8,
     "metadata": {},
     "output_type": "execute_result"
    }
   ],
   "source": [
    "X.head()"
   ]
  },
  {
   "cell_type": "code",
   "execution_count": 11,
   "metadata": {
    "ExecuteTime": {
     "end_time": "2021-05-07T14:46:20.118413Z",
     "start_time": "2021-05-07T14:46:20.100450Z"
    }
   },
   "outputs": [
    {
     "data": {
      "text/plain": [
       "[82.5, 83.4, 83.9, 84.1, 84.4]"
      ]
     },
     "execution_count": 11,
     "metadata": {},
     "output_type": "execute_result"
    }
   ],
   "source": [
    "y[:5]"
   ]
  },
  {
   "cell_type": "code",
   "execution_count": 12,
   "metadata": {
    "ExecuteTime": {
     "end_time": "2021-05-07T14:46:51.187823Z",
     "start_time": "2021-05-07T14:46:51.174856Z"
    }
   },
   "outputs": [],
   "source": [
    "# Holdout으로 Train/Test 분할\n",
    "X_train = X.iloc[:90]\n",
    "y_train = y[:90]\n",
    "X_test = X.iloc[90:]\n",
    "y_test = y[90:]"
   ]
  },
  {
   "cell_type": "code",
   "execution_count": 15,
   "metadata": {
    "ExecuteTime": {
     "end_time": "2021-05-07T14:47:09.900954Z",
     "start_time": "2021-05-07T14:47:09.892950Z"
    }
   },
   "outputs": [
    {
     "data": {
      "text/plain": [
       "Index(['시언감성점수', 'M2', 'comp basemoney rate', 'base rate',\n",
       "       'consumer price index', 'kospi close', 'ex-rate close', '효준감성점수',\n",
       "       '시언서술포함감성점수', '주택', '아파트', '분양', '서울', '가구', '부동산', '단지', '시장'],\n",
       "      dtype='object')"
      ]
     },
     "execution_count": 15,
     "metadata": {},
     "output_type": "execute_result"
    }
   ],
   "source": [
    "X_train.columns"
   ]
  },
  {
   "cell_type": "markdown",
   "metadata": {
    "ExecuteTime": {
     "end_time": "2021-05-07T14:33:41.851460Z",
     "start_time": "2021-05-07T14:33:41.839467Z"
    }
   },
   "source": [
    "tf_idf_words = ['주택', '아파트', '분양', '서울', '가구', '부동산', '단지', '시장']"
   ]
  },
  {
   "cell_type": "markdown",
   "metadata": {},
   "source": [
    "# 거시경제변수만 포함된 Case"
   ]
  },
  {
   "cell_type": "code",
   "execution_count": 16,
   "metadata": {
    "ExecuteTime": {
     "end_time": "2021-05-07T14:47:25.722215Z",
     "start_time": "2021-05-07T14:47:25.715233Z"
    }
   },
   "outputs": [],
   "source": [
    "# 거시경제변수만 포함된 X 만들기\n",
    "X_train_basic = X_train.drop(['시언감성점수','효준감성점수','시언서술포함감성점수','주택', '아파트', '분양', '서울', '가구', '부동산', '단지', '시장'], axis = 1)\n",
    "X_test_basic = X_test.drop(['시언감성점수','효준감성점수','시언서술포함감성점수','주택', '아파트', '분양', '서울', '가구', '부동산', '단지', '시장'], axis = 1)"
   ]
  },
  {
   "cell_type": "code",
   "execution_count": 17,
   "metadata": {
    "ExecuteTime": {
     "end_time": "2021-05-07T14:47:25.737207Z",
     "start_time": "2021-05-07T14:47:25.725207Z"
    }
   },
   "outputs": [],
   "source": [
    "# SVM 인풋 데이터 스케일링\n",
    "sc = StandardScaler()\n",
    "X_train_basic_svm = sc.fit_transform(X_train_basic)\n",
    "X_test_basic_svm = sc.transform(X_test_basic)"
   ]
  },
  {
   "cell_type": "code",
   "execution_count": 18,
   "metadata": {
    "ExecuteTime": {
     "end_time": "2021-05-07T14:50:24.422779Z",
     "start_time": "2021-05-07T14:47:25.741165Z"
    }
   },
   "outputs": [
    {
     "data": {
      "text/plain": [
       "GridSearchCV(cv=5, estimator=SVR(),\n",
       "             param_grid={'C': [0.1, 1, 10, 100, 1000],\n",
       "                         'gamma': [1, 0.1, 0.01, 0.001, 0.0001],\n",
       "                         'kernel': ['linear', 'poly', 'rbf', 'sigmoid']},\n",
       "             refit='mse')"
      ]
     },
     "execution_count": 18,
     "metadata": {},
     "output_type": "execute_result"
    }
   ],
   "source": [
    "from sklearn.model_selection import GridSearchCV\n",
    "\n",
    "# defining parameter range\n",
    "param_grid_svm = {'C': [0.1, 1, 10, 100, 1000], \n",
    "              'gamma': [1, 0.1, 0.01, 0.001, 0.0001],\n",
    "              'kernel': ['linear','poly','rbf','sigmoid']} \n",
    "  \n",
    "grid_svm = GridSearchCV(SVR(), param_grid_svm, refit = 'mse', verbose = 0, cv = 5)\n",
    "\n",
    "# fitting the model for grid search\n",
    "grid_svm.fit(X_train_basic_svm, y_train)"
   ]
  },
  {
   "cell_type": "code",
   "execution_count": 19,
   "metadata": {
    "ExecuteTime": {
     "end_time": "2021-05-07T14:50:24.438751Z",
     "start_time": "2021-05-07T14:50:24.425772Z"
    }
   },
   "outputs": [
    {
     "name": "stdout",
     "output_type": "stream",
     "text": [
      "8.350425444114785\n",
      "{'C': 1000, 'gamma': 0.01, 'kernel': 'rbf'}\n",
      "SVR(C=1000, gamma=0.01)\n"
     ]
    }
   ],
   "source": [
    "y_pred = grid_svm.predict(X_test_basic_svm)\n",
    "RMSE = mean_squared_error(y_test, y_pred)**0.5\n",
    "\n",
    "# RMSE 출력\n",
    "print(RMSE)\n",
    "\n",
    "# print best parameter after tuning\n",
    "print(grid_svm.best_params_)\n",
    "  \n",
    "# print how our model looks after hyper-parameter tuning\n",
    "print(grid_svm.best_estimator_)"
   ]
  },
  {
   "cell_type": "code",
   "execution_count": 20,
   "metadata": {
    "ExecuteTime": {
     "end_time": "2021-05-07T14:50:24.454695Z",
     "start_time": "2021-05-07T14:50:24.441730Z"
    }
   },
   "outputs": [],
   "source": [
    "del param_grid_svm, grid_svm, RMSE, y_pred"
   ]
  },
  {
   "cell_type": "markdown",
   "metadata": {},
   "source": [
    "# 시언 감성 점수 Case"
   ]
  },
  {
   "cell_type": "markdown",
   "metadata": {},
   "source": [
    "## 시언 감성 점수 데이터 전처리"
   ]
  },
  {
   "cell_type": "code",
   "execution_count": 21,
   "metadata": {
    "ExecuteTime": {
     "end_time": "2021-05-07T14:50:24.470652Z",
     "start_time": "2021-05-07T14:50:24.456698Z"
    }
   },
   "outputs": [],
   "source": [
    "# 시언 감성 점수 (명사만 이용) 포함 X 만들기\n",
    "X_train_si = X_train.drop(['효준감성점수','시언서술포함감성점수','주택', '아파트', '분양', '서울', '가구', '부동산', '단지', '시장'],axis = 1)\n",
    "X_test_si = X_test.drop(['효준감성점수','시언서술포함감성점수','주택', '아파트', '분양', '서울', '가구', '부동산', '단지', '시장'],axis = 1)"
   ]
  },
  {
   "cell_type": "code",
   "execution_count": 22,
   "metadata": {
    "ExecuteTime": {
     "end_time": "2021-05-07T14:50:24.486609Z",
     "start_time": "2021-05-07T14:50:24.473651Z"
    }
   },
   "outputs": [],
   "source": [
    "X_train_si_verb = X_train.drop(['시언감성점수','효준감성점수','주택', '아파트', '분양', '서울', '가구', '부동산', '단지', '시장'],axis = 1)\n",
    "X_test_si_verb = X_test.drop(['시언감성점수','효준감성점수','주택', '아파트', '분양', '서울', '가구', '부동산', '단지', '시장'],axis = 1)"
   ]
  },
  {
   "cell_type": "code",
   "execution_count": 23,
   "metadata": {
    "ExecuteTime": {
     "end_time": "2021-05-07T14:50:24.517664Z",
     "start_time": "2021-05-07T14:50:24.491601Z"
    }
   },
   "outputs": [],
   "source": [
    "# SVM용 인풋 데이터 스케일링\n",
    "sc = StandardScaler()\n",
    "\n",
    "# 시언 감성 점수 (명사만 이용) => 표준화 \n",
    "X_train_si_svm = sc.fit_transform(X_train_si)\n",
    "X_test_si_svm = sc.transform(X_test_si)\n",
    "\n",
    "# 시언 감성 점수 (서술어 포함) => 표준화\n",
    "X_train_si_verb_svm = sc.fit_transform(X_train_si_verb)\n",
    "X_test_si_verb_svm = sc.transform(X_test_si_verb)"
   ]
  },
  {
   "cell_type": "markdown",
   "metadata": {},
   "source": [
    "## (시언 감성 점수 (명사)) 이용 SVR 수립 및 평가"
   ]
  },
  {
   "cell_type": "code",
   "execution_count": 24,
   "metadata": {
    "ExecuteTime": {
     "end_time": "2021-05-07T14:51:29.206670Z",
     "start_time": "2021-05-07T14:50:24.519754Z"
    }
   },
   "outputs": [
    {
     "data": {
      "text/plain": [
       "GridSearchCV(cv=5, estimator=SVR(),\n",
       "             param_grid={'C': [0.1, 1, 10, 100, 1000],\n",
       "                         'gamma': [1, 0.1, 0.01, 0.001, 0.0001],\n",
       "                         'kernel': ['linear', 'poly', 'rbf', 'sigmoid']},\n",
       "             refit='mse')"
      ]
     },
     "execution_count": 24,
     "metadata": {},
     "output_type": "execute_result"
    }
   ],
   "source": [
    "# defining parameter range\n",
    "param_grid_svm = {'C': [0.1, 1, 10, 100, 1000], \n",
    "              'gamma': [1, 0.1, 0.01, 0.001, 0.0001],\n",
    "              'kernel': ['linear','poly','rbf','sigmoid']} \n",
    "  \n",
    "grid_svm = GridSearchCV(SVR(), param_grid_svm, refit = 'mse', verbose = 0, cv = 5)\n",
    "\n",
    "# fitting the model for grid search\n",
    "grid_svm.fit(X_train_si_svm, y_train)"
   ]
  },
  {
   "cell_type": "code",
   "execution_count": 25,
   "metadata": {
    "ExecuteTime": {
     "end_time": "2021-05-07T14:51:29.221596Z",
     "start_time": "2021-05-07T14:51:29.209626Z"
    }
   },
   "outputs": [
    {
     "name": "stdout",
     "output_type": "stream",
     "text": [
      "5.532520407345845\n",
      "{'C': 10, 'gamma': 0.01, 'kernel': 'rbf'}\n",
      "SVR(C=10, gamma=0.01)\n"
     ]
    }
   ],
   "source": [
    "y_pred = grid_svm.predict(X_test_si_svm)\n",
    "RMSE = mean_squared_error(y_test, y_pred)**0.5\n",
    "\n",
    "# RMSE 출력\n",
    "print(RMSE)\n",
    "\n",
    "# print best parameter after tuning\n",
    "print(grid_svm.best_params_)\n",
    "  \n",
    "# print how our model looks after hyper-parameter tuning\n",
    "print(grid_svm.best_estimator_)"
   ]
  },
  {
   "cell_type": "code",
   "execution_count": 26,
   "metadata": {
    "ExecuteTime": {
     "end_time": "2021-05-07T14:51:29.237589Z",
     "start_time": "2021-05-07T14:51:29.224595Z"
    }
   },
   "outputs": [],
   "source": [
    "del param_grid_svm, grid_svm, RMSE, y_pred"
   ]
  },
  {
   "cell_type": "markdown",
   "metadata": {},
   "source": [
    "## (시언 감성 점수 (서술어 포함)) 이용 SVR 수립 및 평가"
   ]
  },
  {
   "cell_type": "code",
   "execution_count": 27,
   "metadata": {
    "ExecuteTime": {
     "end_time": "2021-05-07T14:52:24.739306Z",
     "start_time": "2021-05-07T14:51:29.239546Z"
    }
   },
   "outputs": [
    {
     "data": {
      "text/plain": [
       "GridSearchCV(cv=5, estimator=SVR(),\n",
       "             param_grid={'C': [0.1, 1, 10, 100, 1000],\n",
       "                         'gamma': [1, 0.1, 0.01, 0.001, 0.0001],\n",
       "                         'kernel': ['linear', 'poly', 'rbf', 'sigmoid']},\n",
       "             refit='mse')"
      ]
     },
     "execution_count": 27,
     "metadata": {},
     "output_type": "execute_result"
    }
   ],
   "source": [
    "# defining parameter range\n",
    "param_grid_svm = {'C': [0.1, 1, 10, 100, 1000], \n",
    "              'gamma': [1, 0.1, 0.01, 0.001, 0.0001],\n",
    "              'kernel': ['linear','poly','rbf','sigmoid']} \n",
    "  \n",
    "grid_svm = GridSearchCV(SVR(), param_grid_svm, refit = 'mse', verbose = 0, cv = 5)\n",
    "\n",
    "# fitting the model for grid search\n",
    "grid_svm.fit(X_train_si_verb_svm, y_train)"
   ]
  },
  {
   "cell_type": "code",
   "execution_count": 28,
   "metadata": {
    "ExecuteTime": {
     "end_time": "2021-05-07T14:52:24.755221Z",
     "start_time": "2021-05-07T14:52:24.741254Z"
    }
   },
   "outputs": [
    {
     "name": "stdout",
     "output_type": "stream",
     "text": [
      "15.661205389881301\n",
      "{'C': 10, 'gamma': 0.01, 'kernel': 'rbf'}\n",
      "SVR(C=10, gamma=0.01)\n"
     ]
    }
   ],
   "source": [
    "y_pred = grid_svm.predict(X_test_si_svm)\n",
    "RMSE = mean_squared_error(y_test, y_pred)**0.5\n",
    "\n",
    "# RMSE 출력\n",
    "print(RMSE)\n",
    "\n",
    "# print best parameter after tuning\n",
    "print(grid_svm.best_params_)\n",
    "  \n",
    "# print how our model looks after hyper-parameter tuning\n",
    "print(grid_svm.best_estimator_)"
   ]
  },
  {
   "cell_type": "code",
   "execution_count": 29,
   "metadata": {
    "ExecuteTime": {
     "end_time": "2021-05-07T14:52:24.770181Z",
     "start_time": "2021-05-07T14:52:24.758221Z"
    }
   },
   "outputs": [],
   "source": [
    "del param_grid_svm, grid_svm, RMSE, y_pred"
   ]
  },
  {
   "cell_type": "markdown",
   "metadata": {},
   "source": [
    "# 효준 감성 점수(명사) Case"
   ]
  },
  {
   "cell_type": "markdown",
   "metadata": {},
   "source": [
    "## 효준 감성 점수 포함 성능"
   ]
  },
  {
   "cell_type": "code",
   "execution_count": 30,
   "metadata": {
    "ExecuteTime": {
     "end_time": "2021-05-07T14:52:24.786169Z",
     "start_time": "2021-05-07T14:52:24.772173Z"
    }
   },
   "outputs": [],
   "source": [
    "X_train_hj = X_train.drop(['시언감성점수','시언서술포함감성점수','주택', '아파트', '분양', '서울', '가구', '부동산', '단지', '시장'],axis = 1)\n",
    "X_test_hj = X_test.drop(['시언감성점수','시언서술포함감성점수','주택', '아파트', '분양', '서울', '가구', '부동산', '단지', '시장'],axis = 1)"
   ]
  },
  {
   "cell_type": "code",
   "execution_count": 31,
   "metadata": {
    "ExecuteTime": {
     "end_time": "2021-05-07T14:52:24.802093Z",
     "start_time": "2021-05-07T14:52:24.789128Z"
    }
   },
   "outputs": [],
   "source": [
    "sc = StandardScaler()\n",
    "X_train_hj = sc.fit_transform(X_train_hj)\n",
    "X_test_hj = sc.transform(X_test_hj)"
   ]
  },
  {
   "cell_type": "code",
   "execution_count": 32,
   "metadata": {
    "ExecuteTime": {
     "end_time": "2021-05-07T14:53:12.518057Z",
     "start_time": "2021-05-07T14:52:24.805084Z"
    }
   },
   "outputs": [
    {
     "data": {
      "text/plain": [
       "GridSearchCV(cv=5, estimator=SVR(),\n",
       "             param_grid={'C': [0.1, 1, 10, 100, 1000],\n",
       "                         'gamma': [1, 0.1, 0.01, 0.001, 0.0001],\n",
       "                         'kernel': ['linear', 'poly', 'rbf', 'sigmoid']},\n",
       "             refit='mse')"
      ]
     },
     "execution_count": 32,
     "metadata": {},
     "output_type": "execute_result"
    }
   ],
   "source": [
    "# defining parameter range\n",
    "param_grid_svm = {'C': [0.1, 1, 10, 100, 1000], \n",
    "              'gamma': [1, 0.1, 0.01, 0.001, 0.0001],\n",
    "              'kernel': ['linear','poly','rbf','sigmoid']} \n",
    "  \n",
    "grid_svm = GridSearchCV(SVR(), param_grid_svm, refit = 'mse', verbose = 0, cv = 5)\n",
    "\n",
    "# fitting the model for grid search\n",
    "grid_svm.fit(X_train_hj, y_train)"
   ]
  },
  {
   "cell_type": "code",
   "execution_count": 33,
   "metadata": {
    "ExecuteTime": {
     "end_time": "2021-05-07T14:53:12.533986Z",
     "start_time": "2021-05-07T14:53:12.520024Z"
    }
   },
   "outputs": [
    {
     "name": "stdout",
     "output_type": "stream",
     "text": [
      "7.9575509904832975\n",
      "{'C': 1000, 'gamma': 0.01, 'kernel': 'rbf'}\n",
      "SVR(C=1000, gamma=0.01)\n"
     ]
    }
   ],
   "source": [
    "y_pred = grid_svm.predict(X_test_hj)\n",
    "RMSE = mean_squared_error(y_test, y_pred)**0.5\n",
    "\n",
    "# RMSE 출력\n",
    "print(RMSE)\n",
    "\n",
    "# print best parameter after tuning\n",
    "print(grid_svm.best_params_)\n",
    "  \n",
    "# print how our model looks after hyper-parameter tuning\n",
    "print(grid_svm.best_estimator_)"
   ]
  },
  {
   "cell_type": "code",
   "execution_count": 34,
   "metadata": {
    "ExecuteTime": {
     "end_time": "2021-05-07T14:53:12.549946Z",
     "start_time": "2021-05-07T14:53:12.537977Z"
    }
   },
   "outputs": [],
   "source": [
    "del param_grid_svm, grid_svm, RMSE, y_pred"
   ]
  },
  {
   "cell_type": "markdown",
   "metadata": {},
   "source": [
    "# TF-IDF 상위 8개 단어 빈도수 추가 Case"
   ]
  },
  {
   "cell_type": "code",
   "execution_count": 35,
   "metadata": {
    "ExecuteTime": {
     "end_time": "2021-05-07T14:53:12.565207Z",
     "start_time": "2021-05-07T14:53:12.551937Z"
    }
   },
   "outputs": [],
   "source": [
    "X_train_tf_idf = X_train.drop(columns = [], axis = 1)\n",
    "X_test_tf_idf = X_test.drop(columns = [], axis = 1)"
   ]
  },
  {
   "cell_type": "code",
   "execution_count": 36,
   "metadata": {
    "ExecuteTime": {
     "end_time": "2021-05-07T14:53:12.581240Z",
     "start_time": "2021-05-07T14:53:12.567277Z"
    }
   },
   "outputs": [],
   "source": [
    "sc = StandardScaler()\n",
    "X_train_tf_idf = sc.fit_transform(X_train_tf_idf)\n",
    "X_test_tf_idf = sc.transform(X_test_tf_idf)"
   ]
  },
  {
   "cell_type": "code",
   "execution_count": 37,
   "metadata": {
    "ExecuteTime": {
     "end_time": "2021-05-07T14:54:01.016286Z",
     "start_time": "2021-05-07T14:53:12.583234Z"
    }
   },
   "outputs": [
    {
     "data": {
      "text/plain": [
       "GridSearchCV(cv=5, estimator=SVR(),\n",
       "             param_grid={'C': [0.1, 1, 10, 100, 1000],\n",
       "                         'gamma': [1, 0.1, 0.01, 0.001, 0.0001],\n",
       "                         'kernel': ['linear', 'poly', 'rbf', 'sigmoid']},\n",
       "             refit='mse')"
      ]
     },
     "execution_count": 37,
     "metadata": {},
     "output_type": "execute_result"
    }
   ],
   "source": [
    "# defining parameter range\n",
    "param_grid_svm = {'C': [0.1, 1, 10, 100, 1000], \n",
    "              'gamma': [1, 0.1, 0.01, 0.001, 0.0001],\n",
    "              'kernel': ['linear','poly','rbf','sigmoid']} \n",
    "  \n",
    "grid_svm = GridSearchCV(SVR(), param_grid_svm, refit = 'mse', verbose = 0, cv = 5)\n",
    "\n",
    "# fitting the model for grid search\n",
    "grid_svm.fit(X_train_tf_idf, y_train)"
   ]
  },
  {
   "cell_type": "code",
   "execution_count": 38,
   "metadata": {
    "ExecuteTime": {
     "end_time": "2021-05-07T14:54:01.032235Z",
     "start_time": "2021-05-07T14:54:01.020298Z"
    }
   },
   "outputs": [
    {
     "name": "stdout",
     "output_type": "stream",
     "text": [
      "7.07880868749114\n",
      "{'C': 100, 'gamma': 0.01, 'kernel': 'rbf'}\n",
      "SVR(C=100, gamma=0.01)\n"
     ]
    }
   ],
   "source": [
    "y_pred = grid_svm.predict(X_test_tf_idf)\n",
    "RMSE = mean_squared_error(y_test, y_pred)**0.5\n",
    "\n",
    "# RMSE 출력\n",
    "print(RMSE)\n",
    "\n",
    "# print best parameter after tuning\n",
    "print(grid_svm.best_params_)\n",
    "  \n",
    "# print how our model looks after hyper-parameter tuning\n",
    "print(grid_svm.best_estimator_)"
   ]
  },
  {
   "cell_type": "code",
   "execution_count": 39,
   "metadata": {
    "ExecuteTime": {
     "end_time": "2021-05-07T14:54:01.048194Z",
     "start_time": "2021-05-07T14:54:01.036225Z"
    }
   },
   "outputs": [],
   "source": [
    "del param_grid_svm, grid_svm, RMSE, y_pred"
   ]
  }
 ],
 "metadata": {
  "hide_input": false,
  "kernelspec": {
   "display_name": "Python 3",
   "language": "python",
   "name": "python3"
  },
  "language_info": {
   "codemirror_mode": {
    "name": "ipython",
    "version": 3
   },
   "file_extension": ".py",
   "mimetype": "text/x-python",
   "name": "python",
   "nbconvert_exporter": "python",
   "pygments_lexer": "ipython3",
   "version": "3.8.5"
  },
  "toc": {
   "base_numbering": 1,
   "nav_menu": {},
   "number_sections": true,
   "sideBar": true,
   "skip_h1_title": false,
   "title_cell": "Table of Contents",
   "title_sidebar": "Contents",
   "toc_cell": false,
   "toc_position": {
    "height": "calc(100% - 180px)",
    "left": "10px",
    "top": "150px",
    "width": "473.273px"
   },
   "toc_section_display": true,
   "toc_window_display": false
  },
  "varInspector": {
   "cols": {
    "lenName": 16,
    "lenType": 16,
    "lenVar": 40
   },
   "kernels_config": {
    "python": {
     "delete_cmd_postfix": "",
     "delete_cmd_prefix": "del ",
     "library": "var_list.py",
     "varRefreshCmd": "print(var_dic_list())"
    },
    "r": {
     "delete_cmd_postfix": ") ",
     "delete_cmd_prefix": "rm(",
     "library": "var_list.r",
     "varRefreshCmd": "cat(var_dic_list()) "
    }
   },
   "types_to_exclude": [
    "module",
    "function",
    "builtin_function_or_method",
    "instance",
    "_Feature"
   ],
   "window_display": false
  }
 },
 "nbformat": 4,
 "nbformat_minor": 5
}
