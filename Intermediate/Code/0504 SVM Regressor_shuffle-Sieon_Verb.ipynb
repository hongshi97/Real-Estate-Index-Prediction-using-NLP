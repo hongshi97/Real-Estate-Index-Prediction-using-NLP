{
 "cells": [
  {
   "cell_type": "code",
   "execution_count": 2,
   "metadata": {
    "ExecuteTime": {
     "end_time": "2021-05-07T04:48:16.589254Z",
     "start_time": "2021-05-07T04:48:15.033235Z"
    }
   },
   "outputs": [],
   "source": [
    "from sklearn.svm import SVR\n",
    "from sklearn.preprocessing import StandardScaler\n",
    "import numpy as np\n",
    "import pandas as pd\n",
    "import matplotlib.pyplot as plt\n",
    "from sklearn.metrics import plot_roc_curve\n",
    "from sklearn.metrics import roc_auc_score, roc_curve, auc\n",
    "from sklearn.preprocessing import OneHotEncoder\n",
    "from sklearn.metrics import classification_report, confusion_matrix, accuracy_score\n",
    "from sklearn.model_selection import KFold, GridSearchCV\n",
    "from sklearn.model_selection import train_test_split"
   ]
  },
  {
   "cell_type": "markdown",
   "metadata": {},
   "source": [
    "# 데이터 불러오기"
   ]
  },
  {
   "cell_type": "markdown",
   "metadata": {},
   "source": [
    "## 효준이 감성 점수 포함된 데이터 불러오기"
   ]
  },
  {
   "cell_type": "code",
   "execution_count": 3,
   "metadata": {
    "ExecuteTime": {
     "end_time": "2021-05-07T04:48:19.781820Z",
     "start_time": "2021-05-07T04:48:19.760963Z"
    }
   },
   "outputs": [],
   "source": [
    "df = pd.read_csv('서술어포함_시언감성점수.csv')"
   ]
  },
  {
   "cell_type": "code",
   "execution_count": 4,
   "metadata": {
    "ExecuteTime": {
     "end_time": "2021-05-07T04:48:20.608952Z",
     "start_time": "2021-05-07T04:48:20.588509Z"
    }
   },
   "outputs": [
    {
     "data": {
      "text/html": [
       "<div>\n",
       "<style scoped>\n",
       "    .dataframe tbody tr th:only-of-type {\n",
       "        vertical-align: middle;\n",
       "    }\n",
       "\n",
       "    .dataframe tbody tr th {\n",
       "        vertical-align: top;\n",
       "    }\n",
       "\n",
       "    .dataframe thead th {\n",
       "        text-align: right;\n",
       "    }\n",
       "</style>\n",
       "<table border=\"1\" class=\"dataframe\">\n",
       "  <thead>\n",
       "    <tr style=\"text-align: right;\">\n",
       "      <th></th>\n",
       "      <th>M2</th>\n",
       "      <th>comp basemoney rate</th>\n",
       "      <th>base rate</th>\n",
       "      <th>consumer price index</th>\n",
       "      <th>kospi close</th>\n",
       "      <th>ex-rate close</th>\n",
       "      <th>효준감성점수</th>\n",
       "      <th>next_spi</th>\n",
       "    </tr>\n",
       "  </thead>\n",
       "  <tbody>\n",
       "    <tr>\n",
       "      <th>0</th>\n",
       "      <td>1676.4</td>\n",
       "      <td>4.52</td>\n",
       "      <td>2.75</td>\n",
       "      <td>3.4</td>\n",
       "      <td>2069.73</td>\n",
       "      <td>1119.25</td>\n",
       "      <td>-1.635618e+08</td>\n",
       "      <td>82.5</td>\n",
       "    </tr>\n",
       "    <tr>\n",
       "      <th>1</th>\n",
       "      <td>1674.4</td>\n",
       "      <td>4.72</td>\n",
       "      <td>2.75</td>\n",
       "      <td>3.9</td>\n",
       "      <td>1939.30</td>\n",
       "      <td>1124.65</td>\n",
       "      <td>-1.777621e+08</td>\n",
       "      <td>83.4</td>\n",
       "    </tr>\n",
       "    <tr>\n",
       "      <th>2</th>\n",
       "      <td>1677.5</td>\n",
       "      <td>4.54</td>\n",
       "      <td>3.00</td>\n",
       "      <td>4.1</td>\n",
       "      <td>2106.70</td>\n",
       "      <td>1095.50</td>\n",
       "      <td>-1.980306e+08</td>\n",
       "      <td>83.9</td>\n",
       "    </tr>\n",
       "    <tr>\n",
       "      <th>3</th>\n",
       "      <td>1684.8</td>\n",
       "      <td>4.54</td>\n",
       "      <td>3.00</td>\n",
       "      <td>3.8</td>\n",
       "      <td>2192.36</td>\n",
       "      <td>1068.00</td>\n",
       "      <td>-1.898849e+08</td>\n",
       "      <td>84.1</td>\n",
       "    </tr>\n",
       "    <tr>\n",
       "      <th>4</th>\n",
       "      <td>1690.5</td>\n",
       "      <td>4.44</td>\n",
       "      <td>3.00</td>\n",
       "      <td>3.9</td>\n",
       "      <td>2142.47</td>\n",
       "      <td>1078.00</td>\n",
       "      <td>-2.402702e+08</td>\n",
       "      <td>84.4</td>\n",
       "    </tr>\n",
       "    <tr>\n",
       "      <th>...</th>\n",
       "      <td>...</td>\n",
       "      <td>...</td>\n",
       "      <td>...</td>\n",
       "      <td>...</td>\n",
       "      <td>...</td>\n",
       "      <td>...</td>\n",
       "      <td>...</td>\n",
       "      <td>...</td>\n",
       "    </tr>\n",
       "    <tr>\n",
       "      <th>115</th>\n",
       "      <td>3100.4</td>\n",
       "      <td>2.19</td>\n",
       "      <td>0.50</td>\n",
       "      <td>0.7</td>\n",
       "      <td>2326.17</td>\n",
       "      <td>1187.94</td>\n",
       "      <td>3.239718e+07</td>\n",
       "      <td>114.0</td>\n",
       "    </tr>\n",
       "    <tr>\n",
       "      <th>116</th>\n",
       "      <td>3115.2</td>\n",
       "      <td>2.24</td>\n",
       "      <td>0.50</td>\n",
       "      <td>1.0</td>\n",
       "      <td>2327.89</td>\n",
       "      <td>1164.65</td>\n",
       "      <td>4.511543e+07</td>\n",
       "      <td>115.6</td>\n",
       "    </tr>\n",
       "    <tr>\n",
       "      <th>117</th>\n",
       "      <td>3152.8</td>\n",
       "      <td>2.24</td>\n",
       "      <td>0.50</td>\n",
       "      <td>0.1</td>\n",
       "      <td>2267.15</td>\n",
       "      <td>1136.49</td>\n",
       "      <td>4.169356e+07</td>\n",
       "      <td>118.3</td>\n",
       "    </tr>\n",
       "    <tr>\n",
       "      <th>118</th>\n",
       "      <td>3183.5</td>\n",
       "      <td>2.25</td>\n",
       "      <td>0.50</td>\n",
       "      <td>0.6</td>\n",
       "      <td>2591.34</td>\n",
       "      <td>1109.32</td>\n",
       "      <td>4.231788e+07</td>\n",
       "      <td>121.4</td>\n",
       "    </tr>\n",
       "    <tr>\n",
       "      <th>119</th>\n",
       "      <td>3183.5</td>\n",
       "      <td>2.21</td>\n",
       "      <td>0.50</td>\n",
       "      <td>0.5</td>\n",
       "      <td>2873.47</td>\n",
       "      <td>1084.47</td>\n",
       "      <td>5.645645e+07</td>\n",
       "      <td>124.9</td>\n",
       "    </tr>\n",
       "  </tbody>\n",
       "</table>\n",
       "<p>120 rows × 8 columns</p>\n",
       "</div>"
      ],
      "text/plain": [
       "         M2  comp basemoney rate  base rate  consumer price index  \\\n",
       "0    1676.4                 4.52       2.75                   3.4   \n",
       "1    1674.4                 4.72       2.75                   3.9   \n",
       "2    1677.5                 4.54       3.00                   4.1   \n",
       "3    1684.8                 4.54       3.00                   3.8   \n",
       "4    1690.5                 4.44       3.00                   3.9   \n",
       "..      ...                  ...        ...                   ...   \n",
       "115  3100.4                 2.19       0.50                   0.7   \n",
       "116  3115.2                 2.24       0.50                   1.0   \n",
       "117  3152.8                 2.24       0.50                   0.1   \n",
       "118  3183.5                 2.25       0.50                   0.6   \n",
       "119  3183.5                 2.21       0.50                   0.5   \n",
       "\n",
       "     kospi close  ex-rate close        효준감성점수  next_spi  \n",
       "0        2069.73        1119.25 -1.635618e+08      82.5  \n",
       "1        1939.30        1124.65 -1.777621e+08      83.4  \n",
       "2        2106.70        1095.50 -1.980306e+08      83.9  \n",
       "3        2192.36        1068.00 -1.898849e+08      84.1  \n",
       "4        2142.47        1078.00 -2.402702e+08      84.4  \n",
       "..           ...            ...           ...       ...  \n",
       "115      2326.17        1187.94  3.239718e+07     114.0  \n",
       "116      2327.89        1164.65  4.511543e+07     115.6  \n",
       "117      2267.15        1136.49  4.169356e+07     118.3  \n",
       "118      2591.34        1109.32  4.231788e+07     121.4  \n",
       "119      2873.47        1084.47  5.645645e+07     124.9  \n",
       "\n",
       "[120 rows x 8 columns]"
      ]
     },
     "execution_count": 4,
     "metadata": {},
     "output_type": "execute_result"
    }
   ],
   "source": [
    "df"
   ]
  },
  {
   "cell_type": "code",
   "execution_count": 5,
   "metadata": {
    "ExecuteTime": {
     "end_time": "2021-05-07T04:48:21.710154Z",
     "start_time": "2021-05-07T04:48:21.694693Z"
    }
   },
   "outputs": [],
   "source": [
    "df['sieon_sent_score'] = df['효준감성점수']"
   ]
  },
  {
   "cell_type": "code",
   "execution_count": 6,
   "metadata": {
    "ExecuteTime": {
     "end_time": "2021-05-07T04:48:22.766903Z",
     "start_time": "2021-05-07T04:48:22.747856Z"
    }
   },
   "outputs": [],
   "source": [
    "df.drop('효준감성점수', axis = 1, inplace = True)"
   ]
  },
  {
   "cell_type": "code",
   "execution_count": 7,
   "metadata": {
    "ExecuteTime": {
     "end_time": "2021-05-07T04:48:24.213401Z",
     "start_time": "2021-05-07T04:48:24.193161Z"
    },
    "scrolled": true
   },
   "outputs": [
    {
     "data": {
      "text/html": [
       "<div>\n",
       "<style scoped>\n",
       "    .dataframe tbody tr th:only-of-type {\n",
       "        vertical-align: middle;\n",
       "    }\n",
       "\n",
       "    .dataframe tbody tr th {\n",
       "        vertical-align: top;\n",
       "    }\n",
       "\n",
       "    .dataframe thead th {\n",
       "        text-align: right;\n",
       "    }\n",
       "</style>\n",
       "<table border=\"1\" class=\"dataframe\">\n",
       "  <thead>\n",
       "    <tr style=\"text-align: right;\">\n",
       "      <th></th>\n",
       "      <th>M2</th>\n",
       "      <th>comp basemoney rate</th>\n",
       "      <th>base rate</th>\n",
       "      <th>consumer price index</th>\n",
       "      <th>kospi close</th>\n",
       "      <th>ex-rate close</th>\n",
       "      <th>next_spi</th>\n",
       "      <th>sieon_sent_score</th>\n",
       "    </tr>\n",
       "  </thead>\n",
       "  <tbody>\n",
       "    <tr>\n",
       "      <th>0</th>\n",
       "      <td>1676.4</td>\n",
       "      <td>4.52</td>\n",
       "      <td>2.75</td>\n",
       "      <td>3.4</td>\n",
       "      <td>2069.73</td>\n",
       "      <td>1119.25</td>\n",
       "      <td>82.5</td>\n",
       "      <td>-1.635618e+08</td>\n",
       "    </tr>\n",
       "    <tr>\n",
       "      <th>1</th>\n",
       "      <td>1674.4</td>\n",
       "      <td>4.72</td>\n",
       "      <td>2.75</td>\n",
       "      <td>3.9</td>\n",
       "      <td>1939.30</td>\n",
       "      <td>1124.65</td>\n",
       "      <td>83.4</td>\n",
       "      <td>-1.777621e+08</td>\n",
       "    </tr>\n",
       "    <tr>\n",
       "      <th>2</th>\n",
       "      <td>1677.5</td>\n",
       "      <td>4.54</td>\n",
       "      <td>3.00</td>\n",
       "      <td>4.1</td>\n",
       "      <td>2106.70</td>\n",
       "      <td>1095.50</td>\n",
       "      <td>83.9</td>\n",
       "      <td>-1.980306e+08</td>\n",
       "    </tr>\n",
       "    <tr>\n",
       "      <th>3</th>\n",
       "      <td>1684.8</td>\n",
       "      <td>4.54</td>\n",
       "      <td>3.00</td>\n",
       "      <td>3.8</td>\n",
       "      <td>2192.36</td>\n",
       "      <td>1068.00</td>\n",
       "      <td>84.1</td>\n",
       "      <td>-1.898849e+08</td>\n",
       "    </tr>\n",
       "    <tr>\n",
       "      <th>4</th>\n",
       "      <td>1690.5</td>\n",
       "      <td>4.44</td>\n",
       "      <td>3.00</td>\n",
       "      <td>3.9</td>\n",
       "      <td>2142.47</td>\n",
       "      <td>1078.00</td>\n",
       "      <td>84.4</td>\n",
       "      <td>-2.402702e+08</td>\n",
       "    </tr>\n",
       "    <tr>\n",
       "      <th>...</th>\n",
       "      <td>...</td>\n",
       "      <td>...</td>\n",
       "      <td>...</td>\n",
       "      <td>...</td>\n",
       "      <td>...</td>\n",
       "      <td>...</td>\n",
       "      <td>...</td>\n",
       "      <td>...</td>\n",
       "    </tr>\n",
       "    <tr>\n",
       "      <th>115</th>\n",
       "      <td>3100.4</td>\n",
       "      <td>2.19</td>\n",
       "      <td>0.50</td>\n",
       "      <td>0.7</td>\n",
       "      <td>2326.17</td>\n",
       "      <td>1187.94</td>\n",
       "      <td>114.0</td>\n",
       "      <td>3.239718e+07</td>\n",
       "    </tr>\n",
       "    <tr>\n",
       "      <th>116</th>\n",
       "      <td>3115.2</td>\n",
       "      <td>2.24</td>\n",
       "      <td>0.50</td>\n",
       "      <td>1.0</td>\n",
       "      <td>2327.89</td>\n",
       "      <td>1164.65</td>\n",
       "      <td>115.6</td>\n",
       "      <td>4.511543e+07</td>\n",
       "    </tr>\n",
       "    <tr>\n",
       "      <th>117</th>\n",
       "      <td>3152.8</td>\n",
       "      <td>2.24</td>\n",
       "      <td>0.50</td>\n",
       "      <td>0.1</td>\n",
       "      <td>2267.15</td>\n",
       "      <td>1136.49</td>\n",
       "      <td>118.3</td>\n",
       "      <td>4.169356e+07</td>\n",
       "    </tr>\n",
       "    <tr>\n",
       "      <th>118</th>\n",
       "      <td>3183.5</td>\n",
       "      <td>2.25</td>\n",
       "      <td>0.50</td>\n",
       "      <td>0.6</td>\n",
       "      <td>2591.34</td>\n",
       "      <td>1109.32</td>\n",
       "      <td>121.4</td>\n",
       "      <td>4.231788e+07</td>\n",
       "    </tr>\n",
       "    <tr>\n",
       "      <th>119</th>\n",
       "      <td>3183.5</td>\n",
       "      <td>2.21</td>\n",
       "      <td>0.50</td>\n",
       "      <td>0.5</td>\n",
       "      <td>2873.47</td>\n",
       "      <td>1084.47</td>\n",
       "      <td>124.9</td>\n",
       "      <td>5.645645e+07</td>\n",
       "    </tr>\n",
       "  </tbody>\n",
       "</table>\n",
       "<p>120 rows × 8 columns</p>\n",
       "</div>"
      ],
      "text/plain": [
       "         M2  comp basemoney rate  base rate  consumer price index  \\\n",
       "0    1676.4                 4.52       2.75                   3.4   \n",
       "1    1674.4                 4.72       2.75                   3.9   \n",
       "2    1677.5                 4.54       3.00                   4.1   \n",
       "3    1684.8                 4.54       3.00                   3.8   \n",
       "4    1690.5                 4.44       3.00                   3.9   \n",
       "..      ...                  ...        ...                   ...   \n",
       "115  3100.4                 2.19       0.50                   0.7   \n",
       "116  3115.2                 2.24       0.50                   1.0   \n",
       "117  3152.8                 2.24       0.50                   0.1   \n",
       "118  3183.5                 2.25       0.50                   0.6   \n",
       "119  3183.5                 2.21       0.50                   0.5   \n",
       "\n",
       "     kospi close  ex-rate close  next_spi  sieon_sent_score  \n",
       "0        2069.73        1119.25      82.5     -1.635618e+08  \n",
       "1        1939.30        1124.65      83.4     -1.777621e+08  \n",
       "2        2106.70        1095.50      83.9     -1.980306e+08  \n",
       "3        2192.36        1068.00      84.1     -1.898849e+08  \n",
       "4        2142.47        1078.00      84.4     -2.402702e+08  \n",
       "..           ...            ...       ...               ...  \n",
       "115      2326.17        1187.94     114.0      3.239718e+07  \n",
       "116      2327.89        1164.65     115.6      4.511543e+07  \n",
       "117      2267.15        1136.49     118.3      4.169356e+07  \n",
       "118      2591.34        1109.32     121.4      4.231788e+07  \n",
       "119      2873.47        1084.47     124.9      5.645645e+07  \n",
       "\n",
       "[120 rows x 8 columns]"
      ]
     },
     "execution_count": 7,
     "metadata": {},
     "output_type": "execute_result"
    }
   ],
   "source": [
    "df"
   ]
  },
  {
   "cell_type": "code",
   "execution_count": 8,
   "metadata": {
    "ExecuteTime": {
     "end_time": "2021-05-07T04:48:25.883308Z",
     "start_time": "2021-05-07T04:48:25.858517Z"
    }
   },
   "outputs": [],
   "source": [
    "df.to_csv('df_verb.csv')"
   ]
  },
  {
   "cell_type": "markdown",
   "metadata": {},
   "source": [
    "# X,y 데이터 분할"
   ]
  },
  {
   "cell_type": "code",
   "execution_count": 7,
   "metadata": {
    "ExecuteTime": {
     "end_time": "2021-05-04T01:40:59.572011Z",
     "start_time": "2021-05-04T01:40:59.562036Z"
    }
   },
   "outputs": [],
   "source": [
    "X = df.copy()\n",
    "y = X.pop('next_spi')"
   ]
  },
  {
   "cell_type": "code",
   "execution_count": 8,
   "metadata": {
    "ExecuteTime": {
     "end_time": "2021-05-04T01:41:00.281705Z",
     "start_time": "2021-05-04T01:41:00.259764Z"
    }
   },
   "outputs": [
    {
     "data": {
      "text/html": [
       "<div>\n",
       "<style scoped>\n",
       "    .dataframe tbody tr th:only-of-type {\n",
       "        vertical-align: middle;\n",
       "    }\n",
       "\n",
       "    .dataframe tbody tr th {\n",
       "        vertical-align: top;\n",
       "    }\n",
       "\n",
       "    .dataframe thead th {\n",
       "        text-align: right;\n",
       "    }\n",
       "</style>\n",
       "<table border=\"1\" class=\"dataframe\">\n",
       "  <thead>\n",
       "    <tr style=\"text-align: right;\">\n",
       "      <th></th>\n",
       "      <th>M2</th>\n",
       "      <th>comp basemoney rate</th>\n",
       "      <th>base rate</th>\n",
       "      <th>consumer price index</th>\n",
       "      <th>kospi close</th>\n",
       "      <th>ex-rate close</th>\n",
       "      <th>sieon_sent_score</th>\n",
       "    </tr>\n",
       "  </thead>\n",
       "  <tbody>\n",
       "    <tr>\n",
       "      <th>0</th>\n",
       "      <td>1676.4</td>\n",
       "      <td>4.52</td>\n",
       "      <td>2.75</td>\n",
       "      <td>3.4</td>\n",
       "      <td>2069.73</td>\n",
       "      <td>1119.25</td>\n",
       "      <td>-1.635618e+08</td>\n",
       "    </tr>\n",
       "    <tr>\n",
       "      <th>1</th>\n",
       "      <td>1674.4</td>\n",
       "      <td>4.72</td>\n",
       "      <td>2.75</td>\n",
       "      <td>3.9</td>\n",
       "      <td>1939.30</td>\n",
       "      <td>1124.65</td>\n",
       "      <td>-1.777621e+08</td>\n",
       "    </tr>\n",
       "    <tr>\n",
       "      <th>2</th>\n",
       "      <td>1677.5</td>\n",
       "      <td>4.54</td>\n",
       "      <td>3.00</td>\n",
       "      <td>4.1</td>\n",
       "      <td>2106.70</td>\n",
       "      <td>1095.50</td>\n",
       "      <td>-1.980306e+08</td>\n",
       "    </tr>\n",
       "    <tr>\n",
       "      <th>3</th>\n",
       "      <td>1684.8</td>\n",
       "      <td>4.54</td>\n",
       "      <td>3.00</td>\n",
       "      <td>3.8</td>\n",
       "      <td>2192.36</td>\n",
       "      <td>1068.00</td>\n",
       "      <td>-1.898849e+08</td>\n",
       "    </tr>\n",
       "    <tr>\n",
       "      <th>4</th>\n",
       "      <td>1690.5</td>\n",
       "      <td>4.44</td>\n",
       "      <td>3.00</td>\n",
       "      <td>3.9</td>\n",
       "      <td>2142.47</td>\n",
       "      <td>1078.00</td>\n",
       "      <td>-2.402702e+08</td>\n",
       "    </tr>\n",
       "    <tr>\n",
       "      <th>...</th>\n",
       "      <td>...</td>\n",
       "      <td>...</td>\n",
       "      <td>...</td>\n",
       "      <td>...</td>\n",
       "      <td>...</td>\n",
       "      <td>...</td>\n",
       "      <td>...</td>\n",
       "    </tr>\n",
       "    <tr>\n",
       "      <th>115</th>\n",
       "      <td>3100.4</td>\n",
       "      <td>2.19</td>\n",
       "      <td>0.50</td>\n",
       "      <td>0.7</td>\n",
       "      <td>2326.17</td>\n",
       "      <td>1187.94</td>\n",
       "      <td>3.239718e+07</td>\n",
       "    </tr>\n",
       "    <tr>\n",
       "      <th>116</th>\n",
       "      <td>3115.2</td>\n",
       "      <td>2.24</td>\n",
       "      <td>0.50</td>\n",
       "      <td>1.0</td>\n",
       "      <td>2327.89</td>\n",
       "      <td>1164.65</td>\n",
       "      <td>4.511543e+07</td>\n",
       "    </tr>\n",
       "    <tr>\n",
       "      <th>117</th>\n",
       "      <td>3152.8</td>\n",
       "      <td>2.24</td>\n",
       "      <td>0.50</td>\n",
       "      <td>0.1</td>\n",
       "      <td>2267.15</td>\n",
       "      <td>1136.49</td>\n",
       "      <td>4.169356e+07</td>\n",
       "    </tr>\n",
       "    <tr>\n",
       "      <th>118</th>\n",
       "      <td>3183.5</td>\n",
       "      <td>2.25</td>\n",
       "      <td>0.50</td>\n",
       "      <td>0.6</td>\n",
       "      <td>2591.34</td>\n",
       "      <td>1109.32</td>\n",
       "      <td>4.231788e+07</td>\n",
       "    </tr>\n",
       "    <tr>\n",
       "      <th>119</th>\n",
       "      <td>3183.5</td>\n",
       "      <td>2.21</td>\n",
       "      <td>0.50</td>\n",
       "      <td>0.5</td>\n",
       "      <td>2873.47</td>\n",
       "      <td>1084.47</td>\n",
       "      <td>5.645645e+07</td>\n",
       "    </tr>\n",
       "  </tbody>\n",
       "</table>\n",
       "<p>120 rows × 7 columns</p>\n",
       "</div>"
      ],
      "text/plain": [
       "         M2  comp basemoney rate  base rate  consumer price index  \\\n",
       "0    1676.4                 4.52       2.75                   3.4   \n",
       "1    1674.4                 4.72       2.75                   3.9   \n",
       "2    1677.5                 4.54       3.00                   4.1   \n",
       "3    1684.8                 4.54       3.00                   3.8   \n",
       "4    1690.5                 4.44       3.00                   3.9   \n",
       "..      ...                  ...        ...                   ...   \n",
       "115  3100.4                 2.19       0.50                   0.7   \n",
       "116  3115.2                 2.24       0.50                   1.0   \n",
       "117  3152.8                 2.24       0.50                   0.1   \n",
       "118  3183.5                 2.25       0.50                   0.6   \n",
       "119  3183.5                 2.21       0.50                   0.5   \n",
       "\n",
       "     kospi close  ex-rate close  sieon_sent_score  \n",
       "0        2069.73        1119.25     -1.635618e+08  \n",
       "1        1939.30        1124.65     -1.777621e+08  \n",
       "2        2106.70        1095.50     -1.980306e+08  \n",
       "3        2192.36        1068.00     -1.898849e+08  \n",
       "4        2142.47        1078.00     -2.402702e+08  \n",
       "..           ...            ...               ...  \n",
       "115      2326.17        1187.94      3.239718e+07  \n",
       "116      2327.89        1164.65      4.511543e+07  \n",
       "117      2267.15        1136.49      4.169356e+07  \n",
       "118      2591.34        1109.32      4.231788e+07  \n",
       "119      2873.47        1084.47      5.645645e+07  \n",
       "\n",
       "[120 rows x 7 columns]"
      ]
     },
     "execution_count": 8,
     "metadata": {},
     "output_type": "execute_result"
    }
   ],
   "source": [
    "X"
   ]
  },
  {
   "cell_type": "code",
   "execution_count": 9,
   "metadata": {
    "ExecuteTime": {
     "end_time": "2021-05-04T01:41:01.444593Z",
     "start_time": "2021-05-04T01:41:01.431628Z"
    }
   },
   "outputs": [
    {
     "data": {
      "text/plain": [
       "0       82.5\n",
       "1       83.4\n",
       "2       83.9\n",
       "3       84.1\n",
       "4       84.4\n",
       "       ...  \n",
       "115    114.0\n",
       "116    115.6\n",
       "117    118.3\n",
       "118    121.4\n",
       "119    124.9\n",
       "Name: next_spi, Length: 120, dtype: float64"
      ]
     },
     "execution_count": 9,
     "metadata": {},
     "output_type": "execute_result"
    }
   ],
   "source": [
    "y"
   ]
  },
  {
   "cell_type": "code",
   "execution_count": 10,
   "metadata": {
    "ExecuteTime": {
     "end_time": "2021-05-04T01:41:02.631895Z",
     "start_time": "2021-05-04T01:41:02.622927Z"
    }
   },
   "outputs": [],
   "source": [
    "from sklearn.model_selection import train_test_split"
   ]
  },
  {
   "cell_type": "code",
   "execution_count": 11,
   "metadata": {
    "ExecuteTime": {
     "end_time": "2021-05-04T01:41:06.461622Z",
     "start_time": "2021-05-04T01:41:06.447700Z"
    }
   },
   "outputs": [],
   "source": [
    "X_train, X_test, y_train, y_test = train_test_split(X, y, test_size = 0.25, random_state = 0)"
   ]
  },
  {
   "cell_type": "markdown",
   "metadata": {},
   "source": [
    "# 시언 감성 점수 Case"
   ]
  },
  {
   "cell_type": "markdown",
   "metadata": {},
   "source": [
    "## 시언 감성 점수 포함 성능"
   ]
  },
  {
   "cell_type": "code",
   "execution_count": 12,
   "metadata": {
    "ExecuteTime": {
     "end_time": "2021-05-04T01:41:39.318483Z",
     "start_time": "2021-05-04T01:41:39.297462Z"
    }
   },
   "outputs": [],
   "source": [
    "sc = StandardScaler()\n",
    "X_train = sc.fit_transform(X_train)\n",
    "X_test = sc.transform(X_test)"
   ]
  },
  {
   "cell_type": "code",
   "execution_count": 36,
   "metadata": {
    "ExecuteTime": {
     "end_time": "2021-05-04T01:43:51.236682Z",
     "start_time": "2021-05-04T01:43:51.223497Z"
    }
   },
   "outputs": [],
   "source": [
    "# default parameter \n",
    "svr = SVR(kernel = 'sigmoid')"
   ]
  },
  {
   "cell_type": "code",
   "execution_count": 37,
   "metadata": {
    "ExecuteTime": {
     "end_time": "2021-05-04T01:43:51.393975Z",
     "start_time": "2021-05-04T01:43:51.375056Z"
    }
   },
   "outputs": [
    {
     "data": {
      "text/plain": [
       "SVR(kernel='sigmoid')"
      ]
     },
     "execution_count": 37,
     "metadata": {},
     "output_type": "execute_result"
    }
   ],
   "source": [
    "svr.fit(X_train, y_train)"
   ]
  },
  {
   "cell_type": "code",
   "execution_count": 38,
   "metadata": {
    "ExecuteTime": {
     "end_time": "2021-05-04T01:43:51.565731Z",
     "start_time": "2021-05-04T01:43:51.554714Z"
    }
   },
   "outputs": [],
   "source": [
    "y_pred = svr.predict(X_test)"
   ]
  },
  {
   "cell_type": "code",
   "execution_count": 39,
   "metadata": {
    "ExecuteTime": {
     "end_time": "2021-05-04T01:43:51.723024Z",
     "start_time": "2021-05-04T01:43:51.711043Z"
    }
   },
   "outputs": [],
   "source": [
    "from sklearn.metrics import mean_squared_error"
   ]
  },
  {
   "cell_type": "code",
   "execution_count": 40,
   "metadata": {
    "ExecuteTime": {
     "end_time": "2021-05-04T01:43:51.864812Z",
     "start_time": "2021-05-04T01:43:51.847834Z"
    }
   },
   "outputs": [],
   "source": [
    "RMSE = mean_squared_error(y_test, y_pred)**0.5"
   ]
  },
  {
   "cell_type": "code",
   "execution_count": 41,
   "metadata": {
    "ExecuteTime": {
     "end_time": "2021-05-04T01:43:52.021125Z",
     "start_time": "2021-05-04T01:43:52.004169Z"
    }
   },
   "outputs": [
    {
     "data": {
      "text/plain": [
       "3.5963800779679356"
      ]
     },
     "execution_count": 41,
     "metadata": {},
     "output_type": "execute_result"
    }
   ],
   "source": [
    "RMSE"
   ]
  },
  {
   "cell_type": "code",
   "execution_count": 42,
   "metadata": {
    "ExecuteTime": {
     "end_time": "2021-05-04T01:43:52.777787Z",
     "start_time": "2021-05-04T01:43:52.769800Z"
    }
   },
   "outputs": [],
   "source": [
    "del svr, RMSE"
   ]
  },
  {
   "cell_type": "markdown",
   "metadata": {
    "ExecuteTime": {
     "end_time": "2021-05-04T01:26:04.717472Z",
     "start_time": "2021-05-04T01:26:04.697488Z"
    }
   },
   "source": [
    "**kernel 별 RMSE 값** ( 소숫점 다섯째 자리부터 버림 )\n",
    "- 거시경제변수만 사용 ==> 시언이 감성 점수(서술어 포함) 포함\n",
    "- linear : 2.6694 ==> 2.5216\n",
    "- poly : 4.9715 ==> 4.8062\n",
    "- rbf : 5.8788 ==> 5.7303\n",
    "- sigmoid : 3.6421 ==> 3.5963"
   ]
  }
 ],
 "metadata": {
  "hide_input": false,
  "kernelspec": {
   "display_name": "Python 3",
   "language": "python",
   "name": "python3"
  },
  "language_info": {
   "codemirror_mode": {
    "name": "ipython",
    "version": 3
   },
   "file_extension": ".py",
   "mimetype": "text/x-python",
   "name": "python",
   "nbconvert_exporter": "python",
   "pygments_lexer": "ipython3",
   "version": "3.8.5"
  },
  "toc": {
   "base_numbering": 1,
   "nav_menu": {},
   "number_sections": true,
   "sideBar": true,
   "skip_h1_title": false,
   "title_cell": "Table of Contents",
   "title_sidebar": "Contents",
   "toc_cell": false,
   "toc_position": {},
   "toc_section_display": true,
   "toc_window_display": false
  },
  "varInspector": {
   "cols": {
    "lenName": 16,
    "lenType": 16,
    "lenVar": 40
   },
   "kernels_config": {
    "python": {
     "delete_cmd_postfix": "",
     "delete_cmd_prefix": "del ",
     "library": "var_list.py",
     "varRefreshCmd": "print(var_dic_list())"
    },
    "r": {
     "delete_cmd_postfix": ") ",
     "delete_cmd_prefix": "rm(",
     "library": "var_list.r",
     "varRefreshCmd": "cat(var_dic_list()) "
    }
   },
   "types_to_exclude": [
    "module",
    "function",
    "builtin_function_or_method",
    "instance",
    "_Feature"
   ],
   "window_display": false
  }
 },
 "nbformat": 4,
 "nbformat_minor": 5
}
