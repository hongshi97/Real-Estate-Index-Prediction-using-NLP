{
 "cells": [
  {
   "cell_type": "code",
   "execution_count": 1,
   "metadata": {
    "ExecuteTime": {
     "end_time": "2021-05-07T14:23:53.288053Z",
     "start_time": "2021-05-07T14:23:51.339387Z"
    }
   },
   "outputs": [],
   "source": [
    "from sklearn.svm import SVR\n",
    "from sklearn.ensemble import RandomForestRegressor\n",
    "from sklearn.preprocessing import StandardScaler\n",
    "import pandas as pd\n",
    "from sklearn.metrics import mean_squared_error\n",
    "from sklearn.model_selection import train_test_split"
   ]
  },
  {
   "cell_type": "markdown",
   "metadata": {},
   "source": [
    "# 데이터 불러오기"
   ]
  },
  {
   "cell_type": "markdown",
   "metadata": {},
   "source": [
    "## 효준이 감성 점수 포함된 데이터 불러오기"
   ]
  },
  {
   "cell_type": "code",
   "execution_count": 2,
   "metadata": {
    "ExecuteTime": {
     "end_time": "2021-05-07T14:23:54.051921Z",
     "start_time": "2021-05-07T14:23:54.038948Z"
    },
    "scrolled": true
   },
   "outputs": [],
   "source": [
    "df = pd.read_csv('분석용데이터_utf_spi수정완료.csv')"
   ]
  },
  {
   "cell_type": "code",
   "execution_count": 4,
   "metadata": {
    "ExecuteTime": {
     "end_time": "2021-05-07T14:24:07.804615Z",
     "start_time": "2021-05-07T14:24:07.786631Z"
    }
   },
   "outputs": [],
   "source": [
    "df2 = pd.read_csv('df_verb.csv')"
   ]
  },
  {
   "cell_type": "code",
   "execution_count": 5,
   "metadata": {
    "ExecuteTime": {
     "end_time": "2021-05-07T14:24:08.772502Z",
     "start_time": "2021-05-07T14:24:08.755515Z"
    }
   },
   "outputs": [],
   "source": [
    "b = df2[['sieon_sent_score']]"
   ]
  },
  {
   "cell_type": "code",
   "execution_count": 6,
   "metadata": {
    "ExecuteTime": {
     "end_time": "2021-05-07T14:24:10.025383Z",
     "start_time": "2021-05-07T14:24:10.015406Z"
    }
   },
   "outputs": [],
   "source": [
    "#Date를 index로 넣어줌\n",
    "df.index = df['Date']\n",
    "df.drop(['Date'], axis = 1, inplace = True)"
   ]
  },
  {
   "cell_type": "markdown",
   "metadata": {},
   "source": [
    "## 시언이 감성 점수 불러오기"
   ]
  },
  {
   "cell_type": "code",
   "execution_count": 7,
   "metadata": {
    "ExecuteTime": {
     "end_time": "2021-05-07T14:24:14.399943Z",
     "start_time": "2021-05-07T14:24:11.409287Z"
    }
   },
   "outputs": [],
   "source": [
    "temp = pd.read_csv('news_with_sent_score.csv')\n",
    "temp.drop(['Unnamed: 0'], axis = 1, inplace = True)"
   ]
  },
  {
   "cell_type": "code",
   "execution_count": 8,
   "metadata": {
    "ExecuteTime": {
     "end_time": "2021-05-07T14:24:15.020680Z",
     "start_time": "2021-05-07T14:24:15.010707Z"
    }
   },
   "outputs": [],
   "source": [
    "sent_score = temp['sent_score']"
   ]
  },
  {
   "cell_type": "code",
   "execution_count": 9,
   "metadata": {
    "ExecuteTime": {
     "end_time": "2021-05-07T14:24:15.427353Z",
     "start_time": "2021-05-07T14:24:15.413354Z"
    }
   },
   "outputs": [
    {
     "data": {
      "text/plain": [
       "0     -6.268386e+07\n",
       "1     -6.255832e+07\n",
       "2     -6.957441e+07\n",
       "3     -7.305733e+07\n",
       "4     -9.356633e+07\n",
       "           ...     \n",
       "115   -5.824726e+07\n",
       "116   -6.441351e+07\n",
       "117   -3.751069e+07\n",
       "118   -3.147741e+07\n",
       "119   -3.986893e+07\n",
       "Name: sent_score, Length: 120, dtype: float64"
      ]
     },
     "execution_count": 9,
     "metadata": {},
     "output_type": "execute_result"
    }
   ],
   "source": [
    "sent_score"
   ]
  },
  {
   "cell_type": "code",
   "execution_count": 10,
   "metadata": {
    "ExecuteTime": {
     "end_time": "2021-05-07T14:24:16.034892Z",
     "start_time": "2021-05-07T14:24:15.997991Z"
    }
   },
   "outputs": [],
   "source": [
    "del temp"
   ]
  },
  {
   "cell_type": "markdown",
   "metadata": {},
   "source": [
    "## 효준이 감성 점수 포함 데이터 프레임에 시언이 감성 점수 포함시키기"
   ]
  },
  {
   "cell_type": "code",
   "execution_count": 11,
   "metadata": {
    "ExecuteTime": {
     "end_time": "2021-05-07T14:24:17.204898Z",
     "start_time": "2021-05-07T14:24:17.190939Z"
    }
   },
   "outputs": [],
   "source": [
    "sent_score.index = df.index"
   ]
  },
  {
   "cell_type": "code",
   "execution_count": 12,
   "metadata": {
    "ExecuteTime": {
     "end_time": "2021-05-07T14:24:17.640157Z",
     "start_time": "2021-05-07T14:24:17.627192Z"
    }
   },
   "outputs": [],
   "source": [
    "df = pd.concat([sent_score, df], axis = 1)"
   ]
  },
  {
   "cell_type": "code",
   "execution_count": 13,
   "metadata": {
    "ExecuteTime": {
     "end_time": "2021-05-07T14:24:18.028423Z",
     "start_time": "2021-05-07T14:24:18.001491Z"
    }
   },
   "outputs": [
    {
     "data": {
      "text/html": [
       "<div>\n",
       "<style scoped>\n",
       "    .dataframe tbody tr th:only-of-type {\n",
       "        vertical-align: middle;\n",
       "    }\n",
       "\n",
       "    .dataframe tbody tr th {\n",
       "        vertical-align: top;\n",
       "    }\n",
       "\n",
       "    .dataframe thead th {\n",
       "        text-align: right;\n",
       "    }\n",
       "</style>\n",
       "<table border=\"1\" class=\"dataframe\">\n",
       "  <thead>\n",
       "    <tr style=\"text-align: right;\">\n",
       "      <th></th>\n",
       "      <th>sent_score</th>\n",
       "      <th>M2</th>\n",
       "      <th>comp basemoney rate</th>\n",
       "      <th>base rate</th>\n",
       "      <th>consumer price index</th>\n",
       "      <th>kospi close</th>\n",
       "      <th>ex-rate close</th>\n",
       "      <th>효준감성점수</th>\n",
       "      <th>spi</th>\n",
       "    </tr>\n",
       "    <tr>\n",
       "      <th>Date</th>\n",
       "      <th></th>\n",
       "      <th></th>\n",
       "      <th></th>\n",
       "      <th></th>\n",
       "      <th></th>\n",
       "      <th></th>\n",
       "      <th></th>\n",
       "      <th></th>\n",
       "      <th></th>\n",
       "    </tr>\n",
       "  </thead>\n",
       "  <tbody>\n",
       "    <tr>\n",
       "      <th>201101월</th>\n",
       "      <td>-6.268386e+07</td>\n",
       "      <td>1676.4</td>\n",
       "      <td>4.52</td>\n",
       "      <td>2.75</td>\n",
       "      <td>3.4</td>\n",
       "      <td>2069.73</td>\n",
       "      <td>1119.25</td>\n",
       "      <td>1856.746125</td>\n",
       "      <td>81.3</td>\n",
       "    </tr>\n",
       "    <tr>\n",
       "      <th>201102월</th>\n",
       "      <td>-6.255832e+07</td>\n",
       "      <td>1674.4</td>\n",
       "      <td>4.72</td>\n",
       "      <td>2.75</td>\n",
       "      <td>3.9</td>\n",
       "      <td>1939.30</td>\n",
       "      <td>1124.65</td>\n",
       "      <td>2046.702906</td>\n",
       "      <td>82.5</td>\n",
       "    </tr>\n",
       "    <tr>\n",
       "      <th>201103월</th>\n",
       "      <td>-6.957441e+07</td>\n",
       "      <td>1677.5</td>\n",
       "      <td>4.54</td>\n",
       "      <td>3.00</td>\n",
       "      <td>4.1</td>\n",
       "      <td>2106.70</td>\n",
       "      <td>1095.50</td>\n",
       "      <td>1715.795289</td>\n",
       "      <td>83.4</td>\n",
       "    </tr>\n",
       "    <tr>\n",
       "      <th>201104월</th>\n",
       "      <td>-7.305733e+07</td>\n",
       "      <td>1684.8</td>\n",
       "      <td>4.54</td>\n",
       "      <td>3.00</td>\n",
       "      <td>3.8</td>\n",
       "      <td>2192.36</td>\n",
       "      <td>1068.00</td>\n",
       "      <td>1635.262791</td>\n",
       "      <td>83.9</td>\n",
       "    </tr>\n",
       "    <tr>\n",
       "      <th>201105월</th>\n",
       "      <td>-9.356633e+07</td>\n",
       "      <td>1690.5</td>\n",
       "      <td>4.44</td>\n",
       "      <td>3.00</td>\n",
       "      <td>3.9</td>\n",
       "      <td>2142.47</td>\n",
       "      <td>1078.00</td>\n",
       "      <td>1922.518709</td>\n",
       "      <td>84.1</td>\n",
       "    </tr>\n",
       "    <tr>\n",
       "      <th>...</th>\n",
       "      <td>...</td>\n",
       "      <td>...</td>\n",
       "      <td>...</td>\n",
       "      <td>...</td>\n",
       "      <td>...</td>\n",
       "      <td>...</td>\n",
       "      <td>...</td>\n",
       "      <td>...</td>\n",
       "      <td>...</td>\n",
       "    </tr>\n",
       "    <tr>\n",
       "      <th>202008월</th>\n",
       "      <td>-5.824726e+07</td>\n",
       "      <td>3100.4</td>\n",
       "      <td>2.19</td>\n",
       "      <td>0.50</td>\n",
       "      <td>0.7</td>\n",
       "      <td>2326.17</td>\n",
       "      <td>1187.94</td>\n",
       "      <td>1221.939746</td>\n",
       "      <td>113.1</td>\n",
       "    </tr>\n",
       "    <tr>\n",
       "      <th>202009월</th>\n",
       "      <td>-6.441351e+07</td>\n",
       "      <td>3115.2</td>\n",
       "      <td>2.24</td>\n",
       "      <td>0.50</td>\n",
       "      <td>1.0</td>\n",
       "      <td>2327.89</td>\n",
       "      <td>1164.65</td>\n",
       "      <td>1208.597571</td>\n",
       "      <td>114.0</td>\n",
       "    </tr>\n",
       "    <tr>\n",
       "      <th>202010월</th>\n",
       "      <td>-3.751069e+07</td>\n",
       "      <td>3152.8</td>\n",
       "      <td>2.24</td>\n",
       "      <td>0.50</td>\n",
       "      <td>0.1</td>\n",
       "      <td>2267.15</td>\n",
       "      <td>1136.49</td>\n",
       "      <td>1001.099665</td>\n",
       "      <td>115.6</td>\n",
       "    </tr>\n",
       "    <tr>\n",
       "      <th>202011월</th>\n",
       "      <td>-3.147741e+07</td>\n",
       "      <td>3183.5</td>\n",
       "      <td>2.25</td>\n",
       "      <td>0.50</td>\n",
       "      <td>0.6</td>\n",
       "      <td>2591.34</td>\n",
       "      <td>1109.32</td>\n",
       "      <td>919.546249</td>\n",
       "      <td>118.3</td>\n",
       "    </tr>\n",
       "    <tr>\n",
       "      <th>202012월</th>\n",
       "      <td>-3.986893e+07</td>\n",
       "      <td>3183.5</td>\n",
       "      <td>2.21</td>\n",
       "      <td>0.50</td>\n",
       "      <td>0.5</td>\n",
       "      <td>2873.47</td>\n",
       "      <td>1084.47</td>\n",
       "      <td>1110.592804</td>\n",
       "      <td>121.4</td>\n",
       "    </tr>\n",
       "  </tbody>\n",
       "</table>\n",
       "<p>120 rows × 9 columns</p>\n",
       "</div>"
      ],
      "text/plain": [
       "           sent_score      M2  comp basemoney rate  base rate  \\\n",
       "Date                                                            \n",
       "201101월 -6.268386e+07  1676.4                 4.52       2.75   \n",
       "201102월 -6.255832e+07  1674.4                 4.72       2.75   \n",
       "201103월 -6.957441e+07  1677.5                 4.54       3.00   \n",
       "201104월 -7.305733e+07  1684.8                 4.54       3.00   \n",
       "201105월 -9.356633e+07  1690.5                 4.44       3.00   \n",
       "...               ...     ...                  ...        ...   \n",
       "202008월 -5.824726e+07  3100.4                 2.19       0.50   \n",
       "202009월 -6.441351e+07  3115.2                 2.24       0.50   \n",
       "202010월 -3.751069e+07  3152.8                 2.24       0.50   \n",
       "202011월 -3.147741e+07  3183.5                 2.25       0.50   \n",
       "202012월 -3.986893e+07  3183.5                 2.21       0.50   \n",
       "\n",
       "         consumer price index  kospi close  ex-rate close       효준감성점수    spi  \n",
       "Date                                                                           \n",
       "201101월                   3.4      2069.73        1119.25  1856.746125   81.3  \n",
       "201102월                   3.9      1939.30        1124.65  2046.702906   82.5  \n",
       "201103월                   4.1      2106.70        1095.50  1715.795289   83.4  \n",
       "201104월                   3.8      2192.36        1068.00  1635.262791   83.9  \n",
       "201105월                   3.9      2142.47        1078.00  1922.518709   84.1  \n",
       "...                       ...          ...            ...          ...    ...  \n",
       "202008월                   0.7      2326.17        1187.94  1221.939746  113.1  \n",
       "202009월                   1.0      2327.89        1164.65  1208.597571  114.0  \n",
       "202010월                   0.1      2267.15        1136.49  1001.099665  115.6  \n",
       "202011월                   0.6      2591.34        1109.32   919.546249  118.3  \n",
       "202012월                   0.5      2873.47        1084.47  1110.592804  121.4  \n",
       "\n",
       "[120 rows x 9 columns]"
      ]
     },
     "execution_count": 13,
     "metadata": {},
     "output_type": "execute_result"
    }
   ],
   "source": [
    "df"
   ]
  },
  {
   "cell_type": "markdown",
   "metadata": {},
   "source": [
    "## 서술어 감성점수 포함 데이터 생성"
   ]
  },
  {
   "cell_type": "code",
   "execution_count": 14,
   "metadata": {
    "ExecuteTime": {
     "end_time": "2021-05-07T14:24:19.656870Z",
     "start_time": "2021-05-07T14:24:19.643887Z"
    }
   },
   "outputs": [],
   "source": [
    "b.index = df.index"
   ]
  },
  {
   "cell_type": "code",
   "execution_count": 15,
   "metadata": {
    "ExecuteTime": {
     "end_time": "2021-05-07T14:24:20.545089Z",
     "start_time": "2021-05-07T14:24:20.526140Z"
    }
   },
   "outputs": [],
   "source": [
    "final_df = pd.concat([df,b], axis = 1)"
   ]
  },
  {
   "cell_type": "code",
   "execution_count": 16,
   "metadata": {
    "ExecuteTime": {
     "end_time": "2021-05-07T14:24:21.296077Z",
     "start_time": "2021-05-07T14:24:21.286071Z"
    }
   },
   "outputs": [],
   "source": [
    "final_df = final_df.rename({'sent_score':'시언감성점수', 'sieon_sent_score':'시언서술포함감성점수'}, axis = 'columns')"
   ]
  },
  {
   "cell_type": "code",
   "execution_count": 17,
   "metadata": {
    "ExecuteTime": {
     "end_time": "2021-05-07T14:24:23.227416Z",
     "start_time": "2021-05-07T14:24:23.198523Z"
    }
   },
   "outputs": [
    {
     "data": {
      "text/html": [
       "<div>\n",
       "<style scoped>\n",
       "    .dataframe tbody tr th:only-of-type {\n",
       "        vertical-align: middle;\n",
       "    }\n",
       "\n",
       "    .dataframe tbody tr th {\n",
       "        vertical-align: top;\n",
       "    }\n",
       "\n",
       "    .dataframe thead th {\n",
       "        text-align: right;\n",
       "    }\n",
       "</style>\n",
       "<table border=\"1\" class=\"dataframe\">\n",
       "  <thead>\n",
       "    <tr style=\"text-align: right;\">\n",
       "      <th></th>\n",
       "      <th>시언감성점수</th>\n",
       "      <th>M2</th>\n",
       "      <th>comp basemoney rate</th>\n",
       "      <th>base rate</th>\n",
       "      <th>consumer price index</th>\n",
       "      <th>kospi close</th>\n",
       "      <th>ex-rate close</th>\n",
       "      <th>효준감성점수</th>\n",
       "      <th>spi</th>\n",
       "      <th>시언서술포함감성점수</th>\n",
       "    </tr>\n",
       "    <tr>\n",
       "      <th>Date</th>\n",
       "      <th></th>\n",
       "      <th></th>\n",
       "      <th></th>\n",
       "      <th></th>\n",
       "      <th></th>\n",
       "      <th></th>\n",
       "      <th></th>\n",
       "      <th></th>\n",
       "      <th></th>\n",
       "      <th></th>\n",
       "    </tr>\n",
       "  </thead>\n",
       "  <tbody>\n",
       "    <tr>\n",
       "      <th>201101월</th>\n",
       "      <td>-6.268386e+07</td>\n",
       "      <td>1676.4</td>\n",
       "      <td>4.52</td>\n",
       "      <td>2.75</td>\n",
       "      <td>3.4</td>\n",
       "      <td>2069.73</td>\n",
       "      <td>1119.25</td>\n",
       "      <td>1856.746125</td>\n",
       "      <td>81.3</td>\n",
       "      <td>-1.635618e+08</td>\n",
       "    </tr>\n",
       "    <tr>\n",
       "      <th>201102월</th>\n",
       "      <td>-6.255832e+07</td>\n",
       "      <td>1674.4</td>\n",
       "      <td>4.72</td>\n",
       "      <td>2.75</td>\n",
       "      <td>3.9</td>\n",
       "      <td>1939.30</td>\n",
       "      <td>1124.65</td>\n",
       "      <td>2046.702906</td>\n",
       "      <td>82.5</td>\n",
       "      <td>-1.777621e+08</td>\n",
       "    </tr>\n",
       "    <tr>\n",
       "      <th>201103월</th>\n",
       "      <td>-6.957441e+07</td>\n",
       "      <td>1677.5</td>\n",
       "      <td>4.54</td>\n",
       "      <td>3.00</td>\n",
       "      <td>4.1</td>\n",
       "      <td>2106.70</td>\n",
       "      <td>1095.50</td>\n",
       "      <td>1715.795289</td>\n",
       "      <td>83.4</td>\n",
       "      <td>-1.980306e+08</td>\n",
       "    </tr>\n",
       "    <tr>\n",
       "      <th>201104월</th>\n",
       "      <td>-7.305733e+07</td>\n",
       "      <td>1684.8</td>\n",
       "      <td>4.54</td>\n",
       "      <td>3.00</td>\n",
       "      <td>3.8</td>\n",
       "      <td>2192.36</td>\n",
       "      <td>1068.00</td>\n",
       "      <td>1635.262791</td>\n",
       "      <td>83.9</td>\n",
       "      <td>-1.898849e+08</td>\n",
       "    </tr>\n",
       "    <tr>\n",
       "      <th>201105월</th>\n",
       "      <td>-9.356633e+07</td>\n",
       "      <td>1690.5</td>\n",
       "      <td>4.44</td>\n",
       "      <td>3.00</td>\n",
       "      <td>3.9</td>\n",
       "      <td>2142.47</td>\n",
       "      <td>1078.00</td>\n",
       "      <td>1922.518709</td>\n",
       "      <td>84.1</td>\n",
       "      <td>-2.402702e+08</td>\n",
       "    </tr>\n",
       "    <tr>\n",
       "      <th>...</th>\n",
       "      <td>...</td>\n",
       "      <td>...</td>\n",
       "      <td>...</td>\n",
       "      <td>...</td>\n",
       "      <td>...</td>\n",
       "      <td>...</td>\n",
       "      <td>...</td>\n",
       "      <td>...</td>\n",
       "      <td>...</td>\n",
       "      <td>...</td>\n",
       "    </tr>\n",
       "    <tr>\n",
       "      <th>202008월</th>\n",
       "      <td>-5.824726e+07</td>\n",
       "      <td>3100.4</td>\n",
       "      <td>2.19</td>\n",
       "      <td>0.50</td>\n",
       "      <td>0.7</td>\n",
       "      <td>2326.17</td>\n",
       "      <td>1187.94</td>\n",
       "      <td>1221.939746</td>\n",
       "      <td>113.1</td>\n",
       "      <td>3.239718e+07</td>\n",
       "    </tr>\n",
       "    <tr>\n",
       "      <th>202009월</th>\n",
       "      <td>-6.441351e+07</td>\n",
       "      <td>3115.2</td>\n",
       "      <td>2.24</td>\n",
       "      <td>0.50</td>\n",
       "      <td>1.0</td>\n",
       "      <td>2327.89</td>\n",
       "      <td>1164.65</td>\n",
       "      <td>1208.597571</td>\n",
       "      <td>114.0</td>\n",
       "      <td>4.511543e+07</td>\n",
       "    </tr>\n",
       "    <tr>\n",
       "      <th>202010월</th>\n",
       "      <td>-3.751069e+07</td>\n",
       "      <td>3152.8</td>\n",
       "      <td>2.24</td>\n",
       "      <td>0.50</td>\n",
       "      <td>0.1</td>\n",
       "      <td>2267.15</td>\n",
       "      <td>1136.49</td>\n",
       "      <td>1001.099665</td>\n",
       "      <td>115.6</td>\n",
       "      <td>4.169356e+07</td>\n",
       "    </tr>\n",
       "    <tr>\n",
       "      <th>202011월</th>\n",
       "      <td>-3.147741e+07</td>\n",
       "      <td>3183.5</td>\n",
       "      <td>2.25</td>\n",
       "      <td>0.50</td>\n",
       "      <td>0.6</td>\n",
       "      <td>2591.34</td>\n",
       "      <td>1109.32</td>\n",
       "      <td>919.546249</td>\n",
       "      <td>118.3</td>\n",
       "      <td>4.231788e+07</td>\n",
       "    </tr>\n",
       "    <tr>\n",
       "      <th>202012월</th>\n",
       "      <td>-3.986893e+07</td>\n",
       "      <td>3183.5</td>\n",
       "      <td>2.21</td>\n",
       "      <td>0.50</td>\n",
       "      <td>0.5</td>\n",
       "      <td>2873.47</td>\n",
       "      <td>1084.47</td>\n",
       "      <td>1110.592804</td>\n",
       "      <td>121.4</td>\n",
       "      <td>5.645645e+07</td>\n",
       "    </tr>\n",
       "  </tbody>\n",
       "</table>\n",
       "<p>120 rows × 10 columns</p>\n",
       "</div>"
      ],
      "text/plain": [
       "               시언감성점수      M2  comp basemoney rate  base rate  \\\n",
       "Date                                                            \n",
       "201101월 -6.268386e+07  1676.4                 4.52       2.75   \n",
       "201102월 -6.255832e+07  1674.4                 4.72       2.75   \n",
       "201103월 -6.957441e+07  1677.5                 4.54       3.00   \n",
       "201104월 -7.305733e+07  1684.8                 4.54       3.00   \n",
       "201105월 -9.356633e+07  1690.5                 4.44       3.00   \n",
       "...               ...     ...                  ...        ...   \n",
       "202008월 -5.824726e+07  3100.4                 2.19       0.50   \n",
       "202009월 -6.441351e+07  3115.2                 2.24       0.50   \n",
       "202010월 -3.751069e+07  3152.8                 2.24       0.50   \n",
       "202011월 -3.147741e+07  3183.5                 2.25       0.50   \n",
       "202012월 -3.986893e+07  3183.5                 2.21       0.50   \n",
       "\n",
       "         consumer price index  kospi close  ex-rate close       효준감성점수    spi  \\\n",
       "Date                                                                            \n",
       "201101월                   3.4      2069.73        1119.25  1856.746125   81.3   \n",
       "201102월                   3.9      1939.30        1124.65  2046.702906   82.5   \n",
       "201103월                   4.1      2106.70        1095.50  1715.795289   83.4   \n",
       "201104월                   3.8      2192.36        1068.00  1635.262791   83.9   \n",
       "201105월                   3.9      2142.47        1078.00  1922.518709   84.1   \n",
       "...                       ...          ...            ...          ...    ...   \n",
       "202008월                   0.7      2326.17        1187.94  1221.939746  113.1   \n",
       "202009월                   1.0      2327.89        1164.65  1208.597571  114.0   \n",
       "202010월                   0.1      2267.15        1136.49  1001.099665  115.6   \n",
       "202011월                   0.6      2591.34        1109.32   919.546249  118.3   \n",
       "202012월                   0.5      2873.47        1084.47  1110.592804  121.4   \n",
       "\n",
       "           시언서술포함감성점수  \n",
       "Date                   \n",
       "201101월 -1.635618e+08  \n",
       "201102월 -1.777621e+08  \n",
       "201103월 -1.980306e+08  \n",
       "201104월 -1.898849e+08  \n",
       "201105월 -2.402702e+08  \n",
       "...               ...  \n",
       "202008월  3.239718e+07  \n",
       "202009월  4.511543e+07  \n",
       "202010월  4.169356e+07  \n",
       "202011월  4.231788e+07  \n",
       "202012월  5.645645e+07  \n",
       "\n",
       "[120 rows x 10 columns]"
      ]
     },
     "execution_count": 17,
     "metadata": {},
     "output_type": "execute_result"
    }
   ],
   "source": [
    "final_df"
   ]
  },
  {
   "cell_type": "markdown",
   "metadata": {},
   "source": [
    "## TF-IDF 상위 8개 단어 빈도수 데이터 불러와서 합치기"
   ]
  },
  {
   "cell_type": "code",
   "execution_count": 18,
   "metadata": {
    "ExecuteTime": {
     "end_time": "2021-05-07T14:24:45.372948Z",
     "start_time": "2021-05-07T14:24:45.365867Z"
    }
   },
   "outputs": [],
   "source": [
    "temp = pd.read_csv('0507_tf-idf_8_words.csv')"
   ]
  },
  {
   "cell_type": "code",
   "execution_count": 20,
   "metadata": {
    "ExecuteTime": {
     "end_time": "2021-05-07T14:25:08.438635Z",
     "start_time": "2021-05-07T14:25:08.433682Z"
    }
   },
   "outputs": [],
   "source": [
    "temp.drop(columns = ['Unnamed: 0'], axis = 1, inplace = True)"
   ]
  },
  {
   "cell_type": "code",
   "execution_count": 21,
   "metadata": {
    "ExecuteTime": {
     "end_time": "2021-05-07T14:25:19.736759Z",
     "start_time": "2021-05-07T14:25:19.719805Z"
    }
   },
   "outputs": [],
   "source": [
    "temp.index = final_df.index"
   ]
  },
  {
   "cell_type": "code",
   "execution_count": 25,
   "metadata": {
    "ExecuteTime": {
     "end_time": "2021-05-07T14:26:09.321260Z",
     "start_time": "2021-05-07T14:26:09.312252Z"
    }
   },
   "outputs": [],
   "source": [
    "temp_df = pd.concat([final_df, temp], axis = 1)"
   ]
  },
  {
   "cell_type": "code",
   "execution_count": 26,
   "metadata": {
    "ExecuteTime": {
     "end_time": "2021-05-07T14:26:17.107722Z",
     "start_time": "2021-05-07T14:26:17.096785Z"
    }
   },
   "outputs": [],
   "source": [
    "df = temp_df.copy()"
   ]
  },
  {
   "cell_type": "markdown",
   "metadata": {},
   "source": [
    "## Target Attribute 생성"
   ]
  },
  {
   "cell_type": "code",
   "execution_count": 27,
   "metadata": {
    "ExecuteTime": {
     "end_time": "2021-05-07T14:26:20.599068Z",
     "start_time": "2021-05-07T14:26:20.583136Z"
    }
   },
   "outputs": [
    {
     "name": "stderr",
     "output_type": "stream",
     "text": [
      "<ipython-input-27-2b63e839b8df>:2: SettingWithCopyWarning: \n",
      "A value is trying to be set on a copy of a slice from a DataFrame\n",
      "\n",
      "See the caveats in the documentation: https://pandas.pydata.org/pandas-docs/stable/user_guide/indexing.html#returning-a-view-versus-a-copy\n",
      "  df['next_spi'][-1] = 124.9\n"
     ]
    }
   ],
   "source": [
    "df['next_spi'] = df['spi'].shift(-1)\n",
    "df['next_spi'][-1] = 124.9"
   ]
  },
  {
   "cell_type": "code",
   "execution_count": 28,
   "metadata": {
    "ExecuteTime": {
     "end_time": "2021-05-07T14:26:26.854936Z",
     "start_time": "2021-05-07T14:26:26.839951Z"
    }
   },
   "outputs": [],
   "source": [
    "#전처리에 사용되었던 더미 변수들 drop\n",
    "df.drop(['spi'], axis = 1, inplace = True)"
   ]
  },
  {
   "cell_type": "code",
   "execution_count": 29,
   "metadata": {
    "ExecuteTime": {
     "end_time": "2021-05-07T14:26:28.261502Z",
     "start_time": "2021-05-07T14:26:28.234578Z"
    }
   },
   "outputs": [
    {
     "data": {
      "text/html": [
       "<div>\n",
       "<style scoped>\n",
       "    .dataframe tbody tr th:only-of-type {\n",
       "        vertical-align: middle;\n",
       "    }\n",
       "\n",
       "    .dataframe tbody tr th {\n",
       "        vertical-align: top;\n",
       "    }\n",
       "\n",
       "    .dataframe thead th {\n",
       "        text-align: right;\n",
       "    }\n",
       "</style>\n",
       "<table border=\"1\" class=\"dataframe\">\n",
       "  <thead>\n",
       "    <tr style=\"text-align: right;\">\n",
       "      <th></th>\n",
       "      <th>시언감성점수</th>\n",
       "      <th>M2</th>\n",
       "      <th>comp basemoney rate</th>\n",
       "      <th>base rate</th>\n",
       "      <th>consumer price index</th>\n",
       "      <th>kospi close</th>\n",
       "      <th>ex-rate close</th>\n",
       "      <th>효준감성점수</th>\n",
       "      <th>시언서술포함감성점수</th>\n",
       "      <th>주택</th>\n",
       "      <th>아파트</th>\n",
       "      <th>분양</th>\n",
       "      <th>서울</th>\n",
       "      <th>가구</th>\n",
       "      <th>부동산</th>\n",
       "      <th>단지</th>\n",
       "      <th>시장</th>\n",
       "      <th>next_spi</th>\n",
       "    </tr>\n",
       "    <tr>\n",
       "      <th>Date</th>\n",
       "      <th></th>\n",
       "      <th></th>\n",
       "      <th></th>\n",
       "      <th></th>\n",
       "      <th></th>\n",
       "      <th></th>\n",
       "      <th></th>\n",
       "      <th></th>\n",
       "      <th></th>\n",
       "      <th></th>\n",
       "      <th></th>\n",
       "      <th></th>\n",
       "      <th></th>\n",
       "      <th></th>\n",
       "      <th></th>\n",
       "      <th></th>\n",
       "      <th></th>\n",
       "      <th></th>\n",
       "    </tr>\n",
       "  </thead>\n",
       "  <tbody>\n",
       "    <tr>\n",
       "      <th>201101월</th>\n",
       "      <td>-6.268386e+07</td>\n",
       "      <td>1676.4</td>\n",
       "      <td>4.52</td>\n",
       "      <td>2.75</td>\n",
       "      <td>3.4</td>\n",
       "      <td>2069.73</td>\n",
       "      <td>1119.25</td>\n",
       "      <td>1856.746125</td>\n",
       "      <td>-1.635618e+08</td>\n",
       "      <td>1160</td>\n",
       "      <td>1094</td>\n",
       "      <td>666</td>\n",
       "      <td>729</td>\n",
       "      <td>1180</td>\n",
       "      <td>685</td>\n",
       "      <td>461</td>\n",
       "      <td>459</td>\n",
       "      <td>82.5</td>\n",
       "    </tr>\n",
       "    <tr>\n",
       "      <th>201102월</th>\n",
       "      <td>-6.255832e+07</td>\n",
       "      <td>1674.4</td>\n",
       "      <td>4.72</td>\n",
       "      <td>2.75</td>\n",
       "      <td>3.9</td>\n",
       "      <td>1939.30</td>\n",
       "      <td>1124.65</td>\n",
       "      <td>2046.702906</td>\n",
       "      <td>-1.777621e+08</td>\n",
       "      <td>1160</td>\n",
       "      <td>1101</td>\n",
       "      <td>639</td>\n",
       "      <td>652</td>\n",
       "      <td>1265</td>\n",
       "      <td>669</td>\n",
       "      <td>383</td>\n",
       "      <td>496</td>\n",
       "      <td>83.4</td>\n",
       "    </tr>\n",
       "    <tr>\n",
       "      <th>201103월</th>\n",
       "      <td>-6.957441e+07</td>\n",
       "      <td>1677.5</td>\n",
       "      <td>4.54</td>\n",
       "      <td>3.00</td>\n",
       "      <td>4.1</td>\n",
       "      <td>2106.70</td>\n",
       "      <td>1095.50</td>\n",
       "      <td>1715.795289</td>\n",
       "      <td>-1.980306e+08</td>\n",
       "      <td>1341</td>\n",
       "      <td>1102</td>\n",
       "      <td>1014</td>\n",
       "      <td>607</td>\n",
       "      <td>961</td>\n",
       "      <td>659</td>\n",
       "      <td>576</td>\n",
       "      <td>578</td>\n",
       "      <td>83.9</td>\n",
       "    </tr>\n",
       "    <tr>\n",
       "      <th>201104월</th>\n",
       "      <td>-7.305733e+07</td>\n",
       "      <td>1684.8</td>\n",
       "      <td>4.54</td>\n",
       "      <td>3.00</td>\n",
       "      <td>3.8</td>\n",
       "      <td>2192.36</td>\n",
       "      <td>1068.00</td>\n",
       "      <td>1635.262791</td>\n",
       "      <td>-1.898849e+08</td>\n",
       "      <td>1405</td>\n",
       "      <td>1186</td>\n",
       "      <td>977</td>\n",
       "      <td>658</td>\n",
       "      <td>1031</td>\n",
       "      <td>720</td>\n",
       "      <td>534</td>\n",
       "      <td>577</td>\n",
       "      <td>84.1</td>\n",
       "    </tr>\n",
       "    <tr>\n",
       "      <th>201105월</th>\n",
       "      <td>-9.356633e+07</td>\n",
       "      <td>1690.5</td>\n",
       "      <td>4.44</td>\n",
       "      <td>3.00</td>\n",
       "      <td>3.9</td>\n",
       "      <td>2142.47</td>\n",
       "      <td>1078.00</td>\n",
       "      <td>1922.518709</td>\n",
       "      <td>-2.402702e+08</td>\n",
       "      <td>1537</td>\n",
       "      <td>1543</td>\n",
       "      <td>1267</td>\n",
       "      <td>854</td>\n",
       "      <td>1245</td>\n",
       "      <td>1013</td>\n",
       "      <td>770</td>\n",
       "      <td>756</td>\n",
       "      <td>84.4</td>\n",
       "    </tr>\n",
       "    <tr>\n",
       "      <th>...</th>\n",
       "      <td>...</td>\n",
       "      <td>...</td>\n",
       "      <td>...</td>\n",
       "      <td>...</td>\n",
       "      <td>...</td>\n",
       "      <td>...</td>\n",
       "      <td>...</td>\n",
       "      <td>...</td>\n",
       "      <td>...</td>\n",
       "      <td>...</td>\n",
       "      <td>...</td>\n",
       "      <td>...</td>\n",
       "      <td>...</td>\n",
       "      <td>...</td>\n",
       "      <td>...</td>\n",
       "      <td>...</td>\n",
       "      <td>...</td>\n",
       "      <td>...</td>\n",
       "    </tr>\n",
       "    <tr>\n",
       "      <th>202008월</th>\n",
       "      <td>-5.824726e+07</td>\n",
       "      <td>3100.4</td>\n",
       "      <td>2.19</td>\n",
       "      <td>0.50</td>\n",
       "      <td>0.7</td>\n",
       "      <td>2326.17</td>\n",
       "      <td>1187.94</td>\n",
       "      <td>1221.939746</td>\n",
       "      <td>3.239718e+07</td>\n",
       "      <td>1036</td>\n",
       "      <td>1064</td>\n",
       "      <td>310</td>\n",
       "      <td>951</td>\n",
       "      <td>547</td>\n",
       "      <td>617</td>\n",
       "      <td>286</td>\n",
       "      <td>407</td>\n",
       "      <td>114.0</td>\n",
       "    </tr>\n",
       "    <tr>\n",
       "      <th>202009월</th>\n",
       "      <td>-6.441351e+07</td>\n",
       "      <td>3115.2</td>\n",
       "      <td>2.24</td>\n",
       "      <td>0.50</td>\n",
       "      <td>1.0</td>\n",
       "      <td>2327.89</td>\n",
       "      <td>1164.65</td>\n",
       "      <td>1208.597571</td>\n",
       "      <td>4.511543e+07</td>\n",
       "      <td>1543</td>\n",
       "      <td>1007</td>\n",
       "      <td>460</td>\n",
       "      <td>976</td>\n",
       "      <td>552</td>\n",
       "      <td>576</td>\n",
       "      <td>325</td>\n",
       "      <td>370</td>\n",
       "      <td>115.6</td>\n",
       "    </tr>\n",
       "    <tr>\n",
       "      <th>202010월</th>\n",
       "      <td>-3.751069e+07</td>\n",
       "      <td>3152.8</td>\n",
       "      <td>2.24</td>\n",
       "      <td>0.50</td>\n",
       "      <td>0.1</td>\n",
       "      <td>2267.15</td>\n",
       "      <td>1136.49</td>\n",
       "      <td>1001.099665</td>\n",
       "      <td>4.169356e+07</td>\n",
       "      <td>1088</td>\n",
       "      <td>584</td>\n",
       "      <td>218</td>\n",
       "      <td>677</td>\n",
       "      <td>304</td>\n",
       "      <td>542</td>\n",
       "      <td>121</td>\n",
       "      <td>288</td>\n",
       "      <td>118.3</td>\n",
       "    </tr>\n",
       "    <tr>\n",
       "      <th>202011월</th>\n",
       "      <td>-3.147741e+07</td>\n",
       "      <td>3183.5</td>\n",
       "      <td>2.25</td>\n",
       "      <td>0.50</td>\n",
       "      <td>0.6</td>\n",
       "      <td>2591.34</td>\n",
       "      <td>1109.32</td>\n",
       "      <td>919.546249</td>\n",
       "      <td>4.231788e+07</td>\n",
       "      <td>921</td>\n",
       "      <td>636</td>\n",
       "      <td>107</td>\n",
       "      <td>505</td>\n",
       "      <td>294</td>\n",
       "      <td>414</td>\n",
       "      <td>137</td>\n",
       "      <td>241</td>\n",
       "      <td>121.4</td>\n",
       "    </tr>\n",
       "    <tr>\n",
       "      <th>202012월</th>\n",
       "      <td>-3.986893e+07</td>\n",
       "      <td>3183.5</td>\n",
       "      <td>2.21</td>\n",
       "      <td>0.50</td>\n",
       "      <td>0.5</td>\n",
       "      <td>2873.47</td>\n",
       "      <td>1084.47</td>\n",
       "      <td>1110.592804</td>\n",
       "      <td>5.645645e+07</td>\n",
       "      <td>1304</td>\n",
       "      <td>568</td>\n",
       "      <td>225</td>\n",
       "      <td>552</td>\n",
       "      <td>508</td>\n",
       "      <td>466</td>\n",
       "      <td>165</td>\n",
       "      <td>259</td>\n",
       "      <td>124.9</td>\n",
       "    </tr>\n",
       "  </tbody>\n",
       "</table>\n",
       "<p>120 rows × 18 columns</p>\n",
       "</div>"
      ],
      "text/plain": [
       "               시언감성점수      M2  comp basemoney rate  base rate  \\\n",
       "Date                                                            \n",
       "201101월 -6.268386e+07  1676.4                 4.52       2.75   \n",
       "201102월 -6.255832e+07  1674.4                 4.72       2.75   \n",
       "201103월 -6.957441e+07  1677.5                 4.54       3.00   \n",
       "201104월 -7.305733e+07  1684.8                 4.54       3.00   \n",
       "201105월 -9.356633e+07  1690.5                 4.44       3.00   \n",
       "...               ...     ...                  ...        ...   \n",
       "202008월 -5.824726e+07  3100.4                 2.19       0.50   \n",
       "202009월 -6.441351e+07  3115.2                 2.24       0.50   \n",
       "202010월 -3.751069e+07  3152.8                 2.24       0.50   \n",
       "202011월 -3.147741e+07  3183.5                 2.25       0.50   \n",
       "202012월 -3.986893e+07  3183.5                 2.21       0.50   \n",
       "\n",
       "         consumer price index  kospi close  ex-rate close       효준감성점수  \\\n",
       "Date                                                                     \n",
       "201101월                   3.4      2069.73        1119.25  1856.746125   \n",
       "201102월                   3.9      1939.30        1124.65  2046.702906   \n",
       "201103월                   4.1      2106.70        1095.50  1715.795289   \n",
       "201104월                   3.8      2192.36        1068.00  1635.262791   \n",
       "201105월                   3.9      2142.47        1078.00  1922.518709   \n",
       "...                       ...          ...            ...          ...   \n",
       "202008월                   0.7      2326.17        1187.94  1221.939746   \n",
       "202009월                   1.0      2327.89        1164.65  1208.597571   \n",
       "202010월                   0.1      2267.15        1136.49  1001.099665   \n",
       "202011월                   0.6      2591.34        1109.32   919.546249   \n",
       "202012월                   0.5      2873.47        1084.47  1110.592804   \n",
       "\n",
       "           시언서술포함감성점수    주택   아파트    분양   서울    가구   부동산   단지   시장  next_spi  \n",
       "Date                                                                          \n",
       "201101월 -1.635618e+08  1160  1094   666  729  1180   685  461  459      82.5  \n",
       "201102월 -1.777621e+08  1160  1101   639  652  1265   669  383  496      83.4  \n",
       "201103월 -1.980306e+08  1341  1102  1014  607   961   659  576  578      83.9  \n",
       "201104월 -1.898849e+08  1405  1186   977  658  1031   720  534  577      84.1  \n",
       "201105월 -2.402702e+08  1537  1543  1267  854  1245  1013  770  756      84.4  \n",
       "...               ...   ...   ...   ...  ...   ...   ...  ...  ...       ...  \n",
       "202008월  3.239718e+07  1036  1064   310  951   547   617  286  407     114.0  \n",
       "202009월  4.511543e+07  1543  1007   460  976   552   576  325  370     115.6  \n",
       "202010월  4.169356e+07  1088   584   218  677   304   542  121  288     118.3  \n",
       "202011월  4.231788e+07   921   636   107  505   294   414  137  241     121.4  \n",
       "202012월  5.645645e+07  1304   568   225  552   508   466  165  259     124.9  \n",
       "\n",
       "[120 rows x 18 columns]"
      ]
     },
     "execution_count": 29,
     "metadata": {},
     "output_type": "execute_result"
    }
   ],
   "source": [
    "df"
   ]
  },
  {
   "cell_type": "code",
   "execution_count": 33,
   "metadata": {
    "ExecuteTime": {
     "end_time": "2021-05-07T14:27:18.613587Z",
     "start_time": "2021-05-07T14:27:18.588678Z"
    }
   },
   "outputs": [],
   "source": [
    "df.to_csv('0507 df_for_holdout.csv')"
   ]
  },
  {
   "cell_type": "markdown",
   "metadata": {},
   "source": [
    "## Train_Test_Split(shuffle)용 데이터셋"
   ]
  },
  {
   "cell_type": "code",
   "execution_count": 30,
   "metadata": {
    "ExecuteTime": {
     "end_time": "2021-05-07T14:26:48.094862Z",
     "start_time": "2021-05-07T14:26:48.080868Z"
    }
   },
   "outputs": [],
   "source": [
    "X = df.copy()\n",
    "y = X.pop('next_spi')"
   ]
  },
  {
   "cell_type": "code",
   "execution_count": 31,
   "metadata": {
    "ExecuteTime": {
     "end_time": "2021-05-07T14:26:48.889944Z",
     "start_time": "2021-05-07T14:26:48.865986Z"
    }
   },
   "outputs": [
    {
     "data": {
      "text/html": [
       "<div>\n",
       "<style scoped>\n",
       "    .dataframe tbody tr th:only-of-type {\n",
       "        vertical-align: middle;\n",
       "    }\n",
       "\n",
       "    .dataframe tbody tr th {\n",
       "        vertical-align: top;\n",
       "    }\n",
       "\n",
       "    .dataframe thead th {\n",
       "        text-align: right;\n",
       "    }\n",
       "</style>\n",
       "<table border=\"1\" class=\"dataframe\">\n",
       "  <thead>\n",
       "    <tr style=\"text-align: right;\">\n",
       "      <th></th>\n",
       "      <th>시언감성점수</th>\n",
       "      <th>M2</th>\n",
       "      <th>comp basemoney rate</th>\n",
       "      <th>base rate</th>\n",
       "      <th>consumer price index</th>\n",
       "      <th>kospi close</th>\n",
       "      <th>ex-rate close</th>\n",
       "      <th>효준감성점수</th>\n",
       "      <th>시언서술포함감성점수</th>\n",
       "      <th>주택</th>\n",
       "      <th>아파트</th>\n",
       "      <th>분양</th>\n",
       "      <th>서울</th>\n",
       "      <th>가구</th>\n",
       "      <th>부동산</th>\n",
       "      <th>단지</th>\n",
       "      <th>시장</th>\n",
       "    </tr>\n",
       "    <tr>\n",
       "      <th>Date</th>\n",
       "      <th></th>\n",
       "      <th></th>\n",
       "      <th></th>\n",
       "      <th></th>\n",
       "      <th></th>\n",
       "      <th></th>\n",
       "      <th></th>\n",
       "      <th></th>\n",
       "      <th></th>\n",
       "      <th></th>\n",
       "      <th></th>\n",
       "      <th></th>\n",
       "      <th></th>\n",
       "      <th></th>\n",
       "      <th></th>\n",
       "      <th></th>\n",
       "      <th></th>\n",
       "    </tr>\n",
       "  </thead>\n",
       "  <tbody>\n",
       "    <tr>\n",
       "      <th>201101월</th>\n",
       "      <td>-6.268386e+07</td>\n",
       "      <td>1676.4</td>\n",
       "      <td>4.52</td>\n",
       "      <td>2.75</td>\n",
       "      <td>3.4</td>\n",
       "      <td>2069.73</td>\n",
       "      <td>1119.25</td>\n",
       "      <td>1856.746125</td>\n",
       "      <td>-1.635618e+08</td>\n",
       "      <td>1160</td>\n",
       "      <td>1094</td>\n",
       "      <td>666</td>\n",
       "      <td>729</td>\n",
       "      <td>1180</td>\n",
       "      <td>685</td>\n",
       "      <td>461</td>\n",
       "      <td>459</td>\n",
       "    </tr>\n",
       "    <tr>\n",
       "      <th>201102월</th>\n",
       "      <td>-6.255832e+07</td>\n",
       "      <td>1674.4</td>\n",
       "      <td>4.72</td>\n",
       "      <td>2.75</td>\n",
       "      <td>3.9</td>\n",
       "      <td>1939.30</td>\n",
       "      <td>1124.65</td>\n",
       "      <td>2046.702906</td>\n",
       "      <td>-1.777621e+08</td>\n",
       "      <td>1160</td>\n",
       "      <td>1101</td>\n",
       "      <td>639</td>\n",
       "      <td>652</td>\n",
       "      <td>1265</td>\n",
       "      <td>669</td>\n",
       "      <td>383</td>\n",
       "      <td>496</td>\n",
       "    </tr>\n",
       "    <tr>\n",
       "      <th>201103월</th>\n",
       "      <td>-6.957441e+07</td>\n",
       "      <td>1677.5</td>\n",
       "      <td>4.54</td>\n",
       "      <td>3.00</td>\n",
       "      <td>4.1</td>\n",
       "      <td>2106.70</td>\n",
       "      <td>1095.50</td>\n",
       "      <td>1715.795289</td>\n",
       "      <td>-1.980306e+08</td>\n",
       "      <td>1341</td>\n",
       "      <td>1102</td>\n",
       "      <td>1014</td>\n",
       "      <td>607</td>\n",
       "      <td>961</td>\n",
       "      <td>659</td>\n",
       "      <td>576</td>\n",
       "      <td>578</td>\n",
       "    </tr>\n",
       "    <tr>\n",
       "      <th>201104월</th>\n",
       "      <td>-7.305733e+07</td>\n",
       "      <td>1684.8</td>\n",
       "      <td>4.54</td>\n",
       "      <td>3.00</td>\n",
       "      <td>3.8</td>\n",
       "      <td>2192.36</td>\n",
       "      <td>1068.00</td>\n",
       "      <td>1635.262791</td>\n",
       "      <td>-1.898849e+08</td>\n",
       "      <td>1405</td>\n",
       "      <td>1186</td>\n",
       "      <td>977</td>\n",
       "      <td>658</td>\n",
       "      <td>1031</td>\n",
       "      <td>720</td>\n",
       "      <td>534</td>\n",
       "      <td>577</td>\n",
       "    </tr>\n",
       "    <tr>\n",
       "      <th>201105월</th>\n",
       "      <td>-9.356633e+07</td>\n",
       "      <td>1690.5</td>\n",
       "      <td>4.44</td>\n",
       "      <td>3.00</td>\n",
       "      <td>3.9</td>\n",
       "      <td>2142.47</td>\n",
       "      <td>1078.00</td>\n",
       "      <td>1922.518709</td>\n",
       "      <td>-2.402702e+08</td>\n",
       "      <td>1537</td>\n",
       "      <td>1543</td>\n",
       "      <td>1267</td>\n",
       "      <td>854</td>\n",
       "      <td>1245</td>\n",
       "      <td>1013</td>\n",
       "      <td>770</td>\n",
       "      <td>756</td>\n",
       "    </tr>\n",
       "    <tr>\n",
       "      <th>...</th>\n",
       "      <td>...</td>\n",
       "      <td>...</td>\n",
       "      <td>...</td>\n",
       "      <td>...</td>\n",
       "      <td>...</td>\n",
       "      <td>...</td>\n",
       "      <td>...</td>\n",
       "      <td>...</td>\n",
       "      <td>...</td>\n",
       "      <td>...</td>\n",
       "      <td>...</td>\n",
       "      <td>...</td>\n",
       "      <td>...</td>\n",
       "      <td>...</td>\n",
       "      <td>...</td>\n",
       "      <td>...</td>\n",
       "      <td>...</td>\n",
       "    </tr>\n",
       "    <tr>\n",
       "      <th>202008월</th>\n",
       "      <td>-5.824726e+07</td>\n",
       "      <td>3100.4</td>\n",
       "      <td>2.19</td>\n",
       "      <td>0.50</td>\n",
       "      <td>0.7</td>\n",
       "      <td>2326.17</td>\n",
       "      <td>1187.94</td>\n",
       "      <td>1221.939746</td>\n",
       "      <td>3.239718e+07</td>\n",
       "      <td>1036</td>\n",
       "      <td>1064</td>\n",
       "      <td>310</td>\n",
       "      <td>951</td>\n",
       "      <td>547</td>\n",
       "      <td>617</td>\n",
       "      <td>286</td>\n",
       "      <td>407</td>\n",
       "    </tr>\n",
       "    <tr>\n",
       "      <th>202009월</th>\n",
       "      <td>-6.441351e+07</td>\n",
       "      <td>3115.2</td>\n",
       "      <td>2.24</td>\n",
       "      <td>0.50</td>\n",
       "      <td>1.0</td>\n",
       "      <td>2327.89</td>\n",
       "      <td>1164.65</td>\n",
       "      <td>1208.597571</td>\n",
       "      <td>4.511543e+07</td>\n",
       "      <td>1543</td>\n",
       "      <td>1007</td>\n",
       "      <td>460</td>\n",
       "      <td>976</td>\n",
       "      <td>552</td>\n",
       "      <td>576</td>\n",
       "      <td>325</td>\n",
       "      <td>370</td>\n",
       "    </tr>\n",
       "    <tr>\n",
       "      <th>202010월</th>\n",
       "      <td>-3.751069e+07</td>\n",
       "      <td>3152.8</td>\n",
       "      <td>2.24</td>\n",
       "      <td>0.50</td>\n",
       "      <td>0.1</td>\n",
       "      <td>2267.15</td>\n",
       "      <td>1136.49</td>\n",
       "      <td>1001.099665</td>\n",
       "      <td>4.169356e+07</td>\n",
       "      <td>1088</td>\n",
       "      <td>584</td>\n",
       "      <td>218</td>\n",
       "      <td>677</td>\n",
       "      <td>304</td>\n",
       "      <td>542</td>\n",
       "      <td>121</td>\n",
       "      <td>288</td>\n",
       "    </tr>\n",
       "    <tr>\n",
       "      <th>202011월</th>\n",
       "      <td>-3.147741e+07</td>\n",
       "      <td>3183.5</td>\n",
       "      <td>2.25</td>\n",
       "      <td>0.50</td>\n",
       "      <td>0.6</td>\n",
       "      <td>2591.34</td>\n",
       "      <td>1109.32</td>\n",
       "      <td>919.546249</td>\n",
       "      <td>4.231788e+07</td>\n",
       "      <td>921</td>\n",
       "      <td>636</td>\n",
       "      <td>107</td>\n",
       "      <td>505</td>\n",
       "      <td>294</td>\n",
       "      <td>414</td>\n",
       "      <td>137</td>\n",
       "      <td>241</td>\n",
       "    </tr>\n",
       "    <tr>\n",
       "      <th>202012월</th>\n",
       "      <td>-3.986893e+07</td>\n",
       "      <td>3183.5</td>\n",
       "      <td>2.21</td>\n",
       "      <td>0.50</td>\n",
       "      <td>0.5</td>\n",
       "      <td>2873.47</td>\n",
       "      <td>1084.47</td>\n",
       "      <td>1110.592804</td>\n",
       "      <td>5.645645e+07</td>\n",
       "      <td>1304</td>\n",
       "      <td>568</td>\n",
       "      <td>225</td>\n",
       "      <td>552</td>\n",
       "      <td>508</td>\n",
       "      <td>466</td>\n",
       "      <td>165</td>\n",
       "      <td>259</td>\n",
       "    </tr>\n",
       "  </tbody>\n",
       "</table>\n",
       "<p>120 rows × 17 columns</p>\n",
       "</div>"
      ],
      "text/plain": [
       "               시언감성점수      M2  comp basemoney rate  base rate  \\\n",
       "Date                                                            \n",
       "201101월 -6.268386e+07  1676.4                 4.52       2.75   \n",
       "201102월 -6.255832e+07  1674.4                 4.72       2.75   \n",
       "201103월 -6.957441e+07  1677.5                 4.54       3.00   \n",
       "201104월 -7.305733e+07  1684.8                 4.54       3.00   \n",
       "201105월 -9.356633e+07  1690.5                 4.44       3.00   \n",
       "...               ...     ...                  ...        ...   \n",
       "202008월 -5.824726e+07  3100.4                 2.19       0.50   \n",
       "202009월 -6.441351e+07  3115.2                 2.24       0.50   \n",
       "202010월 -3.751069e+07  3152.8                 2.24       0.50   \n",
       "202011월 -3.147741e+07  3183.5                 2.25       0.50   \n",
       "202012월 -3.986893e+07  3183.5                 2.21       0.50   \n",
       "\n",
       "         consumer price index  kospi close  ex-rate close       효준감성점수  \\\n",
       "Date                                                                     \n",
       "201101월                   3.4      2069.73        1119.25  1856.746125   \n",
       "201102월                   3.9      1939.30        1124.65  2046.702906   \n",
       "201103월                   4.1      2106.70        1095.50  1715.795289   \n",
       "201104월                   3.8      2192.36        1068.00  1635.262791   \n",
       "201105월                   3.9      2142.47        1078.00  1922.518709   \n",
       "...                       ...          ...            ...          ...   \n",
       "202008월                   0.7      2326.17        1187.94  1221.939746   \n",
       "202009월                   1.0      2327.89        1164.65  1208.597571   \n",
       "202010월                   0.1      2267.15        1136.49  1001.099665   \n",
       "202011월                   0.6      2591.34        1109.32   919.546249   \n",
       "202012월                   0.5      2873.47        1084.47  1110.592804   \n",
       "\n",
       "           시언서술포함감성점수    주택   아파트    분양   서울    가구   부동산   단지   시장  \n",
       "Date                                                                \n",
       "201101월 -1.635618e+08  1160  1094   666  729  1180   685  461  459  \n",
       "201102월 -1.777621e+08  1160  1101   639  652  1265   669  383  496  \n",
       "201103월 -1.980306e+08  1341  1102  1014  607   961   659  576  578  \n",
       "201104월 -1.898849e+08  1405  1186   977  658  1031   720  534  577  \n",
       "201105월 -2.402702e+08  1537  1543  1267  854  1245  1013  770  756  \n",
       "...               ...   ...   ...   ...  ...   ...   ...  ...  ...  \n",
       "202008월  3.239718e+07  1036  1064   310  951   547   617  286  407  \n",
       "202009월  4.511543e+07  1543  1007   460  976   552   576  325  370  \n",
       "202010월  4.169356e+07  1088   584   218  677   304   542  121  288  \n",
       "202011월  4.231788e+07   921   636   107  505   294   414  137  241  \n",
       "202012월  5.645645e+07  1304   568   225  552   508   466  165  259  \n",
       "\n",
       "[120 rows x 17 columns]"
      ]
     },
     "execution_count": 31,
     "metadata": {},
     "output_type": "execute_result"
    }
   ],
   "source": [
    "X"
   ]
  },
  {
   "cell_type": "code",
   "execution_count": 32,
   "metadata": {
    "ExecuteTime": {
     "end_time": "2021-05-07T14:26:50.055653Z",
     "start_time": "2021-05-07T14:26:50.035706Z"
    }
   },
   "outputs": [
    {
     "data": {
      "text/plain": [
       "Date\n",
       "201101월     82.5\n",
       "201102월     83.4\n",
       "201103월     83.9\n",
       "201104월     84.1\n",
       "201105월     84.4\n",
       "           ...  \n",
       "202008월    114.0\n",
       "202009월    115.6\n",
       "202010월    118.3\n",
       "202011월    121.4\n",
       "202012월    124.9\n",
       "Name: next_spi, Length: 120, dtype: float64"
      ]
     },
     "execution_count": 32,
     "metadata": {},
     "output_type": "execute_result"
    }
   ],
   "source": [
    "y"
   ]
  },
  {
   "cell_type": "code",
   "execution_count": 34,
   "metadata": {
    "ExecuteTime": {
     "end_time": "2021-05-07T14:27:24.948042Z",
     "start_time": "2021-05-07T14:27:24.936040Z"
    }
   },
   "outputs": [],
   "source": [
    "X_train, X_test, y_train, y_test = train_test_split(X, y, test_size = 0.25)"
   ]
  },
  {
   "cell_type": "code",
   "execution_count": 38,
   "metadata": {
    "ExecuteTime": {
     "end_time": "2021-05-07T14:28:55.571442Z",
     "start_time": "2021-05-07T14:28:55.566454Z"
    }
   },
   "outputs": [],
   "source": [
    "train = pd.concat([X_train,y_train], axis = 1)"
   ]
  },
  {
   "cell_type": "code",
   "execution_count": 39,
   "metadata": {
    "ExecuteTime": {
     "end_time": "2021-05-07T14:29:04.444285Z",
     "start_time": "2021-05-07T14:29:04.431320Z"
    }
   },
   "outputs": [],
   "source": [
    "test = pd.concat([X_test, y_test], axis = 1)"
   ]
  },
  {
   "cell_type": "code",
   "execution_count": 41,
   "metadata": {
    "ExecuteTime": {
     "end_time": "2021-05-07T14:29:40.795553Z",
     "start_time": "2021-05-07T14:29:40.772619Z"
    }
   },
   "outputs": [],
   "source": [
    "train.to_csv('0507_trainset_for_shuffle.csv')\n",
    "test.to_csv('0507_testset_for_shuffle.csv')"
   ]
  }
 ],
 "metadata": {
  "hide_input": false,
  "kernelspec": {
   "display_name": "Python 3",
   "language": "python",
   "name": "python3"
  },
  "language_info": {
   "codemirror_mode": {
    "name": "ipython",
    "version": 3
   },
   "file_extension": ".py",
   "mimetype": "text/x-python",
   "name": "python",
   "nbconvert_exporter": "python",
   "pygments_lexer": "ipython3",
   "version": "3.8.5"
  },
  "toc": {
   "base_numbering": 1,
   "nav_menu": {},
   "number_sections": true,
   "sideBar": true,
   "skip_h1_title": false,
   "title_cell": "Table of Contents",
   "title_sidebar": "Contents",
   "toc_cell": false,
   "toc_position": {
    "height": "calc(100% - 180px)",
    "left": "10px",
    "top": "150px",
    "width": "473.273px"
   },
   "toc_section_display": true,
   "toc_window_display": false
  },
  "varInspector": {
   "cols": {
    "lenName": 16,
    "lenType": 16,
    "lenVar": 40
   },
   "kernels_config": {
    "python": {
     "delete_cmd_postfix": "",
     "delete_cmd_prefix": "del ",
     "library": "var_list.py",
     "varRefreshCmd": "print(var_dic_list())"
    },
    "r": {
     "delete_cmd_postfix": ") ",
     "delete_cmd_prefix": "rm(",
     "library": "var_list.r",
     "varRefreshCmd": "cat(var_dic_list()) "
    }
   },
   "types_to_exclude": [
    "module",
    "function",
    "builtin_function_or_method",
    "instance",
    "_Feature"
   ],
   "window_display": false
  }
 },
 "nbformat": 4,
 "nbformat_minor": 5
}
