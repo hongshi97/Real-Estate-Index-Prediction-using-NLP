{
 "cells": [
  {
   "cell_type": "code",
   "execution_count": 1,
   "id": "3249aaf5",
   "metadata": {
    "ExecuteTime": {
     "end_time": "2021-05-04T00:31:56.916331Z",
     "start_time": "2021-05-04T00:31:56.254733Z"
    }
   },
   "outputs": [],
   "source": [
    "from sklearn.ensemble import RandomForestClassifier\n",
    "import numpy as np\n",
    "import pandas as pd\n",
    "import matplotlib.pyplot as plt\n",
    "from sklearn.metrics import plot_roc_curve\n",
    "from sklearn.metrics import roc_auc_score, roc_curve, auc\n",
    "from sklearn.preprocessing import OneHotEncoder\n",
    "from sklearn.metrics import classification_report, confusion_matrix, accuracy_score\n",
    "from sklearn.model_selection import KFold, GridSearchCV\n",
    "from sklearn.model_selection import train_test_split"
   ]
  },
  {
   "cell_type": "markdown",
   "id": "c10fe884",
   "metadata": {},
   "source": [
    "# 데이터 불러오기"
   ]
  },
  {
   "cell_type": "code",
   "execution_count": 2,
   "id": "6fcdf38f",
   "metadata": {
    "ExecuteTime": {
     "end_time": "2021-05-04T00:31:56.920187Z",
     "start_time": "2021-05-04T00:31:56.917348Z"
    }
   },
   "outputs": [],
   "source": [
    "df = pd.read_csv('분석용데이터_utf_spi수정완료.csv')"
   ]
  },
  {
   "cell_type": "code",
   "execution_count": 3,
   "id": "3049796f",
   "metadata": {
    "ExecuteTime": {
     "end_time": "2021-05-04T00:31:56.922842Z",
     "start_time": "2021-05-04T00:31:56.921058Z"
    }
   },
   "outputs": [],
   "source": [
    "#Date를 index로 넣어줌\n",
    "df.index = df['Date']\n",
    "df.drop(['Date'], axis = 1, inplace = True)"
   ]
  },
  {
   "cell_type": "code",
   "execution_count": 4,
   "id": "9936a536",
   "metadata": {
    "ExecuteTime": {
     "end_time": "2021-05-04T00:31:56.932370Z",
     "start_time": "2021-05-04T00:31:56.923473Z"
    }
   },
   "outputs": [
    {
     "data": {
      "text/html": [
       "<div>\n",
       "<style scoped>\n",
       "    .dataframe tbody tr th:only-of-type {\n",
       "        vertical-align: middle;\n",
       "    }\n",
       "\n",
       "    .dataframe tbody tr th {\n",
       "        vertical-align: top;\n",
       "    }\n",
       "\n",
       "    .dataframe thead th {\n",
       "        text-align: right;\n",
       "    }\n",
       "</style>\n",
       "<table border=\"1\" class=\"dataframe\">\n",
       "  <thead>\n",
       "    <tr style=\"text-align: right;\">\n",
       "      <th></th>\n",
       "      <th>M2</th>\n",
       "      <th>comp basemoney rate</th>\n",
       "      <th>base rate</th>\n",
       "      <th>consumer price index</th>\n",
       "      <th>kospi close</th>\n",
       "      <th>ex-rate close</th>\n",
       "      <th>효준감성점수</th>\n",
       "      <th>spi</th>\n",
       "    </tr>\n",
       "    <tr>\n",
       "      <th>Date</th>\n",
       "      <th></th>\n",
       "      <th></th>\n",
       "      <th></th>\n",
       "      <th></th>\n",
       "      <th></th>\n",
       "      <th></th>\n",
       "      <th></th>\n",
       "      <th></th>\n",
       "    </tr>\n",
       "  </thead>\n",
       "  <tbody>\n",
       "    <tr>\n",
       "      <th>201101월</th>\n",
       "      <td>1676.4</td>\n",
       "      <td>4.52</td>\n",
       "      <td>2.75</td>\n",
       "      <td>3.4</td>\n",
       "      <td>2069.73</td>\n",
       "      <td>1119.25</td>\n",
       "      <td>1856.746125</td>\n",
       "      <td>81.3</td>\n",
       "    </tr>\n",
       "    <tr>\n",
       "      <th>201102월</th>\n",
       "      <td>1674.4</td>\n",
       "      <td>4.72</td>\n",
       "      <td>2.75</td>\n",
       "      <td>3.9</td>\n",
       "      <td>1939.30</td>\n",
       "      <td>1124.65</td>\n",
       "      <td>2046.702906</td>\n",
       "      <td>82.5</td>\n",
       "    </tr>\n",
       "    <tr>\n",
       "      <th>201103월</th>\n",
       "      <td>1677.5</td>\n",
       "      <td>4.54</td>\n",
       "      <td>3.00</td>\n",
       "      <td>4.1</td>\n",
       "      <td>2106.70</td>\n",
       "      <td>1095.50</td>\n",
       "      <td>1715.795289</td>\n",
       "      <td>83.4</td>\n",
       "    </tr>\n",
       "    <tr>\n",
       "      <th>201104월</th>\n",
       "      <td>1684.8</td>\n",
       "      <td>4.54</td>\n",
       "      <td>3.00</td>\n",
       "      <td>3.8</td>\n",
       "      <td>2192.36</td>\n",
       "      <td>1068.00</td>\n",
       "      <td>1635.262791</td>\n",
       "      <td>83.9</td>\n",
       "    </tr>\n",
       "    <tr>\n",
       "      <th>201105월</th>\n",
       "      <td>1690.5</td>\n",
       "      <td>4.44</td>\n",
       "      <td>3.00</td>\n",
       "      <td>3.9</td>\n",
       "      <td>2142.47</td>\n",
       "      <td>1078.00</td>\n",
       "      <td>1922.518709</td>\n",
       "      <td>84.1</td>\n",
       "    </tr>\n",
       "    <tr>\n",
       "      <th>...</th>\n",
       "      <td>...</td>\n",
       "      <td>...</td>\n",
       "      <td>...</td>\n",
       "      <td>...</td>\n",
       "      <td>...</td>\n",
       "      <td>...</td>\n",
       "      <td>...</td>\n",
       "      <td>...</td>\n",
       "    </tr>\n",
       "    <tr>\n",
       "      <th>202008월</th>\n",
       "      <td>3100.4</td>\n",
       "      <td>2.19</td>\n",
       "      <td>0.50</td>\n",
       "      <td>0.7</td>\n",
       "      <td>2326.17</td>\n",
       "      <td>1187.94</td>\n",
       "      <td>1221.939746</td>\n",
       "      <td>113.1</td>\n",
       "    </tr>\n",
       "    <tr>\n",
       "      <th>202009월</th>\n",
       "      <td>3115.2</td>\n",
       "      <td>2.24</td>\n",
       "      <td>0.50</td>\n",
       "      <td>1.0</td>\n",
       "      <td>2327.89</td>\n",
       "      <td>1164.65</td>\n",
       "      <td>1208.597571</td>\n",
       "      <td>114.0</td>\n",
       "    </tr>\n",
       "    <tr>\n",
       "      <th>202010월</th>\n",
       "      <td>3152.8</td>\n",
       "      <td>2.24</td>\n",
       "      <td>0.50</td>\n",
       "      <td>0.1</td>\n",
       "      <td>2267.15</td>\n",
       "      <td>1136.49</td>\n",
       "      <td>1001.099665</td>\n",
       "      <td>115.6</td>\n",
       "    </tr>\n",
       "    <tr>\n",
       "      <th>202011월</th>\n",
       "      <td>3183.5</td>\n",
       "      <td>2.25</td>\n",
       "      <td>0.50</td>\n",
       "      <td>0.6</td>\n",
       "      <td>2591.34</td>\n",
       "      <td>1109.32</td>\n",
       "      <td>919.546249</td>\n",
       "      <td>118.3</td>\n",
       "    </tr>\n",
       "    <tr>\n",
       "      <th>202012월</th>\n",
       "      <td>3183.5</td>\n",
       "      <td>2.21</td>\n",
       "      <td>0.50</td>\n",
       "      <td>0.5</td>\n",
       "      <td>2873.47</td>\n",
       "      <td>1084.47</td>\n",
       "      <td>1110.592804</td>\n",
       "      <td>121.4</td>\n",
       "    </tr>\n",
       "  </tbody>\n",
       "</table>\n",
       "<p>120 rows × 8 columns</p>\n",
       "</div>"
      ],
      "text/plain": [
       "             M2  comp basemoney rate  base rate  consumer price index  \\\n",
       "Date                                                                    \n",
       "201101월  1676.4                 4.52       2.75                   3.4   \n",
       "201102월  1674.4                 4.72       2.75                   3.9   \n",
       "201103월  1677.5                 4.54       3.00                   4.1   \n",
       "201104월  1684.8                 4.54       3.00                   3.8   \n",
       "201105월  1690.5                 4.44       3.00                   3.9   \n",
       "...         ...                  ...        ...                   ...   \n",
       "202008월  3100.4                 2.19       0.50                   0.7   \n",
       "202009월  3115.2                 2.24       0.50                   1.0   \n",
       "202010월  3152.8                 2.24       0.50                   0.1   \n",
       "202011월  3183.5                 2.25       0.50                   0.6   \n",
       "202012월  3183.5                 2.21       0.50                   0.5   \n",
       "\n",
       "         kospi close  ex-rate close       효준감성점수    spi  \n",
       "Date                                                     \n",
       "201101월      2069.73        1119.25  1856.746125   81.3  \n",
       "201102월      1939.30        1124.65  2046.702906   82.5  \n",
       "201103월      2106.70        1095.50  1715.795289   83.4  \n",
       "201104월      2192.36        1068.00  1635.262791   83.9  \n",
       "201105월      2142.47        1078.00  1922.518709   84.1  \n",
       "...              ...            ...          ...    ...  \n",
       "202008월      2326.17        1187.94  1221.939746  113.1  \n",
       "202009월      2327.89        1164.65  1208.597571  114.0  \n",
       "202010월      2267.15        1136.49  1001.099665  115.6  \n",
       "202011월      2591.34        1109.32   919.546249  118.3  \n",
       "202012월      2873.47        1084.47  1110.592804  121.4  \n",
       "\n",
       "[120 rows x 8 columns]"
      ]
     },
     "execution_count": 4,
     "metadata": {},
     "output_type": "execute_result"
    }
   ],
   "source": [
    "df"
   ]
  },
  {
   "cell_type": "markdown",
   "id": "96b44bad",
   "metadata": {},
   "source": [
    "# 전처리"
   ]
  },
  {
   "cell_type": "code",
   "execution_count": 5,
   "id": "0d6621ac",
   "metadata": {
    "ExecuteTime": {
     "end_time": "2021-05-04T00:31:56.935351Z",
     "start_time": "2021-05-04T00:31:56.933032Z"
    }
   },
   "outputs": [],
   "source": [
    "df['next_spi'] = df['spi'].shift(-1)\n",
    "df['next_spi'][-1] = 124.9"
   ]
  },
  {
   "cell_type": "code",
   "execution_count": 6,
   "id": "57d63780",
   "metadata": {
    "ExecuteTime": {
     "end_time": "2021-05-04T00:31:56.937919Z",
     "start_time": "2021-05-04T00:31:56.936040Z"
    }
   },
   "outputs": [],
   "source": [
    "#전처리에 사용되었던 더미 변수들 drop\n",
    "df.drop(['spi'], axis = 1, inplace = True)"
   ]
  },
  {
   "cell_type": "code",
   "execution_count": 7,
   "id": "ff6fd0b0",
   "metadata": {
    "ExecuteTime": {
     "end_time": "2021-05-04T00:31:56.941245Z",
     "start_time": "2021-05-04T00:31:56.939513Z"
    }
   },
   "outputs": [],
   "source": [
    "X = df.copy()\n",
    "y = X.pop('next_spi')"
   ]
  },
  {
   "cell_type": "code",
   "execution_count": 8,
   "id": "1e65514a",
   "metadata": {
    "ExecuteTime": {
     "end_time": "2021-05-04T00:31:56.943737Z",
     "start_time": "2021-05-04T00:31:56.942502Z"
    }
   },
   "outputs": [],
   "source": [
    "from sklearn.model_selection import train_test_split"
   ]
  },
  {
   "cell_type": "code",
   "execution_count": 9,
   "id": "93b50311",
   "metadata": {
    "ExecuteTime": {
     "end_time": "2021-05-04T00:31:56.946512Z",
     "start_time": "2021-05-04T00:31:56.944429Z"
    }
   },
   "outputs": [],
   "source": [
    "X_train, X_test, y_train, y_test = train_test_split(X, y, test_size = 0.25, random_state = 0)"
   ]
  },
  {
   "cell_type": "code",
   "execution_count": 10,
   "id": "027227f4",
   "metadata": {
    "ExecuteTime": {
     "end_time": "2021-05-04T00:31:56.949015Z",
     "start_time": "2021-05-04T00:31:56.947134Z"
    }
   },
   "outputs": [],
   "source": [
    "X_train_new = X_train.drop(['효준감성점수'], axis = 1)\n",
    "X_test_new = X_test.drop(['효준감성점수'], axis = 1)"
   ]
  },
  {
   "cell_type": "markdown",
   "id": "e022ba26",
   "metadata": {},
   "source": [
    "# 효준이 제외 기본 성능"
   ]
  },
  {
   "cell_type": "code",
   "execution_count": 11,
   "id": "bc432f99",
   "metadata": {
    "ExecuteTime": {
     "end_time": "2021-05-04T00:31:56.950945Z",
     "start_time": "2021-05-04T00:31:56.949654Z"
    }
   },
   "outputs": [],
   "source": [
    "from sklearn.ensemble import RandomForestRegressor"
   ]
  },
  {
   "cell_type": "code",
   "execution_count": 12,
   "id": "55e8e09e",
   "metadata": {
    "ExecuteTime": {
     "end_time": "2021-05-04T00:31:56.952905Z",
     "start_time": "2021-05-04T00:31:56.951593Z"
    }
   },
   "outputs": [],
   "source": [
    "regressor = RandomForestRegressor(n_estimators = 100, random_state = 0)"
   ]
  },
  {
   "cell_type": "code",
   "execution_count": 13,
   "id": "1a074b44",
   "metadata": {
    "ExecuteTime": {
     "end_time": "2021-05-04T00:31:57.004867Z",
     "start_time": "2021-05-04T00:31:56.953579Z"
    }
   },
   "outputs": [
    {
     "data": {
      "text/plain": [
       "RandomForestRegressor(random_state=0)"
      ]
     },
     "execution_count": 13,
     "metadata": {},
     "output_type": "execute_result"
    }
   ],
   "source": [
    "regressor.fit(X_train, y_train)  "
   ]
  },
  {
   "cell_type": "code",
   "execution_count": 14,
   "id": "89561d63",
   "metadata": {
    "ExecuteTime": {
     "end_time": "2021-05-04T00:31:57.012567Z",
     "start_time": "2021-05-04T00:31:57.005712Z"
    }
   },
   "outputs": [],
   "source": [
    "y_pred = regressor.predict(X_test)  # test the output by changing values"
   ]
  },
  {
   "cell_type": "code",
   "execution_count": 15,
   "id": "9e7ebd0b",
   "metadata": {
    "ExecuteTime": {
     "end_time": "2021-05-04T00:31:57.015324Z",
     "start_time": "2021-05-04T00:31:57.013617Z"
    }
   },
   "outputs": [],
   "source": [
    "from sklearn.metrics import mean_squared_error\n"
   ]
  },
  {
   "cell_type": "code",
   "execution_count": 16,
   "id": "1e67391a",
   "metadata": {
    "ExecuteTime": {
     "end_time": "2021-05-04T00:31:57.017900Z",
     "start_time": "2021-05-04T00:31:57.016172Z"
    }
   },
   "outputs": [],
   "source": [
    "RMSE = mean_squared_error(y_test, y_pred)**0.5"
   ]
  },
  {
   "cell_type": "code",
   "execution_count": 17,
   "id": "462a1ee5",
   "metadata": {
    "ExecuteTime": {
     "end_time": "2021-05-04T00:31:57.020694Z",
     "start_time": "2021-05-04T00:31:57.018732Z"
    },
    "scrolled": true
   },
   "outputs": [
    {
     "data": {
      "text/plain": [
       "1.517531043065262"
      ]
     },
     "execution_count": 17,
     "metadata": {},
     "output_type": "execute_result"
    }
   ],
   "source": [
    "RMSE"
   ]
  },
  {
   "cell_type": "markdown",
   "id": "70e30941",
   "metadata": {},
   "source": [
    "# 효준이 포함 성능"
   ]
  },
  {
   "cell_type": "code",
   "execution_count": 18,
   "id": "2a40a77c",
   "metadata": {
    "ExecuteTime": {
     "end_time": "2021-05-04T00:31:57.022688Z",
     "start_time": "2021-05-04T00:31:57.021339Z"
    }
   },
   "outputs": [],
   "source": [
    "regressor = RandomForestRegressor(n_estimators = 100, random_state = 0)"
   ]
  },
  {
   "cell_type": "code",
   "execution_count": 19,
   "id": "922882e2",
   "metadata": {
    "ExecuteTime": {
     "end_time": "2021-05-04T00:31:57.071340Z",
     "start_time": "2021-05-04T00:31:57.023312Z"
    }
   },
   "outputs": [
    {
     "data": {
      "text/plain": [
       "RandomForestRegressor(random_state=0)"
      ]
     },
     "execution_count": 19,
     "metadata": {},
     "output_type": "execute_result"
    }
   ],
   "source": [
    "regressor.fit(X_train_new, y_train)  "
   ]
  },
  {
   "cell_type": "code",
   "execution_count": 20,
   "id": "cb2c40eb",
   "metadata": {
    "ExecuteTime": {
     "end_time": "2021-05-04T00:31:57.077618Z",
     "start_time": "2021-05-04T00:31:57.072037Z"
    }
   },
   "outputs": [],
   "source": [
    "y_pred_new = regressor.predict(X_test_new)  # test the output by changing values"
   ]
  },
  {
   "cell_type": "code",
   "execution_count": 21,
   "id": "fd25c713",
   "metadata": {
    "ExecuteTime": {
     "end_time": "2021-05-04T00:31:57.079943Z",
     "start_time": "2021-05-04T00:31:57.078294Z"
    }
   },
   "outputs": [],
   "source": [
    "RMSE_new = mean_squared_error(y_test, y_pred_new)**0.5"
   ]
  },
  {
   "cell_type": "code",
   "execution_count": 22,
   "id": "554e98c9",
   "metadata": {
    "ExecuteTime": {
     "end_time": "2021-05-04T00:31:57.085535Z",
     "start_time": "2021-05-04T00:31:57.083606Z"
    }
   },
   "outputs": [
    {
     "data": {
      "text/plain": [
       "1.422598783916282"
      ]
     },
     "execution_count": 22,
     "metadata": {},
     "output_type": "execute_result"
    }
   ],
   "source": [
    "RMSE_new"
   ]
  }
 ],
 "metadata": {
  "hide_input": false,
  "kernelspec": {
   "display_name": "Python 3",
   "language": "python",
   "name": "python3"
  },
  "language_info": {
   "codemirror_mode": {
    "name": "ipython",
    "version": 3
   },
   "file_extension": ".py",
   "mimetype": "text/x-python",
   "name": "python",
   "nbconvert_exporter": "python",
   "pygments_lexer": "ipython3",
   "version": "3.8.6"
  },
  "toc": {
   "base_numbering": 1,
   "nav_menu": {},
   "number_sections": true,
   "sideBar": true,
   "skip_h1_title": false,
   "title_cell": "Table of Contents",
   "title_sidebar": "Contents",
   "toc_cell": false,
   "toc_position": {},
   "toc_section_display": true,
   "toc_window_display": false
  },
  "varInspector": {
   "cols": {
    "lenName": 16,
    "lenType": 16,
    "lenVar": 40
   },
   "kernels_config": {
    "python": {
     "delete_cmd_postfix": "",
     "delete_cmd_prefix": "del ",
     "library": "var_list.py",
     "varRefreshCmd": "print(var_dic_list())"
    },
    "r": {
     "delete_cmd_postfix": ") ",
     "delete_cmd_prefix": "rm(",
     "library": "var_list.r",
     "varRefreshCmd": "cat(var_dic_list()) "
    }
   },
   "types_to_exclude": [
    "module",
    "function",
    "builtin_function_or_method",
    "instance",
    "_Feature"
   ],
   "window_display": false
  }
 },
 "nbformat": 4,
 "nbformat_minor": 5
}
