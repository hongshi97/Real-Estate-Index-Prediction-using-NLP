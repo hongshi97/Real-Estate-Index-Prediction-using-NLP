{
 "cells": [
  {
   "cell_type": "code",
   "execution_count": 1,
   "metadata": {
    "ExecuteTime": {
     "end_time": "2021-05-04T02:24:56.165828Z",
     "start_time": "2021-05-04T02:24:55.505725Z"
    }
   },
   "outputs": [],
   "source": [
    "from sklearn.ensemble import RandomForestClassifier\n",
    "import numpy as np\n",
    "import pandas as pd\n",
    "import matplotlib.pyplot as plt\n",
    "from sklearn.metrics import plot_roc_curve\n",
    "from sklearn.metrics import roc_auc_score, roc_curve, auc\n",
    "from sklearn.preprocessing import OneHotEncoder\n",
    "from sklearn.metrics import classification_report, confusion_matrix, accuracy_score\n",
    "from sklearn.model_selection import KFold, GridSearchCV\n",
    "from sklearn.model_selection import train_test_split"
   ]
  },
  {
   "cell_type": "markdown",
   "metadata": {},
   "source": [
    "# 데이터 불러오기"
   ]
  },
  {
   "cell_type": "code",
   "execution_count": 2,
   "metadata": {
    "ExecuteTime": {
     "end_time": "2021-05-04T02:24:56.169774Z",
     "start_time": "2021-05-04T02:24:56.166861Z"
    }
   },
   "outputs": [],
   "source": [
    "df = pd.read_csv('분석용데이터_utf_spi수정완료.csv')"
   ]
  },
  {
   "cell_type": "code",
   "execution_count": 3,
   "metadata": {
    "ExecuteTime": {
     "end_time": "2021-05-04T02:24:56.172464Z",
     "start_time": "2021-05-04T02:24:56.170687Z"
    }
   },
   "outputs": [],
   "source": [
    "#Date를 index로 넣어줌\n",
    "df.index = df['Date']\n",
    "df.drop(['Date'], axis = 1, inplace = True)"
   ]
  },
  {
   "cell_type": "code",
   "execution_count": 4,
   "metadata": {
    "ExecuteTime": {
     "end_time": "2021-05-04T02:24:56.182504Z",
     "start_time": "2021-05-04T02:24:56.173053Z"
    }
   },
   "outputs": [
    {
     "data": {
      "text/html": [
       "<div>\n",
       "<style scoped>\n",
       "    .dataframe tbody tr th:only-of-type {\n",
       "        vertical-align: middle;\n",
       "    }\n",
       "\n",
       "    .dataframe tbody tr th {\n",
       "        vertical-align: top;\n",
       "    }\n",
       "\n",
       "    .dataframe thead th {\n",
       "        text-align: right;\n",
       "    }\n",
       "</style>\n",
       "<table border=\"1\" class=\"dataframe\">\n",
       "  <thead>\n",
       "    <tr style=\"text-align: right;\">\n",
       "      <th></th>\n",
       "      <th>M2</th>\n",
       "      <th>comp basemoney rate</th>\n",
       "      <th>base rate</th>\n",
       "      <th>consumer price index</th>\n",
       "      <th>kospi close</th>\n",
       "      <th>ex-rate close</th>\n",
       "      <th>효준감성점수</th>\n",
       "      <th>spi</th>\n",
       "    </tr>\n",
       "    <tr>\n",
       "      <th>Date</th>\n",
       "      <th></th>\n",
       "      <th></th>\n",
       "      <th></th>\n",
       "      <th></th>\n",
       "      <th></th>\n",
       "      <th></th>\n",
       "      <th></th>\n",
       "      <th></th>\n",
       "    </tr>\n",
       "  </thead>\n",
       "  <tbody>\n",
       "    <tr>\n",
       "      <th>201101월</th>\n",
       "      <td>1676.4</td>\n",
       "      <td>4.52</td>\n",
       "      <td>2.75</td>\n",
       "      <td>3.4</td>\n",
       "      <td>2069.73</td>\n",
       "      <td>1119.25</td>\n",
       "      <td>1856.746125</td>\n",
       "      <td>81.3</td>\n",
       "    </tr>\n",
       "    <tr>\n",
       "      <th>201102월</th>\n",
       "      <td>1674.4</td>\n",
       "      <td>4.72</td>\n",
       "      <td>2.75</td>\n",
       "      <td>3.9</td>\n",
       "      <td>1939.30</td>\n",
       "      <td>1124.65</td>\n",
       "      <td>2046.702906</td>\n",
       "      <td>82.5</td>\n",
       "    </tr>\n",
       "    <tr>\n",
       "      <th>201103월</th>\n",
       "      <td>1677.5</td>\n",
       "      <td>4.54</td>\n",
       "      <td>3.00</td>\n",
       "      <td>4.1</td>\n",
       "      <td>2106.70</td>\n",
       "      <td>1095.50</td>\n",
       "      <td>1715.795289</td>\n",
       "      <td>83.4</td>\n",
       "    </tr>\n",
       "    <tr>\n",
       "      <th>201104월</th>\n",
       "      <td>1684.8</td>\n",
       "      <td>4.54</td>\n",
       "      <td>3.00</td>\n",
       "      <td>3.8</td>\n",
       "      <td>2192.36</td>\n",
       "      <td>1068.00</td>\n",
       "      <td>1635.262791</td>\n",
       "      <td>83.9</td>\n",
       "    </tr>\n",
       "    <tr>\n",
       "      <th>201105월</th>\n",
       "      <td>1690.5</td>\n",
       "      <td>4.44</td>\n",
       "      <td>3.00</td>\n",
       "      <td>3.9</td>\n",
       "      <td>2142.47</td>\n",
       "      <td>1078.00</td>\n",
       "      <td>1922.518709</td>\n",
       "      <td>84.1</td>\n",
       "    </tr>\n",
       "    <tr>\n",
       "      <th>...</th>\n",
       "      <td>...</td>\n",
       "      <td>...</td>\n",
       "      <td>...</td>\n",
       "      <td>...</td>\n",
       "      <td>...</td>\n",
       "      <td>...</td>\n",
       "      <td>...</td>\n",
       "      <td>...</td>\n",
       "    </tr>\n",
       "    <tr>\n",
       "      <th>202008월</th>\n",
       "      <td>3100.4</td>\n",
       "      <td>2.19</td>\n",
       "      <td>0.50</td>\n",
       "      <td>0.7</td>\n",
       "      <td>2326.17</td>\n",
       "      <td>1187.94</td>\n",
       "      <td>1221.939746</td>\n",
       "      <td>113.1</td>\n",
       "    </tr>\n",
       "    <tr>\n",
       "      <th>202009월</th>\n",
       "      <td>3115.2</td>\n",
       "      <td>2.24</td>\n",
       "      <td>0.50</td>\n",
       "      <td>1.0</td>\n",
       "      <td>2327.89</td>\n",
       "      <td>1164.65</td>\n",
       "      <td>1208.597571</td>\n",
       "      <td>114.0</td>\n",
       "    </tr>\n",
       "    <tr>\n",
       "      <th>202010월</th>\n",
       "      <td>3152.8</td>\n",
       "      <td>2.24</td>\n",
       "      <td>0.50</td>\n",
       "      <td>0.1</td>\n",
       "      <td>2267.15</td>\n",
       "      <td>1136.49</td>\n",
       "      <td>1001.099665</td>\n",
       "      <td>115.6</td>\n",
       "    </tr>\n",
       "    <tr>\n",
       "      <th>202011월</th>\n",
       "      <td>3183.5</td>\n",
       "      <td>2.25</td>\n",
       "      <td>0.50</td>\n",
       "      <td>0.6</td>\n",
       "      <td>2591.34</td>\n",
       "      <td>1109.32</td>\n",
       "      <td>919.546249</td>\n",
       "      <td>118.3</td>\n",
       "    </tr>\n",
       "    <tr>\n",
       "      <th>202012월</th>\n",
       "      <td>3183.5</td>\n",
       "      <td>2.21</td>\n",
       "      <td>0.50</td>\n",
       "      <td>0.5</td>\n",
       "      <td>2873.47</td>\n",
       "      <td>1084.47</td>\n",
       "      <td>1110.592804</td>\n",
       "      <td>121.4</td>\n",
       "    </tr>\n",
       "  </tbody>\n",
       "</table>\n",
       "<p>120 rows × 8 columns</p>\n",
       "</div>"
      ],
      "text/plain": [
       "             M2  comp basemoney rate  base rate  consumer price index  \\\n",
       "Date                                                                    \n",
       "201101월  1676.4                 4.52       2.75                   3.4   \n",
       "201102월  1674.4                 4.72       2.75                   3.9   \n",
       "201103월  1677.5                 4.54       3.00                   4.1   \n",
       "201104월  1684.8                 4.54       3.00                   3.8   \n",
       "201105월  1690.5                 4.44       3.00                   3.9   \n",
       "...         ...                  ...        ...                   ...   \n",
       "202008월  3100.4                 2.19       0.50                   0.7   \n",
       "202009월  3115.2                 2.24       0.50                   1.0   \n",
       "202010월  3152.8                 2.24       0.50                   0.1   \n",
       "202011월  3183.5                 2.25       0.50                   0.6   \n",
       "202012월  3183.5                 2.21       0.50                   0.5   \n",
       "\n",
       "         kospi close  ex-rate close       효준감성점수    spi  \n",
       "Date                                                     \n",
       "201101월      2069.73        1119.25  1856.746125   81.3  \n",
       "201102월      1939.30        1124.65  2046.702906   82.5  \n",
       "201103월      2106.70        1095.50  1715.795289   83.4  \n",
       "201104월      2192.36        1068.00  1635.262791   83.9  \n",
       "201105월      2142.47        1078.00  1922.518709   84.1  \n",
       "...              ...            ...          ...    ...  \n",
       "202008월      2326.17        1187.94  1221.939746  113.1  \n",
       "202009월      2327.89        1164.65  1208.597571  114.0  \n",
       "202010월      2267.15        1136.49  1001.099665  115.6  \n",
       "202011월      2591.34        1109.32   919.546249  118.3  \n",
       "202012월      2873.47        1084.47  1110.592804  121.4  \n",
       "\n",
       "[120 rows x 8 columns]"
      ]
     },
     "execution_count": 4,
     "metadata": {},
     "output_type": "execute_result"
    }
   ],
   "source": [
    "df"
   ]
  },
  {
   "cell_type": "markdown",
   "metadata": {},
   "source": [
    "# 전처리"
   ]
  },
  {
   "cell_type": "code",
   "execution_count": 5,
   "metadata": {
    "ExecuteTime": {
     "end_time": "2021-05-04T02:24:56.185712Z",
     "start_time": "2021-05-04T02:24:56.183255Z"
    }
   },
   "outputs": [],
   "source": [
    "df['next_spi'] = df['spi'].shift(-1)\n",
    "df['next_spi'][-1] = 124.9"
   ]
  },
  {
   "cell_type": "code",
   "execution_count": 6,
   "metadata": {
    "ExecuteTime": {
     "end_time": "2021-05-04T02:24:56.188352Z",
     "start_time": "2021-05-04T02:24:56.186402Z"
    }
   },
   "outputs": [],
   "source": [
    "#전처리에 사용되었던 더미 변수들 drop\n",
    "df.drop(['spi'], axis = 1, inplace = True)"
   ]
  },
  {
   "cell_type": "code",
   "execution_count": 7,
   "metadata": {
    "ExecuteTime": {
     "end_time": "2021-05-04T02:24:56.191400Z",
     "start_time": "2021-05-04T02:24:56.189967Z"
    }
   },
   "outputs": [],
   "source": [
    "X = df.copy()\n",
    "y = X.pop('next_spi')"
   ]
  },
  {
   "cell_type": "code",
   "execution_count": 8,
   "metadata": {
    "ExecuteTime": {
     "end_time": "2021-05-04T02:24:56.193824Z",
     "start_time": "2021-05-04T02:24:56.192675Z"
    }
   },
   "outputs": [],
   "source": [
    "from sklearn.model_selection import train_test_split"
   ]
  },
  {
   "cell_type": "code",
   "execution_count": 9,
   "metadata": {
    "ExecuteTime": {
     "end_time": "2021-05-04T02:24:56.196494Z",
     "start_time": "2021-05-04T02:24:56.194430Z"
    }
   },
   "outputs": [],
   "source": [
    "X_train, X_test, y_train, y_test = train_test_split(X, y, test_size = 0.25, random_state = 0)"
   ]
  },
  {
   "cell_type": "code",
   "execution_count": 10,
   "metadata": {
    "ExecuteTime": {
     "end_time": "2021-05-04T02:24:56.198978Z",
     "start_time": "2021-05-04T02:24:56.197141Z"
    }
   },
   "outputs": [],
   "source": [
    "X_train_new = X_train.drop(['효준감성점수'], axis = 1)\n",
    "X_test_new = X_test.drop(['효준감성점수'], axis = 1)"
   ]
  },
  {
   "cell_type": "code",
   "execution_count": 11,
   "metadata": {
    "ExecuteTime": {
     "end_time": "2021-05-04T02:24:56.206286Z",
     "start_time": "2021-05-04T02:24:56.199611Z"
    }
   },
   "outputs": [
    {
     "data": {
      "text/html": [
       "<div>\n",
       "<style scoped>\n",
       "    .dataframe tbody tr th:only-of-type {\n",
       "        vertical-align: middle;\n",
       "    }\n",
       "\n",
       "    .dataframe tbody tr th {\n",
       "        vertical-align: top;\n",
       "    }\n",
       "\n",
       "    .dataframe thead th {\n",
       "        text-align: right;\n",
       "    }\n",
       "</style>\n",
       "<table border=\"1\" class=\"dataframe\">\n",
       "  <thead>\n",
       "    <tr style=\"text-align: right;\">\n",
       "      <th></th>\n",
       "      <th>M2</th>\n",
       "      <th>comp basemoney rate</th>\n",
       "      <th>base rate</th>\n",
       "      <th>consumer price index</th>\n",
       "      <th>kospi close</th>\n",
       "      <th>ex-rate close</th>\n",
       "      <th>효준감성점수</th>\n",
       "    </tr>\n",
       "    <tr>\n",
       "      <th>Date</th>\n",
       "      <th></th>\n",
       "      <th></th>\n",
       "      <th></th>\n",
       "      <th></th>\n",
       "      <th></th>\n",
       "      <th></th>\n",
       "      <th></th>\n",
       "    </tr>\n",
       "  </thead>\n",
       "  <tbody>\n",
       "    <tr>\n",
       "      <th>201504월</th>\n",
       "      <td>2148.1</td>\n",
       "      <td>1.99</td>\n",
       "      <td>1.75</td>\n",
       "      <td>0.4</td>\n",
       "      <td>2127.17</td>\n",
       "      <td>1076.34</td>\n",
       "      <td>2212.598416</td>\n",
       "    </tr>\n",
       "    <tr>\n",
       "      <th>202006월</th>\n",
       "      <td>3077.3</td>\n",
       "      <td>2.22</td>\n",
       "      <td>0.50</td>\n",
       "      <td>0.0</td>\n",
       "      <td>2108.33</td>\n",
       "      <td>1199.28</td>\n",
       "      <td>1027.105971</td>\n",
       "    </tr>\n",
       "    <tr>\n",
       "      <th>201912월</th>\n",
       "      <td>2912.0</td>\n",
       "      <td>1.95</td>\n",
       "      <td>1.25</td>\n",
       "      <td>0.7</td>\n",
       "      <td>2197.67</td>\n",
       "      <td>1154.07</td>\n",
       "      <td>873.706855</td>\n",
       "    </tr>\n",
       "    <tr>\n",
       "      <th>201602월</th>\n",
       "      <td>2285.3</td>\n",
       "      <td>1.95</td>\n",
       "      <td>1.50</td>\n",
       "      <td>1.1</td>\n",
       "      <td>1916.66</td>\n",
       "      <td>1237.24</td>\n",
       "      <td>1422.961939</td>\n",
       "    </tr>\n",
       "    <tr>\n",
       "      <th>201104월</th>\n",
       "      <td>1684.8</td>\n",
       "      <td>4.54</td>\n",
       "      <td>3.00</td>\n",
       "      <td>3.8</td>\n",
       "      <td>2192.36</td>\n",
       "      <td>1068.00</td>\n",
       "      <td>1635.262791</td>\n",
       "    </tr>\n",
       "    <tr>\n",
       "      <th>...</th>\n",
       "      <td>...</td>\n",
       "      <td>...</td>\n",
       "      <td>...</td>\n",
       "      <td>...</td>\n",
       "      <td>...</td>\n",
       "      <td>...</td>\n",
       "      <td>...</td>\n",
       "    </tr>\n",
       "    <tr>\n",
       "      <th>201608월</th>\n",
       "      <td>2377.3</td>\n",
       "      <td>1.65</td>\n",
       "      <td>1.25</td>\n",
       "      <td>0.5</td>\n",
       "      <td>2034.65</td>\n",
       "      <td>1115.29</td>\n",
       "      <td>1454.840123</td>\n",
       "    </tr>\n",
       "    <tr>\n",
       "      <th>201605월</th>\n",
       "      <td>2312.8</td>\n",
       "      <td>1.91</td>\n",
       "      <td>1.50</td>\n",
       "      <td>0.8</td>\n",
       "      <td>1983.40</td>\n",
       "      <td>1188.39</td>\n",
       "      <td>1619.125596</td>\n",
       "    </tr>\n",
       "    <tr>\n",
       "      <th>202010월</th>\n",
       "      <td>3152.8</td>\n",
       "      <td>2.24</td>\n",
       "      <td>0.50</td>\n",
       "      <td>0.1</td>\n",
       "      <td>2267.15</td>\n",
       "      <td>1136.49</td>\n",
       "      <td>1001.099665</td>\n",
       "    </tr>\n",
       "    <tr>\n",
       "      <th>201412월</th>\n",
       "      <td>2088.7</td>\n",
       "      <td>2.46</td>\n",
       "      <td>2.00</td>\n",
       "      <td>0.8</td>\n",
       "      <td>1915.59</td>\n",
       "      <td>1092.90</td>\n",
       "      <td>1959.479960</td>\n",
       "    </tr>\n",
       "    <tr>\n",
       "      <th>201409월</th>\n",
       "      <td>2037.6</td>\n",
       "      <td>2.78</td>\n",
       "      <td>2.25</td>\n",
       "      <td>1.1</td>\n",
       "      <td>2020.09</td>\n",
       "      <td>1054.55</td>\n",
       "      <td>2410.587704</td>\n",
       "    </tr>\n",
       "  </tbody>\n",
       "</table>\n",
       "<p>90 rows × 7 columns</p>\n",
       "</div>"
      ],
      "text/plain": [
       "             M2  comp basemoney rate  base rate  consumer price index  \\\n",
       "Date                                                                    \n",
       "201504월  2148.1                 1.99       1.75                   0.4   \n",
       "202006월  3077.3                 2.22       0.50                   0.0   \n",
       "201912월  2912.0                 1.95       1.25                   0.7   \n",
       "201602월  2285.3                 1.95       1.50                   1.1   \n",
       "201104월  1684.8                 4.54       3.00                   3.8   \n",
       "...         ...                  ...        ...                   ...   \n",
       "201608월  2377.3                 1.65       1.25                   0.5   \n",
       "201605월  2312.8                 1.91       1.50                   0.8   \n",
       "202010월  3152.8                 2.24       0.50                   0.1   \n",
       "201412월  2088.7                 2.46       2.00                   0.8   \n",
       "201409월  2037.6                 2.78       2.25                   1.1   \n",
       "\n",
       "         kospi close  ex-rate close       효준감성점수  \n",
       "Date                                              \n",
       "201504월      2127.17        1076.34  2212.598416  \n",
       "202006월      2108.33        1199.28  1027.105971  \n",
       "201912월      2197.67        1154.07   873.706855  \n",
       "201602월      1916.66        1237.24  1422.961939  \n",
       "201104월      2192.36        1068.00  1635.262791  \n",
       "...              ...            ...          ...  \n",
       "201608월      2034.65        1115.29  1454.840123  \n",
       "201605월      1983.40        1188.39  1619.125596  \n",
       "202010월      2267.15        1136.49  1001.099665  \n",
       "201412월      1915.59        1092.90  1959.479960  \n",
       "201409월      2020.09        1054.55  2410.587704  \n",
       "\n",
       "[90 rows x 7 columns]"
      ]
     },
     "execution_count": 11,
     "metadata": {},
     "output_type": "execute_result"
    }
   ],
   "source": [
    "X_train"
   ]
  },
  {
   "cell_type": "markdown",
   "metadata": {},
   "source": [
    "# 효준이 제외 기본 성능"
   ]
  },
  {
   "cell_type": "code",
   "execution_count": 12,
   "metadata": {
    "ExecuteTime": {
     "end_time": "2021-05-04T02:24:56.208539Z",
     "start_time": "2021-05-04T02:24:56.207072Z"
    }
   },
   "outputs": [],
   "source": [
    "from sklearn.ensemble import RandomForestRegressor"
   ]
  },
  {
   "cell_type": "code",
   "execution_count": 13,
   "metadata": {
    "ExecuteTime": {
     "end_time": "2021-05-04T02:24:56.210554Z",
     "start_time": "2021-05-04T02:24:56.209181Z"
    }
   },
   "outputs": [],
   "source": [
    "regressor = RandomForestRegressor(n_estimators = 100, random_state = 0)"
   ]
  },
  {
   "cell_type": "code",
   "execution_count": 14,
   "metadata": {
    "ExecuteTime": {
     "end_time": "2021-05-04T02:24:56.262447Z",
     "start_time": "2021-05-04T02:24:56.211270Z"
    }
   },
   "outputs": [
    {
     "data": {
      "text/plain": [
       "RandomForestRegressor(random_state=0)"
      ]
     },
     "execution_count": 14,
     "metadata": {},
     "output_type": "execute_result"
    }
   ],
   "source": [
    "regressor.fit(X_train_new, y_train)  "
   ]
  },
  {
   "cell_type": "code",
   "execution_count": 15,
   "metadata": {
    "ExecuteTime": {
     "end_time": "2021-05-04T02:24:56.269527Z",
     "start_time": "2021-05-04T02:24:56.263802Z"
    }
   },
   "outputs": [],
   "source": [
    "y_pred = regressor.predict(X_test_new)  # test the output by changing values"
   ]
  },
  {
   "cell_type": "code",
   "execution_count": 16,
   "metadata": {
    "ExecuteTime": {
     "end_time": "2021-05-04T02:24:56.272072Z",
     "start_time": "2021-05-04T02:24:56.270373Z"
    }
   },
   "outputs": [],
   "source": [
    "from sklearn.metrics import mean_squared_error\n"
   ]
  },
  {
   "cell_type": "code",
   "execution_count": 17,
   "metadata": {
    "ExecuteTime": {
     "end_time": "2021-05-04T02:24:56.274449Z",
     "start_time": "2021-05-04T02:24:56.272766Z"
    }
   },
   "outputs": [],
   "source": [
    "RMSE = mean_squared_error(y_test, y_pred)**0.5"
   ]
  },
  {
   "cell_type": "code",
   "execution_count": 18,
   "metadata": {
    "ExecuteTime": {
     "end_time": "2021-05-04T02:24:56.277348Z",
     "start_time": "2021-05-04T02:24:56.275224Z"
    },
    "scrolled": true
   },
   "outputs": [
    {
     "data": {
      "text/plain": [
       "1.422598783916282"
      ]
     },
     "execution_count": 18,
     "metadata": {},
     "output_type": "execute_result"
    }
   ],
   "source": [
    "RMSE"
   ]
  },
  {
   "cell_type": "markdown",
   "metadata": {},
   "source": [
    "# 효준이 포함 성능"
   ]
  },
  {
   "cell_type": "code",
   "execution_count": 19,
   "metadata": {
    "ExecuteTime": {
     "end_time": "2021-05-04T02:24:56.279472Z",
     "start_time": "2021-05-04T02:24:56.278073Z"
    }
   },
   "outputs": [],
   "source": [
    "regressor = RandomForestRegressor(n_estimators = 100, random_state = 0)"
   ]
  },
  {
   "cell_type": "code",
   "execution_count": 20,
   "metadata": {
    "ExecuteTime": {
     "end_time": "2021-05-04T02:24:56.331052Z",
     "start_time": "2021-05-04T02:24:56.280099Z"
    }
   },
   "outputs": [
    {
     "data": {
      "text/plain": [
       "RandomForestRegressor(random_state=0)"
      ]
     },
     "execution_count": 20,
     "metadata": {},
     "output_type": "execute_result"
    }
   ],
   "source": [
    "regressor.fit(X_train, y_train)  "
   ]
  },
  {
   "cell_type": "code",
   "execution_count": 21,
   "metadata": {
    "ExecuteTime": {
     "end_time": "2021-05-04T02:24:56.337260Z",
     "start_time": "2021-05-04T02:24:56.331722Z"
    }
   },
   "outputs": [],
   "source": [
    "y_pred_new = regressor.predict(X_test)  # test the output by changing values"
   ]
  },
  {
   "cell_type": "code",
   "execution_count": 22,
   "metadata": {
    "ExecuteTime": {
     "end_time": "2021-05-04T02:24:56.342801Z",
     "start_time": "2021-05-04T02:24:56.340760Z"
    }
   },
   "outputs": [],
   "source": [
    "RMSE_new = mean_squared_error(y_test, y_pred_new)**0.5"
   ]
  },
  {
   "cell_type": "code",
   "execution_count": 23,
   "metadata": {
    "ExecuteTime": {
     "end_time": "2021-05-04T02:24:56.347634Z",
     "start_time": "2021-05-04T02:24:56.345594Z"
    }
   },
   "outputs": [
    {
     "data": {
      "text/plain": [
       "1.517531043065262"
      ]
     },
     "execution_count": 23,
     "metadata": {},
     "output_type": "execute_result"
    }
   ],
   "source": [
    "RMSE_new"
   ]
  }
 ],
 "metadata": {
  "hide_input": false,
  "kernelspec": {
   "display_name": "Python 3",
   "language": "python",
   "name": "python3"
  },
  "language_info": {
   "codemirror_mode": {
    "name": "ipython",
    "version": 3
   },
   "file_extension": ".py",
   "mimetype": "text/x-python",
   "name": "python",
   "nbconvert_exporter": "python",
   "pygments_lexer": "ipython3",
   "version": "3.8.5"
  },
  "toc": {
   "base_numbering": 1,
   "nav_menu": {},
   "number_sections": true,
   "sideBar": true,
   "skip_h1_title": false,
   "title_cell": "Table of Contents",
   "title_sidebar": "Contents",
   "toc_cell": false,
   "toc_position": {},
   "toc_section_display": true,
   "toc_window_display": false
  },
  "varInspector": {
   "cols": {
    "lenName": 16,
    "lenType": 16,
    "lenVar": 40
   },
   "kernels_config": {
    "python": {
     "delete_cmd_postfix": "",
     "delete_cmd_prefix": "del ",
     "library": "var_list.py",
     "varRefreshCmd": "print(var_dic_list())"
    },
    "r": {
     "delete_cmd_postfix": ") ",
     "delete_cmd_prefix": "rm(",
     "library": "var_list.r",
     "varRefreshCmd": "cat(var_dic_list()) "
    }
   },
   "types_to_exclude": [
    "module",
    "function",
    "builtin_function_or_method",
    "instance",
    "_Feature"
   ],
   "window_display": false
  }
 },
 "nbformat": 4,
 "nbformat_minor": 5
}
