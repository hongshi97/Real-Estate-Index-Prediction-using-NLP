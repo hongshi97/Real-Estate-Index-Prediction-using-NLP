{
  "nbformat": 4,
  "nbformat_minor": 5,
  "metadata": {
    "hide_input": false,
    "kernelspec": {
      "display_name": "Python 3",
      "language": "python",
      "name": "python3"
    },
    "language_info": {
      "codemirror_mode": {
        "name": "ipython",
        "version": 3
      },
      "file_extension": ".py",
      "mimetype": "text/x-python",
      "name": "python",
      "nbconvert_exporter": "python",
      "pygments_lexer": "ipython3",
      "version": "3.8.6"
    },
    "toc": {
      "base_numbering": 1,
      "nav_menu": {},
      "number_sections": true,
      "sideBar": true,
      "skip_h1_title": false,
      "title_cell": "Table of Contents",
      "title_sidebar": "Contents",
      "toc_cell": false,
      "toc_position": {},
      "toc_section_display": true,
      "toc_window_display": false
    },
    "varInspector": {
      "cols": {
        "lenName": 16,
        "lenType": 16,
        "lenVar": 40
      },
      "kernels_config": {
        "python": {
          "delete_cmd_postfix": "",
          "delete_cmd_prefix": "del ",
          "library": "var_list.py",
          "varRefreshCmd": "print(var_dic_list())"
        },
        "r": {
          "delete_cmd_postfix": ") ",
          "delete_cmd_prefix": "rm(",
          "library": "var_list.r",
          "varRefreshCmd": "cat(var_dic_list()) "
        }
      },
      "types_to_exclude": [
        "module",
        "function",
        "builtin_function_or_method",
        "instance",
        "_Feature"
      ],
      "window_display": false
    },
    "colab": {
      "name": "0521 mid_RF_GridSearchtrainshuffle.ipynb",
      "provenance": [],
      "collapsed_sections": [],
      "toc_visible": true
    }
  },
  "cells": [
    {
      "cell_type": "markdown",
      "metadata": {
        "id": "71b60899"
      },
      "source": [
        "# Data Import"
      ],
      "id": "71b60899"
    },
    {
      "cell_type": "code",
      "metadata": {
        "ExecuteTime": {
          "end_time": "2021-05-16T15:56:00.242174Z",
          "start_time": "2021-05-16T15:56:00.231862Z"
        },
        "id": "f6c51283"
      },
      "source": [
        "import pandas as pd\n",
        "import numpy as np\n",
        "from sklearn.ensemble import RandomForestRegressor\n",
        "from sklearn.metrics import mean_squared_error\n",
        "from sklearn.model_selection import GridSearchCV"
      ],
      "id": "f6c51283",
      "execution_count": null,
      "outputs": []
    },
    {
      "cell_type": "code",
      "metadata": {
        "colab": {
          "base_uri": "https://localhost:8080/"
        },
        "id": "d5OeSnsTWRSK",
        "outputId": "6949927c-6b2d-4052-aa5a-2024eda4388d"
      },
      "source": [
        "from google.colab import drive\n",
        "drive.mount('/content/drive')"
      ],
      "id": "d5OeSnsTWRSK",
      "execution_count": null,
      "outputs": [
        {
          "output_type": "stream",
          "text": [
            "Mounted at /content/drive\n"
          ],
          "name": "stdout"
        }
      ]
    },
    {
      "cell_type": "code",
      "metadata": {
        "ExecuteTime": {
          "end_time": "2021-05-16T15:28:05.092845Z",
          "start_time": "2021-05-16T15:28:05.091080Z"
        },
        "id": "ed573b8e"
      },
      "source": [
        "#sents_score : 시언 점수\n",
        "#sieon_sent_score : 시언 서술어 점수"
      ],
      "id": "ed573b8e",
      "execution_count": null,
      "outputs": []
    },
    {
      "cell_type": "code",
      "metadata": {
        "ExecuteTime": {
          "end_time": "2021-05-16T15:56:01.274476Z",
          "start_time": "2021-05-16T15:56:01.266181Z"
        },
        "id": "d6899356"
      },
      "source": [
        "df = pd.read_csv('/content/drive/MyDrive/4-1창종설/machine/0507 df_for_holdout.csv')"
      ],
      "id": "d6899356",
      "execution_count": null,
      "outputs": []
    },
    {
      "cell_type": "code",
      "metadata": {
        "ExecuteTime": {
          "end_time": "2021-05-16T15:56:01.872059Z",
          "start_time": "2021-05-16T15:56:01.867675Z"
        },
        "id": "47f4fdb2"
      },
      "source": [
        "df.index = df['Date']\n",
        "df.drop(['Date'], axis = 1, inplace = True)"
      ],
      "id": "47f4fdb2",
      "execution_count": null,
      "outputs": []
    },
    {
      "cell_type": "code",
      "metadata": {
        "ExecuteTime": {
          "end_time": "2021-05-16T15:56:02.543418Z",
          "start_time": "2021-05-16T15:56:02.514936Z"
        },
        "id": "20ce44af"
      },
      "source": [
        "df.rename({'next_spi':'spi'}, axis=1, inplace=True)"
      ],
      "id": "20ce44af",
      "execution_count": null,
      "outputs": []
    },
    {
      "cell_type": "code",
      "metadata": {
        "ExecuteTime": {
          "end_time": "2021-05-16T16:02:52.594914Z",
          "start_time": "2021-05-16T16:02:52.519384Z"
        },
        "colab": {
          "base_uri": "https://localhost:8080/",
          "height": 336
        },
        "id": "826468cb",
        "outputId": "45a4e1f6-9f29-465d-d2ca-2770bb748561"
      },
      "source": [
        "import matplotlib.pyplot as plt\n",
        "plt.plot(df.index, list(df['spi']))"
      ],
      "id": "826468cb",
      "execution_count": null,
      "outputs": [
        {
          "output_type": "execute_result",
          "data": {
            "text/plain": [
              "[<matplotlib.lines.Line2D at 0x7f86bbfd9310>]"
            ]
          },
          "metadata": {
            "tags": []
          },
          "execution_count": 78
        },
        {
          "output_type": "stream",
          "text": [
            "/usr/local/lib/python3.7/dist-packages/matplotlib/backends/backend_agg.py:214: RuntimeWarning: Glyph 50900 missing from current font.\n",
            "  font.set_text(s, 0.0, flags=flags)\n",
            "/usr/local/lib/python3.7/dist-packages/matplotlib/backends/backend_agg.py:183: RuntimeWarning: Glyph 50900 missing from current font.\n",
            "  font.set_text(s, 0, flags=flags)\n"
          ],
          "name": "stderr"
        },
        {
          "output_type": "display_data",
          "data": {
            "image/png": "[encoded data removed]",
            "text/plain": [
              "<Figure size 432x288 with 1 Axes>"
            ]
          },
          "metadata": {
            "tags": [],
            "needs_background": "light"
          }
        }
      ]
    },
    {
      "cell_type": "code",
      "metadata": {
        "ExecuteTime": {
          "end_time": "2021-05-16T15:56:05.005501Z",
          "start_time": "2021-05-16T15:56:05.000387Z"
        },
        "id": "b135420b"
      },
      "source": [
        "train = df.iloc[:90]\n",
        "test = df.iloc[90:]"
      ],
      "id": "b135420b",
      "execution_count": null,
      "outputs": []
    },
    {
      "cell_type": "markdown",
      "metadata": {
        "id": "91f24183"
      },
      "source": [
        "# 훈련/테스트 분리(경우의 수)"
      ],
      "id": "91f24183"
    },
    {
      "cell_type": "markdown",
      "metadata": {
        "id": "68a31a4a"
      },
      "source": [
        "## BASE"
      ],
      "id": "68a31a4a"
    },
    {
      "cell_type": "code",
      "metadata": {
        "ExecuteTime": {
          "end_time": "2021-05-16T15:57:00.396613Z",
          "start_time": "2021-05-16T15:57:00.391041Z"
        },
        "id": "45ec2714"
      },
      "source": [
        "train_base = train.drop(['시언감성점수','효준감성점수','시언서술포함감성점수','주택','아파트','분양','서울','가구','부동산','단지','시장'], axis = 1)\n",
        "test_base = test.drop(['시언감성점수','효준감성점수','시언서술포함감성점수','주택','아파트','분양','서울','가구','부동산','단지','시장'], axis = 1)"
      ],
      "id": "45ec2714",
      "execution_count": null,
      "outputs": []
    },
    {
      "cell_type": "code",
      "metadata": {
        "ExecuteTime": {
          "end_time": "2021-05-16T15:57:01.197988Z",
          "start_time": "2021-05-16T15:57:01.189468Z"
        },
        "id": "67276e9f"
      },
      "source": [
        "X_train_base = train_base.drop(['spi'], axis = 1)\n",
        "y_train_base = list(train_base['spi'])\n",
        "X_test_base = test_base.drop(['spi'], axis = 1)\n",
        "y_test_base = list(test_base['spi'])"
      ],
      "id": "67276e9f",
      "execution_count": null,
      "outputs": []
    },
    {
      "cell_type": "code",
      "metadata": {
        "ExecuteTime": {
          "end_time": "2021-05-16T15:57:01.818193Z",
          "start_time": "2021-05-16T15:57:01.727556Z"
        },
        "colab": {
          "base_uri": "https://localhost:8080/"
        },
        "id": "c6dfc9b3",
        "outputId": "a65a066f-4073-480d-a100-a1a7926cf97b"
      },
      "source": [
        "#before gridsearch\n",
        "#base\n",
        "regressor = RandomForestRegressor(n_estimators = 100, random_state = 42)\n",
        "regressor.fit(X_train_base, y_train_base) \n",
        "y_pred = regressor.predict(X_test_base)\n",
        "RMSE = mean_squared_error(y_test_base, y_pred)**0.5\n",
        "RMSE"
      ],
      "id": "c6dfc9b3",
      "execution_count": null,
      "outputs": [
        {
          "output_type": "execute_result",
          "data": {
            "text/plain": [
              "9.449489428888068"
            ]
          },
          "metadata": {
            "tags": []
          },
          "execution_count": 82
        }
      ]
    },
    {
      "cell_type": "code",
      "metadata": {
        "ExecuteTime": {
          "end_time": "2021-05-16T15:39:34.538095Z",
          "start_time": "2021-05-16T15:39:34.533832Z"
        },
        "id": "09324c01"
      },
      "source": [
        "#gridsearch\n",
        "rfc = RandomForestRegressor(random_state = 42)\n",
        "param_grid = { \n",
        "    'n_estimators': [10,20,30,40,50,60,70,80,90,100,120,140,160,180,200],\n",
        "    'max_depth' : [2,3,4,5,6,7],\n",
        "    'min_samples_split' : [2,3,4,5]\n",
        "}"
      ],
      "id": "09324c01",
      "execution_count": null,
      "outputs": []
    },
    {
      "cell_type": "code",
      "metadata": {
        "ExecuteTime": {
          "end_time": "2021-05-16T15:40:48.362826Z",
          "start_time": "2021-05-16T15:39:36.080074Z"
        },
        "colab": {
          "base_uri": "https://localhost:8080/"
        },
        "id": "de370efb",
        "outputId": "f27ce0b5-9b34-4a52-fac6-11262ded96dc"
      },
      "source": [
        "CV_rfc = GridSearchCV(estimator=rfc, param_grid=param_grid, cv= 5, refit = True, scoring = 'neg_mean_squared_error')\n",
        "CV_rfc.fit(X_train_base, y_train_base)"
      ],
      "id": "de370efb",
      "execution_count": null,
      "outputs": [
        {
          "output_type": "execute_result",
          "data": {
            "text/plain": [
              "GridSearchCV(cv=5, error_score=nan,\n",
              "             estimator=RandomForestRegressor(bootstrap=True, ccp_alpha=0.0,\n",
              "                                             criterion='mse', max_depth=None,\n",
              "                                             max_features='auto',\n",
              "                                             max_leaf_nodes=None,\n",
              "                                             max_samples=None,\n",
              "                                             min_impurity_decrease=0.0,\n",
              "                                             min_impurity_split=None,\n",
              "                                             min_samples_leaf=1,\n",
              "                                             min_samples_split=2,\n",
              "                                             min_weight_fraction_leaf=0.0,\n",
              "                                             n_estimators=100, n_jobs=None,\n",
              "                                             oob_score=False, random_state=42,\n",
              "                                             verbose=0, warm_start=False),\n",
              "             iid='deprecated', n_jobs=None,\n",
              "             param_grid={'max_depth': [2, 3, 4, 5, 6, 7],\n",
              "                         'min_samples_split': [2, 3, 4, 5],\n",
              "                         'n_estimators': [10, 20, 30, 40, 50, 60, 70, 80, 90,\n",
              "                                          100, 120, 140, 160, 180, 200]},\n",
              "             pre_dispatch='2*n_jobs', refit=True, return_train_score=False,\n",
              "             scoring='neg_mean_squared_error', verbose=0)"
            ]
          },
          "metadata": {
            "tags": []
          },
          "execution_count": 84
        }
      ]
    },
    {
      "cell_type": "code",
      "metadata": {
        "ExecuteTime": {
          "end_time": "2021-05-16T15:40:54.733079Z",
          "start_time": "2021-05-16T15:40:54.729077Z"
        },
        "colab": {
          "base_uri": "https://localhost:8080/"
        },
        "id": "3304aa23",
        "outputId": "41c2f642-3e60-4bfb-d954-1c553c131cec"
      },
      "source": [
        "CV_rfc.best_params_"
      ],
      "id": "3304aa23",
      "execution_count": null,
      "outputs": [
        {
          "output_type": "execute_result",
          "data": {
            "text/plain": [
              "{'max_depth': 6, 'min_samples_split': 2, 'n_estimators': 200}"
            ]
          },
          "metadata": {
            "tags": []
          },
          "execution_count": 85
        }
      ]
    },
    {
      "cell_type": "code",
      "metadata": {
        "ExecuteTime": {
          "end_time": "2021-05-16T15:40:56.220761Z",
          "start_time": "2021-05-16T15:40:56.210394Z"
        },
        "id": "b716268b"
      },
      "source": [
        "y_pred = CV_rfc.predict(X_test_base)\n",
        "RMSE = mean_squared_error(y_test_base, y_pred)**0.5\n",
        "RMSE\n",
        "score_list=[]\n",
        "score_list.append(('거시경제',RMSE))"
      ],
      "id": "b716268b",
      "execution_count": null,
      "outputs": []
    },
    {
      "cell_type": "markdown",
      "metadata": {
        "id": "93e8edc4"
      },
      "source": [
        "## 효준 감성점수"
      ],
      "id": "93e8edc4"
    },
    {
      "cell_type": "code",
      "metadata": {
        "ExecuteTime": {
          "end_time": "2021-05-16T15:41:15.118762Z",
          "start_time": "2021-05-16T15:41:15.111336Z"
        },
        "id": "f328a967"
      },
      "source": [
        "train_hyo = train.drop(['시언감성점수','시언서술포함감성점수','주택','아파트','분양','서울','가구','부동산','단지','시장'], axis = 1)\n",
        "test_hyo = test.drop(['시언감성점수','시언서술포함감성점수','주택','아파트','분양','서울','가구','부동산','단지','시장'], axis = 1)\n",
        "\n",
        "X_train_hyo = train_hyo.drop(['spi'], axis = 1)\n",
        "y_train_hyo = list(train_hyo['spi'])\n",
        "X_test_hyo = test_hyo.drop(['spi'], axis = 1)\n",
        "y_test_hyo = list(test_hyo['spi'])"
      ],
      "id": "f328a967",
      "execution_count": null,
      "outputs": []
    },
    {
      "cell_type": "code",
      "metadata": {
        "ExecuteTime": {
          "end_time": "2021-05-16T15:41:16.164876Z",
          "start_time": "2021-05-16T15:41:16.069042Z"
        },
        "scrolled": true,
        "colab": {
          "base_uri": "https://localhost:8080/"
        },
        "id": "e49dff66",
        "outputId": "757db765-6c21-4598-911c-42169e9fa6ec"
      },
      "source": [
        "#before gridsearch\n",
        "#효준 감성점수\n",
        "regressor = RandomForestRegressor(n_estimators = 100, random_state = 42)\n",
        "regressor.fit(X_train_hyo, y_train_hyo) \n",
        "y_pred = regressor.predict(X_test_hyo)\n",
        "RMSE = mean_squared_error(y_test_hyo, y_pred)**0.5\n",
        "RMSE"
      ],
      "id": "e49dff66",
      "execution_count": null,
      "outputs": [
        {
          "output_type": "execute_result",
          "data": {
            "text/plain": [
              "9.404050481928904"
            ]
          },
          "metadata": {
            "tags": []
          },
          "execution_count": 88
        }
      ]
    },
    {
      "cell_type": "code",
      "metadata": {
        "ExecuteTime": {
          "end_time": "2021-05-16T15:42:33.073797Z",
          "start_time": "2021-05-16T15:41:19.338418Z"
        },
        "colab": {
          "base_uri": "https://localhost:8080/"
        },
        "id": "ebce7c00",
        "outputId": "ca141af0-824e-4b84-d476-402030e1ffc8"
      },
      "source": [
        "#gridsearch\n",
        "rfc = RandomForestRegressor(random_state = 42)\n",
        "param_grid = { \n",
        "    'n_estimators': [10,20,30,40,50,60,70,80,90,100,120,140,160,180,200],\n",
        "    'max_depth' : [2,3,4,5,6,7],\n",
        "    'min_samples_split' : [2,3,4,5]\n",
        "}\n",
        "CV_rfc = GridSearchCV(estimator=rfc, param_grid=param_grid, cv= 5, refit = True, scoring = 'neg_mean_squared_error')\n",
        "CV_rfc.fit(X_train_hyo, y_train_hyo)"
      ],
      "id": "ebce7c00",
      "execution_count": null,
      "outputs": [
        {
          "output_type": "execute_result",
          "data": {
            "text/plain": [
              "GridSearchCV(cv=5, error_score=nan,\n",
              "             estimator=RandomForestRegressor(bootstrap=True, ccp_alpha=0.0,\n",
              "                                             criterion='mse', max_depth=None,\n",
              "                                             max_features='auto',\n",
              "                                             max_leaf_nodes=None,\n",
              "                                             max_samples=None,\n",
              "                                             min_impurity_decrease=0.0,\n",
              "                                             min_impurity_split=None,\n",
              "                                             min_samples_leaf=1,\n",
              "                                             min_samples_split=2,\n",
              "                                             min_weight_fraction_leaf=0.0,\n",
              "                                             n_estimators=100, n_jobs=None,\n",
              "                                             oob_score=False, random_state=42,\n",
              "                                             verbose=0, warm_start=False),\n",
              "             iid='deprecated', n_jobs=None,\n",
              "             param_grid={'max_depth': [2, 3, 4, 5, 6, 7],\n",
              "                         'min_samples_split': [2, 3, 4, 5],\n",
              "                         'n_estimators': [10, 20, 30, 40, 50, 60, 70, 80, 90,\n",
              "                                          100, 120, 140, 160, 180, 200]},\n",
              "             pre_dispatch='2*n_jobs', refit=True, return_train_score=False,\n",
              "             scoring='neg_mean_squared_error', verbose=0)"
            ]
          },
          "metadata": {
            "tags": []
          },
          "execution_count": 89
        }
      ]
    },
    {
      "cell_type": "code",
      "metadata": {
        "ExecuteTime": {
          "end_time": "2021-05-16T15:42:38.801777Z",
          "start_time": "2021-05-16T15:42:38.798340Z"
        },
        "colab": {
          "base_uri": "https://localhost:8080/"
        },
        "id": "fdfedbc4",
        "outputId": "942b0814-54ae-4ab5-a0c2-6a53bbbc554b"
      },
      "source": [
        "CV_rfc.best_params_"
      ],
      "id": "fdfedbc4",
      "execution_count": null,
      "outputs": [
        {
          "output_type": "execute_result",
          "data": {
            "text/plain": [
              "{'max_depth': 6, 'min_samples_split': 2, 'n_estimators': 20}"
            ]
          },
          "metadata": {
            "tags": []
          },
          "execution_count": 90
        }
      ]
    },
    {
      "cell_type": "code",
      "metadata": {
        "ExecuteTime": {
          "end_time": "2021-05-16T15:42:39.539671Z",
          "start_time": "2021-05-16T15:42:39.528358Z"
        },
        "id": "1c7926b1"
      },
      "source": [
        "y_pred = CV_rfc.predict(X_test_hyo)\n",
        "RMSE = mean_squared_error(y_test_hyo, y_pred)**0.5\n",
        "RMSE\n",
        "\n",
        "score_list.append(('효준감성점수',RMSE))"
      ],
      "id": "1c7926b1",
      "execution_count": null,
      "outputs": []
    },
    {
      "cell_type": "markdown",
      "metadata": {
        "id": "f52e9947"
      },
      "source": [
        "## 시언 감성점수(sent_score)"
      ],
      "id": "f52e9947"
    },
    {
      "cell_type": "code",
      "metadata": {
        "ExecuteTime": {
          "end_time": "2021-05-16T15:42:43.554374Z",
          "start_time": "2021-05-16T15:42:43.547070Z"
        },
        "id": "373ee03c"
      },
      "source": [
        "train_si = train.drop(['시언서술포함감성점수','효준감성점수','주택','아파트','분양','서울','가구','부동산','단지','시장'], axis = 1)\n",
        "test_si = test.drop(['효준감성점수','시언서술포함감성점수','주택','아파트','분양','서울','가구','부동산','단지','시장'], axis = 1)\n",
        "\n",
        "X_train_si = train_si.drop(['spi'], axis = 1)\n",
        "y_train_si = list(train_si['spi'])\n",
        "X_test_si = test_si.drop(['spi'], axis = 1)\n",
        "y_test_si = list(test_si['spi'])"
      ],
      "id": "373ee03c",
      "execution_count": null,
      "outputs": []
    },
    {
      "cell_type": "code",
      "metadata": {
        "ExecuteTime": {
          "end_time": "2021-05-16T15:42:44.482655Z",
          "start_time": "2021-05-16T15:42:44.386672Z"
        },
        "colab": {
          "base_uri": "https://localhost:8080/"
        },
        "id": "50742d03",
        "outputId": "6767c592-5dfd-415c-ec17-2b03a6b12ce9"
      },
      "source": [
        "#before gridsearch\n",
        "#시언 감성점수\n",
        "regressor = RandomForestRegressor(n_estimators = 100, random_state = 42)\n",
        "regressor.fit(X_train_si, y_train_si) \n",
        "y_pred = regressor.predict(X_test_si)\n",
        "RMSE = mean_squared_error(y_test_si, y_pred)**0.5\n",
        "RMSE"
      ],
      "id": "50742d03",
      "execution_count": null,
      "outputs": [
        {
          "output_type": "execute_result",
          "data": {
            "text/plain": [
              "9.440164281762648"
            ]
          },
          "metadata": {
            "tags": []
          },
          "execution_count": 93
        }
      ]
    },
    {
      "cell_type": "code",
      "metadata": {
        "ExecuteTime": {
          "end_time": "2021-05-16T15:43:59.572773Z",
          "start_time": "2021-05-16T15:42:45.824621Z"
        },
        "colab": {
          "base_uri": "https://localhost:8080/"
        },
        "id": "25a8dea8",
        "outputId": "9b31bdbf-9d11-4763-da8a-d53638073267"
      },
      "source": [
        "#gridsearch\n",
        "rfc = RandomForestRegressor(random_state = 42)\n",
        "param_grid = { \n",
        "    'n_estimators': [10,20,30,40,50,60,70,80,90,100,120,140,160,180,200],\n",
        "    'max_depth' : [2,3,4,5,6,7],\n",
        "    'min_samples_split' : [2,3,4,5]\n",
        "}\n",
        "CV_rfc = GridSearchCV(estimator=rfc, param_grid=param_grid, cv= 5, refit = True, scoring = 'neg_mean_squared_error')\n",
        "CV_rfc.fit(X_train_si, y_train_si)\n",
        "print(CV_rfc.best_params_)\n",
        "y_pred = CV_rfc.predict(X_test_si)\n",
        "RMSE = mean_squared_error(y_test_si, y_pred)**0.5\n",
        "\n",
        "score_list.append(('시언감성점수',RMSE))"
      ],
      "id": "25a8dea8",
      "execution_count": null,
      "outputs": [
        {
          "output_type": "stream",
          "text": [
            "{'max_depth': 6, 'min_samples_split': 2, 'n_estimators': 100}\n"
          ],
          "name": "stdout"
        }
      ]
    },
    {
      "cell_type": "markdown",
      "metadata": {
        "id": "18645bf6"
      },
      "source": [
        "## 시언 서술어(sieon_sent_score)"
      ],
      "id": "18645bf6"
    },
    {
      "cell_type": "code",
      "metadata": {
        "ExecuteTime": {
          "end_time": "2021-05-16T15:44:06.247738Z",
          "start_time": "2021-05-16T15:44:06.236560Z"
        },
        "id": "1ad69bef"
      },
      "source": [
        "train_sisent = train.drop(['시언감성점수','효준감성점수','주택','아파트','분양','서울','가구','부동산','단지','시장'], axis = 1)\n",
        "test_sisent = test.drop(['효준감성점수','시언감성점수','주택','아파트','분양','서울','가구','부동산','단지','시장'], axis = 1)\n",
        "\n",
        "X_train_sisent = train_sisent.drop(['spi'], axis = 1)\n",
        "y_train_sisent = list(train_sisent['spi'])\n",
        "X_test_sisent = test_sisent.drop(['spi'], axis = 1)\n",
        "y_test_sisent = list(test_sisent['spi'])"
      ],
      "id": "1ad69bef",
      "execution_count": null,
      "outputs": []
    },
    {
      "cell_type": "code",
      "metadata": {
        "ExecuteTime": {
          "end_time": "2021-05-16T15:44:07.039484Z",
          "start_time": "2021-05-16T15:44:06.941476Z"
        },
        "colab": {
          "base_uri": "https://localhost:8080/"
        },
        "id": "007401a5",
        "outputId": "3fc14284-6aa2-463f-8c54-9a126a35dfbc"
      },
      "source": [
        "#before gridsearch\n",
        "#시언 서술어 감성점수\n",
        "regressor = RandomForestRegressor(n_estimators = 100, random_state = 42)\n",
        "regressor.fit(X_train_sisent, y_train_sisent) \n",
        "y_pred = regressor.predict(X_test_sisent)\n",
        "RMSE = mean_squared_error(y_test_sisent, y_pred)**0.5\n",
        "RMSE"
      ],
      "id": "007401a5",
      "execution_count": null,
      "outputs": [
        {
          "output_type": "execute_result",
          "data": {
            "text/plain": [
              "9.477817276848816"
            ]
          },
          "metadata": {
            "tags": []
          },
          "execution_count": 96
        }
      ]
    },
    {
      "cell_type": "code",
      "metadata": {
        "ExecuteTime": {
          "end_time": "2021-05-16T15:45:30.889889Z",
          "start_time": "2021-05-16T15:44:17.187052Z"
        },
        "colab": {
          "base_uri": "https://localhost:8080/"
        },
        "id": "97533ebd",
        "outputId": "2818356f-5454-460b-e255-e1fc0aa14a0e"
      },
      "source": [
        "#gridsearch\n",
        "rfc = RandomForestRegressor(random_state = 42)\n",
        "param_grid = { \n",
        "    'n_estimators': [10,20,30,40,50,60,70,80,90,100,120,140,160,180,200],\n",
        "    'max_depth' : [2,3,4,5,6,7],\n",
        "    'min_samples_split' : [2,3,4,5]\n",
        "}\n",
        "CV_rfc = GridSearchCV(estimator=rfc, param_grid=param_grid, cv= 5, refit = True, scoring = 'neg_mean_squared_error')\n",
        "CV_rfc.fit(X_train_sisent, y_train_sisent)\n",
        "print(CV_rfc.best_params_)\n",
        "y_pred = CV_rfc.predict(X_test_sisent)\n",
        "RMSE = mean_squared_error(y_test_sisent, y_pred)**0.5\n",
        "\n",
        "score_list.append(('시언감성점수(서술어)',RMSE))"
      ],
      "id": "97533ebd",
      "execution_count": null,
      "outputs": [
        {
          "output_type": "stream",
          "text": [
            "{'max_depth': 6, 'min_samples_split': 2, 'n_estimators': 20}\n"
          ],
          "name": "stdout"
        }
      ]
    },
    {
      "cell_type": "markdown",
      "metadata": {
        "id": "bd05b50f"
      },
      "source": [
        "## 8개 변수"
      ],
      "id": "bd05b50f"
    },
    {
      "cell_type": "code",
      "metadata": {
        "ExecuteTime": {
          "end_time": "2021-05-16T15:45:42.768776Z",
          "start_time": "2021-05-16T15:45:42.758824Z"
        },
        "id": "53123d1d"
      },
      "source": [
        "train_8 = train.drop(['시언감성점수','효준감성점수','시언서술포함감성점수'], axis = 1)\n",
        "test_8 = test.drop(['효준감성점수','시언감성점수','시언서술포함감성점수'], axis = 1)\n",
        "\n",
        "X_train_8 = train_8.drop(['spi'], axis = 1)\n",
        "y_train_8 = list(train_8['spi'])\n",
        "X_test_8 = test_8.drop(['spi'], axis = 1)\n",
        "y_test_8 = list(test_8['spi'])"
      ],
      "id": "53123d1d",
      "execution_count": null,
      "outputs": []
    },
    {
      "cell_type": "code",
      "metadata": {
        "ExecuteTime": {
          "end_time": "2021-05-16T15:45:43.732903Z",
          "start_time": "2021-05-16T15:45:43.623051Z"
        },
        "colab": {
          "base_uri": "https://localhost:8080/"
        },
        "id": "e7a32650",
        "outputId": "70456433-fa62-425b-dff9-db8aa1c93c06"
      },
      "source": [
        "#before gridsearch\n",
        "#8변수\n",
        "regressor = RandomForestRegressor(n_estimators = 100, random_state = 42)\n",
        "regressor.fit(X_train_8, y_train_8) \n",
        "y_pred = regressor.predict(X_test_8)\n",
        "RMSE = mean_squared_error(y_test_8, y_pred)**0.5\n",
        "RMSE"
      ],
      "id": "e7a32650",
      "execution_count": null,
      "outputs": [
        {
          "output_type": "execute_result",
          "data": {
            "text/plain": [
              "9.549294778498925"
            ]
          },
          "metadata": {
            "tags": []
          },
          "execution_count": 99
        }
      ]
    },
    {
      "cell_type": "code",
      "metadata": {
        "ExecuteTime": {
          "end_time": "2021-05-16T15:47:07.841686Z",
          "start_time": "2021-05-16T15:45:45.457689Z"
        },
        "colab": {
          "base_uri": "https://localhost:8080/"
        },
        "id": "5ff94ee1",
        "outputId": "16e83848-4c7b-425e-fa4e-257621a50ed9"
      },
      "source": [
        "#gridsearch\n",
        "rfc = RandomForestRegressor(random_state = 42)\n",
        "param_grid = { \n",
        "    'n_estimators': [10,20,30,40,50,60,70,80,90,100,120,140,160,180,200],\n",
        "    'max_depth' : [2,3,4,5,6,7],\n",
        "    'min_samples_split' : [2,3,4,5]\n",
        "}\n",
        "CV_rfc = GridSearchCV(estimator=rfc, param_grid=param_grid, cv= 5, refit = True, scoring = 'neg_mean_squared_error')\n",
        "CV_rfc.fit(X_train_8, y_train_8)\n",
        "print(CV_rfc.best_params_)\n",
        "y_pred = CV_rfc.predict(X_test_8)\n",
        "RMSE = mean_squared_error(y_test_8, y_pred)**0.5\n",
        "\n",
        "score_list.append(('TF-IDF',RMSE))"
      ],
      "id": "5ff94ee1",
      "execution_count": null,
      "outputs": [
        {
          "output_type": "stream",
          "text": [
            "{'max_depth': 7, 'min_samples_split': 3, 'n_estimators': 20}\n"
          ],
          "name": "stdout"
        }
      ]
    },
    {
      "cell_type": "code",
      "metadata": {
        "colab": {
          "base_uri": "https://localhost:8080/",
          "height": 194
        },
        "id": "6mOy_U13Z-gi",
        "outputId": "db128255-ed0a-41c6-951e-b1f2787bf1df"
      },
      "source": [
        "pd.DataFrame(score_list, columns=['방법','RMSE'])"
      ],
      "id": "6mOy_U13Z-gi",
      "execution_count": null,
      "outputs": [
        {
          "output_type": "execute_result",
          "data": {
            "text/html": [
              "<div>\n",
              "<style scoped>\n",
              "    .dataframe tbody tr th:only-of-type {\n",
              "        vertical-align: middle;\n",
              "    }\n",
              "\n",
              "    .dataframe tbody tr th {\n",
              "        vertical-align: top;\n",
              "    }\n",
              "\n",
              "    .dataframe thead th {\n",
              "        text-align: right;\n",
              "    }\n",
              "</style>\n",
              "<table border=\"1\" class=\"dataframe\">\n",
              "  <thead>\n",
              "    <tr style=\"text-align: right;\">\n",
              "      <th></th>\n",
              "      <th>방법</th>\n",
              "      <th>RMSE</th>\n",
              "    </tr>\n",
              "  </thead>\n",
              "  <tbody>\n",
              "    <tr>\n",
              "      <th>0</th>\n",
              "      <td>거시경제</td>\n",
              "      <td>9.433499</td>\n",
              "    </tr>\n",
              "    <tr>\n",
              "      <th>1</th>\n",
              "      <td>효준감성점수</td>\n",
              "      <td>9.476330</td>\n",
              "    </tr>\n",
              "    <tr>\n",
              "      <th>2</th>\n",
              "      <td>시언감성점수</td>\n",
              "      <td>9.485230</td>\n",
              "    </tr>\n",
              "    <tr>\n",
              "      <th>3</th>\n",
              "      <td>시언감성점수(서술어)</td>\n",
              "      <td>9.526200</td>\n",
              "    </tr>\n",
              "    <tr>\n",
              "      <th>4</th>\n",
              "      <td>TF-IDF</td>\n",
              "      <td>9.294673</td>\n",
              "    </tr>\n",
              "  </tbody>\n",
              "</table>\n",
              "</div>"
            ],
            "text/plain": [
              "            방법      RMSE\n",
              "0         거시경제  9.433499\n",
              "1       효준감성점수  9.476330\n",
              "2       시언감성점수  9.485230\n",
              "3  시언감성점수(서술어)  9.526200\n",
              "4       TF-IDF  9.294673"
            ]
          },
          "metadata": {
            "tags": []
          },
          "execution_count": 101
        }
      ]
    },
    {
      "cell_type": "markdown",
      "metadata": {
        "id": "97QU56guimbM"
      },
      "source": [
        "# 다 넣기"
      ],
      "id": "97QU56guimbM"
    },
    {
      "cell_type": "code",
      "metadata": {
        "colab": {
          "base_uri": "https://localhost:8080/"
        },
        "id": "UzAcl6OHiojO",
        "outputId": "41e467ea-3892-44ea-f9cd-59ef88e21667"
      },
      "source": [
        "#before gridsearch\n",
        "X_train_all = train.drop(['spi'], axis = 1)\n",
        "y_train_all = list(train['spi'])\n",
        "X_test_all = test.drop(['spi'], axis = 1)\n",
        "y_test_all = list(test['spi'])\n",
        "\n",
        "#gridsearch\n",
        "rfc = RandomForestRegressor(random_state = 42)\n",
        "param_grid = { \n",
        "    'n_estimators': [10,20,30,40,50,60,70,80,90,100,120,140,160,180,200],\n",
        "    'max_depth' : [2,3,4,5,6,7],\n",
        "    'min_samples_split' : [2,3,4,5]\n",
        "}\n",
        "CV_rfc = GridSearchCV(estimator=rfc, param_grid=param_grid, cv= 5, refit = True, scoring = 'neg_mean_squared_error')\n",
        "CV_rfc.fit(X_train_all, y_train_all)\n",
        "print(CV_rfc.best_params_)\n",
        "y_pred = CV_rfc.predict(X_test_all)\n",
        "RMSE = mean_squared_error(y_test_all, y_pred)**0.5\n",
        "\n",
        "score_list.append(('모든 변수 포함',RMSE))"
      ],
      "id": "UzAcl6OHiojO",
      "execution_count": null,
      "outputs": [
        {
          "output_type": "stream",
          "text": [
            "{'max_depth': 4, 'min_samples_split': 2, 'n_estimators': 20}\n"
          ],
          "name": "stdout"
        }
      ]
    },
    {
      "cell_type": "code",
      "metadata": {
        "colab": {
          "base_uri": "https://localhost:8080/",
          "height": 716
        },
        "id": "Tgzv91HSjHxC",
        "outputId": "fdfc0180-5973-4ce5-83a5-0e522fb12b8d"
      },
      "source": [
        "pd.DataFrame(score_list, columns=['방법','RMSE'])"
      ],
      "id": "Tgzv91HSjHxC",
      "execution_count": null,
      "outputs": [
        {
          "output_type": "execute_result",
          "data": {
            "text/html": [
              "<div>\n",
              "<style scoped>\n",
              "    .dataframe tbody tr th:only-of-type {\n",
              "        vertical-align: middle;\n",
              "    }\n",
              "\n",
              "    .dataframe tbody tr th {\n",
              "        vertical-align: top;\n",
              "    }\n",
              "\n",
              "    .dataframe thead th {\n",
              "        text-align: right;\n",
              "    }\n",
              "</style>\n",
              "<table border=\"1\" class=\"dataframe\">\n",
              "  <thead>\n",
              "    <tr style=\"text-align: right;\">\n",
              "      <th></th>\n",
              "      <th>방법</th>\n",
              "      <th>RMSE</th>\n",
              "    </tr>\n",
              "  </thead>\n",
              "  <tbody>\n",
              "    <tr>\n",
              "      <th>0</th>\n",
              "      <td>거시경제</td>\n",
              "      <td>9.433499</td>\n",
              "    </tr>\n",
              "    <tr>\n",
              "      <th>1</th>\n",
              "      <td>효준감성점수</td>\n",
              "      <td>9.476330</td>\n",
              "    </tr>\n",
              "    <tr>\n",
              "      <th>2</th>\n",
              "      <td>시언감성점수</td>\n",
              "      <td>9.485230</td>\n",
              "    </tr>\n",
              "    <tr>\n",
              "      <th>3</th>\n",
              "      <td>시언감성점수(서술어)</td>\n",
              "      <td>9.526200</td>\n",
              "    </tr>\n",
              "    <tr>\n",
              "      <th>4</th>\n",
              "      <td>TF-IDF</td>\n",
              "      <td>9.294673</td>\n",
              "    </tr>\n",
              "    <tr>\n",
              "      <th>5</th>\n",
              "      <td>모든 변수 포함</td>\n",
              "      <td>9.272751</td>\n",
              "    </tr>\n",
              "  </tbody>\n",
              "</table>\n",
              "</div>"
            ],
            "text/plain": [
              "            방법      RMSE\n",
              "0         거시경제  9.433499\n",
              "1       효준감성점수  9.476330\n",
              "2       시언감성점수  9.485230\n",
              "3  시언감성점수(서술어)  9.526200\n",
              "4       TF-IDF  9.294673\n",
              "5     모든 변수 포함  9.272751"
            ]
          },
          "metadata": {
            "tags": []
          },
          "execution_count": 103
        }
      ]
    },
    {
      "cell_type": "code",
      "metadata": {
        "id": "ZQGYa824lGoe"
      },
      "source": [
        ""
      ],
      "id": "ZQGYa824lGoe",
      "execution_count": null,
      "outputs": []
    }
  ]
}