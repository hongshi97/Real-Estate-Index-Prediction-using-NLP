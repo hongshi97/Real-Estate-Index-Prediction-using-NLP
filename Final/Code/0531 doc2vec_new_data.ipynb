{
  "nbformat": 4,
  "nbformat_minor": 0,
  "metadata": {
    "colab": {
      "name": "doc2vec new data.ipynb",
      "provenance": [],
      "collapsed_sections": [
        "_Qd1raAtliNh",
        "AE-gOEd2l32A",
        "7WpKsLZbmKCt",
        "poZrxmfPqAMX"
      ]
    },
    "kernelspec": {
      "name": "python3",
      "display_name": "Python 3"
    },
    "language_info": {
      "name": "python"
    }
  },
  "cells": [
    {
      "cell_type": "code",
      "metadata": {
        "colab": {
          "base_uri": "https://localhost:8080/"
        },
        "id": "5my2xZ2zlOV-",
        "outputId": "3a1b2ff1-5c91-418b-da48-b67717e0b33b"
      },
      "source": [
        "from os import path\n",
        "from google.colab import drive\n",
        "\n",
        "drive.mount('/content/drive')"
      ],
      "execution_count": null,
      "outputs": [
        {
          "output_type": "stream",
          "text": [
            "Mounted at /content/drive\n"
          ],
          "name": "stdout"
        }
      ]
    },
    {
      "cell_type": "markdown",
      "metadata": {
        "id": "UxLA9-6_mx17"
      },
      "source": [
        "앞선 doc2vec 은 효준이가 명사, 형용사, 동사만 추출한 것을 임베딩 한 것. \n",
        "\n",
        "이번 doc2vec2은 효준이가 서술어까지 전부 해서 추출한 것을 임베딩 할 것. \n",
        "\n",
        "\n",
        "앞서 size 50, epoch 300을 해서 랜포로 성능시험을 하였음.\n",
        "\n",
        "이번에도 동일하게 먼저 수행하여 과연 성능 향상이 있을지를 평가하겠음. \n",
        "\n",
        "\n",
        "이후에 앞선 데이터와 현재 데이터를 가지고 size, epoch, window size, SVM, LSTM등 다양하게\n",
        "\n",
        "시도하여 성능을 산출할 예정 "
      ]
    },
    {
      "cell_type": "markdown",
      "metadata": {
        "id": "6J9lp0Fnldgc"
      },
      "source": [
        "# 1. 사용 library"
      ]
    },
    {
      "cell_type": "code",
      "metadata": {
        "id": "CiOqfmbplVXY"
      },
      "source": [
        "import pandas as pd\n",
        "import numpy as np\n",
        "import gensim"
      ],
      "execution_count": null,
      "outputs": []
    },
    {
      "cell_type": "markdown",
      "metadata": {
        "id": "_Qd1raAtliNh"
      },
      "source": [
        "# 2. 데이터 불러오기\n"
      ]
    },
    {
      "cell_type": "code",
      "metadata": {
        "id": "SNEFTg9OlkGN"
      },
      "source": [
        "raw_data = pd.read_csv('/content/drive/MyDrive/w2v_colab/0527naver_real_estate_hangul.csv')"
      ],
      "execution_count": null,
      "outputs": []
    },
    {
      "cell_type": "code",
      "metadata": {
        "colab": {
          "base_uri": "https://localhost:8080/",
          "height": 306
        },
        "id": "XfiIDl2NluNz",
        "outputId": "db84366d-47ba-4649-cedb-ce9f41d0afff"
      },
      "source": [
        "raw_data.head()"
      ],
      "execution_count": null,
      "outputs": [
        {
          "output_type": "execute_result",
          "data": {
            "text/html": [
              "<div>\n",
              "<style scoped>\n",
              "    .dataframe tbody tr th:only-of-type {\n",
              "        vertical-align: middle;\n",
              "    }\n",
              "\n",
              "    .dataframe tbody tr th {\n",
              "        vertical-align: top;\n",
              "    }\n",
              "\n",
              "    .dataframe thead th {\n",
              "        text-align: right;\n",
              "    }\n",
              "</style>\n",
              "<table border=\"1\" class=\"dataframe\">\n",
              "  <thead>\n",
              "    <tr style=\"text-align: right;\">\n",
              "      <th></th>\n",
              "      <th>Unnamed: 0</th>\n",
              "      <th>month</th>\n",
              "      <th>title</th>\n",
              "      <th>text</th>\n",
              "      <th>new_token</th>\n",
              "      <th>hangul</th>\n",
              "      <th>spi</th>\n",
              "      <th>spi_updown</th>\n",
              "    </tr>\n",
              "  </thead>\n",
              "  <tbody>\n",
              "    <tr>\n",
              "      <th>0</th>\n",
              "      <td>0</td>\n",
              "      <td>201101</td>\n",
              "      <td>소득 안늘고 집값은 비싸 “뾰족수 없네”,전세대란에 서민들 눈앞이 깜깜한데…'전세금...</td>\n",
              "      <td>[한겨레] [2011년 경제 전망] 부동산시장 침체 벗어날까\\n\\n부양정책 펴도 반...</td>\n",
              "      <td>/Punctuation 한겨레/Noun /Punctuation /Punctuatio...</td>\n",
              "      <td>한겨레   년 경제 전망  부동산 시장 침체 벗어나다  부양 정책 펴다 반짝 경기...</td>\n",
              "      <td>81.3</td>\n",
              "      <td>1</td>\n",
              "    </tr>\n",
              "    <tr>\n",
              "      <th>1</th>\n",
              "      <td>1</td>\n",
              "      <td>201102</td>\n",
              "      <td>미분양 아파트 61% 중대형,전세가 고공행진에 지방 아파트 매매가도 `꿈틀`,미분양...</td>\n",
              "      <td>전국 미분양 아파트가 감소하는 추세지만 전용면적 85㎡를 초과 하는 중대형 비중은 ...</td>\n",
              "      <td>전국/Noun 미분/Noun 양/Suffix 아파트/Noun 가/Josa 감소/No...</td>\n",
              "      <td>전국 미분 양 아파트 가 감소 하다 추세 지만 전용 면적   를 초과 하다 중대 형...</td>\n",
              "      <td>82.5</td>\n",
              "      <td>1</td>\n",
              "    </tr>\n",
              "    <tr>\n",
              "      <th>2</th>\n",
              "      <td>2</td>\n",
              "      <td>201103</td>\n",
              "      <td>양도세 비과세, 왜 판교만? 일산댁ㆍ분당댁 뿔났다!,고가주택 팔면 일반주택의 13배...</td>\n",
              "      <td>판교는 3.3㎡ 2600만원 이상으로 서울(1800만원 선)보다 집값이 더 비싸다....</td>\n",
              "      <td>판교/Noun 는/Josa 3.3/Number ㎡/Foreign 2600만원/Num...</td>\n",
              "      <td>판교 는   만원 이상 으로 서울  만원 선  보다 집값 이 더 비싸다  하지만  ...</td>\n",
              "      <td>83.4</td>\n",
              "      <td>1</td>\n",
              "    </tr>\n",
              "    <tr>\n",
              "      <th>3</th>\n",
              "      <td>3</td>\n",
              "      <td>201104</td>\n",
              "      <td>[고침]여전히 뜨거운 오피스텔 시장..'수익률' 높은 단지는?,지구지정 백지화…맥빠...</td>\n",
              "      <td>[아시아경제 문소정 기자] (3월31일 16시17분 송고된 '여전히 뜨거운 오피스텔...</td>\n",
              "      <td>/Punctuation 아시아/Noun 경제/Noun 문/Modifier 소정/No...</td>\n",
              "      <td>아시아 경제 문 소정 기자   월 일 시 분 송고된  여전하다 뜨겁다 오피스텔 시...</td>\n",
              "      <td>83.9</td>\n",
              "      <td>1</td>\n",
              "    </tr>\n",
              "    <tr>\n",
              "      <th>4</th>\n",
              "      <td>4</td>\n",
              "      <td>201105</td>\n",
              "      <td>전세대란 속에 서울시는 '재개발 임대 전세금' 폭탄,서울아파트값 두달 연속↓…약세 ...</td>\n",
              "      <td>SH공사, '전세전환이율' 축소…가구당 평균 1000만 원 부담\\n\\n [프레시안 ...</td>\n",
              "      <td>SH/Alpha 공사/Noun /Punctuation \"/Punctuation\" 전...</td>\n",
              "      <td>공사   전세 전환 이율  축소  가구 당 평균 만 원 부담    프레 시안 허다...</td>\n",
              "      <td>84.1</td>\n",
              "      <td>1</td>\n",
              "    </tr>\n",
              "  </tbody>\n",
              "</table>\n",
              "</div>"
            ],
            "text/plain": [
              "   Unnamed: 0   month  ...   spi spi_updown\n",
              "0           0  201101  ...  81.3          1\n",
              "1           1  201102  ...  82.5          1\n",
              "2           2  201103  ...  83.4          1\n",
              "3           3  201104  ...  83.9          1\n",
              "4           4  201105  ...  84.1          1\n",
              "\n",
              "[5 rows x 8 columns]"
            ]
          },
          "metadata": {
            "tags": []
          },
          "execution_count": 4
        }
      ]
    },
    {
      "cell_type": "markdown",
      "metadata": {
        "id": "AE-gOEd2l32A"
      },
      "source": [
        "# 3. 전처리\n"
      ]
    },
    {
      "cell_type": "code",
      "metadata": {
        "id": "6aDELnE4l18z"
      },
      "source": [
        "#raw_data는 너무 거대하니 필요한 부분만 추출\n",
        "use_data = raw_data[['month','hangul']]"
      ],
      "execution_count": null,
      "outputs": []
    },
    {
      "cell_type": "code",
      "metadata": {
        "id": "S2iMUdfumGEw"
      },
      "source": [
        "input_1 = list(use_data['hangul'])"
      ],
      "execution_count": null,
      "outputs": []
    },
    {
      "cell_type": "code",
      "metadata": {
        "id": "5HFWE8wCl8Bw"
      },
      "source": [
        "# 띄워쓰기 별로  슬라이싱\n",
        "input_2 = [s.lower().strip().split(\" \") for s in input_1]"
      ],
      "execution_count": null,
      "outputs": []
    },
    {
      "cell_type": "code",
      "metadata": {
        "id": "VYKhUrOImEXi"
      },
      "source": [
        "tagged_documents = []\n",
        "for i, s in enumerate(input_2):\n",
        "    tagged_documents.append(\n",
        "        gensim.models.doc2vec.TaggedDocument(s, [i])\n",
        "    )"
      ],
      "execution_count": null,
      "outputs": []
    },
    {
      "cell_type": "markdown",
      "metadata": {
        "id": "7WpKsLZbmKCt"
      },
      "source": [
        "# 4. Doc2Vec 모델 정의/훈련/임베딩확인"
      ]
    },
    {
      "cell_type": "code",
      "metadata": {
        "id": "Qt4_Jbp4mKxK"
      },
      "source": [
        "Doc2Vec_model = gensim.models.doc2vec.Doc2Vec(vector_size=50, min_count=1)"
      ],
      "execution_count": null,
      "outputs": []
    },
    {
      "cell_type": "code",
      "metadata": {
        "id": "oBnA-Dk9mNSP"
      },
      "source": [
        "Doc2Vec_model.build_vocab(tagged_documents)"
      ],
      "execution_count": null,
      "outputs": []
    },
    {
      "cell_type": "code",
      "metadata": {
        "id": "zPt9_hjemOxG"
      },
      "source": [
        "# Doc2Vec 훈련\n",
        "Doc2Vec_model.train(tagged_documents, total_examples=len(tagged_documents), epochs=300)"
      ],
      "execution_count": null,
      "outputs": []
    },
    {
      "cell_type": "code",
      "metadata": {
        "id": "HMGcU3nsmRS9"
      },
      "source": [
        "# 모델 저장\n",
        "Doc2Vec_model.save(\"d2v_hangul2_size50.model\")\n",
        "!cp d2v_hangul2_size50.model '/content/drive/MyDrive/w2v_colab/'\n",
        "## Load saved doc2vec model\n",
        "# Doc2Vec_model= Doc2Vec.load(\"/content/drive/MyDrive/w2v_colab/d2v_hangul2_size50.model\")"
      ],
      "execution_count": null,
      "outputs": []
    },
    {
      "cell_type": "code",
      "metadata": {
        "id": "QR4OZ9XumWuK"
      },
      "source": [
        "#각 월의 벡터들을 데이터 프레임 형태로 변환\n",
        "vectorized = []\n",
        "for i in range(120):\n",
        "    vectorized.append(Doc2Vec_model.docvecs[i])\n",
        "vectorized_df = pd.DataFrame(vectorized)"
      ],
      "execution_count": null,
      "outputs": []
    },
    {
      "cell_type": "code",
      "metadata": {
        "id": "dO8zXlqMmYSl"
      },
      "source": [
        "vectorized_df.to_csv('d2v_hangul2_size50_vector.csv')\n",
        "!cp d2v_hangul2_size50_vector.csv '/content/drive/MyDrive/w2v_colab'\n",
        "\n",
        "#load vectors\n",
        "#vectorized_df = pd.read_csv('/content/drive/MyDrive/w2v_colab/d2v_hangul2_size50_vector.csv')"
      ],
      "execution_count": null,
      "outputs": []
    },
    {
      "cell_type": "markdown",
      "metadata": {
        "id": "inAeyW2Emeyg"
      },
      "source": [
        "# 5. 임베딩 이후 분류기 생성(분류기쪽 돌려볼 사람들은  1번 이후 바로 여기서부터 하면 됨)"
      ]
    },
    {
      "cell_type": "code",
      "metadata": {
        "id": "U8-3IjsQmhLJ"
      },
      "source": [
        "vectorized_df = pd.read_csv('/content/drive/MyDrive/w2v_colab/d2v_hangul2_size50_vector.csv')\n",
        "vectorized_df.drop(['Unnamed: 0'], axis =1, inplace = True)"
      ],
      "execution_count": null,
      "outputs": []
    },
    {
      "cell_type": "code",
      "metadata": {
        "colab": {
          "base_uri": "https://localhost:8080/",
          "height": 224
        },
        "id": "XFfRo64qmjK2",
        "outputId": "6409d341-14f2-477e-a8f8-5afd16eab6c8"
      },
      "source": [
        "vectorized_df.head()"
      ],
      "execution_count": null,
      "outputs": [
        {
          "output_type": "execute_result",
          "data": {
            "text/html": [
              "<div>\n",
              "<style scoped>\n",
              "    .dataframe tbody tr th:only-of-type {\n",
              "        vertical-align: middle;\n",
              "    }\n",
              "\n",
              "    .dataframe tbody tr th {\n",
              "        vertical-align: top;\n",
              "    }\n",
              "\n",
              "    .dataframe thead th {\n",
              "        text-align: right;\n",
              "    }\n",
              "</style>\n",
              "<table border=\"1\" class=\"dataframe\">\n",
              "  <thead>\n",
              "    <tr style=\"text-align: right;\">\n",
              "      <th></th>\n",
              "      <th>0</th>\n",
              "      <th>1</th>\n",
              "      <th>2</th>\n",
              "      <th>3</th>\n",
              "      <th>4</th>\n",
              "      <th>5</th>\n",
              "      <th>6</th>\n",
              "      <th>7</th>\n",
              "      <th>8</th>\n",
              "      <th>9</th>\n",
              "      <th>10</th>\n",
              "      <th>11</th>\n",
              "      <th>12</th>\n",
              "      <th>13</th>\n",
              "      <th>14</th>\n",
              "      <th>15</th>\n",
              "      <th>16</th>\n",
              "      <th>17</th>\n",
              "      <th>18</th>\n",
              "      <th>19</th>\n",
              "      <th>20</th>\n",
              "      <th>21</th>\n",
              "      <th>22</th>\n",
              "      <th>23</th>\n",
              "      <th>24</th>\n",
              "      <th>25</th>\n",
              "      <th>26</th>\n",
              "      <th>27</th>\n",
              "      <th>28</th>\n",
              "      <th>29</th>\n",
              "      <th>30</th>\n",
              "      <th>31</th>\n",
              "      <th>32</th>\n",
              "      <th>33</th>\n",
              "      <th>34</th>\n",
              "      <th>35</th>\n",
              "      <th>36</th>\n",
              "      <th>37</th>\n",
              "      <th>38</th>\n",
              "      <th>39</th>\n",
              "      <th>40</th>\n",
              "      <th>41</th>\n",
              "      <th>42</th>\n",
              "      <th>43</th>\n",
              "      <th>44</th>\n",
              "      <th>45</th>\n",
              "      <th>46</th>\n",
              "      <th>47</th>\n",
              "      <th>48</th>\n",
              "      <th>49</th>\n",
              "    </tr>\n",
              "  </thead>\n",
              "  <tbody>\n",
              "    <tr>\n",
              "      <th>0</th>\n",
              "      <td>-0.035802</td>\n",
              "      <td>0.762516</td>\n",
              "      <td>0.527483</td>\n",
              "      <td>-0.646350</td>\n",
              "      <td>-0.638488</td>\n",
              "      <td>-0.079218</td>\n",
              "      <td>-2.083597</td>\n",
              "      <td>-1.658492</td>\n",
              "      <td>-0.322451</td>\n",
              "      <td>-0.636430</td>\n",
              "      <td>1.882574</td>\n",
              "      <td>0.574517</td>\n",
              "      <td>1.897205</td>\n",
              "      <td>-0.651150</td>\n",
              "      <td>1.937440</td>\n",
              "      <td>0.620670</td>\n",
              "      <td>-0.057021</td>\n",
              "      <td>-1.217555</td>\n",
              "      <td>-0.045794</td>\n",
              "      <td>1.478200</td>\n",
              "      <td>-2.527859</td>\n",
              "      <td>2.682731</td>\n",
              "      <td>-3.175276</td>\n",
              "      <td>1.270820</td>\n",
              "      <td>-0.686305</td>\n",
              "      <td>0.904846</td>\n",
              "      <td>-1.949708</td>\n",
              "      <td>0.526351</td>\n",
              "      <td>1.419634</td>\n",
              "      <td>-1.350037</td>\n",
              "      <td>0.533267</td>\n",
              "      <td>-0.763875</td>\n",
              "      <td>-1.470060</td>\n",
              "      <td>-1.690300</td>\n",
              "      <td>-0.183936</td>\n",
              "      <td>0.924528</td>\n",
              "      <td>-0.136844</td>\n",
              "      <td>-2.048795</td>\n",
              "      <td>-0.554932</td>\n",
              "      <td>-0.035507</td>\n",
              "      <td>1.848522</td>\n",
              "      <td>-1.940566</td>\n",
              "      <td>0.913441</td>\n",
              "      <td>0.870872</td>\n",
              "      <td>-1.776461</td>\n",
              "      <td>-2.226250</td>\n",
              "      <td>-1.484636</td>\n",
              "      <td>2.031499</td>\n",
              "      <td>0.372622</td>\n",
              "      <td>-1.493396</td>\n",
              "    </tr>\n",
              "    <tr>\n",
              "      <th>1</th>\n",
              "      <td>1.211941</td>\n",
              "      <td>1.650563</td>\n",
              "      <td>-0.469811</td>\n",
              "      <td>-0.777811</td>\n",
              "      <td>-2.161437</td>\n",
              "      <td>0.044992</td>\n",
              "      <td>-2.537567</td>\n",
              "      <td>-1.812067</td>\n",
              "      <td>-0.127995</td>\n",
              "      <td>-0.756170</td>\n",
              "      <td>0.980890</td>\n",
              "      <td>2.407633</td>\n",
              "      <td>3.096749</td>\n",
              "      <td>-1.957995</td>\n",
              "      <td>2.765434</td>\n",
              "      <td>1.089077</td>\n",
              "      <td>1.805457</td>\n",
              "      <td>-1.415793</td>\n",
              "      <td>-1.450972</td>\n",
              "      <td>1.052342</td>\n",
              "      <td>-1.289957</td>\n",
              "      <td>1.880963</td>\n",
              "      <td>-2.719432</td>\n",
              "      <td>2.001244</td>\n",
              "      <td>-1.270124</td>\n",
              "      <td>1.048984</td>\n",
              "      <td>-0.560620</td>\n",
              "      <td>0.227437</td>\n",
              "      <td>0.709276</td>\n",
              "      <td>-1.717976</td>\n",
              "      <td>-0.947628</td>\n",
              "      <td>0.789705</td>\n",
              "      <td>-2.107265</td>\n",
              "      <td>-0.770224</td>\n",
              "      <td>1.292593</td>\n",
              "      <td>1.021528</td>\n",
              "      <td>-0.564912</td>\n",
              "      <td>-1.240781</td>\n",
              "      <td>0.010871</td>\n",
              "      <td>0.462850</td>\n",
              "      <td>1.934361</td>\n",
              "      <td>-2.102730</td>\n",
              "      <td>1.586009</td>\n",
              "      <td>1.443880</td>\n",
              "      <td>-3.564772</td>\n",
              "      <td>-1.907247</td>\n",
              "      <td>-1.741129</td>\n",
              "      <td>1.293014</td>\n",
              "      <td>0.715891</td>\n",
              "      <td>-2.572701</td>\n",
              "    </tr>\n",
              "    <tr>\n",
              "      <th>2</th>\n",
              "      <td>0.506385</td>\n",
              "      <td>0.007602</td>\n",
              "      <td>0.732889</td>\n",
              "      <td>-1.436335</td>\n",
              "      <td>-1.285927</td>\n",
              "      <td>0.537839</td>\n",
              "      <td>-2.165190</td>\n",
              "      <td>-1.749014</td>\n",
              "      <td>-0.608521</td>\n",
              "      <td>-0.400833</td>\n",
              "      <td>2.278505</td>\n",
              "      <td>1.917514</td>\n",
              "      <td>2.766977</td>\n",
              "      <td>-0.605020</td>\n",
              "      <td>1.587873</td>\n",
              "      <td>1.501726</td>\n",
              "      <td>0.378449</td>\n",
              "      <td>-0.783849</td>\n",
              "      <td>-0.165438</td>\n",
              "      <td>0.442723</td>\n",
              "      <td>-1.498136</td>\n",
              "      <td>1.568732</td>\n",
              "      <td>-3.438475</td>\n",
              "      <td>1.602641</td>\n",
              "      <td>-0.217831</td>\n",
              "      <td>0.907915</td>\n",
              "      <td>-1.849688</td>\n",
              "      <td>0.679552</td>\n",
              "      <td>0.274638</td>\n",
              "      <td>-0.815773</td>\n",
              "      <td>0.889303</td>\n",
              "      <td>-1.697673</td>\n",
              "      <td>-0.520854</td>\n",
              "      <td>-0.518915</td>\n",
              "      <td>0.483085</td>\n",
              "      <td>-0.172558</td>\n",
              "      <td>-0.901810</td>\n",
              "      <td>-1.682845</td>\n",
              "      <td>0.417701</td>\n",
              "      <td>-0.572933</td>\n",
              "      <td>0.648301</td>\n",
              "      <td>-3.478572</td>\n",
              "      <td>0.644871</td>\n",
              "      <td>0.667437</td>\n",
              "      <td>-1.992249</td>\n",
              "      <td>-1.717071</td>\n",
              "      <td>-1.175113</td>\n",
              "      <td>2.171807</td>\n",
              "      <td>-0.981696</td>\n",
              "      <td>-2.434427</td>\n",
              "    </tr>\n",
              "    <tr>\n",
              "      <th>3</th>\n",
              "      <td>0.421672</td>\n",
              "      <td>1.788684</td>\n",
              "      <td>-0.630690</td>\n",
              "      <td>-1.931314</td>\n",
              "      <td>-0.861619</td>\n",
              "      <td>0.104236</td>\n",
              "      <td>-3.292149</td>\n",
              "      <td>-1.404057</td>\n",
              "      <td>0.332171</td>\n",
              "      <td>-1.882838</td>\n",
              "      <td>3.287694</td>\n",
              "      <td>2.329005</td>\n",
              "      <td>1.208425</td>\n",
              "      <td>-1.345285</td>\n",
              "      <td>-0.107846</td>\n",
              "      <td>0.982285</td>\n",
              "      <td>0.927584</td>\n",
              "      <td>-1.454931</td>\n",
              "      <td>-1.531943</td>\n",
              "      <td>1.584144</td>\n",
              "      <td>-2.517164</td>\n",
              "      <td>0.621538</td>\n",
              "      <td>-3.112977</td>\n",
              "      <td>0.818314</td>\n",
              "      <td>-0.888132</td>\n",
              "      <td>0.185689</td>\n",
              "      <td>-0.945793</td>\n",
              "      <td>0.310528</td>\n",
              "      <td>2.194615</td>\n",
              "      <td>-2.355299</td>\n",
              "      <td>-0.302270</td>\n",
              "      <td>-0.296745</td>\n",
              "      <td>-1.765710</td>\n",
              "      <td>-1.846714</td>\n",
              "      <td>-1.037139</td>\n",
              "      <td>0.517816</td>\n",
              "      <td>-1.178245</td>\n",
              "      <td>-1.741825</td>\n",
              "      <td>-0.441724</td>\n",
              "      <td>-0.294710</td>\n",
              "      <td>0.774997</td>\n",
              "      <td>-1.427108</td>\n",
              "      <td>1.165789</td>\n",
              "      <td>1.311348</td>\n",
              "      <td>-3.870947</td>\n",
              "      <td>-0.429112</td>\n",
              "      <td>-2.529389</td>\n",
              "      <td>3.050401</td>\n",
              "      <td>-1.300192</td>\n",
              "      <td>-1.808842</td>\n",
              "    </tr>\n",
              "    <tr>\n",
              "      <th>4</th>\n",
              "      <td>0.270021</td>\n",
              "      <td>-0.209075</td>\n",
              "      <td>-0.901358</td>\n",
              "      <td>0.285627</td>\n",
              "      <td>-0.542318</td>\n",
              "      <td>0.472183</td>\n",
              "      <td>-2.817194</td>\n",
              "      <td>-2.276740</td>\n",
              "      <td>-1.477996</td>\n",
              "      <td>-0.654881</td>\n",
              "      <td>1.787736</td>\n",
              "      <td>1.187577</td>\n",
              "      <td>2.351966</td>\n",
              "      <td>-1.279965</td>\n",
              "      <td>1.292234</td>\n",
              "      <td>1.045684</td>\n",
              "      <td>-0.587314</td>\n",
              "      <td>-1.265235</td>\n",
              "      <td>-0.164149</td>\n",
              "      <td>-0.600626</td>\n",
              "      <td>-2.947251</td>\n",
              "      <td>1.834483</td>\n",
              "      <td>-2.233190</td>\n",
              "      <td>2.108989</td>\n",
              "      <td>-0.045028</td>\n",
              "      <td>1.536766</td>\n",
              "      <td>-2.275047</td>\n",
              "      <td>-0.562577</td>\n",
              "      <td>0.158143</td>\n",
              "      <td>-1.514790</td>\n",
              "      <td>0.586937</td>\n",
              "      <td>-0.590661</td>\n",
              "      <td>-0.807100</td>\n",
              "      <td>-1.498084</td>\n",
              "      <td>-1.077217</td>\n",
              "      <td>0.099772</td>\n",
              "      <td>-0.948838</td>\n",
              "      <td>-2.172785</td>\n",
              "      <td>0.619164</td>\n",
              "      <td>0.664175</td>\n",
              "      <td>1.054428</td>\n",
              "      <td>-1.945660</td>\n",
              "      <td>1.177727</td>\n",
              "      <td>0.758570</td>\n",
              "      <td>-2.518123</td>\n",
              "      <td>-1.374402</td>\n",
              "      <td>-0.672027</td>\n",
              "      <td>1.948901</td>\n",
              "      <td>-0.359897</td>\n",
              "      <td>-1.588454</td>\n",
              "    </tr>\n",
              "  </tbody>\n",
              "</table>\n",
              "</div>"
            ],
            "text/plain": [
              "          0         1         2  ...        47        48        49\n",
              "0 -0.035802  0.762516  0.527483  ...  2.031499  0.372622 -1.493396\n",
              "1  1.211941  1.650563 -0.469811  ...  1.293014  0.715891 -2.572701\n",
              "2  0.506385  0.007602  0.732889  ...  2.171807 -0.981696 -2.434427\n",
              "3  0.421672  1.788684 -0.630690  ...  3.050401 -1.300192 -1.808842\n",
              "4  0.270021 -0.209075 -0.901358  ...  1.948901 -0.359897 -1.588454\n",
              "\n",
              "[5 rows x 50 columns]"
            ]
          },
          "metadata": {
            "tags": []
          },
          "execution_count": 4
        }
      ]
    },
    {
      "cell_type": "code",
      "metadata": {
        "id": "LIOqiwHSmlbw"
      },
      "source": [
        "before_df = pd.read_csv('/content/drive/MyDrive/w2v_colab/0507 df_for_holdout_utf.csv')"
      ],
      "execution_count": null,
      "outputs": []
    },
    {
      "cell_type": "code",
      "metadata": {
        "id": "J6RpOICQmmm7"
      },
      "source": [
        "spi_df = before_df['spi']"
      ],
      "execution_count": null,
      "outputs": []
    },
    {
      "cell_type": "code",
      "metadata": {
        "id": "SOzPUarAmoBI"
      },
      "source": [
        "whole_data = pd.concat([vectorized_df, spi_df], axis = 1)"
      ],
      "execution_count": null,
      "outputs": []
    },
    {
      "cell_type": "code",
      "metadata": {
        "colab": {
          "base_uri": "https://localhost:8080/",
          "height": 439
        },
        "id": "KJjLmm6umpVU",
        "outputId": "5979b613-8dac-4298-e25f-bfab8839f499"
      },
      "source": [
        "whole_data"
      ],
      "execution_count": null,
      "outputs": [
        {
          "output_type": "execute_result",
          "data": {
            "text/html": [
              "<div>\n",
              "<style scoped>\n",
              "    .dataframe tbody tr th:only-of-type {\n",
              "        vertical-align: middle;\n",
              "    }\n",
              "\n",
              "    .dataframe tbody tr th {\n",
              "        vertical-align: top;\n",
              "    }\n",
              "\n",
              "    .dataframe thead th {\n",
              "        text-align: right;\n",
              "    }\n",
              "</style>\n",
              "<table border=\"1\" class=\"dataframe\">\n",
              "  <thead>\n",
              "    <tr style=\"text-align: right;\">\n",
              "      <th></th>\n",
              "      <th>0</th>\n",
              "      <th>1</th>\n",
              "      <th>2</th>\n",
              "      <th>3</th>\n",
              "      <th>4</th>\n",
              "      <th>5</th>\n",
              "      <th>6</th>\n",
              "      <th>7</th>\n",
              "      <th>8</th>\n",
              "      <th>9</th>\n",
              "      <th>10</th>\n",
              "      <th>11</th>\n",
              "      <th>12</th>\n",
              "      <th>13</th>\n",
              "      <th>14</th>\n",
              "      <th>15</th>\n",
              "      <th>16</th>\n",
              "      <th>17</th>\n",
              "      <th>18</th>\n",
              "      <th>19</th>\n",
              "      <th>20</th>\n",
              "      <th>21</th>\n",
              "      <th>22</th>\n",
              "      <th>23</th>\n",
              "      <th>24</th>\n",
              "      <th>25</th>\n",
              "      <th>26</th>\n",
              "      <th>27</th>\n",
              "      <th>28</th>\n",
              "      <th>29</th>\n",
              "      <th>30</th>\n",
              "      <th>31</th>\n",
              "      <th>32</th>\n",
              "      <th>33</th>\n",
              "      <th>34</th>\n",
              "      <th>35</th>\n",
              "      <th>36</th>\n",
              "      <th>37</th>\n",
              "      <th>38</th>\n",
              "      <th>39</th>\n",
              "      <th>40</th>\n",
              "      <th>41</th>\n",
              "      <th>42</th>\n",
              "      <th>43</th>\n",
              "      <th>44</th>\n",
              "      <th>45</th>\n",
              "      <th>46</th>\n",
              "      <th>47</th>\n",
              "      <th>48</th>\n",
              "      <th>49</th>\n",
              "      <th>spi</th>\n",
              "    </tr>\n",
              "  </thead>\n",
              "  <tbody>\n",
              "    <tr>\n",
              "      <th>0</th>\n",
              "      <td>-0.035802</td>\n",
              "      <td>0.762516</td>\n",
              "      <td>0.527483</td>\n",
              "      <td>-0.646350</td>\n",
              "      <td>-0.638488</td>\n",
              "      <td>-0.079218</td>\n",
              "      <td>-2.083597</td>\n",
              "      <td>-1.658492</td>\n",
              "      <td>-0.322451</td>\n",
              "      <td>-0.636430</td>\n",
              "      <td>1.882574</td>\n",
              "      <td>0.574517</td>\n",
              "      <td>1.897205</td>\n",
              "      <td>-0.651150</td>\n",
              "      <td>1.937440</td>\n",
              "      <td>0.620670</td>\n",
              "      <td>-0.057021</td>\n",
              "      <td>-1.217555</td>\n",
              "      <td>-0.045794</td>\n",
              "      <td>1.478200</td>\n",
              "      <td>-2.527859</td>\n",
              "      <td>2.682731</td>\n",
              "      <td>-3.175276</td>\n",
              "      <td>1.270820</td>\n",
              "      <td>-0.686305</td>\n",
              "      <td>0.904846</td>\n",
              "      <td>-1.949708</td>\n",
              "      <td>0.526351</td>\n",
              "      <td>1.419634</td>\n",
              "      <td>-1.350037</td>\n",
              "      <td>0.533267</td>\n",
              "      <td>-0.763875</td>\n",
              "      <td>-1.470060</td>\n",
              "      <td>-1.690300</td>\n",
              "      <td>-0.183936</td>\n",
              "      <td>0.924528</td>\n",
              "      <td>-0.136844</td>\n",
              "      <td>-2.048795</td>\n",
              "      <td>-0.554932</td>\n",
              "      <td>-0.035507</td>\n",
              "      <td>1.848522</td>\n",
              "      <td>-1.940566</td>\n",
              "      <td>0.913441</td>\n",
              "      <td>0.870872</td>\n",
              "      <td>-1.776461</td>\n",
              "      <td>-2.226250</td>\n",
              "      <td>-1.484636</td>\n",
              "      <td>2.031499</td>\n",
              "      <td>0.372622</td>\n",
              "      <td>-1.493396</td>\n",
              "      <td>82.5</td>\n",
              "    </tr>\n",
              "    <tr>\n",
              "      <th>1</th>\n",
              "      <td>1.211941</td>\n",
              "      <td>1.650563</td>\n",
              "      <td>-0.469811</td>\n",
              "      <td>-0.777811</td>\n",
              "      <td>-2.161437</td>\n",
              "      <td>0.044992</td>\n",
              "      <td>-2.537567</td>\n",
              "      <td>-1.812067</td>\n",
              "      <td>-0.127995</td>\n",
              "      <td>-0.756170</td>\n",
              "      <td>0.980890</td>\n",
              "      <td>2.407633</td>\n",
              "      <td>3.096749</td>\n",
              "      <td>-1.957995</td>\n",
              "      <td>2.765434</td>\n",
              "      <td>1.089077</td>\n",
              "      <td>1.805457</td>\n",
              "      <td>-1.415793</td>\n",
              "      <td>-1.450972</td>\n",
              "      <td>1.052342</td>\n",
              "      <td>-1.289957</td>\n",
              "      <td>1.880963</td>\n",
              "      <td>-2.719432</td>\n",
              "      <td>2.001244</td>\n",
              "      <td>-1.270124</td>\n",
              "      <td>1.048984</td>\n",
              "      <td>-0.560620</td>\n",
              "      <td>0.227437</td>\n",
              "      <td>0.709276</td>\n",
              "      <td>-1.717976</td>\n",
              "      <td>-0.947628</td>\n",
              "      <td>0.789705</td>\n",
              "      <td>-2.107265</td>\n",
              "      <td>-0.770224</td>\n",
              "      <td>1.292593</td>\n",
              "      <td>1.021528</td>\n",
              "      <td>-0.564912</td>\n",
              "      <td>-1.240781</td>\n",
              "      <td>0.010871</td>\n",
              "      <td>0.462850</td>\n",
              "      <td>1.934361</td>\n",
              "      <td>-2.102730</td>\n",
              "      <td>1.586009</td>\n",
              "      <td>1.443880</td>\n",
              "      <td>-3.564772</td>\n",
              "      <td>-1.907247</td>\n",
              "      <td>-1.741129</td>\n",
              "      <td>1.293014</td>\n",
              "      <td>0.715891</td>\n",
              "      <td>-2.572701</td>\n",
              "      <td>83.4</td>\n",
              "    </tr>\n",
              "    <tr>\n",
              "      <th>2</th>\n",
              "      <td>0.506385</td>\n",
              "      <td>0.007602</td>\n",
              "      <td>0.732889</td>\n",
              "      <td>-1.436335</td>\n",
              "      <td>-1.285927</td>\n",
              "      <td>0.537839</td>\n",
              "      <td>-2.165190</td>\n",
              "      <td>-1.749014</td>\n",
              "      <td>-0.608521</td>\n",
              "      <td>-0.400833</td>\n",
              "      <td>2.278505</td>\n",
              "      <td>1.917514</td>\n",
              "      <td>2.766977</td>\n",
              "      <td>-0.605020</td>\n",
              "      <td>1.587873</td>\n",
              "      <td>1.501726</td>\n",
              "      <td>0.378449</td>\n",
              "      <td>-0.783849</td>\n",
              "      <td>-0.165438</td>\n",
              "      <td>0.442723</td>\n",
              "      <td>-1.498136</td>\n",
              "      <td>1.568732</td>\n",
              "      <td>-3.438475</td>\n",
              "      <td>1.602641</td>\n",
              "      <td>-0.217831</td>\n",
              "      <td>0.907915</td>\n",
              "      <td>-1.849688</td>\n",
              "      <td>0.679552</td>\n",
              "      <td>0.274638</td>\n",
              "      <td>-0.815773</td>\n",
              "      <td>0.889303</td>\n",
              "      <td>-1.697673</td>\n",
              "      <td>-0.520854</td>\n",
              "      <td>-0.518915</td>\n",
              "      <td>0.483085</td>\n",
              "      <td>-0.172558</td>\n",
              "      <td>-0.901810</td>\n",
              "      <td>-1.682845</td>\n",
              "      <td>0.417701</td>\n",
              "      <td>-0.572933</td>\n",
              "      <td>0.648301</td>\n",
              "      <td>-3.478572</td>\n",
              "      <td>0.644871</td>\n",
              "      <td>0.667437</td>\n",
              "      <td>-1.992249</td>\n",
              "      <td>-1.717071</td>\n",
              "      <td>-1.175113</td>\n",
              "      <td>2.171807</td>\n",
              "      <td>-0.981696</td>\n",
              "      <td>-2.434427</td>\n",
              "      <td>83.9</td>\n",
              "    </tr>\n",
              "    <tr>\n",
              "      <th>3</th>\n",
              "      <td>0.421672</td>\n",
              "      <td>1.788684</td>\n",
              "      <td>-0.630690</td>\n",
              "      <td>-1.931314</td>\n",
              "      <td>-0.861619</td>\n",
              "      <td>0.104236</td>\n",
              "      <td>-3.292149</td>\n",
              "      <td>-1.404057</td>\n",
              "      <td>0.332171</td>\n",
              "      <td>-1.882838</td>\n",
              "      <td>3.287694</td>\n",
              "      <td>2.329005</td>\n",
              "      <td>1.208425</td>\n",
              "      <td>-1.345285</td>\n",
              "      <td>-0.107846</td>\n",
              "      <td>0.982285</td>\n",
              "      <td>0.927584</td>\n",
              "      <td>-1.454931</td>\n",
              "      <td>-1.531943</td>\n",
              "      <td>1.584144</td>\n",
              "      <td>-2.517164</td>\n",
              "      <td>0.621538</td>\n",
              "      <td>-3.112977</td>\n",
              "      <td>0.818314</td>\n",
              "      <td>-0.888132</td>\n",
              "      <td>0.185689</td>\n",
              "      <td>-0.945793</td>\n",
              "      <td>0.310528</td>\n",
              "      <td>2.194615</td>\n",
              "      <td>-2.355299</td>\n",
              "      <td>-0.302270</td>\n",
              "      <td>-0.296745</td>\n",
              "      <td>-1.765710</td>\n",
              "      <td>-1.846714</td>\n",
              "      <td>-1.037139</td>\n",
              "      <td>0.517816</td>\n",
              "      <td>-1.178245</td>\n",
              "      <td>-1.741825</td>\n",
              "      <td>-0.441724</td>\n",
              "      <td>-0.294710</td>\n",
              "      <td>0.774997</td>\n",
              "      <td>-1.427108</td>\n",
              "      <td>1.165789</td>\n",
              "      <td>1.311348</td>\n",
              "      <td>-3.870947</td>\n",
              "      <td>-0.429112</td>\n",
              "      <td>-2.529389</td>\n",
              "      <td>3.050401</td>\n",
              "      <td>-1.300192</td>\n",
              "      <td>-1.808842</td>\n",
              "      <td>84.1</td>\n",
              "    </tr>\n",
              "    <tr>\n",
              "      <th>4</th>\n",
              "      <td>0.270021</td>\n",
              "      <td>-0.209075</td>\n",
              "      <td>-0.901358</td>\n",
              "      <td>0.285627</td>\n",
              "      <td>-0.542318</td>\n",
              "      <td>0.472183</td>\n",
              "      <td>-2.817194</td>\n",
              "      <td>-2.276740</td>\n",
              "      <td>-1.477996</td>\n",
              "      <td>-0.654881</td>\n",
              "      <td>1.787736</td>\n",
              "      <td>1.187577</td>\n",
              "      <td>2.351966</td>\n",
              "      <td>-1.279965</td>\n",
              "      <td>1.292234</td>\n",
              "      <td>1.045684</td>\n",
              "      <td>-0.587314</td>\n",
              "      <td>-1.265235</td>\n",
              "      <td>-0.164149</td>\n",
              "      <td>-0.600626</td>\n",
              "      <td>-2.947251</td>\n",
              "      <td>1.834483</td>\n",
              "      <td>-2.233190</td>\n",
              "      <td>2.108989</td>\n",
              "      <td>-0.045028</td>\n",
              "      <td>1.536766</td>\n",
              "      <td>-2.275047</td>\n",
              "      <td>-0.562577</td>\n",
              "      <td>0.158143</td>\n",
              "      <td>-1.514790</td>\n",
              "      <td>0.586937</td>\n",
              "      <td>-0.590661</td>\n",
              "      <td>-0.807100</td>\n",
              "      <td>-1.498084</td>\n",
              "      <td>-1.077217</td>\n",
              "      <td>0.099772</td>\n",
              "      <td>-0.948838</td>\n",
              "      <td>-2.172785</td>\n",
              "      <td>0.619164</td>\n",
              "      <td>0.664175</td>\n",
              "      <td>1.054428</td>\n",
              "      <td>-1.945660</td>\n",
              "      <td>1.177727</td>\n",
              "      <td>0.758570</td>\n",
              "      <td>-2.518123</td>\n",
              "      <td>-1.374402</td>\n",
              "      <td>-0.672027</td>\n",
              "      <td>1.948901</td>\n",
              "      <td>-0.359897</td>\n",
              "      <td>-1.588454</td>\n",
              "      <td>84.4</td>\n",
              "    </tr>\n",
              "    <tr>\n",
              "      <th>...</th>\n",
              "      <td>...</td>\n",
              "      <td>...</td>\n",
              "      <td>...</td>\n",
              "      <td>...</td>\n",
              "      <td>...</td>\n",
              "      <td>...</td>\n",
              "      <td>...</td>\n",
              "      <td>...</td>\n",
              "      <td>...</td>\n",
              "      <td>...</td>\n",
              "      <td>...</td>\n",
              "      <td>...</td>\n",
              "      <td>...</td>\n",
              "      <td>...</td>\n",
              "      <td>...</td>\n",
              "      <td>...</td>\n",
              "      <td>...</td>\n",
              "      <td>...</td>\n",
              "      <td>...</td>\n",
              "      <td>...</td>\n",
              "      <td>...</td>\n",
              "      <td>...</td>\n",
              "      <td>...</td>\n",
              "      <td>...</td>\n",
              "      <td>...</td>\n",
              "      <td>...</td>\n",
              "      <td>...</td>\n",
              "      <td>...</td>\n",
              "      <td>...</td>\n",
              "      <td>...</td>\n",
              "      <td>...</td>\n",
              "      <td>...</td>\n",
              "      <td>...</td>\n",
              "      <td>...</td>\n",
              "      <td>...</td>\n",
              "      <td>...</td>\n",
              "      <td>...</td>\n",
              "      <td>...</td>\n",
              "      <td>...</td>\n",
              "      <td>...</td>\n",
              "      <td>...</td>\n",
              "      <td>...</td>\n",
              "      <td>...</td>\n",
              "      <td>...</td>\n",
              "      <td>...</td>\n",
              "      <td>...</td>\n",
              "      <td>...</td>\n",
              "      <td>...</td>\n",
              "      <td>...</td>\n",
              "      <td>...</td>\n",
              "      <td>...</td>\n",
              "    </tr>\n",
              "    <tr>\n",
              "      <th>115</th>\n",
              "      <td>2.509685</td>\n",
              "      <td>-0.362866</td>\n",
              "      <td>-1.112325</td>\n",
              "      <td>-0.981170</td>\n",
              "      <td>-1.802777</td>\n",
              "      <td>2.584458</td>\n",
              "      <td>-1.015257</td>\n",
              "      <td>-2.377328</td>\n",
              "      <td>-1.626601</td>\n",
              "      <td>-0.011455</td>\n",
              "      <td>2.951705</td>\n",
              "      <td>5.013472</td>\n",
              "      <td>7.012151</td>\n",
              "      <td>-0.712439</td>\n",
              "      <td>-0.002054</td>\n",
              "      <td>0.872842</td>\n",
              "      <td>-1.392580</td>\n",
              "      <td>0.782678</td>\n",
              "      <td>2.017218</td>\n",
              "      <td>-1.271523</td>\n",
              "      <td>-3.841493</td>\n",
              "      <td>2.275810</td>\n",
              "      <td>-3.687452</td>\n",
              "      <td>0.614565</td>\n",
              "      <td>-1.299010</td>\n",
              "      <td>0.372624</td>\n",
              "      <td>0.112713</td>\n",
              "      <td>0.977223</td>\n",
              "      <td>2.136868</td>\n",
              "      <td>-0.935083</td>\n",
              "      <td>2.407025</td>\n",
              "      <td>-1.681651</td>\n",
              "      <td>-5.574606</td>\n",
              "      <td>-1.611528</td>\n",
              "      <td>0.142155</td>\n",
              "      <td>-0.031791</td>\n",
              "      <td>-1.424852</td>\n",
              "      <td>-3.973725</td>\n",
              "      <td>-0.130292</td>\n",
              "      <td>-0.593422</td>\n",
              "      <td>-0.175813</td>\n",
              "      <td>-3.503652</td>\n",
              "      <td>5.292339</td>\n",
              "      <td>1.641297</td>\n",
              "      <td>-2.330398</td>\n",
              "      <td>-1.575629</td>\n",
              "      <td>0.733557</td>\n",
              "      <td>-0.779655</td>\n",
              "      <td>-0.203635</td>\n",
              "      <td>-0.212297</td>\n",
              "      <td>114.0</td>\n",
              "    </tr>\n",
              "    <tr>\n",
              "      <th>116</th>\n",
              "      <td>1.672343</td>\n",
              "      <td>-0.334270</td>\n",
              "      <td>-0.922863</td>\n",
              "      <td>-0.092252</td>\n",
              "      <td>0.304882</td>\n",
              "      <td>1.358173</td>\n",
              "      <td>-0.187025</td>\n",
              "      <td>-2.872575</td>\n",
              "      <td>0.491301</td>\n",
              "      <td>-1.261173</td>\n",
              "      <td>1.016735</td>\n",
              "      <td>3.309492</td>\n",
              "      <td>5.066948</td>\n",
              "      <td>2.179821</td>\n",
              "      <td>0.506294</td>\n",
              "      <td>0.399411</td>\n",
              "      <td>-0.607002</td>\n",
              "      <td>1.774560</td>\n",
              "      <td>1.928474</td>\n",
              "      <td>-0.777583</td>\n",
              "      <td>-3.588605</td>\n",
              "      <td>2.791864</td>\n",
              "      <td>-4.002852</td>\n",
              "      <td>0.255036</td>\n",
              "      <td>-3.951135</td>\n",
              "      <td>1.245576</td>\n",
              "      <td>0.390608</td>\n",
              "      <td>0.036360</td>\n",
              "      <td>1.091432</td>\n",
              "      <td>-0.266250</td>\n",
              "      <td>2.716283</td>\n",
              "      <td>0.094167</td>\n",
              "      <td>-4.623162</td>\n",
              "      <td>-2.405396</td>\n",
              "      <td>0.144613</td>\n",
              "      <td>-1.103741</td>\n",
              "      <td>-0.905605</td>\n",
              "      <td>-2.991017</td>\n",
              "      <td>1.849764</td>\n",
              "      <td>-0.712494</td>\n",
              "      <td>1.344147</td>\n",
              "      <td>-0.358958</td>\n",
              "      <td>3.234710</td>\n",
              "      <td>1.057553</td>\n",
              "      <td>-2.119385</td>\n",
              "      <td>0.152683</td>\n",
              "      <td>-0.343579</td>\n",
              "      <td>0.184961</td>\n",
              "      <td>-0.597110</td>\n",
              "      <td>-1.758648</td>\n",
              "      <td>115.6</td>\n",
              "    </tr>\n",
              "    <tr>\n",
              "      <th>117</th>\n",
              "      <td>2.514826</td>\n",
              "      <td>0.905083</td>\n",
              "      <td>-1.432545</td>\n",
              "      <td>-0.624301</td>\n",
              "      <td>-1.217057</td>\n",
              "      <td>1.171032</td>\n",
              "      <td>-0.787166</td>\n",
              "      <td>-1.211160</td>\n",
              "      <td>1.786186</td>\n",
              "      <td>-3.534185</td>\n",
              "      <td>1.690424</td>\n",
              "      <td>3.025398</td>\n",
              "      <td>4.975113</td>\n",
              "      <td>4.115765</td>\n",
              "      <td>0.964698</td>\n",
              "      <td>-1.830588</td>\n",
              "      <td>-0.719688</td>\n",
              "      <td>4.100430</td>\n",
              "      <td>1.443791</td>\n",
              "      <td>-0.738610</td>\n",
              "      <td>-0.256533</td>\n",
              "      <td>3.235024</td>\n",
              "      <td>-4.559209</td>\n",
              "      <td>3.338443</td>\n",
              "      <td>-5.558913</td>\n",
              "      <td>2.536952</td>\n",
              "      <td>-0.615805</td>\n",
              "      <td>2.657749</td>\n",
              "      <td>-0.596383</td>\n",
              "      <td>0.418327</td>\n",
              "      <td>3.053898</td>\n",
              "      <td>-0.968798</td>\n",
              "      <td>-5.486211</td>\n",
              "      <td>-2.153208</td>\n",
              "      <td>-0.306617</td>\n",
              "      <td>-3.600512</td>\n",
              "      <td>-1.596294</td>\n",
              "      <td>-2.058287</td>\n",
              "      <td>3.063616</td>\n",
              "      <td>-2.607828</td>\n",
              "      <td>-0.790473</td>\n",
              "      <td>-1.904264</td>\n",
              "      <td>3.977654</td>\n",
              "      <td>-1.146131</td>\n",
              "      <td>-4.710405</td>\n",
              "      <td>-1.472417</td>\n",
              "      <td>-0.107300</td>\n",
              "      <td>-1.045866</td>\n",
              "      <td>-3.242742</td>\n",
              "      <td>-4.836896</td>\n",
              "      <td>118.3</td>\n",
              "    </tr>\n",
              "    <tr>\n",
              "      <th>118</th>\n",
              "      <td>0.159501</td>\n",
              "      <td>1.787880</td>\n",
              "      <td>-0.696561</td>\n",
              "      <td>-1.154362</td>\n",
              "      <td>-0.347988</td>\n",
              "      <td>1.242660</td>\n",
              "      <td>0.120741</td>\n",
              "      <td>-2.825160</td>\n",
              "      <td>-0.530021</td>\n",
              "      <td>-0.318378</td>\n",
              "      <td>2.164843</td>\n",
              "      <td>3.937070</td>\n",
              "      <td>3.385142</td>\n",
              "      <td>0.303647</td>\n",
              "      <td>1.069890</td>\n",
              "      <td>0.395818</td>\n",
              "      <td>-0.390069</td>\n",
              "      <td>1.812807</td>\n",
              "      <td>1.134956</td>\n",
              "      <td>-0.892962</td>\n",
              "      <td>-2.637705</td>\n",
              "      <td>1.362223</td>\n",
              "      <td>-4.718195</td>\n",
              "      <td>1.901007</td>\n",
              "      <td>-2.311920</td>\n",
              "      <td>0.981014</td>\n",
              "      <td>0.428007</td>\n",
              "      <td>1.360417</td>\n",
              "      <td>0.267876</td>\n",
              "      <td>-0.719277</td>\n",
              "      <td>3.027649</td>\n",
              "      <td>0.307402</td>\n",
              "      <td>-5.405996</td>\n",
              "      <td>-2.487178</td>\n",
              "      <td>-0.387146</td>\n",
              "      <td>0.754007</td>\n",
              "      <td>-1.903484</td>\n",
              "      <td>-0.925066</td>\n",
              "      <td>1.146413</td>\n",
              "      <td>-1.055262</td>\n",
              "      <td>2.033039</td>\n",
              "      <td>0.080675</td>\n",
              "      <td>2.992791</td>\n",
              "      <td>0.294651</td>\n",
              "      <td>-2.299284</td>\n",
              "      <td>-0.323632</td>\n",
              "      <td>-0.434891</td>\n",
              "      <td>0.697065</td>\n",
              "      <td>-0.887774</td>\n",
              "      <td>-1.690598</td>\n",
              "      <td>121.4</td>\n",
              "    </tr>\n",
              "    <tr>\n",
              "      <th>119</th>\n",
              "      <td>1.515560</td>\n",
              "      <td>0.753360</td>\n",
              "      <td>-1.603842</td>\n",
              "      <td>-0.752552</td>\n",
              "      <td>-0.210676</td>\n",
              "      <td>2.230551</td>\n",
              "      <td>-0.606618</td>\n",
              "      <td>-3.272809</td>\n",
              "      <td>-0.353799</td>\n",
              "      <td>0.186590</td>\n",
              "      <td>1.745707</td>\n",
              "      <td>4.848660</td>\n",
              "      <td>4.751548</td>\n",
              "      <td>1.879458</td>\n",
              "      <td>0.750223</td>\n",
              "      <td>0.303186</td>\n",
              "      <td>-0.814533</td>\n",
              "      <td>1.426062</td>\n",
              "      <td>1.304428</td>\n",
              "      <td>0.305618</td>\n",
              "      <td>-2.576240</td>\n",
              "      <td>2.379028</td>\n",
              "      <td>-3.994183</td>\n",
              "      <td>1.084757</td>\n",
              "      <td>-1.982151</td>\n",
              "      <td>1.319190</td>\n",
              "      <td>0.203579</td>\n",
              "      <td>0.558797</td>\n",
              "      <td>0.520014</td>\n",
              "      <td>-0.846356</td>\n",
              "      <td>3.430337</td>\n",
              "      <td>0.788427</td>\n",
              "      <td>-6.001676</td>\n",
              "      <td>-2.784210</td>\n",
              "      <td>-0.614366</td>\n",
              "      <td>-0.172958</td>\n",
              "      <td>-2.597329</td>\n",
              "      <td>-1.281099</td>\n",
              "      <td>1.411207</td>\n",
              "      <td>-0.683194</td>\n",
              "      <td>0.968757</td>\n",
              "      <td>-0.657741</td>\n",
              "      <td>2.565227</td>\n",
              "      <td>0.980276</td>\n",
              "      <td>-2.831780</td>\n",
              "      <td>-1.269079</td>\n",
              "      <td>0.748064</td>\n",
              "      <td>-0.200914</td>\n",
              "      <td>0.198229</td>\n",
              "      <td>-0.700378</td>\n",
              "      <td>124.9</td>\n",
              "    </tr>\n",
              "  </tbody>\n",
              "</table>\n",
              "<p>120 rows × 51 columns</p>\n",
              "</div>"
            ],
            "text/plain": [
              "            0         1         2  ...        48        49    spi\n",
              "0   -0.035802  0.762516  0.527483  ...  0.372622 -1.493396   82.5\n",
              "1    1.211941  1.650563 -0.469811  ...  0.715891 -2.572701   83.4\n",
              "2    0.506385  0.007602  0.732889  ... -0.981696 -2.434427   83.9\n",
              "3    0.421672  1.788684 -0.630690  ... -1.300192 -1.808842   84.1\n",
              "4    0.270021 -0.209075 -0.901358  ... -0.359897 -1.588454   84.4\n",
              "..        ...       ...       ...  ...       ...       ...    ...\n",
              "115  2.509685 -0.362866 -1.112325  ... -0.203635 -0.212297  114.0\n",
              "116  1.672343 -0.334270 -0.922863  ... -0.597110 -1.758648  115.6\n",
              "117  2.514826  0.905083 -1.432545  ... -3.242742 -4.836896  118.3\n",
              "118  0.159501  1.787880 -0.696561  ... -0.887774 -1.690598  121.4\n",
              "119  1.515560  0.753360 -1.603842  ...  0.198229 -0.700378  124.9\n",
              "\n",
              "[120 rows x 51 columns]"
            ]
          },
          "metadata": {
            "tags": []
          },
          "execution_count": 8
        }
      ]
    },
    {
      "cell_type": "markdown",
      "metadata": {
        "id": "XVKQLfNrmq4G"
      },
      "source": [
        "## 5.1 Random Forest"
      ]
    },
    {
      "cell_type": "code",
      "metadata": {
        "id": "IcAXuo7bmrgb"
      },
      "source": [
        "from sklearn.ensemble import RandomForestRegressor\n",
        "from sklearn.metrics import mean_squared_error"
      ],
      "execution_count": null,
      "outputs": []
    },
    {
      "cell_type": "code",
      "metadata": {
        "id": "cTgeXlmHmszS"
      },
      "source": [
        "train = whole_data[:90]\n",
        "test = whole_data[90:]\n",
        "X_train = train.drop(['spi'], axis = 1)\n",
        "X_test = test.drop(['spi'], axis = 1)\n",
        "y_train = train['spi']\n",
        "y_test = test['spi']"
      ],
      "execution_count": null,
      "outputs": []
    },
    {
      "cell_type": "code",
      "metadata": {
        "colab": {
          "base_uri": "https://localhost:8080/"
        },
        "id": "5r0MQESTmt_q",
        "outputId": "03ecd8e9-d72e-4224-f5b5-6c8ed367611f"
      },
      "source": [
        "regressor = RandomForestRegressor(n_estimators = 20, random_state = 0)\n",
        "regressor.fit(X_train, y_train) \n",
        "y_pred = regressor.predict(X_test)\n",
        "rmse = mean_squared_error(y_test, y_pred)**0.5\n",
        "rmse"
      ],
      "execution_count": null,
      "outputs": [
        {
          "output_type": "execute_result",
          "data": {
            "text/plain": [
              "10.498324945755233"
            ]
          },
          "metadata": {
            "tags": []
          },
          "execution_count": 18
        }
      ]
    },
    {
      "cell_type": "markdown",
      "metadata": {
        "id": "zwsN6sIupn-1"
      },
      "source": [
        "## 5.2 SVM "
      ]
    },
    {
      "cell_type": "code",
      "metadata": {
        "id": "RMgG6lofpqXq"
      },
      "source": [
        "from sklearn.preprocessing import StandardScaler\n",
        "from sklearn.svm import SVR"
      ],
      "execution_count": null,
      "outputs": []
    },
    {
      "cell_type": "code",
      "metadata": {
        "id": "ymxarrSIp2Qm"
      },
      "source": [
        "# SVM 인풋 데이터 스케일링\n",
        "sc = StandardScaler()\n",
        "X_train_basic_svm = sc.fit_transform(X_train)\n",
        "X_test_basic_svm = sc.transform(X_test)"
      ],
      "execution_count": null,
      "outputs": []
    },
    {
      "cell_type": "code",
      "metadata": {
        "id": "cwnxKeomp3-m"
      },
      "source": [
        "score_list = []"
      ],
      "execution_count": null,
      "outputs": []
    },
    {
      "cell_type": "code",
      "metadata": {
        "colab": {
          "base_uri": "https://localhost:8080/"
        },
        "id": "0B4b7zPUp5fq",
        "outputId": "71450214-5e5c-4030-bd68-4e3261e4bd73"
      },
      "source": [
        "from sklearn.model_selection import GridSearchCV\n",
        "\n",
        "# defining parameter range\n",
        "param_grid_svm = {'C': [0.1, 1, 10, 100, 1000], \n",
        "              'gamma': [1, 0.1, 0.01, 0.001, 0.0001],\n",
        "              'kernel': ['linear','poly','rbf','sigmoid']} \n",
        "  \n",
        "grid_svm = GridSearchCV(SVR(), param_grid_svm, refit = 'mse', verbose = 0, cv = 5)\n",
        "\n",
        "# fitting the model for grid search\n",
        "grid_svm.fit(X_train_basic_svm, y_train)"
      ],
      "execution_count": null,
      "outputs": [
        {
          "output_type": "execute_result",
          "data": {
            "text/plain": [
              "GridSearchCV(cv=5, error_score=nan,\n",
              "             estimator=SVR(C=1.0, cache_size=200, coef0=0.0, degree=3,\n",
              "                           epsilon=0.1, gamma='scale', kernel='rbf',\n",
              "                           max_iter=-1, shrinking=True, tol=0.001,\n",
              "                           verbose=False),\n",
              "             iid='deprecated', n_jobs=None,\n",
              "             param_grid={'C': [0.1, 1, 10, 100, 1000],\n",
              "                         'gamma': [1, 0.1, 0.01, 0.001, 0.0001],\n",
              "                         'kernel': ['linear', 'poly', 'rbf', 'sigmoid']},\n",
              "             pre_dispatch='2*n_jobs', refit='mse', return_train_score=False,\n",
              "             scoring=None, verbose=0)"
            ]
          },
          "metadata": {
            "tags": []
          },
          "execution_count": 32
        }
      ]
    },
    {
      "cell_type": "code",
      "metadata": {
        "colab": {
          "base_uri": "https://localhost:8080/"
        },
        "id": "dEZNm_pep7Qr",
        "outputId": "928552d7-413b-41f5-a1cf-7c131d00220c"
      },
      "source": [
        "y_pred = grid_svm.predict(X_test_basic_svm)\n",
        "RMSE = mean_squared_error(y_test, y_pred)**0.5\n",
        "\n",
        "# RMSE 출력\n",
        "print(RMSE)\n",
        "\n",
        "score_list.append(('거시경제',RMSE))\n",
        "# print best parameter after tuning\n",
        "print(grid_svm.best_params_)\n",
        "  \n",
        "# print how our model looks after hyper-parameter tuning\n",
        "print(grid_svm.best_estimator_)"
      ],
      "execution_count": null,
      "outputs": [
        {
          "output_type": "stream",
          "text": [
            "13.601092885848058\n",
            "{'C': 100, 'gamma': 0.001, 'kernel': 'sigmoid'}\n",
            "SVR(C=100, cache_size=200, coef0=0.0, degree=3, epsilon=0.1, gamma=0.001,\n",
            "    kernel='sigmoid', max_iter=-1, shrinking=True, tol=0.001, verbose=False)\n"
          ],
          "name": "stdout"
        }
      ]
    },
    {
      "cell_type": "markdown",
      "metadata": {
        "id": "poZrxmfPqAMX"
      },
      "source": [
        "## 5.3 XGB Regressor"
      ]
    },
    {
      "cell_type": "code",
      "metadata": {
        "id": "VaqrZ2dXqVvU"
      },
      "source": [
        "from xgboost import XGBRegressor"
      ],
      "execution_count": null,
      "outputs": []
    },
    {
      "cell_type": "code",
      "metadata": {
        "id": "-7ZGzO55qXUa"
      },
      "source": [
        "score_list=[]"
      ],
      "execution_count": null,
      "outputs": []
    },
    {
      "cell_type": "code",
      "metadata": {
        "colab": {
          "base_uri": "https://localhost:8080/"
        },
        "id": "utT6h38RqeOR",
        "outputId": "2b294d51-4957-48c7-8ab8-ee571aec6cd7"
      },
      "source": [
        "\n",
        "from sklearn.model_selection import GridSearchCV\n",
        "\n",
        "# defining parameter range\n",
        "param_grid = {\n",
        "        'n_estimators' : [50, 100, 150, 200],\n",
        "        'gamma': [0.3, 0.6, 0.9, 1.2, 1.5],\n",
        "        'subsample' : [i/10.0 for i in range(6,11)],\n",
        "        'colsample_bytree': [0.6, 0.8, 1.0],\n",
        "        'max_depth': [3, 5, 7, 9]\n",
        "        }\n",
        "  \n",
        "grid_XGBR = GridSearchCV(XGBRegressor(objective='reg:squarederror'), param_grid, refit = 'mse', verbose = 0, cv = 5)\n",
        "\n",
        "# fitting the model for grid search\n",
        "grid_XGBR.fit(X_train, y_train)"
      ],
      "execution_count": null,
      "outputs": [
        {
          "output_type": "execute_result",
          "data": {
            "text/plain": [
              "GridSearchCV(cv=5, error_score=nan,\n",
              "             estimator=XGBRegressor(base_score=0.5, booster='gbtree',\n",
              "                                    colsample_bylevel=1, colsample_bynode=1,\n",
              "                                    colsample_bytree=1, gamma=0,\n",
              "                                    importance_type='gain', learning_rate=0.1,\n",
              "                                    max_delta_step=0, max_depth=3,\n",
              "                                    min_child_weight=1, missing=None,\n",
              "                                    n_estimators=100, n_jobs=1, nthread=None,\n",
              "                                    objective='reg:squarederror',\n",
              "                                    random_state=0, reg_alpha=...mbda=1,\n",
              "                                    scale_pos_weight=1, seed=None, silent=None,\n",
              "                                    subsample=1, verbosity=1),\n",
              "             iid='deprecated', n_jobs=None,\n",
              "             param_grid={'colsample_bytree': [0.6, 0.8, 1.0],\n",
              "                         'gamma': [0.3, 0.6, 0.9, 1.2, 1.5],\n",
              "                         'max_depth': [3, 5, 7, 9],\n",
              "                         'n_estimators': [50, 100, 150, 200],\n",
              "                         'subsample': [0.6, 0.7, 0.8, 0.9, 1.0]},\n",
              "             pre_dispatch='2*n_jobs', refit='mse', return_train_score=False,\n",
              "             scoring=None, verbose=0)"
            ]
          },
          "metadata": {
            "tags": []
          },
          "execution_count": 37
        }
      ]
    },
    {
      "cell_type": "code",
      "metadata": {
        "colab": {
          "base_uri": "https://localhost:8080/"
        },
        "id": "CH781QOQqgki",
        "outputId": "da2190da-8519-45d7-c3bc-5b7053f255da"
      },
      "source": [
        "y_pred = grid_XGBR.predict(X_test)\n",
        "RMSE = mean_squared_error(y_test, y_pred)**0.5\n",
        "\n",
        "# RMSE 출력\n",
        "print(RMSE)\n",
        "score_list.append(('거시경제',RMSE))\n",
        "# print best parameter after tuning\n",
        "print(grid_XGBR.best_params_)\n",
        "  \n",
        "# print how our model looks after hyper-parameter tuning\n",
        "print(grid_XGBR.best_estimator_)"
      ],
      "execution_count": null,
      "outputs": [
        {
          "output_type": "stream",
          "text": [
            "12.469393350922589\n",
            "{'colsample_bytree': 1.0, 'gamma': 0.9, 'max_depth': 3, 'n_estimators': 150, 'subsample': 0.8}\n",
            "XGBRegressor(base_score=0.5, booster='gbtree', colsample_bylevel=1,\n",
            "             colsample_bynode=1, colsample_bytree=1.0, gamma=0.9,\n",
            "             importance_type='gain', learning_rate=0.1, max_delta_step=0,\n",
            "             max_depth=3, min_child_weight=1, missing=None, n_estimators=150,\n",
            "             n_jobs=1, nthread=None, objective='reg:squarederror',\n",
            "             random_state=0, reg_alpha=0, reg_lambda=1, scale_pos_weight=1,\n",
            "             seed=None, silent=None, subsample=0.8, verbosity=1)\n"
          ],
          "name": "stdout"
        }
      ]
    },
    {
      "cell_type": "markdown",
      "metadata": {
        "id": "GalS5I3ONby4"
      },
      "source": [
        "## RNN\n"
      ]
    },
    {
      "cell_type": "code",
      "metadata": {
        "id": "SPgYUZJaNbUv"
      },
      "source": [
        "import tensorflow as tf\n",
        "from tensorflow import keras\n",
        "from tensorflow.keras import layers"
      ],
      "execution_count": null,
      "outputs": []
    },
    {
      "cell_type": "code",
      "metadata": {
        "id": "armg3waaOQor"
      },
      "source": [
        "train_dataset = X_train_basic_svm.copy()\n",
        "test_dataset = X_test_basic_svm.copy()"
      ],
      "execution_count": null,
      "outputs": []
    },
    {
      "cell_type": "code",
      "metadata": {
        "colab": {
          "base_uri": "https://localhost:8080/"
        },
        "id": "AqbL4z4jOaRE",
        "outputId": "2d7d3369-ed3a-43e5-b2d9-25e8d49ffe44"
      },
      "source": [
        "train_dataset.shape[1]"
      ],
      "execution_count": null,
      "outputs": [
        {
          "output_type": "execute_result",
          "data": {
            "text/plain": [
              "50"
            ]
          },
          "metadata": {
            "tags": []
          },
          "execution_count": 22
        }
      ]
    },
    {
      "cell_type": "code",
      "metadata": {
        "id": "oDy6FRLNNhEy"
      },
      "source": [
        "def build_model():\n",
        "  model = keras.Sequential([\n",
        "    layers.Dense(64, activation='relu', input_shape=[train_dataset.shape[1]]),\n",
        "    layers.Dense(64, activation='relu'),\n",
        "    layers.Dense(1)\n",
        "  ])\n",
        "\n",
        "  optimizer = tf.keras.optimizers.RMSprop(0.001)\n",
        "\n",
        "  model.compile(loss='mse',\n",
        "                optimizer=optimizer,\n",
        "                metrics=['mae', 'mse'])\n",
        "  return model"
      ],
      "execution_count": null,
      "outputs": []
    },
    {
      "cell_type": "code",
      "metadata": {
        "id": "8YaAGVwQN0kz"
      },
      "source": [
        "rnn_model = build_model()"
      ],
      "execution_count": null,
      "outputs": []
    },
    {
      "cell_type": "code",
      "metadata": {
        "colab": {
          "base_uri": "https://localhost:8080/"
        },
        "id": "0DRU7Z1XOj0f",
        "outputId": "4e9c93d2-cb6c-43c8-ba49-1cfd6775eda2"
      },
      "source": [
        "rnn_model.summary()"
      ],
      "execution_count": null,
      "outputs": [
        {
          "output_type": "stream",
          "text": [
            "Model: \"sequential_1\"\n",
            "_________________________________________________________________\n",
            "Layer (type)                 Output Shape              Param #   \n",
            "=================================================================\n",
            "dense_3 (Dense)              (None, 256)               13056     \n",
            "_________________________________________________________________\n",
            "dense_4 (Dense)              (None, 256)               65792     \n",
            "_________________________________________________________________\n",
            "dense_5 (Dense)              (None, 1)                 257       \n",
            "=================================================================\n",
            "Total params: 79,105\n",
            "Trainable params: 79,105\n",
            "Non-trainable params: 0\n",
            "_________________________________________________________________\n"
          ],
          "name": "stdout"
        }
      ]
    },
    {
      "cell_type": "code",
      "metadata": {
        "id": "HjmiDIDcPOSV"
      },
      "source": [
        "import matplotlib.pyplot as plt\n",
        "\n",
        "def plot_history(history):\n",
        "  hist = pd.DataFrame(history.history)\n",
        "  hist['epoch'] = history.epoch\n",
        "\n",
        "  plt.figure(figsize=(8,12))\n",
        "\n",
        "  plt.subplot(2,1,2)\n",
        "  plt.xlabel('Epoch')\n",
        "  plt.ylabel('Mean Square Error')\n",
        "  plt.plot(hist['epoch'], hist['mse'],\n",
        "           label='Train Error')\n",
        "  plt.plot(hist['epoch'], hist['val_mse'],\n",
        "           label = 'Val Error')\n",
        "  plt.ylim([0,20])\n",
        "  plt.legend()\n",
        "  plt.show()"
      ],
      "execution_count": null,
      "outputs": []
    },
    {
      "cell_type": "markdown",
      "metadata": {
        "id": "eySdgoPCQvAp"
      },
      "source": [
        "### early stopping 없이"
      ]
    },
    {
      "cell_type": "code",
      "metadata": {
        "colab": {
          "base_uri": "https://localhost:8080/",
          "height": 362
        },
        "id": "oz6jnEAkQg6s",
        "outputId": "c44de506-1e4e-4f96-a1fe-58125bc5cb65"
      },
      "source": [
        "EPOCHS = 300\n",
        "history = rnn_model.fit(\n",
        "  train_dataset, y_train,\n",
        "  epochs=EPOCHS, validation_split = 0.2, verbose=0)\n",
        "\n",
        "plot_history(history)"
      ],
      "execution_count": null,
      "outputs": [
        {
          "output_type": "display_data",
          "data": {
            "image/png": "[encoded data removed]",
            "text/plain": [
              "<Figure size 576x864 with 1 Axes>"
            ]
          },
          "metadata": {
            "tags": [],
            "needs_background": "light"
          }
        }
      ]
    },
    {
      "cell_type": "code",
      "metadata": {
        "colab": {
          "base_uri": "https://localhost:8080/",
          "height": 204
        },
        "id": "gf_heOwcQ-KG",
        "outputId": "5acb2ed9-55c8-431c-cca4-7d42a4ea64f0"
      },
      "source": [
        "hist = pd.DataFrame(history.history)\n",
        "hist['epoch'] = history.epoch\n",
        "hist.tail()"
      ],
      "execution_count": null,
      "outputs": [
        {
          "output_type": "execute_result",
          "data": {
            "text/html": [
              "<div>\n",
              "<style scoped>\n",
              "    .dataframe tbody tr th:only-of-type {\n",
              "        vertical-align: middle;\n",
              "    }\n",
              "\n",
              "    .dataframe tbody tr th {\n",
              "        vertical-align: top;\n",
              "    }\n",
              "\n",
              "    .dataframe thead th {\n",
              "        text-align: right;\n",
              "    }\n",
              "</style>\n",
              "<table border=\"1\" class=\"dataframe\">\n",
              "  <thead>\n",
              "    <tr style=\"text-align: right;\">\n",
              "      <th></th>\n",
              "      <th>loss</th>\n",
              "      <th>mae</th>\n",
              "      <th>mse</th>\n",
              "      <th>val_loss</th>\n",
              "      <th>val_mae</th>\n",
              "      <th>val_mse</th>\n",
              "      <th>epoch</th>\n",
              "    </tr>\n",
              "  </thead>\n",
              "  <tbody>\n",
              "    <tr>\n",
              "      <th>295</th>\n",
              "      <td>0.768508</td>\n",
              "      <td>0.738670</td>\n",
              "      <td>0.768508</td>\n",
              "      <td>729.434998</td>\n",
              "      <td>24.149920</td>\n",
              "      <td>729.434998</td>\n",
              "      <td>295</td>\n",
              "    </tr>\n",
              "    <tr>\n",
              "      <th>296</th>\n",
              "      <td>1.283869</td>\n",
              "      <td>0.993639</td>\n",
              "      <td>1.283869</td>\n",
              "      <td>699.307495</td>\n",
              "      <td>23.773014</td>\n",
              "      <td>699.307495</td>\n",
              "      <td>296</td>\n",
              "    </tr>\n",
              "    <tr>\n",
              "      <th>297</th>\n",
              "      <td>0.872563</td>\n",
              "      <td>0.838373</td>\n",
              "      <td>0.872563</td>\n",
              "      <td>699.288330</td>\n",
              "      <td>23.806770</td>\n",
              "      <td>699.288330</td>\n",
              "      <td>297</td>\n",
              "    </tr>\n",
              "    <tr>\n",
              "      <th>298</th>\n",
              "      <td>1.370244</td>\n",
              "      <td>1.010108</td>\n",
              "      <td>1.370244</td>\n",
              "      <td>685.816101</td>\n",
              "      <td>23.555067</td>\n",
              "      <td>685.816101</td>\n",
              "      <td>298</td>\n",
              "    </tr>\n",
              "    <tr>\n",
              "      <th>299</th>\n",
              "      <td>1.181740</td>\n",
              "      <td>0.858654</td>\n",
              "      <td>1.181740</td>\n",
              "      <td>725.916260</td>\n",
              "      <td>24.172974</td>\n",
              "      <td>725.916260</td>\n",
              "      <td>299</td>\n",
              "    </tr>\n",
              "  </tbody>\n",
              "</table>\n",
              "</div>"
            ],
            "text/plain": [
              "         loss       mae       mse    val_loss    val_mae     val_mse  epoch\n",
              "295  0.768508  0.738670  0.768508  729.434998  24.149920  729.434998    295\n",
              "296  1.283869  0.993639  1.283869  699.307495  23.773014  699.307495    296\n",
              "297  0.872563  0.838373  0.872563  699.288330  23.806770  699.288330    297\n",
              "298  1.370244  1.010108  1.370244  685.816101  23.555067  685.816101    298\n",
              "299  1.181740  0.858654  1.181740  725.916260  24.172974  725.916260    299"
            ]
          },
          "metadata": {
            "tags": []
          },
          "execution_count": 65
        }
      ]
    },
    {
      "cell_type": "code",
      "metadata": {
        "colab": {
          "base_uri": "https://localhost:8080/",
          "height": 362
        },
        "id": "yL8Xo4GpPkPw",
        "outputId": "be32bb29-5008-4051-dbe6-0d5237c0f3c2"
      },
      "source": [
        "# patience 매개변수는 성능 향상을 체크할 에포크 횟수입니다\n",
        "early_stop = keras.callbacks.EarlyStopping(monitor='val_loss', patience=10)\n",
        "\n",
        "EPOCHS = 1000\n",
        "history = rnn_model.fit(train_dataset, y_train, epochs=EPOCHS,\n",
        "                    validation_split = 0.2, verbose=0, callbacks=[early_stop])\n",
        "\n",
        "plot_history(history)"
      ],
      "execution_count": null,
      "outputs": [
        {
          "output_type": "display_data",
          "data": {
            "image/png": "[encoded data removed]",
            "text/plain": [
              "<Figure size 576x864 with 1 Axes>"
            ]
          },
          "metadata": {
            "tags": [],
            "needs_background": "light"
          }
        }
      ]
    },
    {
      "cell_type": "code",
      "metadata": {
        "colab": {
          "base_uri": "https://localhost:8080/"
        },
        "id": "2Msd45Lcxvup",
        "outputId": "afea5e04-2884-4c30-ff55-e8189d0c0213"
      },
      "source": [
        "np.asarray(y_test)"
      ],
      "execution_count": null,
      "outputs": [
        {
          "output_type": "execute_result",
          "data": {
            "text/plain": [
              "array([101.2, 102.6, 102.9, 102.2, 101.5, 101. , 100.6,  99.9,  99.6,\n",
              "        99.5,  99.8, 100.2, 100.5, 100.9, 101.4, 102.3, 103.3, 104. ,\n",
              "       105.4, 106.3, 106.3, 107.1, 109.2, 111.6, 113.1, 114. , 115.6,\n",
              "       118.3, 121.4, 124.9])"
            ]
          },
          "metadata": {
            "tags": []
          },
          "execution_count": 79
        }
      ]
    },
    {
      "cell_type": "code",
      "metadata": {
        "colab": {
          "base_uri": "https://localhost:8080/"
        },
        "id": "9dPc4SsCP7E2",
        "outputId": "95f7e953-d436-470f-923c-90e123640d77"
      },
      "source": [
        "## Test set\n",
        "loss, mae, mse = rnn_model.evaluate(test_dataset,np.asarray(y_test) , verbose=2)"
      ],
      "execution_count": null,
      "outputs": [
        {
          "output_type": "stream",
          "text": [
            "1/1 - 0s - loss: 575.3708 - mae: 19.1989 - mse: 575.3708\n"
          ],
          "name": "stdout"
        }
      ]
    },
    {
      "cell_type": "code",
      "metadata": {
        "id": "hfJ-2Adnw7p9"
      },
      "source": [
        "y_pred = rnn_model.predict(test_dataset)"
      ],
      "execution_count": null,
      "outputs": []
    },
    {
      "cell_type": "code",
      "metadata": {
        "colab": {
          "base_uri": "https://localhost:8080/"
        },
        "id": "QaEB_Lh4w_mN",
        "outputId": "a2882e3c-af97-46a2-faef-d5756e802381"
      },
      "source": [
        "y_pred"
      ],
      "execution_count": null,
      "outputs": [
        {
          "output_type": "execute_result",
          "data": {
            "text/plain": [
              "array([[ 76.82138 ],\n",
              "       [ 58.83895 ],\n",
              "       [ 62.555584],\n",
              "       [ 44.36261 ],\n",
              "       [ 66.18999 ],\n",
              "       [ 61.174526],\n",
              "       [ 78.43907 ],\n",
              "       [ 84.2825  ],\n",
              "       [ 76.129265],\n",
              "       [ 90.08513 ],\n",
              "       [110.34833 ],\n",
              "       [ 87.86975 ],\n",
              "       [ 88.03537 ],\n",
              "       [ 91.430244],\n",
              "       [ 85.27878 ],\n",
              "       [ 80.74272 ],\n",
              "       [133.36497 ],\n",
              "       [125.40589 ],\n",
              "       [ 84.65138 ],\n",
              "       [115.194336],\n",
              "       [107.11536 ],\n",
              "       [134.4985  ],\n",
              "       [115.91319 ],\n",
              "       [117.74364 ],\n",
              "       [112.25927 ],\n",
              "       [112.956085],\n",
              "       [111.249344],\n",
              "       [155.68098 ],\n",
              "       [122.33124 ],\n",
              "       [110.27871 ]], dtype=float32)"
            ]
          },
          "metadata": {
            "tags": []
          },
          "execution_count": 82
        }
      ]
    },
    {
      "cell_type": "code",
      "metadata": {
        "colab": {
          "base_uri": "https://localhost:8080/",
          "height": 500
        },
        "id": "vumWW26KxBo9",
        "outputId": "1a5a0517-abe6-4851-b000-b55585a334a9"
      },
      "source": [
        "plt.figure(figsize=(16,8))\n",
        "plt.plot(y_pred)\n",
        "plt.plot(list(y_test))\n",
        "plt.legend(['y_pred', 'y_test'])"
      ],
      "execution_count": null,
      "outputs": [
        {
          "output_type": "execute_result",
          "data": {
            "text/plain": [
              "<matplotlib.legend.Legend at 0x7f034d41edd0>"
            ]
          },
          "metadata": {
            "tags": []
          },
          "execution_count": 83
        },
        {
          "output_type": "display_data",
          "data": {
            "image/png": "[encoded data removed]",
            "text/plain": [
              "<Figure size 1152x576 with 1 Axes>"
            ]
          },
          "metadata": {
            "tags": [],
            "needs_background": "light"
          }
        }
      ]
    }
  ]
}