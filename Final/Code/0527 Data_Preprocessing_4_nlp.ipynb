{
  "nbformat": 4,
  "nbformat_minor": 0,
  "metadata": {
    "colab": {
      "name": "0527 Data Preprocessing 4 nlp",
      "provenance": [],
      "collapsed_sections": []
    },
    "kernelspec": {
      "display_name": "Python 3",
      "name": "python3"
    },
    "language_info": {
      "name": "python"
    },
    "accelerator": "TPU"
  },
  "cells": [
    {
      "cell_type": "code",
      "metadata": {
        "id": "GmyHdHDdIgJg"
      },
      "source": [
        "from google.colab import drive"
      ],
      "execution_count": null,
      "outputs": []
    },
    {
      "cell_type": "code",
      "metadata": {
        "colab": {
          "base_uri": "https://localhost:8080/"
        },
        "id": "BFu3c7atJdy5",
        "outputId": "bd54dce9-5535-4633-c356-8470ca785899"
      },
      "source": [
        "drive.mount('/content/drive/')"
      ],
      "execution_count": null,
      "outputs": [
        {
          "output_type": "stream",
          "text": [
            "Mounted at /content/drive/\n"
          ],
          "name": "stdout"
        }
      ]
    },
    {
      "cell_type": "code",
      "metadata": {
        "id": "DiKqCa1UJ9oz"
      },
      "source": [
        "import pandas as pd"
      ],
      "execution_count": null,
      "outputs": []
    },
    {
      "cell_type": "code",
      "metadata": {
        "id": "S4G6vqe2KA-m"
      },
      "source": [
        "raw_df = pd.read_csv('/content/drive/MyDrive/cjs/0429naver_real_estate_noun_verb_adjective.csv')"
      ],
      "execution_count": null,
      "outputs": []
    },
    {
      "cell_type": "markdown",
      "metadata": {
        "id": "LKzbdJdcKDAv"
      },
      "source": [
        "https://velog.io/@dltjrdud37/한국어-토큰화by-konlpy-단어임베딩Word2Vec"
      ]
    },
    {
      "cell_type": "code",
      "metadata": {
        "id": "FngRoqBM6GYE"
      },
      "source": [
        "raw_df.drop('Unnamed: 0', axis = 1, inplace = True)"
      ],
      "execution_count": null,
      "outputs": []
    },
    {
      "cell_type": "code",
      "metadata": {
        "id": "hn4PUOhJKukH"
      },
      "source": [
        "df = raw_df.copy()"
      ],
      "execution_count": null,
      "outputs": []
    },
    {
      "cell_type": "code",
      "metadata": {
        "colab": {
          "base_uri": "https://localhost:8080/",
          "height": 447
        },
        "id": "X3QW4vO3kbgu",
        "outputId": "796d0557-b337-4837-891f-c2ff4d3aa51b"
      },
      "source": [
        "df.head()"
      ],
      "execution_count": null,
      "outputs": [
        {
          "output_type": "execute_result",
          "data": {
            "text/html": [
              "<div>\n",
              "<style scoped>\n",
              "    .dataframe tbody tr th:only-of-type {\n",
              "        vertical-align: middle;\n",
              "    }\n",
              "\n",
              "    .dataframe tbody tr th {\n",
              "        vertical-align: top;\n",
              "    }\n",
              "\n",
              "    .dataframe thead th {\n",
              "        text-align: right;\n",
              "    }\n",
              "</style>\n",
              "<table border=\"1\" class=\"dataframe\">\n",
              "  <thead>\n",
              "    <tr style=\"text-align: right;\">\n",
              "      <th></th>\n",
              "      <th>month</th>\n",
              "      <th>title</th>\n",
              "      <th>text</th>\n",
              "      <th>token</th>\n",
              "      <th>new_token</th>\n",
              "      <th>hangul</th>\n",
              "    </tr>\n",
              "  </thead>\n",
              "  <tbody>\n",
              "    <tr>\n",
              "      <th>0</th>\n",
              "      <td>201101</td>\n",
              "      <td>소득 안늘고 집값은 비싸 “뾰족수 없네”,전세대란에 서민들 눈앞이 깜깜한데…'전세금...</td>\n",
              "      <td>[한겨레] [2011년 경제 전망] 부동산시장 침체 벗어날까\\n\\n부양정책 펴도 반...</td>\n",
              "      <td>['한겨레/Noun', '경제/Noun', '전망/Noun', '부동산/Noun',...</td>\n",
              "      <td>한겨레/Noun 경제/Noun 전망/Noun 부동산/Noun 시장/Noun 침체/N...</td>\n",
              "      <td>한겨레 경제 전망 부동산 시장 침체 벗어나다 부양 정책 펴다 반짝 경기 가능성 셋값...</td>\n",
              "    </tr>\n",
              "    <tr>\n",
              "      <th>1</th>\n",
              "      <td>201102</td>\n",
              "      <td>미분양 아파트 61% 중대형,전세가 고공행진에 지방 아파트 매매가도 `꿈틀`,미분양...</td>\n",
              "      <td>전국 미분양 아파트가 감소하는 추세지만 전용면적 85㎡를 초과 하는 중대형 비중은 ...</td>\n",
              "      <td>['전국/Noun', '미분/Noun', '아파트/Noun', '감소/Noun', ...</td>\n",
              "      <td>전국/Noun 미분/Noun 아파트/Noun 감소/Noun 하다/Verb 추세/No...</td>\n",
              "      <td>전국 미분 아파트 감소 하다 추세 전용 면적 를 초과 하다 중대 비중 오히려 커지다...</td>\n",
              "    </tr>\n",
              "    <tr>\n",
              "      <th>2</th>\n",
              "      <td>201103</td>\n",
              "      <td>양도세 비과세, 왜 판교만? 일산댁ㆍ분당댁 뿔났다!,고가주택 팔면 일반주택의 13배...</td>\n",
              "      <td>판교는 3.3㎡ 2600만원 이상으로 서울(1800만원 선)보다 집값이 더 비싸다....</td>\n",
              "      <td>['판교/Noun', '이상/Noun', '서울/Noun', '선/Noun', '보...</td>\n",
              "      <td>판교/Noun 이상/Noun 서울/Noun 선/Noun 보다/Verb 집값/Noun...</td>\n",
              "      <td>판교 이상 서울 선 보다 집값 더 비싸다 판교 거주 요건 채우다 않다 보유 하다 양...</td>\n",
              "    </tr>\n",
              "    <tr>\n",
              "      <th>3</th>\n",
              "      <td>201104</td>\n",
              "      <td>[고침]여전히 뜨거운 오피스텔 시장..'수익률' 높은 단지는?,지구지정 백지화…맥빠...</td>\n",
              "      <td>[아시아경제 문소정 기자] (3월31일 16시17분 송고된 '여전히 뜨거운 오피스텔...</td>\n",
              "      <td>['아시아/Noun', '경제/Noun', '소정/Noun', '기자/Noun', ...</td>\n",
              "      <td>아시아/Noun 경제/Noun 소정/Noun 기자/Noun 송고된/Noun 여전하다...</td>\n",
              "      <td>아시아 경제 소정 기자 송고된 여전하다 뜨겁다 오피스텔 시장 수익률 높다 단지 기사...</td>\n",
              "    </tr>\n",
              "    <tr>\n",
              "      <th>4</th>\n",
              "      <td>201105</td>\n",
              "      <td>전세대란 속에 서울시는 '재개발 임대 전세금' 폭탄,서울아파트값 두달 연속↓…약세 ...</td>\n",
              "      <td>SH공사, '전세전환이율' 축소…가구당 평균 1000만 원 부담\\n\\n [프레시안 ...</td>\n",
              "      <td>['공사/Noun', '전세/Noun', '전환/Noun', '이율/Noun', '...</td>\n",
              "      <td>공사/Noun 전세/Noun 전환/Noun 이율/Noun 축소/Noun 가구/Nou...</td>\n",
              "      <td>공사 전세 전환 이율 축소 가구 평균 원 부담 프레 시안 허다 환주 기자 서울 하다...</td>\n",
              "    </tr>\n",
              "  </tbody>\n",
              "</table>\n",
              "</div>"
            ],
            "text/plain": [
              "    month  ...                                             hangul\n",
              "0  201101  ...  한겨레 경제 전망 부동산 시장 침체 벗어나다 부양 정책 펴다 반짝 경기 가능성 셋값...\n",
              "1  201102  ...  전국 미분 아파트 감소 하다 추세 전용 면적 를 초과 하다 중대 비중 오히려 커지다...\n",
              "2  201103  ...  판교 이상 서울 선 보다 집값 더 비싸다 판교 거주 요건 채우다 않다 보유 하다 양...\n",
              "3  201104  ...  아시아 경제 소정 기자 송고된 여전하다 뜨겁다 오피스텔 시장 수익률 높다 단지 기사...\n",
              "4  201105  ...  공사 전세 전환 이율 축소 가구 평균 원 부담 프레 시안 허다 환주 기자 서울 하다...\n",
              "\n",
              "[5 rows x 6 columns]"
            ]
          },
          "metadata": {
            "tags": []
          },
          "execution_count": 9
        }
      ]
    },
    {
      "cell_type": "code",
      "metadata": {
        "id": "avWH9HFRlYzq"
      },
      "source": [
        "temp = pd.read_csv('/content/drive/MyDrive/cjs/분석용데이터_utf_spi수정완료.csv')"
      ],
      "execution_count": null,
      "outputs": []
    },
    {
      "cell_type": "code",
      "metadata": {
        "id": "K-wsHUgTlfPm"
      },
      "source": [
        "df['spi'] = temp.spi"
      ],
      "execution_count": null,
      "outputs": []
    },
    {
      "cell_type": "code",
      "metadata": {
        "id": "-njXOB3zllQg"
      },
      "source": [
        "df['next_spi'] = df['spi'].shift(-1)"
      ],
      "execution_count": null,
      "outputs": []
    },
    {
      "cell_type": "code",
      "metadata": {
        "id": "npADsLY4l0zS"
      },
      "source": [
        "df.loc[119,'next_spi'] = 125.4"
      ],
      "execution_count": null,
      "outputs": []
    },
    {
      "cell_type": "code",
      "metadata": {
        "id": "tOyCQ0qgmTOS"
      },
      "source": [
        "df['spi_diff'] = df['next_spi'] - df['spi']"
      ],
      "execution_count": null,
      "outputs": []
    },
    {
      "cell_type": "code",
      "metadata": {
        "id": "fekewhfJmrWv"
      },
      "source": [
        "# (n+1)월 spi - n월 spi 값이 0 미만이면 0(하방), 0 이상이면 1\n",
        "df['up_down'] = df['spi_diff'].apply(lambda x: 0 if x < 0 else 1)\n",
        "\n",
        "# 메모: 나중에 혹시라도 (n+1)월 spi - n월 spi 값이 0 이하면 0(하방), 0 초과면 1로 해보기"
      ],
      "execution_count": null,
      "outputs": []
    },
    {
      "cell_type": "code",
      "metadata": {
        "colab": {
          "base_uri": "https://localhost:8080/"
        },
        "id": "bPsI5zc4nLJd",
        "outputId": "70c372c5-64e5-45b0-f6c9-f1e59352f996"
      },
      "source": [
        "df.up_down.value_counts()"
      ],
      "execution_count": null,
      "outputs": [
        {
          "output_type": "execute_result",
          "data": {
            "text/plain": [
              "1    88\n",
              "0    32\n",
              "Name: up_down, dtype: int64"
            ]
          },
          "metadata": {
            "tags": []
          },
          "execution_count": 32
        }
      ]
    },
    {
      "cell_type": "code",
      "metadata": {
        "id": "NxgCUN7Dnf1m"
      },
      "source": [
        "# 사용된 spi 지수 관련 변수 버리기\n",
        "df.drop(columns = ['spi','next_spi','spi_diff'],axis=1,inplace = True)"
      ],
      "execution_count": null,
      "outputs": []
    },
    {
      "cell_type": "code",
      "metadata": {
        "id": "1E1ZNtZpplAx"
      },
      "source": [
        "# 데이터 프레임 저장\n",
        "df.to_csv('0527 df_for_nlp.csv', encoding = 'utf-8-sig')"
      ],
      "execution_count": null,
      "outputs": []
    }
  ]
}