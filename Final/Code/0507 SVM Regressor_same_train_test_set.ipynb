{
 "cells": [
  {
   "cell_type": "code",
   "execution_count": 1,
   "metadata": {
    "ExecuteTime": {
     "end_time": "2021-05-07T14:32:18.836088Z",
     "start_time": "2021-05-07T14:32:17.057630Z"
    }
   },
   "outputs": [],
   "source": [
    "from sklearn.svm import SVR\n",
    "from sklearn.ensemble import RandomForestRegressor\n",
    "from sklearn.preprocessing import StandardScaler\n",
    "import pandas as pd\n",
    "from sklearn.metrics import mean_squared_error\n",
    "from sklearn.model_selection import train_test_split"
   ]
  },
  {
   "cell_type": "markdown",
   "metadata": {},
   "source": [
    "# 데이터 불러오기"
   ]
  },
  {
   "cell_type": "code",
   "execution_count": 2,
   "metadata": {
    "ExecuteTime": {
     "end_time": "2021-05-07T14:32:20.203680Z",
     "start_time": "2021-05-07T14:32:20.185283Z"
    },
    "code_folding": []
   },
   "outputs": [],
   "source": [
    "train = pd.read_csv('0507_trainset_for_shuffle.csv')\n",
    "test = pd.read_csv('0507_testset_for_shuffle.csv')"
   ]
  },
  {
   "cell_type": "code",
   "execution_count": 5,
   "metadata": {
    "ExecuteTime": {
     "end_time": "2021-05-07T14:32:47.769931Z",
     "start_time": "2021-05-07T14:32:47.751941Z"
    }
   },
   "outputs": [],
   "source": [
    "train.set_index('Date',inplace= True)\n",
    "test.set_index('Date',inplace = True)"
   ]
  },
  {
   "cell_type": "markdown",
   "metadata": {},
   "source": [
    "# 전처리 및 Train/Test Set 분할"
   ]
  },
  {
   "cell_type": "code",
   "execution_count": 7,
   "metadata": {
    "ExecuteTime": {
     "end_time": "2021-05-07T14:33:08.622439Z",
     "start_time": "2021-05-07T14:33:08.606450Z"
    }
   },
   "outputs": [],
   "source": [
    "X_train = train.copy()\n",
    "y_train = X_train.pop('next_spi')\n",
    "\n",
    "X_test = test.copy()\n",
    "y_test = X_test.pop('next_spi')"
   ]
  },
  {
   "cell_type": "code",
   "execution_count": 8,
   "metadata": {
    "ExecuteTime": {
     "end_time": "2021-05-07T14:33:10.884475Z",
     "start_time": "2021-05-07T14:33:10.876479Z"
    }
   },
   "outputs": [
    {
     "data": {
      "text/plain": [
       "Index(['시언감성점수', 'M2', 'comp basemoney rate', 'base rate',\n",
       "       'consumer price index', 'kospi close', 'ex-rate close', '효준감성점수',\n",
       "       '시언서술포함감성점수', '주택', '아파트', '분양', '서울', '가구', '부동산', '단지', '시장'],\n",
       "      dtype='object')"
      ]
     },
     "execution_count": 8,
     "metadata": {},
     "output_type": "execute_result"
    }
   ],
   "source": [
    "X_train.columns"
   ]
  },
  {
   "cell_type": "markdown",
   "metadata": {
    "ExecuteTime": {
     "end_time": "2021-05-07T14:33:41.851460Z",
     "start_time": "2021-05-07T14:33:41.839467Z"
    }
   },
   "source": [
    "tf_idf_words = ['주택', '아파트', '분양', '서울', '가구', '부동산', '단지', '시장']"
   ]
  },
  {
   "cell_type": "markdown",
   "metadata": {},
   "source": [
    "# 거시경제변수만 포함된 Case"
   ]
  },
  {
   "cell_type": "code",
   "execution_count": 13,
   "metadata": {
    "ExecuteTime": {
     "end_time": "2021-05-07T14:35:12.420222Z",
     "start_time": "2021-05-07T14:35:12.401259Z"
    }
   },
   "outputs": [],
   "source": [
    "# 거시경제변수만 포함된 X 만들기\n",
    "X_train_basic = X_train.drop(['시언감성점수','효준감성점수','시언서술포함감성점수','주택', '아파트', '분양', '서울', '가구', '부동산', '단지', '시장'], axis = 1)\n",
    "X_test_basic = X_test.drop(['시언감성점수','효준감성점수','시언서술포함감성점수','주택', '아파트', '분양', '서울', '가구', '부동산', '단지', '시장'], axis = 1)"
   ]
  },
  {
   "cell_type": "code",
   "execution_count": 14,
   "metadata": {
    "ExecuteTime": {
     "end_time": "2021-05-07T14:35:14.042759Z",
     "start_time": "2021-05-07T14:35:14.020821Z"
    }
   },
   "outputs": [],
   "source": [
    "# SVM 인풋 데이터 스케일링\n",
    "sc = StandardScaler()\n",
    "X_train_basic_svm = sc.fit_transform(X_train_basic)\n",
    "X_test_basic_svm = sc.transform(X_test_basic)"
   ]
  },
  {
   "cell_type": "code",
   "execution_count": 17,
   "metadata": {
    "ExecuteTime": {
     "end_time": "2021-05-07T14:38:40.877597Z",
     "start_time": "2021-05-07T14:36:06.407806Z"
    }
   },
   "outputs": [
    {
     "data": {
      "text/plain": [
       "GridSearchCV(cv=5, estimator=SVR(),\n",
       "             param_grid={'C': [0.1, 1, 10, 100, 1000],\n",
       "                         'gamma': [1, 0.1, 0.01, 0.001, 0.0001],\n",
       "                         'kernel': ['linear', 'poly', 'rbf', 'sigmoid']},\n",
       "             refit='mse')"
      ]
     },
     "execution_count": 17,
     "metadata": {},
     "output_type": "execute_result"
    }
   ],
   "source": [
    "from sklearn.model_selection import GridSearchCV\n",
    "\n",
    "# defining parameter range\n",
    "param_grid_svm = {'C': [0.1, 1, 10, 100, 1000], \n",
    "              'gamma': [1, 0.1, 0.01, 0.001, 0.0001],\n",
    "              'kernel': ['linear','poly','rbf','sigmoid']} \n",
    "  \n",
    "grid_svm = GridSearchCV(SVR(), param_grid_svm, refit = 'mse', verbose = 0, cv = 5)\n",
    "\n",
    "# fitting the model for grid search\n",
    "grid_svm.fit(X_train_basic_svm, y_train)"
   ]
  },
  {
   "cell_type": "code",
   "execution_count": 18,
   "metadata": {
    "ExecuteTime": {
     "end_time": "2021-05-07T14:38:41.191069Z",
     "start_time": "2021-05-07T14:38:41.177106Z"
    }
   },
   "outputs": [
    {
     "name": "stdout",
     "output_type": "stream",
     "text": [
      "1.002343061216197\n",
      "{'C': 1000, 'gamma': 0.01, 'kernel': 'rbf'}\n",
      "SVR(C=1000, gamma=0.01)\n"
     ]
    }
   ],
   "source": [
    "y_pred = grid_svm.predict(X_test_basic_svm)\n",
    "RMSE = mean_squared_error(y_test, y_pred)**0.5\n",
    "\n",
    "# RMSE 출력\n",
    "print(RMSE)\n",
    "\n",
    "# print best parameter after tuning\n",
    "print(grid_svm.best_params_)\n",
    "  \n",
    "# print how our model looks after hyper-parameter tuning\n",
    "print(grid_svm.best_estimator_)"
   ]
  },
  {
   "cell_type": "code",
   "execution_count": 23,
   "metadata": {
    "ExecuteTime": {
     "end_time": "2021-05-07T14:39:45.633109Z",
     "start_time": "2021-05-07T14:39:45.623134Z"
    }
   },
   "outputs": [],
   "source": [
    "del param_grid_svm, grid_svm, RMSE, y_pred"
   ]
  },
  {
   "cell_type": "markdown",
   "metadata": {},
   "source": [
    "# 시언 감성 점수 Case"
   ]
  },
  {
   "cell_type": "markdown",
   "metadata": {},
   "source": [
    "## 시언 감성 점수 데이터 전처리"
   ]
  },
  {
   "cell_type": "code",
   "execution_count": 24,
   "metadata": {
    "ExecuteTime": {
     "end_time": "2021-05-07T14:39:49.067269Z",
     "start_time": "2021-05-07T14:39:49.049290Z"
    }
   },
   "outputs": [],
   "source": [
    "# 시언 감성 점수 (명사만 이용) 포함 X 만들기\n",
    "X_train_si = X_train.drop(['효준감성점수','시언서술포함감성점수','주택', '아파트', '분양', '서울', '가구', '부동산', '단지', '시장'],axis = 1)\n",
    "X_test_si = X_test.drop(['효준감성점수','시언서술포함감성점수','주택', '아파트', '분양', '서울', '가구', '부동산', '단지', '시장'],axis = 1)"
   ]
  },
  {
   "cell_type": "code",
   "execution_count": 25,
   "metadata": {
    "ExecuteTime": {
     "end_time": "2021-05-07T14:39:49.424245Z",
     "start_time": "2021-05-07T14:39:49.405266Z"
    }
   },
   "outputs": [],
   "source": [
    "X_train_si_verb = X_train.drop(['시언감성점수','효준감성점수','주택', '아파트', '분양', '서울', '가구', '부동산', '단지', '시장'],axis = 1)\n",
    "X_test_si_verb = X_test.drop(['시언감성점수','효준감성점수','주택', '아파트', '분양', '서울', '가구', '부동산', '단지', '시장'],axis = 1)"
   ]
  },
  {
   "cell_type": "code",
   "execution_count": 28,
   "metadata": {
    "ExecuteTime": {
     "end_time": "2021-05-07T14:40:19.333941Z",
     "start_time": "2021-05-07T14:40:19.306015Z"
    }
   },
   "outputs": [],
   "source": [
    "# SVM용 인풋 데이터 스케일링\n",
    "sc = StandardScaler()\n",
    "\n",
    "# 시언 감성 점수 (명사만 이용) => 표준화 \n",
    "X_train_si_svm = sc.fit_transform(X_train_si)\n",
    "X_test_si_svm = sc.transform(X_test_si)\n",
    "\n",
    "# 시언 감성 점수 (서술어 포함) => 표준화\n",
    "X_train_si_verb_svm = sc.fit_transform(X_train_si_verb)\n",
    "X_test_si_verb_svm = sc.transform(X_test_si_verb)"
   ]
  },
  {
   "cell_type": "markdown",
   "metadata": {},
   "source": [
    "## (시언 감성 점수 (명사)) 이용 SVR 수립 및 평가"
   ]
  },
  {
   "cell_type": "code",
   "execution_count": 29,
   "metadata": {
    "ExecuteTime": {
     "end_time": "2021-05-07T14:40:51.288173Z",
     "start_time": "2021-05-07T14:40:25.877186Z"
    }
   },
   "outputs": [
    {
     "data": {
      "text/plain": [
       "GridSearchCV(cv=5, estimator=SVR(),\n",
       "             param_grid={'C': [0.1, 1, 10, 100, 1000],\n",
       "                         'gamma': [1, 0.1, 0.01, 0.001, 0.0001],\n",
       "                         'kernel': ['linear', 'poly', 'rbf', 'sigmoid']},\n",
       "             refit='mse')"
      ]
     },
     "execution_count": 29,
     "metadata": {},
     "output_type": "execute_result"
    }
   ],
   "source": [
    "# defining parameter range\n",
    "param_grid_svm = {'C': [0.1, 1, 10, 100, 1000], \n",
    "              'gamma': [1, 0.1, 0.01, 0.001, 0.0001],\n",
    "              'kernel': ['linear','poly','rbf','sigmoid']} \n",
    "  \n",
    "grid_svm = GridSearchCV(SVR(), param_grid_svm, refit = 'mse', verbose = 0, cv = 5)\n",
    "\n",
    "# fitting the model for grid search\n",
    "grid_svm.fit(X_train_si_svm, y_train)"
   ]
  },
  {
   "cell_type": "code",
   "execution_count": 30,
   "metadata": {
    "ExecuteTime": {
     "end_time": "2021-05-07T14:40:51.692622Z",
     "start_time": "2021-05-07T14:40:51.679664Z"
    }
   },
   "outputs": [
    {
     "name": "stdout",
     "output_type": "stream",
     "text": [
      "0.9512734164525404\n",
      "{'C': 1000, 'gamma': 0.01, 'kernel': 'rbf'}\n",
      "SVR(C=1000, gamma=0.01)\n"
     ]
    }
   ],
   "source": [
    "y_pred = grid_svm.predict(X_test_si_svm)\n",
    "RMSE = mean_squared_error(y_test, y_pred)**0.5\n",
    "\n",
    "# RMSE 출력\n",
    "print(RMSE)\n",
    "\n",
    "# print best parameter after tuning\n",
    "print(grid_svm.best_params_)\n",
    "  \n",
    "# print how our model looks after hyper-parameter tuning\n",
    "print(grid_svm.best_estimator_)"
   ]
  },
  {
   "cell_type": "code",
   "execution_count": 31,
   "metadata": {
    "ExecuteTime": {
     "end_time": "2021-05-07T14:40:52.050789Z",
     "start_time": "2021-05-07T14:40:52.038672Z"
    }
   },
   "outputs": [],
   "source": [
    "del param_grid_svm, grid_svm, RMSE, y_pred"
   ]
  },
  {
   "cell_type": "markdown",
   "metadata": {},
   "source": [
    "## (시언 감성 점수 (서술어 포함)) 이용 SVR 수립 및 평가"
   ]
  },
  {
   "cell_type": "code",
   "execution_count": 32,
   "metadata": {
    "ExecuteTime": {
     "end_time": "2021-05-07T14:41:24.186818Z",
     "start_time": "2021-05-07T14:40:52.413285Z"
    }
   },
   "outputs": [
    {
     "data": {
      "text/plain": [
       "GridSearchCV(cv=5, estimator=SVR(),\n",
       "             param_grid={'C': [0.1, 1, 10, 100, 1000],\n",
       "                         'gamma': [1, 0.1, 0.01, 0.001, 0.0001],\n",
       "                         'kernel': ['linear', 'poly', 'rbf', 'sigmoid']},\n",
       "             refit='mse')"
      ]
     },
     "execution_count": 32,
     "metadata": {},
     "output_type": "execute_result"
    }
   ],
   "source": [
    "# defining parameter range\n",
    "param_grid_svm = {'C': [0.1, 1, 10, 100, 1000], \n",
    "              'gamma': [1, 0.1, 0.01, 0.001, 0.0001],\n",
    "              'kernel': ['linear','poly','rbf','sigmoid']} \n",
    "  \n",
    "grid_svm = GridSearchCV(SVR(), param_grid_svm, refit = 'mse', verbose = 0, cv = 5)\n",
    "\n",
    "# fitting the model for grid search\n",
    "grid_svm.fit(X_train_si_verb_svm, y_train)"
   ]
  },
  {
   "cell_type": "code",
   "execution_count": 33,
   "metadata": {
    "ExecuteTime": {
     "end_time": "2021-05-07T14:41:24.546985Z",
     "start_time": "2021-05-07T14:41:24.534024Z"
    }
   },
   "outputs": [
    {
     "name": "stdout",
     "output_type": "stream",
     "text": [
      "7.222971492746435\n",
      "{'C': 1000, 'gamma': 0.01, 'kernel': 'rbf'}\n",
      "SVR(C=1000, gamma=0.01)\n"
     ]
    }
   ],
   "source": [
    "y_pred = grid_svm.predict(X_test_si_svm)\n",
    "RMSE = mean_squared_error(y_test, y_pred)**0.5\n",
    "\n",
    "# RMSE 출력\n",
    "print(RMSE)\n",
    "\n",
    "# print best parameter after tuning\n",
    "print(grid_svm.best_params_)\n",
    "  \n",
    "# print how our model looks after hyper-parameter tuning\n",
    "print(grid_svm.best_estimator_)"
   ]
  },
  {
   "cell_type": "code",
   "execution_count": 34,
   "metadata": {
    "ExecuteTime": {
     "end_time": "2021-05-07T14:41:24.918049Z",
     "start_time": "2021-05-07T14:41:24.905059Z"
    }
   },
   "outputs": [],
   "source": [
    "del param_grid_svm, grid_svm, RMSE, y_pred"
   ]
  },
  {
   "cell_type": "markdown",
   "metadata": {},
   "source": [
    "# 효준 감성 점수(명사) Case"
   ]
  },
  {
   "cell_type": "markdown",
   "metadata": {},
   "source": [
    "## 효준 감성 점수 포함 성능"
   ]
  },
  {
   "cell_type": "code",
   "execution_count": 35,
   "metadata": {
    "ExecuteTime": {
     "end_time": "2021-05-07T14:41:25.263836Z",
     "start_time": "2021-05-07T14:41:25.249776Z"
    }
   },
   "outputs": [],
   "source": [
    "X_train_hj = X_train.drop(['시언감성점수','시언서술포함감성점수','주택', '아파트', '분양', '서울', '가구', '부동산', '단지', '시장'],axis = 1)\n",
    "X_test_hj = X_test.drop(['시언감성점수','시언서술포함감성점수','주택', '아파트', '분양', '서울', '가구', '부동산', '단지', '시장'],axis = 1)"
   ]
  },
  {
   "cell_type": "code",
   "execution_count": 36,
   "metadata": {
    "ExecuteTime": {
     "end_time": "2021-05-07T14:41:25.638180Z",
     "start_time": "2021-05-07T14:41:25.624938Z"
    }
   },
   "outputs": [],
   "source": [
    "sc = StandardScaler()\n",
    "X_train_hj = sc.fit_transform(X_train_hj)\n",
    "X_test_hj = sc.transform(X_test_hj)"
   ]
  },
  {
   "cell_type": "code",
   "execution_count": 37,
   "metadata": {
    "ExecuteTime": {
     "end_time": "2021-05-07T14:41:55.446100Z",
     "start_time": "2021-05-07T14:41:25.968079Z"
    }
   },
   "outputs": [
    {
     "data": {
      "text/plain": [
       "GridSearchCV(cv=5, estimator=SVR(),\n",
       "             param_grid={'C': [0.1, 1, 10, 100, 1000],\n",
       "                         'gamma': [1, 0.1, 0.01, 0.001, 0.0001],\n",
       "                         'kernel': ['linear', 'poly', 'rbf', 'sigmoid']},\n",
       "             refit='mse')"
      ]
     },
     "execution_count": 37,
     "metadata": {},
     "output_type": "execute_result"
    }
   ],
   "source": [
    "# defining parameter range\n",
    "param_grid_svm = {'C': [0.1, 1, 10, 100, 1000], \n",
    "              'gamma': [1, 0.1, 0.01, 0.001, 0.0001],\n",
    "              'kernel': ['linear','poly','rbf','sigmoid']} \n",
    "  \n",
    "grid_svm = GridSearchCV(SVR(), param_grid_svm, refit = 'mse', verbose = 0, cv = 5)\n",
    "\n",
    "# fitting the model for grid search\n",
    "grid_svm.fit(X_train_hj, y_train)"
   ]
  },
  {
   "cell_type": "code",
   "execution_count": 38,
   "metadata": {
    "ExecuteTime": {
     "end_time": "2021-05-07T14:41:55.877028Z",
     "start_time": "2021-05-07T14:41:55.864010Z"
    }
   },
   "outputs": [
    {
     "name": "stdout",
     "output_type": "stream",
     "text": [
      "1.013931719238197\n",
      "{'C': 1000, 'gamma': 0.01, 'kernel': 'rbf'}\n",
      "SVR(C=1000, gamma=0.01)\n"
     ]
    }
   ],
   "source": [
    "y_pred = grid_svm.predict(X_test_hj)\n",
    "RMSE = mean_squared_error(y_test, y_pred)**0.5\n",
    "\n",
    "# RMSE 출력\n",
    "print(RMSE)\n",
    "\n",
    "# print best parameter after tuning\n",
    "print(grid_svm.best_params_)\n",
    "  \n",
    "# print how our model looks after hyper-parameter tuning\n",
    "print(grid_svm.best_estimator_)"
   ]
  },
  {
   "cell_type": "code",
   "execution_count": 39,
   "metadata": {
    "ExecuteTime": {
     "end_time": "2021-05-07T14:41:56.296855Z",
     "start_time": "2021-05-07T14:41:56.282892Z"
    }
   },
   "outputs": [],
   "source": [
    "del param_grid_svm, grid_svm, RMSE, y_pred"
   ]
  },
  {
   "cell_type": "markdown",
   "metadata": {},
   "source": [
    "# TF-IDF 상위 8개 단어 빈도수 추가 Case"
   ]
  },
  {
   "cell_type": "code",
   "execution_count": 40,
   "metadata": {
    "ExecuteTime": {
     "end_time": "2021-05-07T14:41:56.685989Z",
     "start_time": "2021-05-07T14:41:56.673024Z"
    }
   },
   "outputs": [],
   "source": [
    "X_train_tf_idf = X_train.drop(columns = [], axis = 1)\n",
    "X_test_tf_idf = X_test.drop(columns = [], axis = 1)"
   ]
  },
  {
   "cell_type": "code",
   "execution_count": 41,
   "metadata": {
    "ExecuteTime": {
     "end_time": "2021-05-07T14:41:57.177421Z",
     "start_time": "2021-05-07T14:41:57.164455Z"
    }
   },
   "outputs": [],
   "source": [
    "sc = StandardScaler()\n",
    "X_train_tf_idf = sc.fit_transform(X_train_tf_idf)\n",
    "X_test_tf_idf = sc.transform(X_test_tf_idf)"
   ]
  },
  {
   "cell_type": "code",
   "execution_count": 42,
   "metadata": {
    "ExecuteTime": {
     "end_time": "2021-05-07T14:42:34.588616Z",
     "start_time": "2021-05-07T14:41:57.694247Z"
    }
   },
   "outputs": [
    {
     "data": {
      "text/plain": [
       "GridSearchCV(cv=5, estimator=SVR(),\n",
       "             param_grid={'C': [0.1, 1, 10, 100, 1000],\n",
       "                         'gamma': [1, 0.1, 0.01, 0.001, 0.0001],\n",
       "                         'kernel': ['linear', 'poly', 'rbf', 'sigmoid']},\n",
       "             refit='mse')"
      ]
     },
     "execution_count": 42,
     "metadata": {},
     "output_type": "execute_result"
    }
   ],
   "source": [
    "# defining parameter range\n",
    "param_grid_svm = {'C': [0.1, 1, 10, 100, 1000], \n",
    "              'gamma': [1, 0.1, 0.01, 0.001, 0.0001],\n",
    "              'kernel': ['linear','poly','rbf','sigmoid']} \n",
    "  \n",
    "grid_svm = GridSearchCV(SVR(), param_grid_svm, refit = 'mse', verbose = 0, cv = 5)\n",
    "\n",
    "# fitting the model for grid search\n",
    "grid_svm.fit(X_train_tf_idf, y_train)"
   ]
  },
  {
   "cell_type": "code",
   "execution_count": 43,
   "metadata": {
    "ExecuteTime": {
     "end_time": "2021-05-07T14:42:34.991801Z",
     "start_time": "2021-05-07T14:42:34.979833Z"
    }
   },
   "outputs": [
    {
     "name": "stdout",
     "output_type": "stream",
     "text": [
      "0.9135862161413001\n",
      "{'C': 1000, 'gamma': 0.01, 'kernel': 'rbf'}\n",
      "SVR(C=1000, gamma=0.01)\n"
     ]
    }
   ],
   "source": [
    "y_pred = grid_svm.predict(X_test_tf_idf)\n",
    "RMSE = mean_squared_error(y_test, y_pred)**0.5\n",
    "\n",
    "# RMSE 출력\n",
    "print(RMSE)\n",
    "\n",
    "# print best parameter after tuning\n",
    "print(grid_svm.best_params_)\n",
    "  \n",
    "# print how our model looks after hyper-parameter tuning\n",
    "print(grid_svm.best_estimator_)"
   ]
  },
  {
   "cell_type": "code",
   "execution_count": 44,
   "metadata": {
    "ExecuteTime": {
     "end_time": "2021-05-07T14:42:35.413096Z",
     "start_time": "2021-05-07T14:42:35.399195Z"
    }
   },
   "outputs": [],
   "source": [
    "del param_grid_svm, grid_svm, RMSE, y_pred"
   ]
  }
 ],
 "metadata": {
  "hide_input": false,
  "kernelspec": {
   "display_name": "Python 3",
   "language": "python",
   "name": "python3"
  },
  "language_info": {
   "codemirror_mode": {
    "name": "ipython",
    "version": 3
   },
   "file_extension": ".py",
   "mimetype": "text/x-python",
   "name": "python",
   "nbconvert_exporter": "python",
   "pygments_lexer": "ipython3",
   "version": "3.8.5"
  },
  "toc": {
   "base_numbering": 1,
   "nav_menu": {},
   "number_sections": true,
   "sideBar": true,
   "skip_h1_title": false,
   "title_cell": "Table of Contents",
   "title_sidebar": "Contents",
   "toc_cell": false,
   "toc_position": {
    "height": "calc(100% - 180px)",
    "left": "10px",
    "top": "150px",
    "width": "473.273px"
   },
   "toc_section_display": true,
   "toc_window_display": false
  },
  "varInspector": {
   "cols": {
    "lenName": 16,
    "lenType": 16,
    "lenVar": 40
   },
   "kernels_config": {
    "python": {
     "delete_cmd_postfix": "",
     "delete_cmd_prefix": "del ",
     "library": "var_list.py",
     "varRefreshCmd": "print(var_dic_list())"
    },
    "r": {
     "delete_cmd_postfix": ") ",
     "delete_cmd_prefix": "rm(",
     "library": "var_list.r",
     "varRefreshCmd": "cat(var_dic_list()) "
    }
   },
   "types_to_exclude": [
    "module",
    "function",
    "builtin_function_or_method",
    "instance",
    "_Feature"
   ],
   "window_display": false
  }
 },
 "nbformat": 4,
 "nbformat_minor": 5
}
